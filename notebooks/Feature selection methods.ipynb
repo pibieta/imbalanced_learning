{
 "cells": [
  {
   "cell_type": "markdown",
   "id": "24e198a4",
   "metadata": {},
   "source": [
    "# Feature selection"
   ]
  },
  {
   "cell_type": "markdown",
   "id": "533e1f78",
   "metadata": {},
   "source": [
    "A common theme in machine learning is selecting good features in other to maximize model performance.\n",
    "\n",
    "For structured datasets, there are usually two steps in order to choose a final set of features:\n",
    "\n",
    "1. **Feature engineering**: creating new features from data (eg. from unit price and total volume, maybe create a total revenue feature, equal to price $\\times$ volume)\n",
    "2. **Feature selection**: from a set of $p$ features, select a subset which keeps (or even improves) performance \n",
    "\n",
    "In order to accomplish these, there exist both **technical** and **business** considerations. We won't cover the latter: these are usually application-specific and, most importantly, heavily dependent on the data you have at hand. \n",
    "\n",
    "Therefore, we will stick to technical methods to perform feature selection: given a set of features $x_1, \\ldots, x_p$, can we select a subset $x_1',\\ldots, x_m'$ (where $m$ here stands for \"minimal\") which lead us to an optimal level of model performance?"
   ]
  },
  {
   "cell_type": "markdown",
   "id": "23478580",
   "metadata": {},
   "source": [
    "> For the remainder of this section, $N$ will denote the amount of samples (ie. we are given a dataset $\\{x_i, y_i\\}_{i\\in 1:N}$) and $p$ will denote the original amount of features (that is, each $x_i$ is a $p$-dimensional vector)."
   ]
  },
  {
   "cell_type": "markdown",
   "id": "18533050",
   "metadata": {},
   "source": [
    "### How much is too much?"
   ]
  },
  {
   "cell_type": "markdown",
   "id": "3d1eb7b7",
   "metadata": {},
   "source": [
    "One (old) common answer is that $p > N$ means too many features. This was always the case in traditional statistics, for methods such as linear or logistic regression for which $p > N$ literally means that the algorithm breaks down (see https://stats.stackexchange.com/questions/282663/why-is-n-p-a-problem-for-ols-regression), since the $X^T X$ matrix is no longer invertible.\n",
    "\n",
    "This is no longer a satisfactory answer. Indeed, it is common in genomics, for example, to have datasets where $p \\gg N$: gene expression data usually considers $p$ on the order of 10,000 or even 100,000 thousand, whereas $N$ might be around a few hundred (one for each patient in the study, for example). \n",
    "\n",
    "The same can be seen in problems like image processing, where each pixel contributes with $O(1)$ features. As image sizes get larger, total feature count scales quadratically. \n",
    "\n",
    "For credit, in our exprience, it is common to have datasets with $p$ between 100-10,000 features pertaining to an individual's financial, behavioral and demographical information. $N$ here will usually be on the order of 100,000 - 100 million, ie. some percentage of the population (we are considering the Brazilian case with total population around 200 million)."
   ]
  },
  {
   "cell_type": "markdown",
   "id": "503f23d8",
   "metadata": {},
   "source": [
    "Let us focus on the credit example. Do we *need* 5000 features to predict an individual's credit behaviour? There is no reason why that would not be the case; however, experience shows that we can get very good predictions with values between 20-400 features (ie. ~0.5% to 10% of the total features). This is a data-driven insight, since a Pareto-like rule tends to apply to feature importance measures. "
   ]
  },
  {
   "cell_type": "markdown",
   "id": "cf575fc4",
   "metadata": {},
   "source": [
    "**There are always useless features**. In the genomics case, not all genes are active at a given moment - only a fraction of them contribute to whatever phenomenon is of interest. In a 800x600 image of a cat, only a small portion of pixels will indeed describe the cat, with the rest being objects which are not of interest. Similarly, as rich information as an individual's features might be, only some will contribute to their credit behavior. "
   ]
  },
  {
   "cell_type": "markdown",
   "id": "b75093be",
   "metadata": {},
   "source": [
    "Our goal is then to find **systematic ways to filter out useless features**."
   ]
  },
  {
   "cell_type": "markdown",
   "id": "aa67f160",
   "metadata": {},
   "source": [
    "### What are the trade-offs here?"
   ]
  },
  {
   "cell_type": "markdown",
   "id": "eb128c9e",
   "metadata": {},
   "source": [
    "It is common sense that, if you have too few features, your model might simply not have enough information to perform well.\n",
    "\n",
    "Less obvious is that too many features can also be problematic. They might cause loss of performance due to a few related reasons:\n",
    "* Overfitting: the more features, the more difficult will it be for points to have close neighbors (the so-called curse of dimensionality); you will need exponentially more data to cover the feature space meaningfully. Your algorithm is prone to just overfitting\n",
    "* Noise: useless variables introduce noise which can affect training\n",
    "* Time/space considerations: the more dimensions, the more memory it takes on your computer, and the longer it will take for training, hyperparameter optimization etc"
   ]
  },
  {
   "cell_type": "markdown",
   "id": "9f0716f6",
   "metadata": {},
   "source": [
    "# Boruta"
   ]
  },
  {
   "cell_type": "markdown",
   "id": "708bd816",
   "metadata": {},
   "source": [
    "One of our favorite methods for feature selection is the Boruta algorithm, introduced in 2010 by Kursa and Rudnicki [1]. It has consistently proven itself as a powerful tool for straightforward selection of good features in the case of thousands of features."
   ]
  },
  {
   "cell_type": "markdown",
   "id": "1debc288",
   "metadata": {},
   "source": [
    "> A nice pedagogical overview of the method by the original author can be seen at https://cran.r-project.org/web/packages/Boruta/vignettes/inahurry.pdf\n",
    "\n",
    "> The Python implementation (BorutaPy) can be seen at https://github.com/scikit-learn-contrib/boruta_py"
   ]
  },
  {
   "cell_type": "markdown",
   "id": "3eba373d",
   "metadata": {},
   "source": [
    "Simply stated, Boruta works as follows. For each feature, say `x1`, Boruta creates a copy `x1_copy` (called a *shadow* by the authors) and then randomly mixes the values across all points, creating noise. \n",
    "\n",
    "\n",
    "It then fits a model (usually a random forest) implementing a feature importance method, and analyses how the original feature's importance compares to the noisy copies. If they are significantly different, then `x1` is deemed valuable, and kept; if they are not, it means `x1` itself is basically noise, and it is removed."
   ]
  },
  {
   "cell_type": "markdown",
   "id": "4dd56c87",
   "metadata": {},
   "source": [
    "### Using Boruta in practice"
   ]
  },
  {
   "cell_type": "markdown",
   "id": "52d1e271",
   "metadata": {},
   "source": [
    "We will use Boruta with random forests.\n",
    "\n",
    "As noted by the author itself (in *Boruta for those in a hurry*, Miron B. Kursa, May 21 2020), it is important that we have enough trees:\n",
    "> For datasets with lots of features, the default configuration of the importance source is likely insufficient; in the particular case of Random Forest the number of trees is often not large enough to allow the importance scores to stabilise, which in turn often leads to false negatives and unstable results.\n",
    "\n",
    "This can be taken care of by letting Boruta itself identify an optimal number of trees (as we do below)."
   ]
  },
  {
   "cell_type": "code",
   "execution_count": 28,
   "id": "5c84b606",
   "metadata": {},
   "outputs": [],
   "source": [
    "import numpy as np\n",
    "import pandas as pd\n",
    "import matplotlib.pyplot as plt\n",
    "from sklearn.datasets import make_classification\n",
    "from sklearn.ensemble import RandomForestClassifier\n",
    "from sklearn.model_selection import train_test_split\n",
    "\n",
    "from boruta.boruta_py import BorutaPy"
   ]
  },
  {
   "cell_type": "markdown",
   "id": "c04f55cf",
   "metadata": {},
   "source": [
    "Create a balanced classification problem with 30 features, out of which:\n",
    "* 6 are informative\n",
    "* 4 are redundant linear combinations of the informative ones\n",
    "* 5 are just repeated values\n",
    "* 15 are random noise\n",
    "\n",
    "To all features, we add some Gaussian noise to avoid perfect collinearity."
   ]
  },
  {
   "cell_type": "markdown",
   "id": "a5ce993a",
   "metadata": {},
   "source": [
    "We will name the columns accordingly, and see which are kept by Boruta and which are taken out."
   ]
  },
  {
   "cell_type": "code",
   "execution_count": 155,
   "id": "6aeb5831",
   "metadata": {},
   "outputs": [],
   "source": [
    "X, y = make_classification(n_samples=10000, \n",
    "                           n_features=30, n_informative=6, n_repeated=5, n_redundant=4,\n",
    "                           random_state=2,\n",
    "                           weights=(0.5,),\n",
    "                           shuffle=False)\n",
    "\n",
    "X += 0.5*np.random.randn(*X.shape)\n",
    "\n",
    "columns = [f'informative_{i}' for i in range(6)] + \\\n",
    "          [f'redundant_{i}' for i in range(4)] + \\\n",
    "          [f'repeated_{i}' for i in range(5)] + \\\n",
    "          [f'noise_{i}' for i in range(15)]\n",
    "\n",
    "X = pd.DataFrame(X, columns=columns)\n",
    "\n",
    "X_train, X_test, y_train, y_test = train_test_split(X, y, test_size=0.3, random_state=2)"
   ]
  },
  {
   "cell_type": "code",
   "execution_count": 158,
   "id": "1380374b",
   "metadata": {},
   "outputs": [],
   "source": [
    "def select_feature_boruta(X, y, \n",
    "                         perc=100,\n",
    "                         alpha=0.05,\n",
    "                         max_iter=100,\n",
    "                         max_depth=7,\n",
    "                         n_estimators='auto',\n",
    "                         n_jobs=1):\n",
    "\n",
    "    from sklearn.ensemble import RandomForestClassifier\n",
    "    from boruta.boruta_py import BorutaPy\n",
    "    \n",
    "    X_is_df = isinstance(X, pd.DataFrame)\n",
    "    y_is_df = isinstance(y, pd.Series)\n",
    "    \n",
    "    selector = BorutaPy(\n",
    "        estimator=RandomForestClassifier(n_estimators=100, max_depth=max_depth, n_jobs=n_jobs),\n",
    "        n_estimators=n_estimators,\n",
    "        perc=perc,      \n",
    "        alpha=alpha,    \n",
    "        max_iter=max_iter,\n",
    "        random_state=1,\n",
    "        verbose=0,\n",
    "    )\n",
    "\n",
    "    # boruta needs a numpy array, not a dataframe\n",
    "    X_train = X.values if X_is_df else X\n",
    "    y_train = y.values if y_is_df else y\n",
    "\n",
    "    selector.fit(X_train, y_train) \n",
    "    \n",
    "    if X_is_df:\n",
    "        columns = X.columns\n",
    "        return sorted(np.array(columns)[selector.support_.tolist()])\n",
    "    else:\n",
    "        return sorted(selector.support_.tolist())"
   ]
  },
  {
   "cell_type": "markdown",
   "id": "9d09af4b",
   "metadata": {},
   "source": [
    "Let us print the features which survive the feature selection process:"
   ]
  },
  {
   "cell_type": "code",
   "execution_count": 159,
   "id": "2a910b10",
   "metadata": {},
   "outputs": [
    {
     "name": "stdout",
     "output_type": "stream",
     "text": [
      "CPU times: user 34.3 s, sys: 671 ms, total: 34.9 s\n",
      "Wall time: 6.47 s\n"
     ]
    },
    {
     "data": {
      "text/plain": [
       "['informative_0',\n",
       " 'informative_1',\n",
       " 'informative_2',\n",
       " 'informative_3',\n",
       " 'informative_4',\n",
       " 'informative_5',\n",
       " 'redundant_0',\n",
       " 'redundant_1',\n",
       " 'redundant_2',\n",
       " 'redundant_3',\n",
       " 'repeated_0',\n",
       " 'repeated_1',\n",
       " 'repeated_2',\n",
       " 'repeated_3',\n",
       " 'repeated_4']"
      ]
     },
     "execution_count": 159,
     "metadata": {},
     "output_type": "execute_result"
    }
   ],
   "source": [
    "%%time\n",
    "selected_features = select_feature_boruta(X_train, y_train, n_jobs=10)\n",
    "selected_features"
   ]
  },
  {
   "cell_type": "markdown",
   "id": "6707e0c3",
   "metadata": {},
   "source": [
    "*All* non-random features survived in the end! This is expected: Boruta is *not meant* to remove repeated or redundant features. Since these features appear as having significant feature importance, it will keep them; it is our job as data scientists to remove collinearity. We can use the code below to do that first, then run Boruta:"
   ]
  },
  {
   "cell_type": "code",
   "execution_count": 163,
   "id": "318fc7bb",
   "metadata": {},
   "outputs": [],
   "source": [
    "def drop_high_correlations(df, thresh=0.95):\n",
    "    corr_matrix = df.corr().abs()\n",
    "\n",
    "    upper = corr_matrix.where(np.triu(np.ones(corr_matrix.shape), k=1).astype(bool))\n",
    "    to_drop = [column for column in upper.columns if any(upper[column] > thresh)]\n",
    "\n",
    "    return df.drop(to_drop, axis=1)"
   ]
  },
  {
   "cell_type": "code",
   "execution_count": 164,
   "id": "1ade88fb",
   "metadata": {},
   "outputs": [
    {
     "name": "stdout",
     "output_type": "stream",
     "text": [
      "CPU times: user 30.9 s, sys: 719 ms, total: 31.6 s\n",
      "Wall time: 5.54 s\n"
     ]
    },
    {
     "data": {
      "text/plain": [
       "['informative_0',\n",
       " 'informative_1',\n",
       " 'informative_2',\n",
       " 'informative_3',\n",
       " 'informative_4',\n",
       " 'informative_5',\n",
       " 'redundant_0',\n",
       " 'redundant_1',\n",
       " 'redundant_2',\n",
       " 'redundant_3',\n",
       " 'repeated_1',\n",
       " 'repeated_4']"
      ]
     },
     "execution_count": 164,
     "metadata": {},
     "output_type": "execute_result"
    }
   ],
   "source": [
    "%%time\n",
    "X_train_uncor = drop_high_correlations(X_train, thresh=0.9)\n",
    "selected_features = select_feature_boruta(X_train_uncor, y_train, n_jobs=20)\n",
    "selected_features"
   ]
  },
  {
   "cell_type": "markdown",
   "id": "e39f1ee0",
   "metadata": {},
   "source": [
    "With a threshold of 0.9, this approach removes some of the repeated features, as we would have liked."
   ]
  },
  {
   "cell_type": "markdown",
   "id": "d87b6ae3",
   "metadata": {},
   "source": [
    "Boruta has some free parameters which might be useful. For example, the `perc` parameter determines how strict we want to be when comparing real features with shadow features. If we choose a lower `perc`, more features could survive. In practice, try studying `perc` between 90 and 100."
   ]
  },
  {
   "cell_type": "markdown",
   "id": "a91b2d2a",
   "metadata": {},
   "source": [
    "# Using SHAP values"
   ]
  },
  {
   "cell_type": "markdown",
   "id": "0ecc5f7b",
   "metadata": {},
   "source": [
    "A common approach is to calculate SHAP values and then remove the features with total contribution less than a certain threshold. This has some ambiguity on the threshold definition, and also needs to be done iteratively - after removing features, one must retrain and see the new SHAP values."
   ]
  },
  {
   "cell_type": "code",
   "execution_count": 165,
   "id": "d0f8e02d",
   "metadata": {},
   "outputs": [],
   "source": [
    "import shap\n",
    "from sklearn.ensemble import HistGradientBoostingClassifier"
   ]
  },
  {
   "cell_type": "code",
   "execution_count": 166,
   "id": "516ebc96",
   "metadata": {},
   "outputs": [
    {
     "data": {
      "text/plain": [
       "HistGradientBoostingClassifier(max_depth=5, random_state=2)"
      ]
     },
     "execution_count": 166,
     "metadata": {},
     "output_type": "execute_result"
    }
   ],
   "source": [
    "model = HistGradientBoostingClassifier(random_state=2, max_depth=5)\n",
    "model.fit(X_train, y_train)"
   ]
  },
  {
   "cell_type": "code",
   "execution_count": 167,
   "id": "e986d50d",
   "metadata": {},
   "outputs": [],
   "source": [
    "explainer = shap.TreeExplainer(model)\n",
    "shap_values = explainer(X_train)"
   ]
  },
  {
   "cell_type": "code",
   "execution_count": 168,
   "id": "ea32d574",
   "metadata": {},
   "outputs": [
    {
     "data": {
      "image/png": "[encoded data removed]",
      "text/plain": [
       "<Figure size 576x1188 with 1 Axes>"
      ]
     },
     "metadata": {},
     "output_type": "display_data"
    }
   ],
   "source": [
    "shap.plots.bar(shap_values, max_display=None, show=False)"
   ]
  },
  {
   "cell_type": "markdown",
   "id": "995eb6ac",
   "metadata": {},
   "source": [
    "We see that SHAP does a good job of finding that the noise features don't add value. Here, clearly a threshold of `mean(|SHAP|) > 0.05` seems to be a good feature selector, but this is something we have to identify visually. "
   ]
  },
  {
   "cell_type": "markdown",
   "id": "03cdd493",
   "metadata": {},
   "source": [
    "We can make this process into a function:\n",
    "    "
   ]
  },
  {
   "cell_type": "code",
   "execution_count": 169,
   "id": "3bc723b8",
   "metadata": {},
   "outputs": [],
   "source": [
    "def shap_importances(columns, shap_values):\n",
    "    importances = np.abs(shap_values.values).mean(axis=0)  # same calculation as the bar plot \n",
    "    feats_imps = pd.DataFrame({'feature': columns, \n",
    "                               'shap': importances})\n",
    "    \n",
    "    return feats_imps.sort_values('shap', ascending=False)\n",
    "\n",
    "def get_important_features_from_shap(importances, threshold=0.04):\n",
    "    imps = importances[importances['shap'] > threshold]\n",
    "    return sorted(imps['feature'].tolist())"
   ]
  },
  {
   "cell_type": "code",
   "execution_count": 170,
   "id": "f3563234",
   "metadata": {},
   "outputs": [
    {
     "data": {
      "text/html": [
       "<div>\n",
       "<style scoped>\n",
       "    .dataframe tbody tr th:only-of-type {\n",
       "        vertical-align: middle;\n",
       "    }\n",
       "\n",
       "    .dataframe tbody tr th {\n",
       "        vertical-align: top;\n",
       "    }\n",
       "\n",
       "    .dataframe thead th {\n",
       "        text-align: right;\n",
       "    }\n",
       "</style>\n",
       "<table border=\"1\" class=\"dataframe\">\n",
       "  <thead>\n",
       "    <tr style=\"text-align: right;\">\n",
       "      <th></th>\n",
       "      <th>feature</th>\n",
       "      <th>shap</th>\n",
       "    </tr>\n",
       "  </thead>\n",
       "  <tbody>\n",
       "    <tr>\n",
       "      <th>0</th>\n",
       "      <td>informative_0</td>\n",
       "      <td>0.790061</td>\n",
       "    </tr>\n",
       "    <tr>\n",
       "      <th>7</th>\n",
       "      <td>redundant_1</td>\n",
       "      <td>0.751999</td>\n",
       "    </tr>\n",
       "    <tr>\n",
       "      <th>13</th>\n",
       "      <td>repeated_3</td>\n",
       "      <td>0.627386</td>\n",
       "    </tr>\n",
       "    <tr>\n",
       "      <th>8</th>\n",
       "      <td>redundant_2</td>\n",
       "      <td>0.503884</td>\n",
       "    </tr>\n",
       "    <tr>\n",
       "      <th>11</th>\n",
       "      <td>repeated_1</td>\n",
       "      <td>0.411533</td>\n",
       "    </tr>\n",
       "  </tbody>\n",
       "</table>\n",
       "</div>"
      ],
      "text/plain": [
       "          feature      shap\n",
       "0   informative_0  0.790061\n",
       "7     redundant_1  0.751999\n",
       "13     repeated_3  0.627386\n",
       "8     redundant_2  0.503884\n",
       "11     repeated_1  0.411533"
      ]
     },
     "execution_count": 170,
     "metadata": {},
     "output_type": "execute_result"
    }
   ],
   "source": [
    "importances = shap_importances(X.columns, shap_values)\n",
    "importances.head()"
   ]
  },
  {
   "cell_type": "code",
   "execution_count": 171,
   "id": "28e466db",
   "metadata": {},
   "outputs": [],
   "source": [
    "features_selected_shap = get_important_features_from_shap(importances, threshold=0.05)"
   ]
  },
  {
   "cell_type": "markdown",
   "id": "1525a639",
   "metadata": {},
   "source": [
    "Rinse and repeat:"
   ]
  },
  {
   "cell_type": "code",
   "execution_count": 172,
   "id": "795504ab",
   "metadata": {},
   "outputs": [],
   "source": [
    "model = HistGradientBoostingClassifier(random_state=2, max_depth=5)\n",
    "model.fit(X_train[features_selected_shap], y_train)\n",
    "\n",
    "explainer = shap.TreeExplainer(model)\n",
    "shap_values = explainer(X_train[features_selected_shap])"
   ]
  },
  {
   "cell_type": "code",
   "execution_count": 173,
   "id": "3aeef6fa",
   "metadata": {},
   "outputs": [
    {
     "data": {
      "image/png": "[encoded data removed]",
      "text/plain": [
       "<Figure size 576x648 with 1 Axes>"
      ]
     },
     "metadata": {},
     "output_type": "display_data"
    }
   ],
   "source": [
    "shap.plots.bar(shap_values, max_display=None, show=False)"
   ]
  },
  {
   "cell_type": "markdown",
   "id": "841eb917",
   "metadata": {},
   "source": [
    "There has been some rearrangement, but overall this process works. No noise features are present, but the repeated / redundant features have remained."
   ]
  },
  {
   "cell_type": "markdown",
   "id": "258203b8",
   "metadata": {},
   "source": [
    "# Experiments"
   ]
  },
  {
   "cell_type": "markdown",
   "id": "5624a4ff",
   "metadata": {},
   "source": [
    "### How well does Boruta perform when we increase the number of junk variables?"
   ]
  },
  {
   "cell_type": "markdown",
   "id": "349aaf86",
   "metadata": {},
   "source": [
    "It is interesting to study how will Boruta perform in the following scenarios: we keep the total amount of points fixed, but steadily increase the number of features, and then:\n",
    "1. Keep the number of informative features fixed, and instead grow the number of junk variables\n",
    "2. Keep the proportion between informative and junk variables fixed as we grow the total\n"
   ]
  },
  {
   "cell_type": "markdown",
   "id": "bfe61cdd",
   "metadata": {},
   "source": [
    "### 1) Fixed number of informative features"
   ]
  },
  {
   "cell_type": "code",
   "execution_count": 197,
   "id": "0c497b35",
   "metadata": {},
   "outputs": [],
   "source": [
    "from tqdm.notebook import tqdm"
   ]
  },
  {
   "cell_type": "code",
   "execution_count": 254,
   "id": "1dadecb4",
   "metadata": {},
   "outputs": [],
   "source": [
    "feature_lengths_list = list(range(30,1030,30))"
   ]
  },
  {
   "cell_type": "code",
   "execution_count": 235,
   "id": "7f630ffe",
   "metadata": {},
   "outputs": [
    {
     "data": {
      "application/vnd.jupyter.widget-view+json": {
       "model_id": "2d38d69b60eb4bb2820d4c2f8e406059",
       "version_major": 2,
       "version_minor": 0
      },
      "text/plain": [
       "  0%|          | 0/34 [00:00<?, ?it/s]"
      ]
     },
     "metadata": {},
     "output_type": "display_data"
    }
   ],
   "source": [
    "experiment_results = {}\n",
    "informative = 10\n",
    "redundant   = 5\n",
    "repeated    = 5\n",
    "for total_features in tqdm(feature_lengths_list):\n",
    "\n",
    "    noise       = total_features-informative-redundant-repeated\n",
    "\n",
    "\n",
    "    \"\"\"Create data\"\"\"\n",
    "    X, y = make_classification(n_samples=3000, \n",
    "                               n_features=total_features, n_informative=informative, \n",
    "                               n_repeated=repeated, n_redundant=redundant,\n",
    "                               random_state=2,\n",
    "                               weights=(0.5,),\n",
    "                               shuffle=False)\n",
    "\n",
    "    X += 0.5*np.random.randn(*X.shape)\n",
    "\n",
    "    good_features = [f'informative_{i}' for i in range(informative)] + \\\n",
    "              [f'redundant_{i}' for i in range(redundant)] + \\\n",
    "              [f'repeated_{i}' for i in range(repeated)]\n",
    "\n",
    "    columns = good_features + \\\n",
    "              [f'noise_{i}' for i in range(noise)]\n",
    "\n",
    "    X = pd.DataFrame(X, columns=columns)\n",
    "    \n",
    "    \"\"\"Run Boruta and save results\"\"\"\n",
    "    selected_features = select_feature_boruta(X, y, n_jobs=10)\n",
    "    \n",
    "    experiment_results.update({total_features: [set(good_features), set(selected_features)]})"
   ]
  },
  {
   "cell_type": "code",
   "execution_count": 315,
   "id": "3230925d",
   "metadata": {},
   "outputs": [
    {
     "data": {
      "image/png": "[encoded data removed]",
      "text/plain": [
       "<Figure size 720x720 with 4 Axes>"
      ]
     },
     "metadata": {
      "needs_background": "light"
     },
     "output_type": "display_data"
    }
   ],
   "source": [
    "found_list_info, diff_list_info = [], []\n",
    "found_list_red, diff_list_red = [], []\n",
    "found_list_rep, diff_list_rep = [], []\n",
    "found_list_noise, diff_list_noise = [], []\n",
    "\n",
    "for total_features in feature_lengths_list:\n",
    "    aux = experiment_results[total_features]\n",
    "    good_cols = aux[0]\n",
    "    boruta_cols = aux[1]\n",
    "    \n",
    "    # get sets\n",
    "    base_informatives = set(filter(lambda col: 'informative' in col, good_cols))\n",
    "    base_redundants = set(filter(lambda col: 'redundant' in col, good_cols))\n",
    "    base_repeated = set(filter(lambda col: 'repeated' in col, good_cols))\n",
    "\n",
    "    boruta_informatives = set(filter(lambda col: 'informative' in col, boruta_cols))\n",
    "    boruta_redundants = set(filter(lambda col: 'redundant' in col, boruta_cols))\n",
    "    boruta_repeated = set(filter(lambda col: 'repeated' in col, boruta_cols))\n",
    "    boruta_noise = set(filter(lambda col: 'noise' in col, boruta_cols))\n",
    "\n",
    "    # 1) informatives\n",
    "    found, total = len(boruta_informatives), len(base_informatives)\n",
    "    diff = total - found\n",
    "    \n",
    "    found_list_info.append(found); diff_list_info.append(diff)\n",
    "    \n",
    "    # 2) redundant\n",
    "    found, total = len(boruta_redundants), len(base_redundants)\n",
    "    diff = total - found\n",
    "    \n",
    "    found_list_red.append(found); diff_list_red.append(diff)\n",
    "    \n",
    "    # 3) repeated\n",
    "    found, total = len(boruta_repeated), len(base_repeated)\n",
    "    diff = total - found\n",
    "    \n",
    "    found_list_rep.append(found); diff_list_rep.append(diff)\n",
    "    \n",
    "    # 4) noise\n",
    "    found = len(boruta_noise)\n",
    "\n",
    "    found_list_noise.append(found)\n",
    "\n",
    "fig, ax = plt.subplots(nrows=4, figsize=(10,10))\n",
    "ax[0].bar(feature_lengths_list, found_list_info, width=20, label='Selected by Boruta')\n",
    "ax[0].bar(feature_lengths_list, diff_list_info, bottom=found_list_info, width=20, label='Not selected')\n",
    "ax[0].set_title(\"Informative features\")\n",
    "ax[0].legend()\n",
    "\n",
    "ax[1].bar(feature_lengths_list, found_list_red, width=20, label='Selected by Boruta')\n",
    "ax[1].bar(feature_lengths_list, diff_list_red, bottom=found_list_red, width=20, label='Not selected')\n",
    "ax[1].set_title(\"Redundant features\")\n",
    "ax[1].legend()\n",
    "\n",
    "ax[2].bar(feature_lengths_list, found_list_rep, width=20, label='Selected by Boruta')\n",
    "ax[2].bar(feature_lengths_list, diff_list_rep, bottom=found_list_rep, width=20, label='Not selected')\n",
    "ax[2].set_title(\"Repeated features\")\n",
    "ax[2].legend()\n",
    "\n",
    "ax[3].bar(feature_lengths_list, found_list_noise, width=20, label='Selected by Boruta\\n(wrongly)')\n",
    "ax[3].set_title(\"Noise features that leaked\")\n",
    "ax[3].legend()\n",
    "\n",
    "plt.tight_layout()\n",
    "plt.show()"
   ]
  },
  {
   "cell_type": "markdown",
   "id": "d8c16b63",
   "metadata": {},
   "source": [
    "As we can see, even in the case of 1000 features (on 3000 datapoints), Boruta does an excellent job of filtering out the noise features. It did let a few noisy features leak when when the number of total features increased, but it was minor."
   ]
  },
  {
   "cell_type": "markdown",
   "id": "fc397c2a",
   "metadata": {},
   "source": [
    "## 2) Proportional number of significative features"
   ]
  },
  {
   "cell_type": "markdown",
   "id": "14538c41",
   "metadata": {},
   "source": [
    "We repeat the experiment above, but now scale the amount of informative, redundant and repeated features with the total amount of features. More specifically, for a total of $p$ features, we set\n",
    "* Total informative features: $\\lfloor 0.3n\\rfloor$\n",
    "* Total redundant features: $\\lfloor 0.1n\\rfloor$\n",
    "* Total repeated features: $\\lfloor 0.1n\\rfloor$\n",
    "where $\\lfloor\\cdot\\rfloor$ denotes the floor operation."
   ]
  },
  {
   "cell_type": "code",
   "execution_count": 275,
   "id": "0769829d",
   "metadata": {},
   "outputs": [
    {
     "data": {
      "application/vnd.jupyter.widget-view+json": {
       "model_id": "72c3bb34371442de86ebabcfb8a15069",
       "version_major": 2,
       "version_minor": 0
      },
      "text/plain": [
       "  0%|          | 0/34 [00:00<?, ?it/s]"
      ]
     },
     "metadata": {},
     "output_type": "display_data"
    }
   ],
   "source": [
    "experiment_results_proportional = {}\n",
    "for total_features in tqdm(feature_lengths_list):\n",
    "\n",
    "    # proportions\n",
    "    informative_prop = 0.3\n",
    "    redundant_prop = 0.1\n",
    "    repeated_prop = 0.1\n",
    "    \n",
    "    informative = int(informative_prop * total_features)\n",
    "    redundant   = int(redundant_prop * total_features)\n",
    "    repeated    = int(repeated_prop * total_features)\n",
    "    noise       = total_features-informative-redundant-repeated\n",
    "\n",
    "\n",
    "    \"\"\"Create data\"\"\"\n",
    "    X, y = make_classification(n_samples=3000, \n",
    "                               n_features=total_features, n_informative=informative, \n",
    "                               n_repeated=repeated, n_redundant=redundant,\n",
    "                               random_state=2,\n",
    "                               weights=(0.5,),\n",
    "                               shuffle=False)\n",
    "\n",
    "    X += 0.5*np.random.randn(*X.shape)\n",
    "\n",
    "    good_features = [f'informative_{i}' for i in range(informative)] + \\\n",
    "              [f'redundant_{i}' for i in range(redundant)] + \\\n",
    "              [f'repeated_{i}' for i in range(repeated)]\n",
    "\n",
    "    columns = good_features + \\\n",
    "              [f'noise_{i}' for i in range(noise)]\n",
    "\n",
    "    X = pd.DataFrame(X, columns=columns)\n",
    "    \n",
    "    \"\"\"Run Boruta and save results\"\"\"\n",
    "    selected_features = select_feature_boruta(X, y, n_jobs=10)\n",
    "    \n",
    "    experiment_results_proportional.update({total_features: [set(good_features), set(selected_features)]})"
   ]
  },
  {
   "cell_type": "code",
   "execution_count": 316,
   "id": "fe272624",
   "metadata": {},
   "outputs": [
    {
     "data": {
      "image/png": "[encoded data removed]",
      "text/plain": [
       "<Figure size 720x720 with 4 Axes>"
      ]
     },
     "metadata": {
      "needs_background": "light"
     },
     "output_type": "display_data"
    }
   ],
   "source": [
    "found_list_info, diff_list_info = [], []\n",
    "found_list_red, diff_list_red = [], []\n",
    "found_list_rep, diff_list_rep = [], []\n",
    "found_list_noise, diff_list_noise = [], []\n",
    "\n",
    "for total_features in feature_lengths_list:\n",
    "    aux = experiment_results_proportional[total_features]\n",
    "    good_cols = aux[0]\n",
    "    boruta_cols = aux[1]\n",
    "    \n",
    "    # get sets\n",
    "    base_informatives = set(filter(lambda col: 'informative' in col, good_cols))\n",
    "    base_redundants = set(filter(lambda col: 'redundant' in col, good_cols))\n",
    "    base_repeated = set(filter(lambda col: 'repeated' in col, good_cols))\n",
    "\n",
    "    boruta_informatives = set(filter(lambda col: 'informative' in col, boruta_cols))\n",
    "    boruta_redundants = set(filter(lambda col: 'redundant' in col, boruta_cols))\n",
    "    boruta_repeated = set(filter(lambda col: 'repeated' in col, boruta_cols))\n",
    "    boruta_noise = set(filter(lambda col: 'noise' in col, boruta_cols))\n",
    "\n",
    "    # 1) informatives\n",
    "    found, total = len(boruta_informatives), len(base_informatives)\n",
    "    diff = total - found\n",
    "    \n",
    "    found_list_info.append(found); diff_list_info.append(diff)\n",
    "    \n",
    "    # 2) redundant\n",
    "    found, total = len(boruta_redundants), len(base_redundants)\n",
    "    diff = total - found\n",
    "    \n",
    "    found_list_red.append(found); diff_list_red.append(diff)\n",
    "    \n",
    "    # 3) repeated\n",
    "    found, total = len(boruta_repeated), len(base_repeated)\n",
    "    diff = total - found\n",
    "    \n",
    "    found_list_rep.append(found); diff_list_rep.append(diff)\n",
    "    \n",
    "    # 4) noise\n",
    "    found = len(boruta_noise)\n",
    "\n",
    "    found_list_noise.append(found)\n",
    "\n",
    "fig, ax = plt.subplots(nrows=4, figsize=(10,10))\n",
    "ax[0].bar(feature_lengths_list, found_list_info, width=20, label='Selected by Boruta')\n",
    "ax[0].bar(feature_lengths_list, diff_list_info, bottom=found_list_info, width=20, label='Not selected')\n",
    "ax[0].set_title(\"Informative features\")\n",
    "ax[0].legend()\n",
    "\n",
    "ax[1].bar(feature_lengths_list, found_list_red, width=20, label='Selected by Boruta')\n",
    "ax[1].bar(feature_lengths_list, diff_list_red, bottom=found_list_red, width=20, label='Not selected')\n",
    "ax[1].set_title(\"Redundant features\")\n",
    "ax[1].legend()\n",
    "\n",
    "ax[2].bar(feature_lengths_list, found_list_rep, width=20, label='Selected by Boruta')\n",
    "ax[2].bar(feature_lengths_list, diff_list_rep, bottom=found_list_rep, width=20, label='Not selected')\n",
    "ax[2].set_title(\"Repeated features\")\n",
    "ax[2].legend()\n",
    "\n",
    "ax[3].bar(feature_lengths_list, found_list_noise, width=20, label='Selected by Boruta\\n(wrongly)')\n",
    "ax[3].set_title(\"Noise features that leaked\")\n",
    "ax[3].legend()\n",
    "\n",
    "plt.tight_layout()\n",
    "plt.show()"
   ]
  },
  {
   "cell_type": "markdown",
   "id": "95f700a9",
   "metadata": {},
   "source": [
    "We see that in this case, after a certain amount of total features, Boruta starts getting blind; it stops capturing features among the informative, repeated and redundant categories.\n",
    "\n",
    "In other words - Boruta's ability to capture all useful features reaches a ceiling after a certain point (in our case, it was around 160 features regardless of the total feature count). "
   ]
  },
  {
   "cell_type": "markdown",
   "id": "ea8c05d3",
   "metadata": {},
   "source": [
    "# Repeating the experiment with deeper trees / longer runs"
   ]
  },
  {
   "cell_type": "code",
   "execution_count": null,
   "id": "cc5fb189",
   "metadata": {},
   "outputs": [
    {
     "data": {
      "application/vnd.jupyter.widget-view+json": {
       "model_id": "3c632f001dd240fd9c46faf4a7c7918b",
       "version_major": 2,
       "version_minor": 0
      },
      "text/plain": [
       "  0%|          | 0/34 [00:00<?, ?it/s]"
      ]
     },
     "metadata": {},
     "output_type": "display_data"
    }
   ],
   "source": [
    "experiment_results_deeper = {}\n",
    "for total_features in tqdm(feature_lengths_list):\n",
    "\n",
    "    # proportions\n",
    "    informative_prop = 0.3\n",
    "    redundant_prop = 0.1\n",
    "    repeated_prop = 0.1\n",
    "    \n",
    "    informative = int(informative_prop * total_features)\n",
    "    redundant   = int(redundant_prop * total_features)\n",
    "    repeated    = int(repeated_prop * total_features)\n",
    "    noise       = total_features-informative-redundant-repeated\n",
    "\n",
    "\n",
    "    \"\"\"Create data\"\"\"\n",
    "    X, y = make_classification(n_samples=3000, \n",
    "                               n_features=total_features, n_informative=informative, \n",
    "                               n_repeated=repeated, n_redundant=redundant,\n",
    "                               random_state=2,\n",
    "                               weights=(0.5,),\n",
    "                               shuffle=False)\n",
    "\n",
    "    X += 0.5*np.random.randn(*X.shape)\n",
    "\n",
    "    good_features = [f'informative_{i}' for i in range(informative)] + \\\n",
    "              [f'redundant_{i}' for i in range(redundant)] + \\\n",
    "              [f'repeated_{i}' for i in range(repeated)]\n",
    "\n",
    "    columns = good_features + \\\n",
    "              [f'noise_{i}' for i in range(noise)]\n",
    "\n",
    "    X = pd.DataFrame(X, columns=columns)\n",
    "    \n",
    "    \"\"\"Run Boruta and save results\"\"\"\n",
    "    selected_features = select_feature_boruta(X, y, n_jobs=10,\n",
    "                                             max_depth=11,     # adding more depth here\n",
    "                                             n_estimators=500) # adding more estimators by hand\n",
    "    \n",
    "    experiment_results_deeper.update({total_features: [set(good_features), set(selected_features)]})"
   ]
  },
  {
   "cell_type": "code",
   "execution_count": null,
   "id": "2fe149d9",
   "metadata": {},
   "outputs": [],
   "source": [
    "found_list_info, diff_list_info = [], []\n",
    "found_list_red, diff_list_red = [], []\n",
    "found_list_rep, diff_list_rep = [], []\n",
    "found_list_noise, diff_list_noise = [], []\n",
    "\n",
    "for total_features in feature_lengths_list:\n",
    "    aux = experiment_results_deeper[total_features]\n",
    "    good_cols = aux[0]\n",
    "    boruta_cols = aux[1]\n",
    "    \n",
    "    # get sets\n",
    "    base_informatives = set(filter(lambda col: 'informative' in col, good_cols))\n",
    "    base_redundants = set(filter(lambda col: 'redundant' in col, good_cols))\n",
    "    base_repeated = set(filter(lambda col: 'repeated' in col, good_cols))\n",
    "\n",
    "    boruta_informatives = set(filter(lambda col: 'informative' in col, boruta_cols))\n",
    "    boruta_redundants = set(filter(lambda col: 'redundant' in col, boruta_cols))\n",
    "    boruta_repeated = set(filter(lambda col: 'repeated' in col, boruta_cols))\n",
    "    boruta_noise = set(filter(lambda col: 'noise' in col, boruta_cols))\n",
    "\n",
    "    # 1) informatives\n",
    "    found, total = len(boruta_informatives), len(base_informatives)\n",
    "    diff = total - found\n",
    "    \n",
    "    found_list_info.append(found); diff_list_info.append(diff)\n",
    "    \n",
    "    # 2) redundant\n",
    "    found, total = len(boruta_redundants), len(base_redundants)\n",
    "    diff = total - found\n",
    "    \n",
    "    found_list_red.append(found); diff_list_red.append(diff)\n",
    "    \n",
    "    # 3) repeated\n",
    "    found, total = len(boruta_repeated), len(base_repeated)\n",
    "    diff = total - found\n",
    "    \n",
    "    found_list_rep.append(found); diff_list_rep.append(diff)\n",
    "    \n",
    "    # 4) noise\n",
    "    found = len(boruta_noise)\n",
    "\n",
    "    found_list_noise.append(found)\n",
    "\n",
    "fig, ax = plt.subplots(nrows=4, figsize=(10,10))\n",
    "ax[0].bar(feature_lengths_list, found_list_info, width=20, label='Selected by Boruta')\n",
    "ax[0].bar(feature_lengths_list, diff_list_info, bottom=found_list_info, width=20, label='Not selected')\n",
    "ax[0].set_title(\"Informative features\")\n",
    "ax[0].legend()\n",
    "\n",
    "ax[1].bar(feature_lengths_list, found_list_red, width=20, label='Selected by Boruta')\n",
    "ax[1].bar(feature_lengths_list, diff_list_red, bottom=found_list_red, width=20, label='Not selected')\n",
    "ax[1].set_title(\"Redundant features\")\n",
    "ax[1].legend()\n",
    "\n",
    "ax[2].bar(feature_lengths_list, found_list_rep, width=20, label='Selected by Boruta')\n",
    "ax[2].bar(feature_lengths_list, diff_list_rep, bottom=found_list_rep, width=20, label='Not selected')\n",
    "ax[2].set_title(\"Repeated features\")\n",
    "ax[2].legend()\n",
    "\n",
    "ax[3].bar(feature_lengths_list, found_list_noise, width=20, label='Selected by Boruta\\n(wrongly)')\n",
    "ax[3].set_title(\"Noise features that leaked\")\n",
    "ax[3].legend()\n",
    "\n",
    "plt.tight_layout()\n",
    "plt.show()"
   ]
  },
  {
   "cell_type": "markdown",
   "id": "0d028a90",
   "metadata": {},
   "source": [
    "## Real-data case: genomics data"
   ]
  },
  {
   "cell_type": "code",
   "execution_count": null,
   "id": "959a3137",
   "metadata": {},
   "outputs": [],
   "source": []
  },
  {
   "cell_type": "markdown",
   "id": "c98402ef",
   "metadata": {},
   "source": [
    "# Imbalanced cases"
   ]
  },
  {
   "cell_type": "code",
   "execution_count": null,
   "id": "aa003058",
   "metadata": {},
   "outputs": [],
   "source": []
  },
  {
   "cell_type": "markdown",
   "id": "84b1a445",
   "metadata": {},
   "source": [
    "# Some acknowledgements"
   ]
  },
  {
   "cell_type": "markdown",
   "id": "1690a1e4",
   "metadata": {},
   "source": [
    "One interesting approach is to use a mix of Boruta and SHAP values: instead of using the feature importances calculated during the model training, we would instead use SHAP values.\n",
    "\n",
    "> In tree-based classification models, splits are calculated based on Gini impurity or infomation gain. A split into new branches happens when a feature is found to decrease the total impurity. Feature importance for a given feature in a decision tree is then how much that feature contributed to the total impurity reduction. For a random forest, the feature importance attribute is the average over all trees in the forest. More details on https://scikit-learn.org/stable/auto_examples/ensemble/plot_forest_importances.html"
   ]
  },
  {
   "cell_type": "markdown",
   "id": "e60dfb23",
   "metadata": {},
   "source": [
    "The Boruta-SHAP library [2] does exactly that. Below, we see how to use it.\n",
    "> Because SHAP value calculation is an expensive operation, this process might take much longer than the equivalent with standard feature importances."
   ]
  },
  {
   "cell_type": "code",
   "execution_count": 177,
   "id": "d8ae06f9",
   "metadata": {},
   "outputs": [],
   "source": [
    "from BorutaShap import BorutaShap"
   ]
  },
  {
   "cell_type": "code",
   "execution_count": 180,
   "id": "86ed4512",
   "metadata": {},
   "outputs": [
    {
     "data": {
      "application/vnd.jupyter.widget-view+json": {
       "model_id": "a0b313b2e0f74d2eb957a80a7cec5bc6",
       "version_major": 2,
       "version_minor": 0
      },
      "text/plain": [
       "  0%|          | 0/100 [00:00<?, ?it/s]"
      ]
     },
     "metadata": {},
     "output_type": "display_data"
    },
    {
     "name": "stdout",
     "output_type": "stream",
     "text": [
      "15 attributes confirmed important: ['informative_3', 'repeated_1', 'repeated_3', 'informative_1', 'informative_5', 'repeated_2', 'informative_4', 'informative_0', 'redundant_3', 'redundant_0', 'redundant_1', 'redundant_2', 'repeated_4', 'repeated_0', 'informative_2']\n",
      "15 attributes confirmed unimportant: ['noise_0', 'noise_12', 'noise_8', 'noise_9', 'noise_2', 'noise_7', 'noise_3', 'noise_6', 'noise_13', 'noise_4', 'noise_1', 'noise_11', 'noise_14', 'noise_10', 'noise_5']\n",
      "0 tentative attributes remains: []\n"
     ]
    }
   ],
   "source": [
    "# important to pass the specific model to use; otherwise it can take a long time\n",
    "selector = BorutaShap(model=RandomForestClassifier(n_estimators=100, max_depth=7, n_jobs=10),\n",
    "                      percentile=100,\n",
    "                      pvalue=0.05,\n",
    "                      importance_measure='shap',\n",
    "                      classification=True)\n",
    "\n",
    "selector.fit(X_train, y_train,\n",
    "             n_trials=100, sample=False,\n",
    "             train_or_test='test', normalize=True,\n",
    "             verbose=True)"
   ]
  },
  {
   "cell_type": "code",
   "execution_count": 182,
   "id": "950e2415",
   "metadata": {},
   "outputs": [],
   "source": [
    "selected_columns = sorted(list(selector.Subset().columns))"
   ]
  },
  {
   "cell_type": "code",
   "execution_count": 183,
   "id": "0394b015",
   "metadata": {},
   "outputs": [
    {
     "data": {
      "text/plain": [
       "['informative_0',\n",
       " 'informative_1',\n",
       " 'informative_2',\n",
       " 'informative_3',\n",
       " 'informative_4',\n",
       " 'informative_5',\n",
       " 'redundant_0',\n",
       " 'redundant_1',\n",
       " 'redundant_2',\n",
       " 'redundant_3',\n",
       " 'repeated_0',\n",
       " 'repeated_1',\n",
       " 'repeated_2',\n",
       " 'repeated_3',\n",
       " 'repeated_4']"
      ]
     },
     "execution_count": 183,
     "metadata": {},
     "output_type": "execute_result"
    }
   ],
   "source": [
    "selected_columns"
   ]
  },
  {
   "cell_type": "markdown",
   "id": "92214ae0",
   "metadata": {},
   "source": [
    "It gets the right columns, but this is an extremely time-consuming algorithm. Hopefully it can be accelerated in the near future."
   ]
  },
  {
   "cell_type": "markdown",
   "id": "f8637d52",
   "metadata": {},
   "source": [
    "# References"
   ]
  },
  {
   "cell_type": "markdown",
   "id": "523c9169",
   "metadata": {},
   "source": [
    "Virus infection dataset NCBI GSE73072\n",
    "https://www.ncbi.nlm.nih.gov/geo/query/acc.cgi?acc=GSE73072"
   ]
  },
  {
   "cell_type": "markdown",
   "id": "65c8b663",
   "metadata": {},
   "source": [
    "[1] Kursa, M. B., & Rudnicki, W. R. (2010). Feature Selection with the Boruta Package. Journal of Statistical Software, 36(11), 1–13. https://doi.org/10.18637/jss.v036.i11\n",
    "\n",
    "[2] https://github.com/Ekeany/Boruta-Shap"
   ]
  },
  {
   "cell_type": "code",
   "execution_count": null,
   "id": "35c2a0dd",
   "metadata": {},
   "outputs": [],
   "source": []
  }
 ],
 "metadata": {
  "kernelspec": {
   "display_name": "Python 3",
   "language": "python",
   "name": "python3"
  },
  "language_info": {
   "codemirror_mode": {
    "name": "ipython",
    "version": 3
   },
   "file_extension": ".py",
   "mimetype": "text/x-python",
   "name": "python",
   "nbconvert_exporter": "python",
   "pygments_lexer": "ipython3",
   "version": "3.8.8"
  }
 },
 "nbformat": 4,
 "nbformat_minor": 5
}
