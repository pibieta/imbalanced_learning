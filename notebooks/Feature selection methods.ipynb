{
 "cells": [
  {
   "cell_type": "markdown",
   "id": "5487cba4",
   "metadata": {},
   "source": [
    "# Feature selection via the Boruta algorithm"
   ]
  },
  {
   "cell_type": "markdown",
   "id": "7a84f35a",
   "metadata": {},
   "source": [
    "A common theme in machine learning is selecting good features in other to maximize model performance.\n",
    "\n",
    "For structured datasets, there are usually two steps in order to choose a final set of features:\n",
    "\n",
    "1. **Feature engineering**: creating new features from data (eg. from unit price and total volume, maybe create a total revenue feature, equal to price $\\times$ volume)\n",
    "\n",
    "2. **Feature selection**: from a set of $p$ features, select a subset which keeps (or even improves) performance \n",
    "\n",
    "In order to accomplish these, there exist both **technical** and **business** considerations. We won't cover the latter: these are usually application-specific and, most importantly, heavily dependent on the data you have at hand. \n",
    "\n",
    "Therefore, we will stick to technical methods to perform feature selection: given a set of features $x_1, \\ldots, x_p$, can we select a subset $x_1',\\ldots, x_m'$ (where $m$ here stands for \"minimal\") which lead us to an optimal level of model performance?"
   ]
  },
  {
   "cell_type": "markdown",
   "id": "2c151716",
   "metadata": {},
   "source": [
    "> For the remainder of this section, $N$ will denote the amount of samples (ie. we are given a dataset $\\{x_i, y_i\\}_{i\\in 1:N}$) and $p$ will denote the original amount of features (that is, each $x_i$ is a $p$-dimensional vector)."
   ]
  },
  {
   "cell_type": "markdown",
   "id": "c5542140",
   "metadata": {},
   "source": [
    "## How much is too much?"
   ]
  },
  {
   "cell_type": "markdown",
   "id": "ba356c7d",
   "metadata": {},
   "source": [
    "One (old) common answer is that $p > N$ means too many features. This was always the case in traditional statistics, for methods such as linear or logistic regression for which $p > N$ literally means that the algorithm breaks down (see [this post for example](https://stats.stackexchange.com/questions/282663/why-is-n-p-a-problem-for-ols-regression)), since the $X^T X$ matrix is no longer invertible.\n",
    "\n",
    "This is no longer a satisfactory answer. Indeed, it is common in genomics, for example, to have datasets where $p \\gg N$: gene expression data usually considers $p$ on the order of 10,000 or even 100,000 thousand, whereas $N$ might be around a few hundred (one for each patient in the study, for example). \n",
    "\n",
    "The same can be seen in problems like image processing, where each pixel contributes with $O(1)$ features. As image sizes get larger, total feature count scales quadratically. \n",
    "\n",
    "For credit, in our experience, it is common to have datasets with $p$ between 100-10,000 features pertaining to an individual's financial, behavioral and demographical information. $N$ here will usually be on the order of 100,000 - 100 million, ie. some percentage of the population (we are considering the Brazilian case with total population around 200 million)."
   ]
  },
  {
   "cell_type": "markdown",
   "id": "46e6b99c",
   "metadata": {},
   "source": [
    "Let us focus on the credit example. Do we *need* 5000 features to predict an individual's credit behaviour? There is no reason why that would not be the case; however, experience shows that we can get very good predictions with values between 20-400 features (ie. ~0.5% to 10% of the total features). This is a data-driven insight, since a Pareto-like rule tends to apply to feature importance measures. "
   ]
  },
  {
   "cell_type": "markdown",
   "id": "2bc07bd7",
   "metadata": {},
   "source": [
    "**There are always useless features**. In the genomics case, not all genes are active at a given moment - only a fraction of them contribute to whatever phenomenon is of interest. In a 800x600 image of a cat, only a small portion of pixels will indeed describe the cat, with the rest being objects which are not of interest. Similarly, as rich information as an individual's features might be, only some will contribute to their credit behavior. "
   ]
  },
  {
   "cell_type": "markdown",
   "id": "382a98da",
   "metadata": {},
   "source": [
    "Our goal is then to find **systematic ways to filter out useless features**."
   ]
  },
  {
   "cell_type": "markdown",
   "id": "1927e227",
   "metadata": {},
   "source": [
    "### What are the trade-offs here?"
   ]
  },
  {
   "cell_type": "markdown",
   "id": "284dd035",
   "metadata": {},
   "source": [
    "It is common sense that, if you have too few features, your model might simply not have enough information to perform well.\n",
    "\n",
    "Less obvious is that too many features can also be problematic. They might cause loss of performance due to a few related reasons:\n",
    "\n",
    "* Overfitting: the more features, the more difficult will it be for points to have close neighbors (the so-called curse of dimensionality); you will need exponentially more data to cover the feature space meaningfully. Your algorithm is prone to just overfitting;\n",
    "\n",
    "* Noise: useless variables introduce noise which can affect training;\n",
    "\n",
    "* Time/space considerations: the more dimensions, the more memory it takes on your computer, and the longer it will take for training, hyperparameter optimization etc."
   ]
  },
  {
   "cell_type": "markdown",
   "id": "b551400a",
   "metadata": {},
   "source": [
    "## The Boruta algorithm"
   ]
  },
  {
   "cell_type": "markdown",
   "id": "1090c83e",
   "metadata": {},
   "source": [
    "One of our favorite methods for feature selection is the Boruta algorithm, introduced in 2010 by Kursa and Rudnicki [1]. It has consistently proven itself as a powerful tool for straightforward selection of good features in the case of thousands of features."
   ]
  },
  {
   "cell_type": "markdown",
   "id": "8175b06a",
   "metadata": {},
   "source": [
    "> A nice pedagogical overview of the method by the original author can be seen [here](https://cran.r-project.org/web/packages/Boruta/vignettes/inahurry.pdf); the Python implementation (BorutaPy) can be seen on [GitHub](https://github.com/scikit-learn-contrib/boruta_py)"
   ]
  },
  {
   "cell_type": "markdown",
   "id": "04ad2e81",
   "metadata": {},
   "source": [
    "Simply stated, Boruta works as follows. For each feature, say `x1`, Boruta creates a copy `x1_copy` (called a *shadow* by the authors) and then randomly mixes the values across all points, creating noise. \n",
    "\n",
    "\n",
    "It then fits a model (usually a random forest) implementing a feature importance method, and analyses how the original feature's importance compares to the noisy copies. If they are significantly different, then `x1` is deemed valuable, and kept; if they are not, it means `x1` itself is basically noise, and it is removed."
   ]
  },
  {
   "cell_type": "markdown",
   "id": "e6d2b429",
   "metadata": {},
   "source": [
    "### TL;DR:"
   ]
  },
  {
   "cell_type": "markdown",
   "id": "91a9fb3e",
   "metadata": {},
   "source": [
    "> **Use Boruta with a fixed-depth RandomForest base model, with `perc` parameter set to 80**\n",
    "\n",
    "> In the case of  class imbalance, **do not use upsampling**; instead, cross-validate an **undersampling** of the majority class during feature selection. For Boruta, use a **Random Forest base classifier with weights**: `class_weight='balanced_subsample'`, and for the final model (trained on the whole training set using the selected features), see whether using `class_weight` gives a better result than not using it."
   ]
  },
  {
   "cell_type": "markdown",
   "id": "782fde54",
   "metadata": {},
   "source": [
    "The `perc` parameter is an extremely important parameter introduced in the Python version. It is basically how \"loose\" we want to be with our features: `perc=100` is the most rigorous, and the closer to 0 it gets the looser we are with letting less important features get selected."
   ]
  },
  {
   "cell_type": "markdown",
   "id": "7975ae31",
   "metadata": {},
   "source": [
    "### More details"
   ]
  },
  {
   "cell_type": "markdown",
   "id": "beb669d5",
   "metadata": {},
   "source": [
    "We will use Boruta with random forests.\n",
    "\n",
    "As noted by the author itself (in *Boruta for those in a hurry*, Miron B. Kursa, May 21 2020), it is important that we have enough trees:\n",
    "> For datasets with lots of features, the default configuration of the importance source is likely insufficient; in the particular case of Random Forest the number of trees is often not large enough to allow the importance scores to stabilise, which in turn often leads to false negatives and unstable results.\n",
    "\n",
    "This can be taken care of by letting Boruta itself identify an optimal number of trees (as we do below)."
   ]
  },
  {
   "cell_type": "code",
   "execution_count": 5,
   "id": "0adb8b21",
   "metadata": {},
   "outputs": [],
   "source": [
    "import numpy as np\n",
    "import pandas as pd\n",
    "import matplotlib.pyplot as plt\n",
    "from sklearn.datasets import make_classification\n",
    "from sklearn.ensemble import RandomForestClassifier\n",
    "from sklearn.model_selection import train_test_split\n",
    "\n",
    "from boruta.boruta_py import BorutaPy"
   ]
  },
  {
   "cell_type": "markdown",
   "id": "9be4af0c",
   "metadata": {},
   "source": [
    "Create a balanced classification problem with 30 features, out of which:\n",
    "\n",
    "* 6 are informative;\n",
    "\n",
    "* 4 are redundant linear combinations of the informative ones;\n",
    "\n",
    "* 5 are just repeated values;\n",
    "\n",
    "* The remaining 15 are random noise.\n",
    "\n",
    "To all features, we add some Gaussian noise to avoid perfect collinearity."
   ]
  },
  {
   "cell_type": "markdown",
   "id": "9d8e4c89",
   "metadata": {},
   "source": [
    "We will name the columns accordingly, and see which are kept by Boruta and which are taken out."
   ]
  },
  {
   "cell_type": "code",
   "execution_count": 155,
   "id": "197697ec",
   "metadata": {},
   "outputs": [],
   "source": [
    "X, y = make_classification(n_samples=10000, \n",
    "                           n_features=30, n_informative=6, n_repeated=5, n_redundant=4,\n",
    "                           random_state=2,\n",
    "                           weights=(0.5,),\n",
    "                           shuffle=False)\n",
    "\n",
    "X += 0.5*np.random.randn(*X.shape)\n",
    "\n",
    "columns = [f'informative_{i}' for i in range(6)] + \\\n",
    "          [f'redundant_{i}' for i in range(4)] + \\\n",
    "          [f'repeated_{i}' for i in range(5)] + \\\n",
    "          [f'noise_{i}' for i in range(15)]\n",
    "\n",
    "X = pd.DataFrame(X, columns=columns)\n",
    "\n",
    "X_train, X_test, y_train, y_test = train_test_split(X, y, test_size=0.3, random_state=2)"
   ]
  },
  {
   "cell_type": "code",
   "execution_count": 158,
   "id": "bcb0ecf0",
   "metadata": {},
   "outputs": [],
   "source": [
    "def select_feature_boruta(X, y, \n",
    "                         perc=100,\n",
    "                         alpha=0.05,\n",
    "                         max_iter=100,\n",
    "                         max_depth=7,\n",
    "                         n_estimators='auto',\n",
    "                         n_jobs=1):\n",
    "\n",
    "    from sklearn.ensemble import RandomForestClassifier\n",
    "    from boruta.boruta_py import BorutaPy\n",
    "    \n",
    "    X_is_df = isinstance(X, pd.DataFrame)\n",
    "    y_is_df = isinstance(y, pd.Series)\n",
    "    \n",
    "    selector = BorutaPy(\n",
    "        estimator=RandomForestClassifier(n_estimators=100, max_depth=max_depth, n_jobs=n_jobs),\n",
    "        n_estimators=n_estimators,\n",
    "        perc=perc,      \n",
    "        alpha=alpha,    \n",
    "        max_iter=max_iter,\n",
    "        random_state=1,\n",
    "        verbose=0,\n",
    "    )\n",
    "\n",
    "    # boruta needs a numpy array, not a dataframe\n",
    "    X_train = X.values if X_is_df else X\n",
    "    y_train = y.values if y_is_df else y\n",
    "\n",
    "    selector.fit(X_train, y_train) \n",
    "    \n",
    "    if X_is_df:\n",
    "        columns = X.columns\n",
    "        return sorted(np.array(columns)[selector.support_.tolist()])\n",
    "    else:\n",
    "        return sorted(selector.support_.tolist())"
   ]
  },
  {
   "cell_type": "markdown",
   "id": "233bb8cf",
   "metadata": {},
   "source": [
    "Let us print the features which survive the feature selection process:"
   ]
  },
  {
   "cell_type": "code",
   "execution_count": 159,
   "id": "54d47880",
   "metadata": {},
   "outputs": [
    {
     "name": "stdout",
     "output_type": "stream",
     "text": [
      "CPU times: user 34.3 s, sys: 671 ms, total: 34.9 s\n",
      "Wall time: 6.47 s\n"
     ]
    },
    {
     "data": {
      "text/plain": [
       "['informative_0',\n",
       " 'informative_1',\n",
       " 'informative_2',\n",
       " 'informative_3',\n",
       " 'informative_4',\n",
       " 'informative_5',\n",
       " 'redundant_0',\n",
       " 'redundant_1',\n",
       " 'redundant_2',\n",
       " 'redundant_3',\n",
       " 'repeated_0',\n",
       " 'repeated_1',\n",
       " 'repeated_2',\n",
       " 'repeated_3',\n",
       " 'repeated_4']"
      ]
     },
     "execution_count": 159,
     "metadata": {},
     "output_type": "execute_result"
    }
   ],
   "source": [
    "selected_features = select_feature_boruta(X_train, y_train, n_jobs=10)\n",
    "selected_features"
   ]
  },
  {
   "cell_type": "markdown",
   "id": "c188f44c",
   "metadata": {},
   "source": [
    "*All* non-random features survived in the end! This is expected: Boruta is *not meant* to remove repeated or redundant features. Since these features appear as having significant feature importance, it will keep them; it is our job as data scientists to remove collinearity. We can use the code below to do that first, then run Boruta:"
   ]
  },
  {
   "cell_type": "code",
   "execution_count": 163,
   "id": "db906c90",
   "metadata": {},
   "outputs": [],
   "source": [
    "def drop_high_correlations(df, thresh=0.95):\n",
    "    corr_matrix = df.corr().abs()\n",
    "\n",
    "    upper = corr_matrix.where(np.triu(np.ones(corr_matrix.shape), k=1).astype(bool))\n",
    "    to_drop = [column for column in upper.columns if any(upper[column] > thresh)]\n",
    "\n",
    "    return df.drop(to_drop, axis=1)"
   ]
  },
  {
   "cell_type": "code",
   "execution_count": 164,
   "id": "c3e3b450",
   "metadata": {},
   "outputs": [
    {
     "name": "stdout",
     "output_type": "stream",
     "text": [
      "CPU times: user 30.9 s, sys: 719 ms, total: 31.6 s\n",
      "Wall time: 5.54 s\n"
     ]
    },
    {
     "data": {
      "text/plain": [
       "['informative_0',\n",
       " 'informative_1',\n",
       " 'informative_2',\n",
       " 'informative_3',\n",
       " 'informative_4',\n",
       " 'informative_5',\n",
       " 'redundant_0',\n",
       " 'redundant_1',\n",
       " 'redundant_2',\n",
       " 'redundant_3',\n",
       " 'repeated_1',\n",
       " 'repeated_4']"
      ]
     },
     "execution_count": 164,
     "metadata": {},
     "output_type": "execute_result"
    }
   ],
   "source": [
    "X_train_uncor = drop_high_correlations(X_train, thresh=0.9)\n",
    "selected_features = select_feature_boruta(X_train_uncor, y_train, n_jobs=20)\n",
    "selected_features"
   ]
  },
  {
   "cell_type": "markdown",
   "id": "d28e0059",
   "metadata": {},
   "source": [
    "With a threshold of 0.9, this approach removes some of the repeated features, as we would have liked."
   ]
  },
  {
   "cell_type": "markdown",
   "id": "15583139",
   "metadata": {},
   "source": [
    "Boruta has some free parameters which might be useful. For example, the `perc` parameter determines how strict we want to be when comparing real features with shadow features. If we choose a lower `perc`, more features could survive. In practice, try studying `perc` between 90 and 100."
   ]
  },
  {
   "cell_type": "markdown",
   "id": "b284bfaf",
   "metadata": {},
   "source": [
    "## Deep dive into Boruta: experiments"
   ]
  },
  {
   "cell_type": "markdown",
   "id": "57f4801d",
   "metadata": {},
   "source": [
    "A common question among Boruta users is:\n",
    "\n",
    "* What base model should I use?\n",
    "\n",
    "* How much should we set the `perc` parameter?\n",
    "\n",
    "* How much can we trust Boruta's output?"
   ]
  },
  {
   "cell_type": "markdown",
   "id": "d155d741",
   "metadata": {},
   "source": [
    "Below, we show the results for a series of experiments. The database used was generated via the `make_classification` method in Scikit-Learn, with a fixed number of 5000 datapoints.\n",
    "\n",
    "For each iteration, we create a data set with a certain number of features. Out of these, only 40% will be meaningful, and the other 60% will be noise. \n",
    "\n",
    "We then train three models:\n",
    "\n",
    "1. One only using the \"good\" features (ie the 40% of features that we know are meaningful);\n",
    "\n",
    "2. One using all the features;\n",
    "\n",
    "3. One using the features selected by the Boruta algorithm\n",
    "\n",
    "We repeat this experiment for gradually increasing number of total features, from 20 to 2000 (ie. from 0.4% to 40% of the total number of data points). \n",
    "\n",
    "Below, you see the results. The first picture shows the value of the AUCs of the models *relative to the model described in (1) above*, ie the model with the good features. The idea here is to see how much performance models 2 and 3 can achieve compared to an \"oracle\" which knows which features are good."
   ]
  },
  {
   "cell_type": "markdown",
   "id": "f19f4723",
   "metadata": {},
   "source": [
    "### Performance analysis for `perc=80`, baseline RandomForest model"
   ]
  },
  {
   "cell_type": "markdown",
   "id": "ed5017d7",
   "metadata": {},
   "source": [
    "![fig1](../images/boruta/fig1.png)"
   ]
  },
  {
   "cell_type": "markdown",
   "id": "51834a18",
   "metadata": {},
   "source": [
    "We see that, regardless of the total amount of features, the **model trained with the Boruta-selected features outperforms the one trained on all variables**. This is promising: in real life, we have no oracle, and can only hope that our feature selection algorithm chooses features in such a way as to beat the model trained on all features.\n",
    "\n",
    "> There is a slight overfit (where the green line goes higher than the orange one) for some values, but this is fine."
   ]
  },
  {
   "attachments": {},
   "cell_type": "markdown",
   "id": "8941621c",
   "metadata": {},
   "source": [
    "We can also look at how many of the \"good\" features were captured by Boruta in each case:\n",
    "\n",
    "![](../images/boruta/fig2.png)"
   ]
  },
  {
   "cell_type": "markdown",
   "id": "50d40360",
   "metadata": {},
   "source": [
    "As we see, the more features in the dataset, the less Boruta is able to capture them all. With these settings, it plateaus at around 300 features. Despite that, it was able to perform better than a model which had all features available to them."
   ]
  },
  {
   "cell_type": "markdown",
   "id": "9086ba64",
   "metadata": {},
   "source": [
    "To see how important the `perc` parameter is, compare the results above with the same ones for `perc=100`:"
   ]
  },
  {
   "cell_type": "markdown",
   "id": "1370bb1a",
   "metadata": {},
   "source": [
    "![fig1](../images/boruta/fig3.png)"
   ]
  },
  {
   "cell_type": "markdown",
   "id": "aae58527",
   "metadata": {},
   "source": [
    "The situation is now inverted: Boruta is not able to capture enough features, and the model with selected features loses to the one using the full feature set."
   ]
  },
  {
   "cell_type": "markdown",
   "id": "903cd3b4",
   "metadata": {},
   "source": [
    "Below, we show a consolidated result. In the x-axis we have `perc`; in the y-axis we have the AUC difference between a model with Boruta-selected features and one trained on the full feature set (normalized by the AUC of the model trained only with the good features). A positive value will mean that the Boruta model is better.\n",
    "\n",
    "We do this across many feature counts. As we see, for a higher number of total features, Boruta consistently performs better than the full model if `perc` is set to values lower than 90, with the overall best between 70 and 80."
   ]
  },
  {
   "cell_type": "markdown",
   "id": "b2587281",
   "metadata": {},
   "source": [
    "![fig1](../images/boruta/fig4.png)"
   ]
  },
  {
   "attachments": {},
   "cell_type": "markdown",
   "id": "fb2b7663",
   "metadata": {},
   "source": [
    "We can run a similar analysis using LightGBM as the base model:\n",
    "![fig1](../images/boruta/fig5.png)"
   ]
  },
  {
   "cell_type": "markdown",
   "id": "5c10aa14",
   "metadata": {},
   "source": [
    "The qualitative conclusion is the same: `perc` must be set to a smaller value, and the difference between Boruta and the model trained on the full features grows as the total amount of features increases."
   ]
  },
  {
   "cell_type": "markdown",
   "id": "3cb58a9a",
   "metadata": {},
   "source": [
    "---"
   ]
  },
  {
   "cell_type": "markdown",
   "id": "4fc72d83",
   "metadata": {},
   "source": [
    "## Using Boruta on imbalanced datasets"
   ]
  },
  {
   "cell_type": "markdown",
   "id": "eab29aaf",
   "metadata": {},
   "source": [
    "The main question we want to answer is: is Boruta trustworthy when we are dealing with imbalanced datasets?"
   ]
  },
  {
   "cell_type": "markdown",
   "id": "34186ef1",
   "metadata": {},
   "source": [
    "The approaches to this question mostly boil down to two:\n",
    "\n",
    "1. *Undersample (1a)* or *oversample (1b)* the set we use to run the Boruta process;\n",
    "\n",
    "2. Smartly use *weights* on the models we are using. If you have too much data on your original dataset, some undersampling, followed by using weights, also works."
   ]
  },
  {
   "cell_type": "markdown",
   "id": "5fd8e198",
   "metadata": {},
   "source": [
    "Our key takeaway is translated into the following receipt:\n",
    "\n",
    "* **Don't use Boruta in case of extreme imbalance**. Here, by extreme imbalance, we mean imbalance ratios < 1% and/or where there are less than a few hundred samples from the minority class. There are two reasons for this:\n",
    "    1. As we saw in the section about feature importances & interpretability, feature importance estimations become noisy as the absolute amount of instances of the minority class becomes small. Although not necessarily always true, there is a large correlation between having extreme imbalance and simply having very few data points. Since Boruta depends on the feature importance estimates of its base learner, it will be confused by the noisy estimates and won't provide a good set of features;\n",
    "    2. As the model becomes very imbalance, it also correlates with having a very large dataset. Boruta scales badly with dataset size, and using it becomes infeasible.\n",
    "\n",
    "* If you are, however, within the parameters where using Boruta makes sense:\n",
    "    1. **Use weights** via `class_weight='balanced_subsample'` in the Random Forests used as the base learner in Boruta;\n",
    "\n",
    "    2. If you have too much data initially, adding **some undersampling first, then running item (1)**, is both more computationally efficient and effective. In the DataLab, we have verified that undersampling so that the total number of points is around **15 times the total amount of features** tends to give good results;\n",
    "\n",
    "    3. With the selected features, train a model - here, we use  a LightGBM model with `class_weight='balanced'`."
   ]
  },
  {
   "cell_type": "markdown",
   "id": "3f628610",
   "metadata": {},
   "source": [
    "Below, we show a few results of experiments for a dataset with imbalance ratio of 2%. We compare the undersampled, oversampled and  no-sampling, with-weights approaches."
   ]
  },
  {
   "cell_type": "markdown",
   "id": "4881c9b9",
   "metadata": {},
   "source": [
    "![fig1](../images/boruta/fig6.png)"
   ]
  },
  {
   "cell_type": "markdown",
   "id": "a1eaf9c1",
   "metadata": {},
   "source": [
    "### Conclusion 1: pure undersampling is consistently worse than using weights"
   ]
  },
  {
   "cell_type": "markdown",
   "id": "2f2efba2",
   "metadata": {},
   "source": [
    "Dataset 1: **2% imbalance ratio**\n",
    "\n",
    "* 4867 instances of class 0\n",
    "\n",
    "* 133 instances of class 1 "
   ]
  },
  {
   "cell_type": "markdown",
   "id": "246e8952",
   "metadata": {},
   "source": [
    "Below, we see the results of undersampling the majority class as we increase the target balance.\n",
    "\n",
    "* In the first plot, the Y-axis is ROC AUC. The second and third plots show, respectively, how many of the good features were captured and how many of the bad features were captured by Boruta. The orange line shows the AUC for a model containing all the good features, which we know a priori; the green line shows the performance of a model trained with all features; and the blue line shows the performance of a model trained only using the features selected via Boruta.\n",
    "\n",
    "* Also, the dashed red line show the performance for a model trained without sampling, but simply using `class_weight='balanced_subsample'` in the Boruta base learner (Random Forest) and then `class_weight='balanced'` in the final LightGBM model. Just as before, notice there is a slight fitting to noise (surpassing the orange model, with all good features)."
   ]
  },
  {
   "cell_type": "markdown",
   "id": "207b8ab6",
   "metadata": {},
   "source": [
    "![fig1](../images/boruta/fig7.png)"
   ]
  },
  {
   "cell_type": "markdown",
   "id": "2c480459",
   "metadata": {},
   "source": [
    "Notice how we capture more of the good features  with a model with `class_weight` than with an undersampled one; similarly, we avoid more features with it."
   ]
  },
  {
   "cell_type": "markdown",
   "id": "2b5a0fc4",
   "metadata": {},
   "source": [
    "### Conclusion 2: oversampling is too loose (and slow)"
   ]
  },
  {
   "cell_type": "markdown",
   "id": "7856ba6d",
   "metadata": {},
   "source": [
    "![fig1](../images/boruta/fig8.png)"
   ]
  },
  {
   "cell_type": "markdown",
   "id": "4d0cef51",
   "metadata": {},
   "source": [
    "We can see that, as we increase the target balance, oversampling quickly becomes too loose and lets all features in, hence making models which are equivalent with just training with all features (also, since it increases the total amount of points, it makes Boruta slower)."
   ]
  },
  {
   "cell_type": "markdown",
   "id": "66194fbc",
   "metadata": {},
   "source": [
    "### What about extreme imbalance?"
   ]
  },
  {
   "cell_type": "markdown",
   "id": "5a8bd72a",
   "metadata": {},
   "source": [
    "To be fair, we still don't know. We have run several experiments here, but not conclusive. We are open to feedbacks here!"
   ]
  },
  {
   "cell_type": "markdown",
   "id": "99e84512",
   "metadata": {},
   "source": [
    "---"
   ]
  },
  {
   "cell_type": "markdown",
   "id": "50f5864a",
   "metadata": {},
   "source": [
    "## Another approach: using SHAP values"
   ]
  },
  {
   "cell_type": "markdown",
   "id": "4e71c6e7",
   "metadata": {},
   "source": [
    "A common approach is to calculate SHAP values and then remove the features with total contribution less than a certain threshold. This has some ambiguity on the threshold definition, and also needs to be done iteratively - after removing features, one must retrain and see the new SHAP values."
   ]
  },
  {
   "cell_type": "code",
   "execution_count": 165,
   "id": "36a2691a",
   "metadata": {},
   "outputs": [],
   "source": [
    "import shap\n",
    "from sklearn.ensemble import HistGradientBoostingClassifier"
   ]
  },
  {
   "cell_type": "code",
   "execution_count": 166,
   "id": "2c8a41cc",
   "metadata": {},
   "outputs": [
    {
     "data": {
      "text/plain": [
       "HistGradientBoostingClassifier(max_depth=5, random_state=2)"
      ]
     },
     "execution_count": 166,
     "metadata": {},
     "output_type": "execute_result"
    }
   ],
   "source": [
    "model = HistGradientBoostingClassifier(random_state=2, max_depth=5)\n",
    "model.fit(X_train, y_train)"
   ]
  },
  {
   "cell_type": "code",
   "execution_count": 167,
   "id": "494124e2",
   "metadata": {},
   "outputs": [],
   "source": [
    "explainer = shap.TreeExplainer(model)\n",
    "shap_values = explainer(X_train)"
   ]
  },
  {
   "cell_type": "code",
   "execution_count": 168,
   "id": "b4fd596b",
   "metadata": {},
   "outputs": [
    {
     "data": {
      "image/png": "[encoded data removed]",
      "text/plain": [
       "<Figure size 576x1188 with 1 Axes>"
      ]
     },
     "metadata": {},
     "output_type": "display_data"
    }
   ],
   "source": [
    "shap.plots.bar(shap_values, max_display=None, show=False)"
   ]
  },
  {
   "cell_type": "markdown",
   "id": "d459859f",
   "metadata": {},
   "source": [
    "We see that SHAP does a good job of finding that the noise features don't add value. Here, clearly a threshold of `mean(|SHAP|) > 0.05` seems to be a good feature selector, but this is something we have to identify visually. "
   ]
  },
  {
   "cell_type": "markdown",
   "id": "b83dd07a",
   "metadata": {},
   "source": [
    "We can make this process into a function:\n",
    "    "
   ]
  },
  {
   "cell_type": "code",
   "execution_count": 169,
   "id": "fabb3dd2",
   "metadata": {},
   "outputs": [],
   "source": [
    "def shap_importances(columns, shap_values):\n",
    "    importances = np.abs(shap_values.values).mean(axis=0)  # same calculation as the bar plot \n",
    "    feats_imps = pd.DataFrame({'feature': columns, \n",
    "                               'shap': importances})\n",
    "    \n",
    "    return feats_imps.sort_values('shap', ascending=False)\n",
    "\n",
    "def get_important_features_from_shap(importances, threshold=0.04):\n",
    "    imps = importances[importances['shap'] > threshold]\n",
    "    return sorted(imps['feature'].tolist())"
   ]
  },
  {
   "cell_type": "code",
   "execution_count": 170,
   "id": "6b6e23d8",
   "metadata": {},
   "outputs": [
    {
     "data": {
      "text/html": [
       "<div>\n",
       "<style scoped>\n",
       "    .dataframe tbody tr th:only-of-type {\n",
       "        vertical-align: middle;\n",
       "    }\n",
       "\n",
       "    .dataframe tbody tr th {\n",
       "        vertical-align: top;\n",
       "    }\n",
       "\n",
       "    .dataframe thead th {\n",
       "        text-align: right;\n",
       "    }\n",
       "</style>\n",
       "<table border=\"1\" class=\"dataframe\">\n",
       "  <thead>\n",
       "    <tr style=\"text-align: right;\">\n",
       "      <th></th>\n",
       "      <th>feature</th>\n",
       "      <th>shap</th>\n",
       "    </tr>\n",
       "  </thead>\n",
       "  <tbody>\n",
       "    <tr>\n",
       "      <th>0</th>\n",
       "      <td>informative_0</td>\n",
       "      <td>0.790061</td>\n",
       "    </tr>\n",
       "    <tr>\n",
       "      <th>7</th>\n",
       "      <td>redundant_1</td>\n",
       "      <td>0.751999</td>\n",
       "    </tr>\n",
       "    <tr>\n",
       "      <th>13</th>\n",
       "      <td>repeated_3</td>\n",
       "      <td>0.627386</td>\n",
       "    </tr>\n",
       "    <tr>\n",
       "      <th>8</th>\n",
       "      <td>redundant_2</td>\n",
       "      <td>0.503884</td>\n",
       "    </tr>\n",
       "    <tr>\n",
       "      <th>11</th>\n",
       "      <td>repeated_1</td>\n",
       "      <td>0.411533</td>\n",
       "    </tr>\n",
       "  </tbody>\n",
       "</table>\n",
       "</div>"
      ],
      "text/plain": [
       "          feature      shap\n",
       "0   informative_0  0.790061\n",
       "7     redundant_1  0.751999\n",
       "13     repeated_3  0.627386\n",
       "8     redundant_2  0.503884\n",
       "11     repeated_1  0.411533"
      ]
     },
     "execution_count": 170,
     "metadata": {},
     "output_type": "execute_result"
    }
   ],
   "source": [
    "importances = shap_importances(X.columns, shap_values)\n",
    "importances.head()"
   ]
  },
  {
   "cell_type": "code",
   "execution_count": 171,
   "id": "96d00326",
   "metadata": {},
   "outputs": [],
   "source": [
    "features_selected_shap = get_important_features_from_shap(importances, threshold=0.05)"
   ]
  },
  {
   "cell_type": "markdown",
   "id": "efbc7c67",
   "metadata": {},
   "source": [
    "Rinse and repeat:"
   ]
  },
  {
   "cell_type": "code",
   "execution_count": 172,
   "id": "bb4e0717",
   "metadata": {},
   "outputs": [],
   "source": [
    "model = HistGradientBoostingClassifier(random_state=2, max_depth=5)\n",
    "model.fit(X_train[features_selected_shap], y_train)\n",
    "\n",
    "explainer = shap.TreeExplainer(model)\n",
    "shap_values = explainer(X_train[features_selected_shap])"
   ]
  },
  {
   "cell_type": "code",
   "execution_count": 173,
   "id": "cd9288f2",
   "metadata": {},
   "outputs": [
    {
     "data": {
      "image/png": "[encoded data removed]",
      "text/plain": [
       "<Figure size 576x648 with 1 Axes>"
      ]
     },
     "metadata": {},
     "output_type": "display_data"
    }
   ],
   "source": [
    "shap.plots.bar(shap_values, max_display=None, show=False)"
   ]
  },
  {
   "cell_type": "markdown",
   "id": "5447d497",
   "metadata": {},
   "source": [
    "There has been some rearrangement, but overall this process works. No noise features are present, but the repeated / redundant features have remained."
   ]
  },
  {
   "cell_type": "markdown",
   "id": "54c0ac34",
   "metadata": {},
   "source": [
    "## Some acknowledgements"
   ]
  },
  {
   "cell_type": "markdown",
   "id": "d1b91601",
   "metadata": {},
   "source": [
    "One interesting approach is to use a mix of Boruta and SHAP values: instead of using the feature importances calculated during the model training, we would instead use SHAP values.\n",
    "\n",
    "> In tree-based classification models, splits are calculated based on Gini impurity or infomation gain. A split into new branches happens when a feature is found to decrease the total impurity. Feature importance for a given feature in a decision tree is then how much that feature contributed to the total impurity reduction. For a random forest, the feature importance attribute is the average over all trees in the forest. More details on [the scikit-learn documentation](https://scikit-learn.org/stable/auto_examples/ensemble/plot_forest_importances.html)."
   ]
  },
  {
   "cell_type": "markdown",
   "id": "5cb24da1",
   "metadata": {},
   "source": [
    "The [Boruta-SHAP library](https://github.com/Ekeany/Boruta-Shap) [2] does exactly that. Below, we see how to use it.\n",
    "> Because SHAP value calculation is an expensive operation, this process might take much longer than the equivalent with standard feature importances."
   ]
  },
  {
   "cell_type": "code",
   "execution_count": 177,
   "id": "67514078",
   "metadata": {},
   "outputs": [],
   "source": [
    "from BorutaShap import BorutaShap"
   ]
  },
  {
   "cell_type": "code",
   "execution_count": 180,
   "id": "da400baa",
   "metadata": {},
   "outputs": [
    {
     "data": {
      "application/vnd.jupyter.widget-view+json": {
       "model_id": "a0b313b2e0f74d2eb957a80a7cec5bc6",
       "version_major": 2,
       "version_minor": 0
      },
      "text/plain": [
       "  0%|          | 0/100 [00:00<?, ?it/s]"
      ]
     },
     "metadata": {},
     "output_type": "display_data"
    },
    {
     "name": "stdout",
     "output_type": "stream",
     "text": [
      "15 attributes confirmed important: ['informative_3', 'repeated_1', 'repeated_3', 'informative_1', 'informative_5', 'repeated_2', 'informative_4', 'informative_0', 'redundant_3', 'redundant_0', 'redundant_1', 'redundant_2', 'repeated_4', 'repeated_0', 'informative_2']\n",
      "15 attributes confirmed unimportant: ['noise_0', 'noise_12', 'noise_8', 'noise_9', 'noise_2', 'noise_7', 'noise_3', 'noise_6', 'noise_13', 'noise_4', 'noise_1', 'noise_11', 'noise_14', 'noise_10', 'noise_5']\n",
      "0 tentative attributes remains: []\n"
     ]
    }
   ],
   "source": [
    "%%time\n",
    "# important to pass the specific model to use; otherwise it can take a long time\n",
    "selector = BorutaShap(model=RandomForestClassifier(n_estimators=100, max_depth=7, n_jobs=10),\n",
    "                      percentile=100,\n",
    "                      pvalue=0.05,\n",
    "                      importance_measure='shap',\n",
    "                      classification=True)\n",
    "\n",
    "selector.fit(X_train, y_train,\n",
    "             n_trials=100, sample=False,\n",
    "             train_or_test='test', normalize=True,\n",
    "             verbose=True)"
   ]
  },
  {
   "cell_type": "code",
   "execution_count": 182,
   "id": "7acbde9b",
   "metadata": {},
   "outputs": [],
   "source": [
    "selected_columns = sorted(list(selector.Subset().columns))"
   ]
  },
  {
   "cell_type": "code",
   "execution_count": 183,
   "id": "0ee67317",
   "metadata": {},
   "outputs": [
    {
     "data": {
      "text/plain": [
       "['informative_0',\n",
       " 'informative_1',\n",
       " 'informative_2',\n",
       " 'informative_3',\n",
       " 'informative_4',\n",
       " 'informative_5',\n",
       " 'redundant_0',\n",
       " 'redundant_1',\n",
       " 'redundant_2',\n",
       " 'redundant_3',\n",
       " 'repeated_0',\n",
       " 'repeated_1',\n",
       " 'repeated_2',\n",
       " 'repeated_3',\n",
       " 'repeated_4']"
      ]
     },
     "execution_count": 183,
     "metadata": {},
     "output_type": "execute_result"
    }
   ],
   "source": [
    "selected_columns"
   ]
  },
  {
   "cell_type": "markdown",
   "id": "7d4c72b9",
   "metadata": {},
   "source": [
    "It gets the right columns, but this is an extremely time-consuming algorithm. Hopefully it can be accelerated in the near future."
   ]
  },
  {
   "cell_type": "markdown",
   "id": "9c158572",
   "metadata": {},
   "source": [
    "## Conclusions"
   ]
  },
  {
   "cell_type": "markdown",
   "id": "d0163270",
   "metadata": {},
   "source": [
    "We have presented one of our favorite feature selection methods, Boruta, as well as its limitations:\n",
    "\n",
    "* It works well for balanced and imbalanced problems, but not for extreme imbalance (0.1% or under)\n",
    "\n",
    "* The `perc` parameter is key: setting it to around 80 leads to better results\n",
    "\n",
    "* We use baseline Random Forest models with fixed depth and `class_weight='balanced_subsample'`."
   ]
  },
  {
   "cell_type": "markdown",
   "id": "76426521",
   "metadata": {},
   "source": [
    "## References"
   ]
  },
  {
   "cell_type": "markdown",
   "id": "d6ada1b8",
   "metadata": {},
   "source": [
    "Virus infection dataset NCBI GSE73072\n",
    "https://www.ncbi.nlm.nih.gov/geo/query/acc.cgi?acc=GSE73072"
   ]
  },
  {
   "cell_type": "markdown",
   "id": "fe523dec",
   "metadata": {},
   "source": [
    "[1] Kursa, M. B., & Rudnicki, W. R. (2010). Feature Selection with the Boruta Package. Journal of Statistical Software, 36(11), 1–13. https://doi.org/10.18637/jss.v036.i11\n",
    "\n",
    "[2] https://github.com/Ekeany/Boruta-Shap"
   ]
  }
 ],
 "metadata": {
  "kernelspec": {
   "display_name": "Python 3",
   "language": "python",
   "name": "python3"
  },
  "language_info": {
   "codemirror_mode": {
    "name": "ipython",
    "version": 3
   },
   "file_extension": ".py",
   "mimetype": "text/x-python",
   "name": "python",
   "nbconvert_exporter": "python",
   "pygments_lexer": "ipython3",
   "version": "3.7.9"
  },
  "toc": {
   "base_numbering": 1,
   "nav_menu": {},
   "number_sections": true,
   "sideBar": true,
   "skip_h1_title": false,
   "title_cell": "Table of Contents",
   "title_sidebar": "Contents",
   "toc_cell": false,
   "toc_position": {},
   "toc_section_display": true,
   "toc_window_display": false
  }
 },
 "nbformat": 4,
 "nbformat_minor": 5
}
