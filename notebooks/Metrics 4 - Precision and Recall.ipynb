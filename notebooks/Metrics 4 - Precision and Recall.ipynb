{
 "cells": [
  {
   "cell_type": "markdown",
   "id": "f5716c81",
   "metadata": {},
   "source": [
    "# Precision, recall, and $F$-scores"
   ]
  },
  {
   "cell_type": "markdown",
   "id": "f827c061",
   "metadata": {},
   "source": [
    "## Motivation: a Covid test"
   ]
  },
  {
   "cell_type": "markdown",
   "id": "4d5b05b1",
   "metadata": {},
   "source": [
    "What is the difference between\n",
    "\n",
    "$$\\mathbb P (\\hat y = 1|y=1) \\qquad \\mbox{and}\\qquad \\mathbb P(y=1|\\hat y=1)?$$"
   ]
  },
  {
   "cell_type": "markdown",
   "id": "e913eae6",
   "metadata": {},
   "source": [
    "The first one measures, *out of all points in the positive class*, how many we got right. The second one measures, *out of all points predicted to be in the positive class*, how many were actually positives.\n",
    "\n",
    "These quantities are not the same. Writing them like this makes this fact obvious, but it is surprising how many times we can mix them up in conversation. For instance:\n",
    "\n",
    "> I just got a positive in my Covid test. They say that it is right 99% of the time when you are infected, so I am probably infected.\n",
    "\n",
    "The conclusion above is a falacy, because we do not have enough data. Does the person mean\n",
    "\n",
    "$$\\mathbb P (\\mbox{test gives positive | you have Covid}) = 99\\%$$\n",
    "or\n",
    "$$\\mathbb P (\\mbox{ you have Covid | test gives positive}) = 99\\%?$$\n",
    "\n",
    "These two cases are completely different, as we show below."
   ]
  },
  {
   "cell_type": "markdown",
   "id": "8ec9ca18",
   "metadata": {},
   "source": [
    "For instance, in the case above, let $y=1$ denote if someone has Covid, and $\\hat y = 1$ denote that they tested positive. \n",
    "\n",
    "Let us assume that \n",
    "\n",
    "$$\\mathbb P (\\hat y=1 | y=1) = 99\\%$$\n",
    "\n",
    "\n",
    "We can write, using Bayes' theorem,\n",
    "\n",
    "$$\\mathbb P(y=1|\\hat y=1) = \\frac{\\mathbb P (\\hat y=1 | y=1) \\mathbb P(y=1)}{\\mathbb P (\\hat y=1)}$$"
   ]
  },
  {
   "cell_type": "markdown",
   "id": "63f358d8",
   "metadata": {},
   "source": [
    "or, expanding the denominator,"
   ]
  },
  {
   "cell_type": "markdown",
   "id": "7222f80b",
   "metadata": {},
   "source": [
    "$$\\begin{align}\n",
    "\\mathbb P(y=1|\\hat y=1) &= \\frac{\\mathbb P (\\hat y=1 | y=1) \\mathbb P(y=1)}{\\mathbb P (\\hat y=1|y=0) \\mathbb P(y=0) + \\mathbb P(\\hat y = 1|y=1) \\mathbb P(y=1)}\\\\\n",
    "&= \\frac{1}{\\displaystyle1 + \\frac{\\mathbb P(\\hat y=1 | y=0) \\mathbb P(y=0)}{\\mathbb P(\\hat y=1|y=1) \\mathbb P(y=1)}}\n",
    "\\end{align}$$"
   ]
  },
  {
   "cell_type": "markdown",
   "id": "85e4e130",
   "metadata": {},
   "source": [
    "Assume that:\n",
    "* 1% of the population is infected, ie. $\\mathbb P(y=1) = 0.01$ and $\\mathbb P(y=0) = 0.99$\n",
    "* If you are infected, there is a 99% chance the test will come back positive: $\\mathbb P(\\hat y=1|y=1) = 0.99$\n",
    "* If you are not infected, there is a 5% chance the test will come back as a (false) positive: $\\mathbb P(\\hat y=1|y=0) = 0.05$"
   ]
  },
  {
   "cell_type": "markdown",
   "id": "46d2668a",
   "metadata": {},
   "source": [
    "Then, from the expression above we get\n",
    "\n",
    "$$\\mathbb P(y=1|\\hat y=1) = \\frac{1}{\\displaystyle 1 + \\frac{0.05 \\times 0.99}{0.99 \\times 0.01}} = \\frac 16 \\approx  16.7\\%$$ "
   ]
  },
  {
   "cell_type": "markdown",
   "id": "e644a5c9",
   "metadata": {},
   "source": [
    "that is, if your test comes back positive, there is only a 16.7% chance that you actually have Covid."
   ]
  },
  {
   "cell_type": "markdown",
   "id": "fbcea986",
   "metadata": {},
   "source": [
    "This is a *significantly* smaller number than the 99% we started with (and also shows why a \"test with 99% confidence\" does not mean much by itself). This is why $\\mathbb P (\\hat y = 1|y=1)$ and $\\mathbb P(y=1|\\hat y=1)$ are *very* different things."
   ]
  },
  {
   "cell_type": "markdown",
   "id": "9402ba4d",
   "metadata": {},
   "source": [
    "> One might argue that the test is bad. It is not. To see why, think about it this way. Without having taken a test, your prior chance of being infected was 1%. Now that you have taken the test, this chance grows by **almost 17 times**. This is a huge growth! It is just not a definitive answer. Indeed, one could **take the test again** and see how much the probability changes. \n",
    "\n",
    "*Problem*. Suppose we test again, and again we get a positive. Convince yourself that we can calculate the new probability of being infected by formally starting out from the exact same formula above but changing the prior probability of being infected to $\\mathbb P (y=1) = 1/6$ (which implies $\\mathbb P(y=0) = 5/6$), yielding\n",
    "\n",
    "$$\\mathbb P(y=1|\\hat y_1=1, \\hat y_2 = 1) = \\frac{1}{\\displaystyle 1 + \\frac{0.05\\times 5/6}{0.99 \\times 1/6}} \\approx 80\\%,$$\n",
    "\n",
    "which is now much higher. If we further test again this number increases to 99%, and so on. "
   ]
  },
  {
   "cell_type": "markdown",
   "id": "99a03da9",
   "metadata": {},
   "source": [
    "## Precision and recall"
   ]
  },
  {
   "cell_type": "markdown",
   "id": "f701a6f5",
   "metadata": {},
   "source": [
    "$$\n",
    "\\boxed{\\mathrm{Recall} = \\mathbb P (\\hat y = 1|y=1)}$$\n",
    "$$\\boxed{\\mathrm{Precision} = \\mathbb P(y=1|\\hat y=1)}$$"
   ]
  },
  {
   "cell_type": "markdown",
   "id": "db508001",
   "metadata": {},
   "source": [
    "For the Covid test above, it had a recall of 99% and a precision of 16.7% for the positive class.\n",
    "\n",
    "For multiclass models (which generalize the binary case we see here), one calculates precision/recall for each class. For instance, if you have an image classification model which classifies an image into $\\{\\mathrm{dog, cat, horse, penguin}\\}$ then you should calculate precision/recall for each class: \n",
    "\n",
    "$$\\mathrm{Recall_{dog}} = \\mathbb P (\\hat y = \\mathrm{dog} | y = \\mathrm{dog}),\\quad \\mathrm{Recall_{cat}} = \\mathbb P (\\hat y = \\mathrm{cat} | y = \\mathrm{cat})$$ \n",
    "\n",
    "and so on."
   ]
  },
  {
   "cell_type": "markdown",
   "id": "193595ed",
   "metadata": {},
   "source": [
    "## The precision & recall (PR) curve "
   ]
  },
  {
   "cell_type": "markdown",
   "id": "6dcbe1a7",
   "metadata": {},
   "source": [
    "Similar to what we did to the ROC curve, we can consider the curve obtained by building a score $f$ and a classifier $\\hat y(x) = 1$ if $f(x) \\geq \\lambda$ and 0 otherwise, and see how precision and recall change as we do that."
   ]
  },
  {
   "cell_type": "markdown",
   "id": "03bdfe2c",
   "metadata": {},
   "source": [
    "For the sample model we have been using so far, the curve can be seen in the curve below."
   ]
  },
  {
   "cell_type": "markdown",
   "id": "4772659b",
   "metadata": {},
   "source": [
    "> We build a custom function which also plots the **percentage of the positive class against the whole dataset**, ie. $\\mathbb P(y=1)$. This is an important quantity, and so we make it explicit here."
   ]
  },
  {
   "cell_type": "code",
   "execution_count": 41,
   "id": "978829b2",
   "metadata": {},
   "outputs": [],
   "source": [
    "def plot_precision_recall(y_true, y_pred, ax):\n",
    "    \n",
    "    from sklearn.metrics import PrecisionRecallDisplay\n",
    "\n",
    "    PrecisionRecallDisplay.from_predictions(y_true, y_pred, ax=ax)\n",
    "    ax.set_ylim(-.05,1.05)\n",
    "    \n",
    "    # prevalence of positive class\n",
    "    p = y_true.sum()/len(y_true)\n",
    "    ax.axhline(p, linestyle='--', color='gray', label=f'Prevalence ({round(p,2)})')\n",
    "    plt.legend()"
   ]
  },
  {
   "cell_type": "code",
   "execution_count": 42,
   "id": "631c52eb",
   "metadata": {},
   "outputs": [
    {
     "data": {
      "image/png": "[encoded data removed]",
      "text/plain": [
       "<Figure size 360x360 with 1 Axes>"
      ]
     },
     "metadata": {
      "needs_background": "light"
     },
     "output_type": "display_data"
    }
   ],
   "source": [
    "fig, ax = plt.subplots(figsize=(5,5))\n",
    "plot_precision_recall(y_test, y_test_pred, ax)\n",
    "plt.title(\"PR curve\")\n",
    "plt.show()"
   ]
  },
  {
   "cell_type": "markdown",
   "id": "de7fb8c9",
   "metadata": {},
   "source": [
    "(this function gives the average precision (AP) metric as well - we shall discuss it later)"
   ]
  },
  {
   "cell_type": "markdown",
   "id": "ce0b5a37",
   "metadata": {},
   "source": [
    "Notes:\n",
    "\n",
    "* For a very small threshold $\\lambda = -\\infty$, we have \n",
    "\n",
    "  $$\\mathrm{Recall}(-\\infty) = 1,\\quad \\mathrm{Precision}(-\\infty) = \\pi_1$$ \n",
    "  \n",
    "  where $\\pi_1 = \\mathbb P(y=1)$ is the prevalence of the positive class (can you see why?);\n",
    "* The curve is indeed bounded below by the prevalence $\\pi_1$;\n",
    "* As we increase the threshold, the curve increases in precision and reduces in recall\n",
    "* For $\\lambda = \\infty$, we should have \n",
    "\n",
    "  $$\\mathrm{Recall}(\\infty) = 0,\\quad \\mathrm{Precision}(\\infty) = 1$$\n",
    "  \n",
    "  (can you see why?)"
   ]
  },
  {
   "cell_type": "markdown",
   "id": "9136da28",
   "metadata": {},
   "source": [
    "This curve has more interesting properties that we shall see later, after we better understand the geometry of the PR plane."
   ]
  },
  {
   "cell_type": "markdown",
   "id": "ac609f76",
   "metadata": {},
   "source": [
    "## The $F$-scores: joining precision and recall"
   ]
  },
  {
   "cell_type": "markdown",
   "id": "de804613",
   "metadata": {},
   "source": [
    "Recall that, given two numbers $a, b$, their **harmonic mean** is the number $c$ defined via\n",
    "\n",
    "$$\\frac 1c = \\frac 12 \\left( \\frac 1a + \\frac 1b \\right),$$\n",
    "\n",
    "or explicitly\n",
    "\n",
    "$$c = \\frac{2}{1/a + 1/b} = \\frac{2ab}{a+b}$$"
   ]
  },
  {
   "cell_type": "markdown",
   "id": "d7aa9bac",
   "metadata": {},
   "source": [
    "(if any of the numbers is 0, the harmonic mean is undefined; if any of them is infinite, the harmonic mean will be the finite one left, as can be seen by taking the limit in the first definition)"
   ]
  },
  {
   "cell_type": "markdown",
   "id": "c0d8ff46",
   "metadata": {},
   "source": [
    "We define the **$F_1$ score** as the harmonic mean of precision and recall:\n",
    "\n",
    "$$\\boxed{\\frac{1}{F_1} = \\frac 12 \\frac{1}{\\mathrm{Precision}} + \\frac 12 \\frac{1}{\\mathrm{Recall}}}$$"
   ]
  },
  {
   "cell_type": "markdown",
   "id": "b31f7b52",
   "metadata": {},
   "source": [
    "More generally, we define the **$F_\\beta$ score** as a weighted harmonic mean between precision and recall:"
   ]
  },
  {
   "cell_type": "markdown",
   "id": "c165e3de",
   "metadata": {},
   "source": [
    "$$\\boxed{\\frac{1}{F_\\beta} = \\frac{1}{1+\\beta^2} \\frac{1}{\\mathrm{Precision}} + \\frac{\\beta^2}{1+\\beta^2}\\frac{1}{\\mathrm{Recall}}}$$"
   ]
  },
  {
   "cell_type": "markdown",
   "id": "146375e3",
   "metadata": {},
   "source": [
    "or the straighforward version\n",
    "\n",
    "$$F_\\beta = \\frac{(1+\\beta^2) \\mathrm{Recall\\, Precision}}{\\beta^2 \\mathrm{Precision + Recall}}$$"
   ]
  },
  {
   "cell_type": "markdown",
   "id": "cfa2ec80",
   "metadata": {},
   "source": [
    "For $\\beta = 1$ we retrieve $F_1$, which weighs precision and recall equally; for $\\beta > 1$ we give a higher importance to recall, whereas for $\\beta < 1$ we place more importance on precision."
   ]
  },
  {
   "cell_type": "markdown",
   "id": "b8ab0e6c",
   "metadata": {},
   "source": [
    "### Why do we use a *harmonic* mean for the F-score?"
   ]
  },
  {
   "cell_type": "markdown",
   "id": "744fa70b",
   "metadata": {},
   "source": [
    "One could argue that there is no need to use a harmonic mean of recall and precision to estimate their (weighted) average. It would be enough to calculate a (weighted) simple average $(\\mathrm{precision+recall})/2$, which still captures the trade-off between precision and recall."
   ]
  },
  {
   "cell_type": "markdown",
   "id": "748ffbdb",
   "metadata": {},
   "source": [
    "The advantage of using the harmonic mean comes when considering extremes. A simple average $(x+y)/2$ is forgiving if either $x$ or $y$ become 0 (see the figure below, top-left: there are non-zero simple averages at both the $x=0$ and $y=0$ axes). Harmonic means are not so forgiving: if $x$ or $y$ tend to zero, then their harmonic mean will also go to zero. \n",
    "\n",
    "> Notice that there is always **one choice** of precision and recall that will maximize the simple average: $\\mathrm{Recall} = 0$ and $\\mathrm{Precision} =1$, which corresponds to the trivial $\\lambda=\\infty$ model which labels every point as 0. Thus, if we tried to maximize the simple average, we would just obtain this trivial model."
   ]
  },
  {
   "cell_type": "code",
   "execution_count": 43,
   "id": "3a983cb5",
   "metadata": {},
   "outputs": [
    {
     "data": {
      "image/png": "[encoded data removed]",
      "text/plain": [
       "<Figure size 720x720 with 5 Axes>"
      ]
     },
     "metadata": {
      "needs_background": "light"
     },
     "output_type": "display_data"
    }
   ],
   "source": [
    "## Plotting simple and (weighted) harmonic averages of precision and recall\n",
    "\n",
    "prec = np.linspace(0.001,1, num=20)\n",
    "rec = np.linspace(0.001,1, num=20)\n",
    "\n",
    "rec, prec = np.meshgrid(rec, prec)\n",
    "\n",
    "def f_beta(precision, recall, beta):\n",
    "    return (1+beta**2)*precision*recall/(beta**2 * precision + recall)\n",
    "\n",
    "# simple mean\n",
    "simp = (rec+prec)/2\n",
    "\n",
    "fig, ax = plt.subplots(figsize=(10,10), ncols=2, nrows=2)\n",
    "ax = ax.flatten()\n",
    "\n",
    "# simple mean\n",
    "heatmap = ax[0].contourf(rec, prec, simp)\n",
    "ax[0].set_xlabel(\"Recall\")\n",
    "ax[0].set_ylabel(\"Precision\")\n",
    "ax[0].set_title(\"Simple mean of precision / recall\")\n",
    "cbar = fig.colorbar(heatmap, ax=ax[0])\n",
    "\n",
    "recall_line = np.linspace(0,1)\n",
    "for i, beta in enumerate([1, 3, 0.33]):\n",
    "    k=i+1\n",
    "    ax[k].contourf(rec, prec, f_beta(prec, rec, beta=beta))\n",
    "    ax[k].set_xlabel(\"Recall\")\n",
    "    ax[k].set_ylabel(\"Precision\")\n",
    "    ax[k].set_title(f\"F-{beta} score\")\n",
    "\n",
    "plt.tight_layout()\n",
    "plt.show()"
   ]
  },
  {
   "cell_type": "markdown",
   "id": "55810e8f",
   "metadata": {},
   "source": [
    "## Should I prioritize precision or recall? Which matters most?"
   ]
  },
  {
   "cell_type": "markdown",
   "id": "be7c744c",
   "metadata": {},
   "source": [
    "A rule-of-thumb to keep in mind is:\n",
    "\n",
    "$$\\mathrm{Precision \\sim } \\quad \\mbox{focus on minimizing false positives}$$\n",
    "$$\\mathrm{Recall \\sim } \\quad \\mbox{ focus on minimizing false negatives}$$"
   ]
  },
  {
   "cell_type": "markdown",
   "id": "5d4d537d",
   "metadata": {},
   "source": [
    "False positives and false negatives are never what we wish for, but there is always a trade-off on which is worse for the problem at hand. Consider the situations below:"
   ]
  },
  {
   "cell_type": "markdown",
   "id": "ce0e2129",
   "metadata": {},
   "source": [
    "**Treatment for a disease.**\n",
    "You work in medical research, and you are developing a test for a specific colon disease. This disease is lethal - if a person has it and is not treated there is a high chance they will die. \n",
    "\n",
    "There already exists a very accurate test to diagnose this disease, but it is time-consuming and very uncomfortable for the patient. Your company wants to create a cheaper and less uncomfortable test, which can be done quickly at a doctor's office, but will also be less accurate. The idea here is that, if a patient tests positive under this quicker test, only then will they take the more time-consuming and uncomfortable one, as a means of validation.\n",
    "\n",
    "> **Question**: which do you prioritize, precision or recall?\n",
    "\n",
    "> Solution: consider what happens if you have a false negative (=the patient is sick, but your test returns negative). Since the disease is lethal, this means this patient might die. Now consider a false positive (=patient is not sick, but your test returns positive). Then they will need to go through an uncomfortable test, but they will not die. In this case, **false negatives are much worse than false positives**. Because of this, our focus is on high recall."
   ]
  },
  {
   "cell_type": "markdown",
   "id": "1802b591",
   "metadata": {},
   "source": [
    "**Product recommendation**. You work in an e-commerce company, and are developing a product recommendation model. Basically, when the user enters your homepage, you want to recommend products to them based on their profile, previous purchases etc which will maximize the chances they will buy again. The product recommendations will be displayed, 5 at a time, in a \"Recommended for you\" tab.\n",
    "\n",
    "Usually, product recommendation models are not just binary classifiers, but for the sake of simplicity let's assume they are. Then, our model is a classification model which outputs a score: high scores indicate a user is likely to purchase something, and low scores mean the opposite."
   ]
  },
  {
   "cell_type": "markdown",
   "id": "b9f3f751",
   "metadata": {},
   "source": [
    "> **Question**: which do you prioritize, precision or recall?\n",
    "\n",
    "> Solution: a false positive here means a product which you recommend, but the user is not really likely to buy. A false negative is a product they would have liked, but you don't recommend. If you want to maximize the likelihood a user will buy a product, you want to make sure you only show them the top 5 products they will like: few false positives. It is OK, however, to have products that they would like but you don't end up recommending. What you want to avoid is that they enter the page, don't find anything they like, and leave. **False positives are worse than false negatives here**, so the focus is on high precision."
   ]
  },
  {
   "cell_type": "markdown",
   "id": "07c26070",
   "metadata": {},
   "source": [
    "## Average Precision (AP): very used but questionable metric"
   ]
  },
  {
   "cell_type": "markdown",
   "id": "426459ea",
   "metadata": {},
   "source": [
    "The so-called *average precision* is the **area under the PR curve**:"
   ]
  },
  {
   "cell_type": "code",
   "execution_count": 44,
   "id": "bf47fce5",
   "metadata": {},
   "outputs": [],
   "source": [
    "from sklearn.metrics import auc, average_precision_score, precision_recall_curve"
   ]
  },
  {
   "cell_type": "code",
   "execution_count": 45,
   "id": "60d9fb38",
   "metadata": {},
   "outputs": [
    {
     "name": "stdout",
     "output_type": "stream",
     "text": [
      "Avg. Precision: 0.714\n"
     ]
    }
   ],
   "source": [
    "# Directly using the sklearn implementation\n",
    "print(\"Avg. Precision: {0:.3f}\".format(average_precision_score(y_test, y_test_pred)))"
   ]
  },
  {
   "cell_type": "code",
   "execution_count": 46,
   "id": "069e1af8",
   "metadata": {},
   "outputs": [
    {
     "name": "stdout",
     "output_type": "stream",
     "text": [
      "Avg. Precision: 0.714\n"
     ]
    }
   ],
   "source": [
    "# calculating the curve and using numeric integration\n",
    "prec, rec, thresh = precision_recall_curve(y_test, y_test_pred)\n",
    "\n",
    "# Directly using the sklearn implementation\n",
    "print(\"Avg. Precision: {0:.3f}\".format(auc(rec, prec)))"
   ]
  },
  {
   "cell_type": "markdown",
   "id": "178b9b43",
   "metadata": {},
   "source": [
    "The reasoning behind using this metric is that, since the endpoints of the PR curve are fixed, higher area means a better classifier."
   ]
  },
  {
   "cell_type": "markdown",
   "id": "ce4c7dca",
   "metadata": {},
   "source": [
    "This is true in general. However, it might be problematic to use for several reasons:\n",
    "* If you look at how jagged the PR curve is, it makes you want to \"smoothen it out\" in the same way we do for the ROC curve: by taking its convex hull. However, this is not possible - the PR plane has no convexity properties. Hence the area under the curve would be an integral of a pretty jagged function\n",
    "* Even if you calculate the area well, you have an issue: there is no interpretation for the Average Precision\n",
    "* The PR curve is bound below by $\\mathrm{Precision} = \\pi_1$, the prevalence of the minority class. That means that it has an area of at least $1\\times \\pi_1 = \\pi_1$. This is an issue: suppose you want to consider a model that you trained on two different customer segments, A and B. Even if $\\mathrm{AP}_A \\geq \\mathrm{AP}_B$, this doesn't mean the model works better on A than B, since the prevalence might be different between the classes. If A has higher prevalence, then the area will naturally tend to be greater.\n"
   ]
  },
  {
   "cell_type": "markdown",
   "id": "42c6e581",
   "metadata": {},
   "source": [
    "## PR is not good under imbalance"
   ]
  },
  {
   "cell_type": "markdown",
   "id": "d9f9e155",
   "metadata": {},
   "source": [
    "**For this section, assume that we want to find the model with the best $F_1$ score**"
   ]
  },
  {
   "cell_type": "markdown",
   "id": "087bea9e",
   "metadata": {},
   "source": [
    "A common question among data scientists is - which should I use to assess my model, the ROC curve or the PR curve?"
   ]
  },
  {
   "cell_type": "markdown",
   "id": "e28e0c49",
   "metadata": {},
   "source": [
    "The answer is of course to use both, since they tell different stories. Mathematically, however, the ROC is definitely \"nicer\":"
   ]
  },
  {
   "cell_type": "markdown",
   "id": "e01a826b",
   "metadata": {},
   "source": [
    "|Features of the ROC | Feature of PR|\n",
    "|---|---|\n",
    "|Interpretable area under the curve ROC AUC = $\\mathbb P (Z_1 \\geq Z_0)$|**AUC PR** not interpretable|\n",
    "|Invariant under class imbalance|The whole curve shifts when the imbalance ratio shifts|\n",
    "|Universal baseline: 45 degree line|No universal baseline|\n",
    "|Meaningful convex hull|Not linear - cannot take convex hull|"
   ]
  },
  {
   "cell_type": "markdown",
   "id": "bba346d0",
   "metadata": {},
   "source": [
    "### **Why is the curve not invariant under imbalance?**"
   ]
  },
  {
   "cell_type": "markdown",
   "id": "6a8dca94",
   "metadata": {},
   "source": [
    "Recall from our discussion of the ROC curve that its $x$ and $y$ axes (FPR and TPR, respectively) do not change, mathematically speaking, if the ratio \n",
    "\n",
    "$$r = \\mbox{total positives / total negatives} = \\mathbb P (Y=1)/\\mathbb P(Y=0)$$\n",
    "\n",
    "changes. *This will not be the case for precision and recall*. To see this, let \n",
    "\n",
    "$$\\mathrm{ROC}:\\quad \\begin{align}\n",
    "\\mathbf x &= \\mbox{FPR} = \\mathbb P (\\hat y = 1|y = 0)\\\\\n",
    "\\mathbf y &= \\mbox{TPR} = \\mathbb P(\\hat y =1|y=1)\n",
    "\\end{align}$$\n",
    "\n",
    "be the coordinates of the ROC curve, and let \n",
    "\n",
    "$$\\mathrm{PR}:\\quad \\begin{align}\n",
    "\\mathbf x' &= \\mathrm{Recall} = \\mathbb P(\\hat y =1|y=1)\\\\\n",
    "\\mathbf y' &= \\mathrm{Precision} = \\mathbb P(y =1|\\hat y=1)\n",
    "\\end{align}$$"
   ]
  },
  {
   "cell_type": "markdown",
   "id": "cf9b8cbe",
   "metadata": {},
   "source": [
    "be those of the PR curve. \n",
    "\n",
    "Here, $\\mathbf x$ and $\\mathbf y$ are invariant under changes. Our goal is to express the primed coordinates in terms of the unprimed ones."
   ]
  },
  {
   "cell_type": "markdown",
   "id": "ac1a1bc7",
   "metadata": {},
   "source": [
    "**Claim:** the precision and recall curve can be expressed as a *change of coordinates* of the ROC curve via\n",
    "\n",
    "$$\\boxed{\\begin{align}\n",
    "\\mathbf x' &= \\mathbf y\\\\\n",
    "\\mathbf y'&= \\frac{\\mathbf y}{\\mathbf y+ \\mathbf x/r}\n",
    "\\end{align}}$$"
   ]
  },
  {
   "cell_type": "markdown",
   "id": "f8460f56",
   "metadata": {},
   "source": [
    "Then: all else being equal, recall is invariant under shifts in $r$, but **precision decreases**."
   ]
  },
  {
   "cell_type": "markdown",
   "id": "68190f78",
   "metadata": {},
   "source": [
    "*Proof*: there is nothing to prove regarding recall $\\mathbf x'$. For precision, we use Bayes' rule:\n",
    "\n",
    "$$\\begin{align}\n",
    "\\mathbf y'&= \\mathbb P(y =1|\\hat y=1)\\\\\n",
    "&= \\frac{\\mathbb P(\\hat y =1| y=1) \\mathbb P (y=1)}{\\mathbb P(\\hat y =1| y=1) \\mathbb P (y=1)+\\mathbb P(\\hat y =1| y=0) \\mathbb P (y=0)}\\\\\n",
    "&= \\frac{\\mathbf y \\mathbb P (y=1)}{\\mathbf{y} \\mathbb P (y=1)+ \\mathbf x \\mathbb P (y=0)}\\\\\n",
    "&= \\frac{\\mathbf y }{\\displaystyle \\mathbf{y} + \\mathbf x  \\frac{\\mathbb P (y=0)}{\\mathbb P (y=1)}}\\\\\n",
    "&= \\frac{\\mathbf y }{\\displaystyle \\mathbf{y} + \\frac{\\mathbf x}{r}} \\quad \\Box\n",
    "\\end{align}$$"
   ]
  },
  {
   "cell_type": "markdown",
   "id": "ab8b5b96",
   "metadata": {},
   "source": [
    "Therefore, if $r$ shifts, \n",
    "* The precision curve naturally goes down\n",
    "* The area under the precision curve also goes down\n",
    "* Since (prove it)\n",
    "\n",
    "$$F_\\beta = \\frac{(1+\\beta^2) \\mathbf{y}}{\\displaystyle \\mathbf{y} + \\frac{\\mathbf x}{r} +\\beta^2}$$\n",
    "\n",
    "  then $F$-scores suffer from the same problem as precision.\n"
   ]
  },
  {
   "cell_type": "markdown",
   "id": "4ea95bce",
   "metadata": {},
   "source": [
    "### Visual proof of non-convexity in PR space"
   ]
  },
  {
   "cell_type": "markdown",
   "id": "1dba4339",
   "metadata": {},
   "source": [
    "We have claimed above that a convex hull makes no sense in the PR space. We show this intuitively now.\n",
    "\n"
   ]
  },
  {
   "cell_type": "markdown",
   "id": "ff6031d2",
   "metadata": {},
   "source": [
    "We have previously created a function to calculate the convex hull of the ROC curve:"
   ]
  },
  {
   "cell_type": "code",
   "execution_count": 47,
   "id": "8a7d4770",
   "metadata": {},
   "outputs": [],
   "source": [
    "from sklearn.metrics import roc_curve\n",
    "\n",
    "_, fpr_hull, tpr_hull = hull_roc_auc(y_test, y_test_pred)\n",
    "fpr, tpr, _ = roc_curve(y_test, y_test_pred)"
   ]
  },
  {
   "cell_type": "markdown",
   "id": "b3792dc1",
   "metadata": {},
   "source": [
    "We use the transformation derived above to plot these points on the PR plane. Technically speaking, we only have the vertices of the hull, so we need to create a linear interpolation to have more points to plot."
   ]
  },
  {
   "cell_type": "code",
   "execution_count": 48,
   "id": "e073b896",
   "metadata": {},
   "outputs": [],
   "source": [
    "from scipy.interpolate import interp1d  # for 1d interpolation"
   ]
  },
  {
   "cell_type": "code",
   "execution_count": 49,
   "id": "02f2693f",
   "metadata": {},
   "outputs": [],
   "source": [
    "pr_interp = interp1d(fpr_hull, tpr_hull)"
   ]
  },
  {
   "cell_type": "code",
   "execution_count": 50,
   "id": "83eb7933",
   "metadata": {},
   "outputs": [],
   "source": [
    "x_hull = np.linspace(0,1,num=500)\n",
    "y_hull = pr_interp(x_hull) "
   ]
  },
  {
   "cell_type": "markdown",
   "id": "c6009b45",
   "metadata": {},
   "source": [
    "Now we apply the transformation and plot both the original ROC and its hull in the PR planme"
   ]
  },
  {
   "cell_type": "code",
   "execution_count": 51,
   "id": "f44af445",
   "metadata": {},
   "outputs": [],
   "source": [
    "r = (y_test==1).sum()/(y_test==0).sum()"
   ]
  },
  {
   "cell_type": "code",
   "execution_count": 52,
   "id": "437407da",
   "metadata": {},
   "outputs": [],
   "source": [
    "def from_roc_to_pr(x, y, r):\n",
    "\n",
    "    from warnings import catch_warnings, simplefilter\n",
    "    \n",
    "    with catch_warnings():\n",
    "        simplefilter(\"ignore\")\n",
    "        return y, y/(y+x/r)"
   ]
  },
  {
   "cell_type": "code",
   "execution_count": 53,
   "id": "5e789fd8",
   "metadata": {},
   "outputs": [],
   "source": [
    "rec, prec = from_roc_to_pr(fpr, tpr, r)\n",
    "rec_hull, prec_hull = from_roc_to_pr(x_hull, y_hull, r)\n",
    "rec_hull_markers, prec_hull_markers = from_roc_to_pr(fpr_hull, tpr_hull, r)"
   ]
  },
  {
   "cell_type": "code",
   "execution_count": 54,
   "id": "e36c1591",
   "metadata": {},
   "outputs": [
    {
     "data": {
      "image/png": "[encoded data removed]",
      "text/plain": [
       "<Figure size 720x360 with 2 Axes>"
      ]
     },
     "metadata": {
      "needs_background": "light"
     },
     "output_type": "display_data"
    }
   ],
   "source": [
    "fig, ax = plt.subplots(figsize=(10,5), ncols=2)\n",
    "\n",
    "import string\n",
    "\n",
    "ax[0].plot(fpr, tpr, label='ROC')\n",
    "ax[0].plot(fpr_hull, tpr_hull, label='ROC hull', marker='o', linestyle='--', color='orange')\n",
    "ax[0].legend()\n",
    "ax[0].set_title(\"ROC curve and convex hull\")\n",
    "ax[0].set_xlabel(\"FPR\")\n",
    "ax[0].set_ylabel(\"TPR\")\n",
    "\n",
    "for letter, i in zip(string.ascii_uppercase, range(len(fpr_hull))):\n",
    "    ax[0].annotate(letter, (fpr_hull[i]*1.02, tpr_hull[i]*0.96))\n",
    "\n",
    "\n",
    "ax[1].plot(rec, prec, label='Original')\n",
    "ax[1].plot(rec_hull, prec_hull, label='PR hull', linestyle='--', color='orange')\n",
    "ax[1].scatter(rec_hull_markers, prec_hull_markers, marker='o', color='orange')\n",
    "\n",
    "for letter, i in zip(string.ascii_uppercase, range(len(rec_hull_markers))):\n",
    "    ax[1].annotate(letter, (rec_hull_markers[i]*1.02, prec_hull_markers[i]))\n",
    "    \n",
    "ax[1].legend()\n",
    "ax[1].set_title(\"Same model curves, PR plane\")\n",
    "ax[1].set_xlabel(\"Recall\")\n",
    "ax[1].set_ylabel(\"Precision\")\n",
    "\n",
    "plt.tight_layout()\n",
    "plt.show()"
   ]
  },
  {
   "cell_type": "markdown",
   "id": "e17a9b43",
   "metadata": {},
   "source": [
    "As you can see, the hull is mapped to a very non-convex shape; the part between points M and N shows clearly that the hull becomes curved in this new space. Therefore, starting out from the PR curve, there is no simple linear structure as the one we had in the ROC plane.\n",
    "> Indeed, since the mapping is $x'= y$ and $y'= y/(y+x/r)$, any straight line $y = ax+ b$ becomes, in primed variables,\n",
    "\n",
    "$$y'= \\frac{x'}{\\displaystyle x'+ \\frac 1r (\\frac ya - b)} =  \\frac{1}{\\displaystyle 1+ \\frac 1{ra} - \\frac{b}{rx'}}$$"
   ]
  },
  {
   "cell_type": "markdown",
   "id": "6292a968",
   "metadata": {},
   "source": [
    "The imbalance issue is partially fixed in the next section."
   ]
  },
  {
   "cell_type": "markdown",
   "id": "77b2bada",
   "metadata": {},
   "source": [
    "---"
   ]
  },
  {
   "cell_type": "markdown",
   "id": "8049d57f",
   "metadata": {},
   "source": [
    "# Advanced topic: harmonic precision and recall"
   ]
  },
  {
   "cell_type": "markdown",
   "id": "86225f17",
   "metadata": {},
   "source": [
    "## What is a baseline to compare models?"
   ]
  },
  {
   "cell_type": "markdown",
   "id": "5b7b7826",
   "metadata": {},
   "source": [
    "In the ROC case, the family of random classifiers corresponds to the 45 degree line and it is a universal baseline.\n",
    "\n",
    "In the PR case, we don't have that. Instead, we know the \"worst\" classifier is the one in the bottom right-hand corner of the PR plane, namely the \"all-positives\" model predicting $\\hat y=1$ for all $x$, which has recall equal to 1 and precision equal to $\\pi_1 = \\mathbb P(Y=1)$. This model has an $F_1$ score of\n",
    "\n",
    "$$(F_1)_\\mathrm{baseline} = \\frac{2\\pi_1}{1+\\pi_1}$$"
   ]
  },
  {
   "cell_type": "markdown",
   "id": "eacd5b8b",
   "metadata": {},
   "source": [
    "**If the metric we care the most about is $F_1$**, (as is the assumption in this section), then there is no point in choosing a model with $F_1 < (F_1)_\\mathrm{baseline}$. This constraint actually splits the PR plane into two components, separated by\n",
    "\n",
    "$$F_1 = (F_1)_\\mathrm{baseline}\\quad \\Rightarrow\\quad \\frac{1}{\\mathrm{Precision}} + \\frac{1}{\\mathrm{Recall}} = 1 + \\frac{1}{\\pi_1}$$"
   ]
  },
  {
   "cell_type": "code",
   "execution_count": 55,
   "id": "61691675",
   "metadata": {},
   "outputs": [
    {
     "name": "stderr",
     "output_type": "stream",
     "text": [
      "<ipython-input-55-e47806ebc338>:13: RuntimeWarning: divide by zero encountered in true_divide\n",
      "  frontier = np.where(xaxis < pi,1, 1/(1 + 1/pi - 1/xaxis))\n"
     ]
    },
    {
     "data": {
      "image/png": "[encoded data removed]",
      "text/plain": [
       "<Figure size 360x360 with 1 Axes>"
      ]
     },
     "metadata": {
      "needs_background": "light"
     },
     "output_type": "display_data"
    }
   ],
   "source": [
    "plt.subplots(figsize=(5,5))\n",
    "\n",
    "plt.plot(rec, prec, label='Test PR')\n",
    "\n",
    "# build baseline model\n",
    "pi = y_test.mean()\n",
    "\n",
    "baseline_rec = np.linspace(pi, 1)\n",
    "baseline_prec =  1/(1 + 1/pi - 1/baseline_rec)\n",
    "\n",
    "# for plotting purposes\n",
    "xaxis = np.linspace(0,1)\n",
    "frontier = np.where(xaxis < pi,1, 1/(1 + 1/pi - 1/xaxis))\n",
    "\n",
    "plt.fill_between(xaxis, 1, frontier, color='green', alpha=0.1, label='High F1')\n",
    "plt.fill_between(xaxis, 0, frontier, color='red', alpha=0.1, label='Low F1')\n",
    "\n",
    "plt.plot(baseline_rec, baseline_prec, label='Iso-F1 frontier', linestyle='--', color='black')\n",
    "plt.legend(loc='lower left')\n",
    "\n",
    "plt.xlabel(\"Recall\")\n",
    "plt.ylabel(\"Precision\")\n",
    "plt.show()"
   ]
  },
  {
   "cell_type": "markdown",
   "id": "8a127dd0",
   "metadata": {},
   "source": [
    "In this sense, all classifiers lying in the red zone are worse than the all-positive one. We want to find models which somehow maximize our \"presence\" in the green region."
   ]
  },
  {
   "cell_type": "markdown",
   "id": "7af16b19",
   "metadata": {},
   "source": [
    "> This discussion assumes we want to maximize $F_1$. One could define analogous Iso-$F_\\beta$ curves for other use cases."
   ]
  },
  {
   "cell_type": "markdown",
   "id": "0762f573",
   "metadata": {},
   "source": [
    "> By symmetry of the hyperbola, we see that models with $\\mathrm{Recall} < \\pi_1$ are completely excluded, because all of them have $F_1$ smaller than the baseline one."
   ]
  },
  {
   "cell_type": "markdown",
   "id": "853d4c72",
   "metadata": {},
   "source": [
    "## How can we fix the imbalance problem?\n"
   ]
  },
  {
   "cell_type": "markdown",
   "id": "125b2a32",
   "metadata": {},
   "source": [
    "The main issue that PR has is imbalance. Somehow we want to create a universal baseline which allows us to compare eg. areas under the curve across datasets in a meaningful way. It turns out we can do this with a proper **rescaling** of the precision and recall metrics."
   ]
  },
  {
   "cell_type": "markdown",
   "id": "01e77396",
   "metadata": {},
   "source": [
    "**Def [harmonic rescaling]**. Let $a, b$ with $b>a>0$ be two real paramters. The harmonic rescaling of a number $x \\neq 0$ betweeen $a$ and $b$ is\n",
    "\n",
    "$$\\mathrm{hScale}(x; a, b) = \\frac{1/x-1/a}{1/b-1/a}$$"
   ]
  },
  {
   "cell_type": "markdown",
   "id": "e48018a4",
   "metadata": {},
   "source": [
    "Notice that this is different from a linear rescaling $(x-a)/(b-a)$ (in fact, the harmonically scaled variable is larger than its linear counterpart) but both make it so that the variable takes the value 0 at $x=a$ and 1 at $x=b$."
   ]
  },
  {
   "cell_type": "code",
   "execution_count": 56,
   "id": "2ee8aa59",
   "metadata": {},
   "outputs": [
    {
     "data": {
      "image/png": "[encoded data removed]",
      "text/plain": [
       "<Figure size 432x288 with 1 Axes>"
      ]
     },
     "metadata": {
      "needs_background": "light"
     },
     "output_type": "display_data"
    }
   ],
   "source": [
    "a, b = 6, 12\n",
    "x = np.linspace(a, b)\n",
    "plt.plot(x, (x-a)/(b-a), label='Linar rescaling')\n",
    "plt.plot(x, (1/x-1/a)/(1/b-1/a), label='Harmonic rescaling')\n",
    "plt.legend()\n",
    "plt.show()"
   ]
  },
  {
   "cell_type": "markdown",
   "id": "1a5c59e4",
   "metadata": {},
   "source": [
    "**Def [harmonic precision & recall]** Let $\\pi_1 = \\mathbb P (y=1)$ be the prevalence of class 1. The harmonic precision and recall are defined as\n",
    "\n",
    "$$\\boxed{\\mathrm{hPrecision} := \\mathrm{hScale}(\\mathrm{Precision}; a=\\pi_1, b=1)}$$\n",
    "$$\\boxed{\\mathrm{hRecall} := \\mathrm{hScale}(\\mathrm{Recall}; a=\\pi_1, b=1)}$$"
   ]
  },
  {
   "cell_type": "markdown",
   "id": "750b8e1e",
   "metadata": {},
   "source": [
    "Notice that this will map precision from $[\\pi_1,1]$ into $[0,1]$ perfectly. For recall, there are two domains: the part with recall in $[0, \\pi_1]$ will be mapped to negative harmonic recall, whereas the region $[\\pi_1, 1]$ will be mapped to positive harmonic recalls."
   ]
  },
  {
   "cell_type": "markdown",
   "id": "fd71ce76",
   "metadata": {},
   "source": [
    "> Again, in the situation where $F_1$ is our reference metric, it is OK to ignore the negative harmonic recall region, since all models in this region perform worse than the baseline model."
   ]
  },
  {
   "cell_type": "markdown",
   "id": "e646ef21",
   "metadata": {},
   "source": [
    "Because of that, the $y$-axis intercept (ie. the point where $\\mathrm{hRecall}=0$) happens not at $\\mathrm{hPrecision} = 1$, but at some point between 0 and 1."
   ]
  },
  {
   "cell_type": "code",
   "execution_count": 57,
   "id": "9310c53a",
   "metadata": {},
   "outputs": [],
   "source": [
    "def harm_scale(x, a, b):\n",
    "\n",
    "    from warnings import catch_warnings, simplefilter\n",
    "    \n",
    "    with catch_warnings():\n",
    "        simplefilter(\"ignore\")\n",
    "        res = (x-a)*b/(x* (b-a))\n",
    "    return res\n",
    "\n",
    "def from_pr_to_harmonic_pr(rec, prec, r):\n",
    "    \n",
    "    pi1 = r/(r+1)\n",
    "    hprec = harm_scale(prec, pi1, 1)\n",
    "    hrec  = harm_scale(rec, pi1, 1)\n",
    "    \n",
    "    # restrict to [0,1]\n",
    "    restriction = hrec >= 0\n",
    "    hrec, hprec = hrec[restriction], hprec[restriction]\n",
    "    \n",
    "    return hrec, hprec\n",
    "\n",
    "\n",
    "def from_roc_to_harmonic_pr(fpr, tpr, r):\n",
    "    \n",
    "    rec, prec = from_roc_to_pr(fpr, tpr, r)\n",
    "\n",
    "    return from_pr_to_harmonic_pr(rec, prec, r)\n",
    "\n",
    "\n",
    "def harmonic_precision_recall(y_true, y_pred):\n",
    "    \n",
    "    from sklearn.metrics import roc_curve, precision_recall_curve\n",
    "    \n",
    "    prec, rec, thresh = precision_recall_curve(y_true, y_pred)\n",
    "\n",
    "    r = (y_true==1).sum()/(y_true==0).sum()\n",
    "    pi1 = r/(r+1)\n",
    "    \n",
    "    hprec = harm_scale(prec, pi1, 1)\n",
    "    hrec  = harm_scale(rec, pi1, 1)\n",
    "    \n",
    "    # restrict to [0,1]\n",
    "    restriction = hrec >= 0\n",
    "    hrec, hprec, thresh = hrec[restriction], hprec[restriction], thresh[restriction[:-1]]\n",
    "    \n",
    "    return hprec, hrec, thresh\n",
    "\n",
    "def plot_harmonic_precision_recall(y_true, y_pred, ax, label=False):\n",
    "    \n",
    "    from sklearn.metrics import auc\n",
    "    \n",
    "    hprec, hrec, _ = harmonic_precision_recall(y_true, y_pred)\n",
    "    area = auc(hrec, hprec)\n",
    "    \n",
    "    ax.plot(hrec,hprec, label='hPR (area={0:.2f})'.format(area))\n",
    "    \n",
    "    x = np.linspace(0,1)\n",
    "    if label:\n",
    "        ax.plot(x,1-x, linestyle='--', color= 'gray', label='All-positive')\n",
    "    else:\n",
    "        ax.plot(x,1-x, linestyle='--', color= 'gray')\n",
    "    ax.set_xlim(-0.05,1.05)"
   ]
  },
  {
   "cell_type": "code",
   "execution_count": 58,
   "id": "442cf3cb",
   "metadata": {},
   "outputs": [
    {
     "data": {
      "image/png": "[encoded data removed]",
      "text/plain": [
       "<Figure size 360x360 with 1 Axes>"
      ]
     },
     "metadata": {
      "needs_background": "light"
     },
     "output_type": "display_data"
    }
   ],
   "source": [
    "plt.subplots(figsize=(5,5))\n",
    "\n",
    "# calculate harmonic PR\n",
    "hrec, hprec = from_roc_to_harmonic_pr(fpr, tpr, r)\n",
    "hrec_hull, hprec_hull = from_roc_to_harmonic_pr(fpr_hull, tpr_hull, r)\n",
    "hrec_hull_interp, hprec_hull_interp = from_roc_to_harmonic_pr(x_hull, y_hull, r)\n",
    "\n",
    "plt.plot(hrec, hprec, label='Original')\n",
    "plt.scatter(hrec_hull, hprec_hull, color='orange', marker='o')\n",
    "plt.plot(hrec_hull_interp, hprec_hull_interp, color='orange', linestyle='--', label='PR hull')\n",
    "\n",
    "plt.xlabel('Harmonic recall'); plt.ylabel('Harmonic precision')\n",
    "plt.title('Harmonic PR curve')\n",
    "plt.legend()\n",
    "plt.show()"
   ]
  },
  {
   "cell_type": "markdown",
   "id": "3e4c090e",
   "metadata": {},
   "source": [
    "We find a very interesting fact: in this plane, **the (ROC) convex hull is mapped to the (harmonic PR) convex hull!** This is a consequence of the more general fact that **straight lines in the ROC plane are straight lines in the harmonic PR plane**."
   ]
  },
  {
   "cell_type": "markdown",
   "id": "c558f658",
   "metadata": {},
   "source": [
    "We prove this in the Theorem below:\n"
   ]
  },
  {
   "cell_type": "markdown",
   "id": "90907577",
   "metadata": {},
   "source": [
    "**Theorem.** Consider two classifiers $c_A$ and $c_B$ with coordinates $(\\mathrm{hRecall_A, hPrecision_A})$ and $(\\mathrm{hRecall_B, hPrecision_B})$ in the harmonic PR plane. Then, for any point in the segment between $c_A$ and $c_B$, with coordinates $(\\mathrm{hRecall_*, hPrecision_*})$, there is a classifier $c_*$ which can be obtained as follows.\n",
    "\n",
    "First, let \n",
    "\n",
    "$$\\displaystyle \\mu = \\mathrm{\\frac{hRecall_*-hRecall_B}{hRecall_A - hRecall_B}} = \\mathrm{\\frac{hPrecision_*-hPrecision_B}{hPrecision_A - hPrecision_B}}$$ \n",
    "\n",
    "(so that $c_*$ is at a normalized distance $\\mu$ from $c_B$ and $1-\\mu$ from $c_A$). Also let \n",
    "\n",
    "$$\\lambda = \\frac{\\mu \\mathrm{TPR_B}}{\\mu \\mathrm{TPR_B} + (1-\\mu) \\mathrm{TPR_A}}$$\n",
    "\n",
    "Then, the classifier given by\n",
    "\n",
    "$$c_*(x) = \\begin{cases}\n",
    "c_A(x) & \\mbox{with probability}\\; \\lambda\\\\\n",
    "c_B(x) & \\mbox{with probability}\\;1-\\lambda\n",
    "\\end{cases}$$\n",
    "\n",
    "has the desired values for $\\mathrm{hRecall, hPrecision}$. As we saw in the ROC session, the classifier above is one in the straight line segment between $c_A$ and $c_B$ in the ROC plane."
   ]
  },
  {
   "cell_type": "markdown",
   "id": "6c3cf56f",
   "metadata": {},
   "source": [
    "*Proof*: we start by noticing that\n",
    "\n",
    "$$\\mathrm{hPrecision = 1 - \\frac{FPR}{TPR}},$$ \n",
    "\n",
    "which is easy to prove by using the fact that\n",
    "\n",
    "$$\\mathrm{Precision} = \\frac{\\mathrm{TPR}}{\\mathrm{TPR}+\\mathrm{FPR}/r}$$\n",
    "\n",
    "(where $r = \\mathbb P(Y=1)/\\mathbb P(Y=0) = \\pi/(1-\\pi)$ is the imbalance ratio and  $\\pi = \\mathbb P(Y=1)$ is the prevalence).\n",
    "Now, from our discussion on the ROC curve, we know the classifier $c_*$ built above has a false positive rate of\n",
    "\n",
    "$$\\mathrm{FPR}[c_*] = \\lambda \\mathrm{FPR_A} + (1-\\lambda) \\mathrm{ FPR_B},$$ \n",
    "\n",
    "and analogously for the true positive rate. Then, its harmonic precision equals (we will only do the derivation for precision; that of recall follows analogously)\n",
    "\n",
    "$$\\begin{align}\n",
    "\\mathrm{hPrecision}[c_*] &= 1 - \\frac{\\mathrm{TPR}[c_*]}{\\mathrm{FPR}[c_*]}\\\\\n",
    "&= 1 - \\frac{\\lambda \\mathrm{FPR_A} + (1-\\lambda) \\mathrm{FPR_B}}{\\lambda \\mathrm{TPR_A} + (1-\\lambda) \\mathrm{TPR_B}}\\\\\n",
    "&=\\frac{\\lambda \\mathrm{TPR_A} + (1-\\lambda) \\mathrm{TPR_B} -\\lambda \\mathrm{FPR_A} - (1-\\lambda) \\mathrm{FPR_B}}{\\lambda \\mathrm{TPR_A} + (1-\\lambda) \\mathrm{TPR_B}}\\\\\n",
    "&= \\frac{1}{\\lambda \\mathrm{TPR_A} + (1-\\lambda) \\mathrm{TPR_B}} \\left[ \\lambda \\mathrm{TPR_A} \\left( 1 - \\mathrm{\\frac{TPR_A}{FPR_A}} \\right) + (1-\\lambda) \\mathrm{TPR_B} \\left( 1 - \\mathrm{\\frac{TPR_B}{FPR_B}} \\right) \\right]\\\\\n",
    "&= \\frac{\\lambda \\mathrm{TPR_A}}{\\lambda \\mathrm{TPR_A} + (1-\\lambda) \\mathrm{TPR_B}} \\mathrm{hPrecision_A} + \\frac{(1-\\lambda) \\mathrm{TPR_B}}{\\lambda \\mathrm{TPR_A} + (1-\\lambda) \\mathrm{TPR_B}} \\mathrm{hPrecision_B}\\\\\n",
    "&= \\mu \\, \\mathrm{hPrecision_A} + (1-\\mu) \\, \\mathrm{hPrecision_B}\n",
    "\\end{align}$$\n",
    "\n",
    "where we have inverted the definition of $\\lambda$ to give \n",
    "\n",
    "$$\\mu = \\frac{\\lambda \\mathrm{TPR_A}}{\\lambda \\mathrm{TPR_A} + (1-\\lambda) \\mathrm{TPR_B}}.$$\n",
    "\n",
    "Finally, applying the original definition of $\\mu$, we find $\\mathrm{hPrecision}[c_*] = \\mathrm{hPrecision}_*$ as claimed."
   ]
  },
  {
   "cell_type": "markdown",
   "id": "4c9c2644",
   "metadata": {},
   "source": [
    "The cool thing about this is that we can construct hulls in the harmonic PR plane in the exact same way we do for the ROC plane, and they will still be meaningful."
   ]
  },
  {
   "cell_type": "markdown",
   "id": "9dcbf5a5",
   "metadata": {},
   "source": [
    "*Exercise*: we showed above that \n",
    "\n",
    "$$\\mathrm{hPrecision} = 1 - \\frac{\\mathrm{FPR}}{\\mathrm{TPR}}.$$\n",
    "\n",
    "Show analogously that\n",
    "\n",
    "$$\\mathrm{hRecall} = 1 - \\frac{\\pi}{1-\\pi} \\mathrm{\\frac{FNR}{TPR}}.$$ \n",
    "\n",
    "*Hint*: use that $\\mathrm{FNR + TPR} = 1$. Can you see why?"
   ]
  },
  {
   "cell_type": "markdown",
   "id": "2fd1ded0",
   "metadata": {},
   "source": [
    "### Baseline for the harmonic PR plane"
   ]
  },
  {
   "cell_type": "markdown",
   "id": "c0960ed0",
   "metadata": {},
   "source": [
    "It becomes clear from the previous discussion that, **in the scenario we want to find classifiers which maximize $F_1$**, our baseline is the all-positive classifier lying in the bottom right corner of the PR plane, as well as all classifiers in the boundary parabola which share the same $F_1$ value with it."
   ]
  },
  {
   "cell_type": "markdown",
   "id": "32c7456b",
   "metadata": {},
   "source": [
    "Below, we plot our old friend, the logistic regression model; an improved gradient boosting model; and the baseline."
   ]
  },
  {
   "cell_type": "code",
   "execution_count": 59,
   "id": "d81d7241",
   "metadata": {},
   "outputs": [],
   "source": [
    "# Train better model for the sake of comparison\n",
    "hist_model = HistGradientBoostingClassifier()\n",
    "hist_model.fit(X_train, y_train)\n",
    "y_test_pred_hist = hist_model.predict_proba(X_test)[:,1]"
   ]
  },
  {
   "cell_type": "code",
   "execution_count": 60,
   "id": "77e4dcbb",
   "metadata": {},
   "outputs": [
    {
     "data": {
      "image/png": "[encoded data removed]",
      "text/plain": [
       "<Figure size 864x288 with 3 Axes>"
      ]
     },
     "metadata": {
      "needs_background": "light"
     },
     "output_type": "display_data"
    }
   ],
   "source": [
    "fig, ax = plt.subplots(figsize=(12,4), ncols=3)\n",
    "\n",
    "## ROC plane\n",
    "RocCurveDisplay.from_predictions(y_test, y_test_pred, ax=ax[0], name='Log. Reg.')\n",
    "RocCurveDisplay.from_predictions(y_test, y_test_pred_hist, ax=ax[0], name='Boosting')\n",
    "x = np.linspace(0,1)\n",
    "ax[0].plot(x,x, linestyle='--', color='gray', label='Baseline random model' )\n",
    "ax[0].set_title(\"ROC curve\")\n",
    "ax[0].legend()\n",
    "\n",
    "## PR plane\n",
    "# PR curve\n",
    "prec, rec, _ = precision_recall_curve(y_test, y_test_pred)\n",
    "prec_hist, rec_hist, _ = precision_recall_curve(y_test, y_test_pred_hist)\n",
    "\n",
    "# baseline curve\n",
    "pi = y_test.mean()\n",
    "x = np.linspace(pi,1)\n",
    "y = 1/(-1/x + (1+1/pi))\n",
    "\n",
    "ax[1].plot(rec, prec, label='Log. Reg.')\n",
    "ax[1].plot(rec_hist, prec_hist, label='Boosting')\n",
    "ax[1].plot(x, y, linestyle='--', color='gray', label='Baseline F1 model')\n",
    "ax[1].set_title(\"PR curve\")\n",
    "ax[1].set_xlabel(\"Recall\"); ax[1].set_ylabel(\"Precision\")\n",
    "ax[1].legend()\n",
    "\n",
    "## harmonic PR plane\n",
    "plot_harmonic_precision_recall(y_test, y_test_pred, ax[2])\n",
    "plot_harmonic_precision_recall(y_test, y_test_pred_hist, ax[2])\n",
    "ax[2].set_title(\"Harmonic PR curve\")\n",
    "ax[2].set_xlabel(\"Harmonic recall\"); ax[2].set_ylabel(\"Harmonic precision\")\n",
    "ax[2].legend()\n",
    "\n",
    "plt.tight_layout()\n",
    "plt.show()"
   ]
  },
  {
   "cell_type": "markdown",
   "id": "0d799e06",
   "metadata": {},
   "source": [
    "Notice how the gradient boosting model is evidently superior to the logistic regression model, and how the analysis is simpler in the harmonic PR plane. In fact, its area is about twice as large as that of the logistic regression - which leads us to our next discussion, the interpretation of this area."
   ]
  },
  {
   "cell_type": "markdown",
   "id": "a98f2ff8",
   "metadata": {},
   "source": [
    "> Before we finish: we leave a `sklearn`-friendly metric which can be used for model evaluation"
   ]
  },
  {
   "cell_type": "code",
   "execution_count": 61,
   "id": "f3d46979",
   "metadata": {},
   "outputs": [],
   "source": [
    "def harmonic_auc(y_true, y_probs):\n",
    "    \"\"\"Calculates the area under the harmonic PR curve\"\"\"\n",
    "    from sklearn.metrics import auc\n",
    "    \n",
    "    hprec, hrec, _ = harmonic_precision_recall(y_true, y_probs)\n",
    "    return auc(hrec, hprec)"
   ]
  },
  {
   "cell_type": "code",
   "execution_count": null,
   "id": "5773b358",
   "metadata": {},
   "outputs": [],
   "source": [
    "def roc_pr_hpr_report(y_true, y_probs, ascending_gain=False):\n",
    "    \n",
    "    fig, ax = plt.subplots(figsize=(12,4), ncols=3)\n",
    "\n",
    "    ## ROC plane (+ gain curve)\n",
    "    plot_roc_and_gain(y_true, y_probs, ax=ax[0], ascending=ascending_gain)\n",
    "    ax[0].set_title(\"ROC + gain curve\")\n",
    "    ax[0].legend()\n",
    "\n",
    "    ## PR plane\n",
    "    # PR curve\n",
    "    prec, rec, _ = precision_recall_curve(y_true, y_probs)\n",
    "\n",
    "    # baseline curve\n",
    "    pi = y_true.mean()\n",
    "    x = np.linspace(pi,1)\n",
    "    y = 1/(-1/x + (1+1/pi))\n",
    "\n",
    "    ax[1].plot(rec, prec, label='Model')\n",
    "    ax[1].plot(x, y, linestyle='--', color='gray', label='Baseline F1 model')\n",
    "    ax[1].set_title(\"PR curve\")\n",
    "    ax[1].set_xlabel(\"Recall\"); ax[1].set_ylabel(\"Precision\")\n",
    "    ax[1].legend()\n",
    "\n",
    "    ## harmonic PR plane\n",
    "    plot_harmonic_precision_recall(y_true, y_probs, ax[2])\n",
    "    ax[2].set_title(\"Harmonic PR curve\")\n",
    "    ax[2].set_xlabel(\"Harmonic recall\"); ax[2].set_ylabel(\"Harmonic precision\")\n",
    "    ax[2].legend()\n",
    "\n",
    "    plt.tight_layout()\n",
    "    plt.show()"
   ]
  },
  {
   "cell_type": "markdown",
   "id": "21c212db",
   "metadata": {},
   "source": [
    "### Harmonic $F_\\beta$ & the area under the harmonic PR curve"
   ]
  },
  {
   "cell_type": "markdown",
   "id": "d241c8d3",
   "metadata": {},
   "source": [
    "**Definition.** The harmonic $F_\\beta$ score is the harmonic rescaling of $F_\\beta$:\n",
    "\n",
    "$$hF_\\beta = \\mathrm{hScale}(F_\\beta, \\pi_1, 1)$$"
   ]
  },
  {
   "cell_type": "markdown",
   "id": "31207ed9",
   "metadata": {},
   "source": [
    "**Lemma**. $hF_\\beta$ is linear as a function of harmonic precision and recall: \n",
    "\n",
    "$$\\boxed{hF_\\beta = \\frac{1}{1+\\beta^2} (\\mathrm{hPrecision} + \\beta^2 \\mathrm{hRecall})}$$"
   ]
  },
  {
   "cell_type": "markdown",
   "id": "be781cf1",
   "metadata": {},
   "source": [
    "> Proof is left to the reader! :)"
   ]
  },
  {
   "cell_type": "markdown",
   "id": "8d613db1",
   "metadata": {},
   "source": [
    "With the definition of $hF_\\beta$, we can prove a very interesting result relating the area under the harmonic PR curve (AUhPR) with the expected $hF_\\beta$:"
   ]
  },
  {
   "cell_type": "markdown",
   "id": "632c3ec7",
   "metadata": {},
   "source": [
    "**Theorem.** Under some technical assumptions, **$\\mathbb{E}[hF_\\beta]$ is a linear function of AUhPR**, and thus **maximizing AUhPR is a strategy to finding the best model**."
   ]
  },
  {
   "cell_type": "markdown",
   "id": "91f760e0",
   "metadata": {},
   "source": [
    "The proof is technical and left in the Appendix."
   ]
  },
  {
   "cell_type": "markdown",
   "id": "881fe08d",
   "metadata": {},
   "source": [
    "## Takeaways"
   ]
  },
  {
   "cell_type": "markdown",
   "id": "55a206a8",
   "metadata": {},
   "source": [
    "We have introduced harmonic scalings of precision and recall as new versions of these variables which inherit (partially) some of the good properties of the ROC curve: convexity, existence of a baseline, and probabilistically interpretable area. "
   ]
  },
  {
   "cell_type": "markdown",
   "id": "f9fe4937",
   "metadata": {},
   "source": [
    "---"
   ]
  },
  {
   "cell_type": "markdown",
   "id": "7511b835",
   "metadata": {},
   "source": [
    "# Appendix"
   ]
  },
  {
   "cell_type": "markdown",
   "id": "5d546358",
   "metadata": {},
   "source": [
    "**Theorem.** Under some technical assumptions, **$\\mathbb{E}[hF_\\beta]$ is a linear function of AUhPR**, and thus **maximizing AUhPR is a strategy to finding the best model**."
   ]
  },
  {
   "cell_type": "markdown",
   "id": "33596cff",
   "metadata": {},
   "source": [
    "The proof is split into two parts:\n",
    "* First we construct a (simplified) probability measure, that facilitates the calculation of the expectation\n",
    "* Then, we actually calculate this expectation and show that it equals the area under the harmonic PR curve"
   ]
  },
  {
   "cell_type": "markdown",
   "id": "ea2f4a25",
   "metadata": {},
   "source": [
    "*Review: probability measures*. In probability, one usually considers a cumulative density function (CDF) $F$ such that \n",
    "\n",
    "$$\\lim_{x\\to-\\infty} F(x) = 0,\\qquad \\lim_{x\\to\\infty} F(x) = 1$$ \n",
    "\n",
    "and is right-continuous. The measure is then $dF(x) = f(x) dx$ where $f(x) = F'(x)$, when it exists, is called the probabiliity density function (PDF). Notice that, if one is given some function $G$, it can be made into a measure if it is (1) at least right-continuous (2) monotonically increasing and (3) it is bounded. Under these assumptions, $G$ converges for $x \\to \\pm\\infty$ and we can construct a measure from it."
   ]
  },
  {
   "cell_type": "markdown",
   "id": "7ccba0ce",
   "metadata": {},
   "source": [
    "*Proof of part 1 (building a probability measure)*\n",
    "Let $\\pi = \\mathbb P(Y=1)$ and \n",
    "\n",
    "$$\\Delta(\\lambda) = \\frac{\\mathrm{hPrecision}(\\lambda)}{1-\\pi} - \\frac{\\mathrm{hRecall}(\\lambda)}{\\pi}.$$\n",
    "\n",
    "This function is bounded: since $\\mathrm{hPrecision} = 0$ and $\\mathrm{hRecall} = 1$ in the bottom-right corner, $\\Delta = -1/\\pi$ there; on the other hand, on the upper left corner $\\mathrm{hRecall} = 0$, and harmonic precision reaches a value we will call $y_0 \\in [\\pi, 1]$, and so at that point $\\Delta = y_0/(1-\\pi)$.\n",
    "\n",
    "We shall prove that, as the threshold $\\lambda$ increases, $\\Delta$ grows at every point, namely if $\\lambda'> \\lambda$,\n",
    "\n",
    "$$\\Delta(\\lambda ')- \\Delta(\\lambda) \\geq 0$$."
   ]
  },
  {
   "cell_type": "markdown",
   "id": "5f5ea63d",
   "metadata": {},
   "source": [
    "Using that\n",
    "\n",
    "$$\\mathrm{hPrecision = 1- \\frac{FPR}{TPR}},\\qquad \\mathrm{hRecall} = - \\frac{\\pi}{1-\\pi} \\frac{1}{\\mathrm{TPR}} - \\mathrm{const.}$$\n",
    "\n",
    "We obtain\n",
    "\n",
    "$$\\begin{align}\n",
    "\\Delta(\\lambda') - \\Delta(\\lambda) &=  \\frac{1}{1-\\pi} \\left(\\mathrm{ - \\frac{FPR'}{TPR'} + \\frac{FPR}{TPR}} \\right) - \\frac{1}{1-\\pi} \\left(\\mathrm{-\\frac{1}{TPR'} + \\frac{1}{TPR}    }\\right)\n",
    "\\end{align}$$\n",
    "\n",
    "Adding and subtracting $\\mathrm{FPR/TPR'}$ to the expression inside the parenthesis, we get\n",
    "\n",
    "$$\\Delta(\\lambda') - \\Delta(\\lambda) =  \\frac{1}{1-\\pi} \\left[ \\mathrm{\\frac{(1-FPR)(TPR-TPR')}{TPR\\, TPR'} + \\frac{FPR-FPR'}{TPR}    } \\right]$$\n",
    "\n",
    "The RHS is positive. To see this, notice we are now in the ROC plane, going from a lower threshold point $\\mathrm{(FPR, TPR)}$ to $\\mathrm{(FPR', TPR')}$ - but the ROC curve runs \"from northeast to southwest\", and so $\\mathrm{TPR - TPR'} \\geq 0$ and $\\mathrm{FPR - FPR'} \\geq 0$. Also, $1 - \\mathrm{FPR} \\geq 0$ since $\\mathrm{FPR} \\in [0,1]$, and all quantities are non-negative. Hence, we have proven that $\\lambda \\mapsto \\Delta(\n",
    "\\lambda)$ increases. It is bounded by construction, and continuous, and so can be made into a measure.\n",
    "\n",
    "**We will assume $\\Delta$ is uniformly distributed over** $[-1/\\pi, y_0/(1-\\pi)]$. If we do so, we can build a measure from simple normalization:\n",
    "\n",
    "$$\\frac{d\\Delta}{\\displaystyle \\int_{-1/\\pi}^{y_0/(1-\\pi)} d\\Delta} = \\frac{d\\Delta}{\\displaystyle \\frac{y_0}{1-\\pi} + \\frac{1}{\\pi}}$$ "
   ]
  },
  {
   "cell_type": "markdown",
   "id": "3b72ca6a",
   "metadata": {},
   "source": [
    "> Recall: a variable $X$ uniformly distributed on an interval $[a,b]$ (denoted by $X\\sim\\mathrm{Uniform}([a,b])$) has PDF $f(x) = \\frac{1}{b-a}$ or, equivalently, our probability measure is $dF(x) = \\frac{dx}{b-a}$ with support on $[a,b]$.\n",
    "\n",
    "> We do we assume this uniformity? Honestly, because it makes our calculations easier; it is also the least informative prior we can put on our knowledge of $\\Delta$. In principle, we could have chosen a different PDF for it (with a function $f(\\Delta)$ which integrates to 1), but for now it suffices to consider the uniform case."
   ]
  },
  {
   "cell_type": "markdown",
   "id": "35b4b3d3",
   "metadata": {},
   "source": [
    "*Proof of part 2 (calculate expectation)*: we can write $\\mathbb E[hF_\\beta]$ as\n",
    "\n",
    "$$\\mathbb E[hF_\\beta] = \\frac{1}{\\displaystyle \\left(\\frac{y_0}{1-\\pi} + \\frac{1}{\\pi} \\right)} \\int_{-1/\\pi}^{y_0/(1-\\pi)} hF_\\beta d\\Delta$$ \n",
    "\n",
    "Using that $hF_\\beta$ is linear in harmonic PR,\n",
    "\n",
    "$$hF_\\beta = \\frac{1}{1+\\beta^2} (\\mathrm{hPrecision} + \\beta^2 \\mathrm{hRecall}),$$\n",
    "\n"
   ]
  },
  {
   "cell_type": "markdown",
   "id": "eac1cb21",
   "metadata": {},
   "source": [
    "we can plug it in and calculate the integral. To avoid having both $\\mathrm{hPrecision}\\, d\\Delta$ and $\\mathrm{hRecall}\\, d\\Delta$ terms, we use a trick to make $\\Delta$ appear: from its definition, write\n",
    "\n",
    "$$\\mathrm{hRecall} = \\frac{\\pi}{1-\\pi} \\mathrm{hPrecision} - \\pi \\Delta$$\n",
    "\n",
    "so that we are left with one integral of the form $\\mathrm{hPrecision} \\, d\\Delta$ and another of $\\Delta \\, d\\Delta$, the latter which is trivially integrated to $\\Delta^2/2$. For the former one, again we use the definition of $\\Delta$ to write\n",
    "\n",
    "$$d\\Delta = \\frac{1}{1-\\pi} d\\mathrm{hPrecision} - \\frac{1}{\\pi} d\\mathrm{hRecall}$$\n",
    "\n",
    "and have\n",
    "\n",
    "$$\\begin{align}\n",
    "\\int \\mathrm{hPrecision} \\, d\\Delta &= \\frac{1}{1-\\pi} \\int \\mathrm{hPrecision} \\, d\\mathrm{hPrecision} - \\frac{1}{\\pi} \\int \\mathrm{hPrecision} \\, d\\mathrm{hRecall}\\\\\n",
    "&= \\frac{1}{1-\\pi} \\left[\\frac{\\mathrm{hPrecision}^2}{2}\\right] - \\frac{1}{\\pi} \\mathrm{AUhPR}\n",
    "\\end{align}$$"
   ]
  },
  {
   "cell_type": "markdown",
   "id": "853a01a5",
   "metadata": {},
   "source": [
    "where we have obtained the area under the harmonic PR curve in the last integral. Putting everything together through a lot of algebra yields\n",
    "\n",
    "$$\\mathbb E[hF_\\beta] = \\frac{\\displaystyle (1-\\pi+\\beta^2) \\left[\\mathrm{AUhPR} + \\frac{\\pi y_0^2 + \\beta^2 - \\pi \\beta^2}{2(1+\\beta^2)} \\right]}{(1+\\beta^2)(1 - \\pi + \\pi y_0)}$$"
   ]
  },
  {
   "cell_type": "markdown",
   "id": "6f47c1d8",
   "metadata": {},
   "source": [
    "This is a horrible expression, but it is **linear in AUhPR**, and that is what really matters. For any $\\beta$ we choose, the area under the harmonic PR curve will optimize its expected value."
   ]
  },
  {
   "cell_type": "markdown",
   "id": "d083b2cf",
   "metadata": {},
   "source": [
    "### References\n",
    "\n",
    "\n",
    "Peter A. Flach and Meelis Kull, *Precision-Recall-Gain Curves: PR Analysis Done Right*, NeurIPS 2015. http://people.cs.bris.ac.uk/~flach/PRGcurves//\n",
    "* In this original paper (and Supplementary material) the authors present what they call the precision/recall-gain (which we have renamed to harmonic precision/recall). Our chapter here was basically a rewriting, with some additional steps and interpretations."
   ]
  }
 ],
 "metadata": {
  "kernelspec": {
   "display_name": "Python 3",
   "language": "python",
   "name": "python3"
  },
  "language_info": {
   "codemirror_mode": {
    "name": "ipython",
    "version": 3
   },
   "file_extension": ".py",
   "mimetype": "text/x-python",
   "name": "python",
   "nbconvert_exporter": "python",
   "pygments_lexer": "ipython3",
   "version": "3.7.9"
  },
  "toc": {
   "base_numbering": 1,
   "nav_menu": {},
   "number_sections": true,
   "sideBar": true,
   "skip_h1_title": false,
   "title_cell": "Table of Contents",
   "title_sidebar": "Contents",
   "toc_cell": false,
   "toc_position": {},
   "toc_section_display": true,
   "toc_window_display": false
  }
 },
 "nbformat": 4,
 "nbformat_minor": 5
}
