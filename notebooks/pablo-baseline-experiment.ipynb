{
 "cells": [
  {
   "cell_type": "markdown",
   "metadata": {},
   "source": [
    "# Choosing a baseline model\n",
    "In this section we discuss what is usually the first stage in tackling an imbalanced classfication problem, namely, to choose a good enough baseline model so further modelling developments are to be compared with this **baseline** model. The discussion can be guided by the following driving questions:\n",
    "* What is the effect of class imbalance on different classification algorithms?\n",
    "* Is class imbalance really a problem when there is enough data?\n",
    "* What is the best benchmark model to start with? What does \"best\" actually mean in this situation?\n",
    "* What can be done to mitigate the effect of imbalance on specific algorithms?\n",
    "\n",
    "## Methodology\n",
    "We intend to study the behavior (in terms of binary classification metrics) of different classification algorithms under various imbalance scenarios.\n",
    "At this point we won't pay too much attention on optimizing the model's parameters. Rather, we will work with the vanilla versions of the models as we are interested in finding a \"quick\" generic approach to solving an imbalanced binary classification problem. \n",
    "\n",
    "The classical algorithm used for solving a binary classification problem is the Logistic Regression (citation needed!), two types of regularization (L1 and L2) will be considered to see the effect of regularization in the imbalanced case. On the other hand, it is also common to use tree-based ensemble methods to construct a model for binary classification. In this sense, we will also consider a couple of Tree ensemble models, such as Random Forests and Gradient Boosting Machines, such as `XGBoost` or `LGBM`.\n"
   ]
  },
  {
   "cell_type": "markdown",
   "metadata": {},
   "source": []
  }
 ],
 "metadata": {
  "kernelspec": {
   "display_name": "Python 3.8.9 64-bit",
   "language": "python",
   "name": "python3"
  },
  "language_info": {
   "name": "python",
   "version": "3.8.9"
  },
  "orig_nbformat": 4,
  "vscode": {
   "interpreter": {
    "hash": "31f2aee4e71d21fbe5cf8b01ff0e069b9275f58929596ceb00d14d90e3e16cd6"
   }
  }
 },
 "nbformat": 4,
 "nbformat_minor": 2
}
