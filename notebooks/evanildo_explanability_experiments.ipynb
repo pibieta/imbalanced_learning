{
 "cells": [
  {
   "cell_type": "markdown",
   "metadata": {
    "toc": true
   },
   "source": [
    "<h1>Table of Contents<span class=\"tocSkip\"></span></h1>\n",
    "<div class=\"toc\"><ul class=\"toc-item\"><li><span><a href=\"#Objetive\" data-toc-modified-id=\"Objetive-1\"><span class=\"toc-item-num\">1&nbsp;&nbsp;</span>Objetive</a></span></li><li><span><a href=\"#Experiment-Overview\" data-toc-modified-id=\"Experiment-Overview-2\"><span class=\"toc-item-num\">2&nbsp;&nbsp;</span>Experiment Overview</a></span></li></ul></div>"
   ]
  },
  {
   "cell_type": "markdown",
   "metadata": {},
   "source": [
    "# Explanations \n",
    "\n",
    "## Intro\n",
    "\n",
    "\n",
    "Modern day machine learning models can be very complex, having even millions of parameters and many mathematical operations coupling the input variables. For instance a model such as Rnadom Forest can contain hundreds of decision trees with variate deep that are combined to produce a single output number. Similarly, neural networks might have many layers that couple the input variable using a collecion of mathematical operations. In simpler models such as logistic regression, one can easily infer the impact of a particular feature looking at the related coeficient, such approach is impossible for hifh performance models such as multi-layer neural networks and random forest. \n",
    "\n",
    "In  high stakes situations such as credit risk modelling it is essencial not only produce good models but also to be able verify how the input features impact the predictions. For complex models, one can tackle this challege using the so called *explainers*. Many explainers are simpler models that locally approximate the predictions of more complex models. The SHAP (Shapley Additive Explanations) explainer lib, for instance, use ideias from game theory to quantify the impact of each feature. \n",
    "\n",
    "In mathematical terms, we want to undertand the impact of the vector input $x$ for the prediction produced by a complex model $f$ using a explanation model $g$.  This explanation model will be a linear function of a simplified binary input $z$, that is\n",
    "\n",
    "$$\n",
    "g(z) = \\phi_0 + \\sum_{i=1}^N \\phi_i z_i   \n",
    "$$\n",
    "where $z\\in \\{0,1\\}^N$, N is the number of features, and $\\phi_i \\in \\mathcal{R}$ is the feature impact. \n",
    "\n",
    "\n"
   ]
  },
  {
   "cell_type": "markdown",
   "metadata": {},
   "source": [
    "# Imports"
   ]
  },
  {
   "cell_type": "code",
   "execution_count": 35,
   "metadata": {},
   "outputs": [],
   "source": [
    "# basic imports\n",
    "\n",
    "import numpy as np\n",
    "import pandas as pd\n",
    "\n",
    "\n",
    "# specifc imports\n",
    "\n",
    "import optuna \n",
    "\n",
    "\n",
    "import plotly.express as px\n"
   ]
  },
  {
   "cell_type": "markdown",
   "metadata": {},
   "source": [
    "# Load datasets"
   ]
  },
  {
   "cell_type": "code",
   "execution_count": 2,
   "metadata": {},
   "outputs": [
    {
     "name": "stdout",
     "output_type": "stream",
     "text": [
      "(7027, 65)\n",
      "(7027, 65)\n"
     ]
    },
    {
     "data": {
      "text/html": [
       "<div>\n",
       "<style scoped>\n",
       "    .dataframe tbody tr th:only-of-type {\n",
       "        vertical-align: middle;\n",
       "    }\n",
       "\n",
       "    .dataframe tbody tr th {\n",
       "        vertical-align: top;\n",
       "    }\n",
       "\n",
       "    .dataframe thead th {\n",
       "        text-align: right;\n",
       "    }\n",
       "</style>\n",
       "<table border=\"1\" class=\"dataframe\">\n",
       "  <thead>\n",
       "    <tr style=\"text-align: right;\">\n",
       "      <th></th>\n",
       "      <th>X1</th>\n",
       "      <th>X2</th>\n",
       "      <th>X3</th>\n",
       "      <th>X4</th>\n",
       "      <th>X5</th>\n",
       "      <th>X6</th>\n",
       "      <th>X7</th>\n",
       "      <th>X8</th>\n",
       "      <th>X9</th>\n",
       "      <th>X10</th>\n",
       "      <th>...</th>\n",
       "      <th>X56</th>\n",
       "      <th>X57</th>\n",
       "      <th>X58</th>\n",
       "      <th>X59</th>\n",
       "      <th>X60</th>\n",
       "      <th>X61</th>\n",
       "      <th>X62</th>\n",
       "      <th>X63</th>\n",
       "      <th>X64</th>\n",
       "      <th>class</th>\n",
       "    </tr>\n",
       "  </thead>\n",
       "  <tbody>\n",
       "    <tr>\n",
       "      <th>0</th>\n",
       "      <td>0.200550</td>\n",
       "      <td>0.37951</td>\n",
       "      <td>0.39641</td>\n",
       "      <td>2.0472</td>\n",
       "      <td>32.3510</td>\n",
       "      <td>0.38825</td>\n",
       "      <td>0.249760</td>\n",
       "      <td>1.33050</td>\n",
       "      <td>1.1389</td>\n",
       "      <td>0.50494</td>\n",
       "      <td>...</td>\n",
       "      <td>0.121960</td>\n",
       "      <td>0.39718</td>\n",
       "      <td>0.87804</td>\n",
       "      <td>0.001924</td>\n",
       "      <td>8.4160</td>\n",
       "      <td>5.1372</td>\n",
       "      <td>82.658</td>\n",
       "      <td>4.4158</td>\n",
       "      <td>7.4277</td>\n",
       "      <td>0</td>\n",
       "    </tr>\n",
       "    <tr>\n",
       "      <th>1</th>\n",
       "      <td>0.209120</td>\n",
       "      <td>0.49988</td>\n",
       "      <td>0.47225</td>\n",
       "      <td>1.9447</td>\n",
       "      <td>14.7860</td>\n",
       "      <td>0.00000</td>\n",
       "      <td>0.258340</td>\n",
       "      <td>0.99601</td>\n",
       "      <td>1.6996</td>\n",
       "      <td>0.49788</td>\n",
       "      <td>...</td>\n",
       "      <td>0.121300</td>\n",
       "      <td>0.42002</td>\n",
       "      <td>0.85300</td>\n",
       "      <td>0.000000</td>\n",
       "      <td>4.1486</td>\n",
       "      <td>3.2732</td>\n",
       "      <td>107.350</td>\n",
       "      <td>3.4000</td>\n",
       "      <td>60.9870</td>\n",
       "      <td>0</td>\n",
       "    </tr>\n",
       "    <tr>\n",
       "      <th>2</th>\n",
       "      <td>0.248660</td>\n",
       "      <td>0.69592</td>\n",
       "      <td>0.26713</td>\n",
       "      <td>1.5548</td>\n",
       "      <td>-1.1523</td>\n",
       "      <td>0.00000</td>\n",
       "      <td>0.309060</td>\n",
       "      <td>0.43695</td>\n",
       "      <td>1.3090</td>\n",
       "      <td>0.30408</td>\n",
       "      <td>...</td>\n",
       "      <td>0.241140</td>\n",
       "      <td>0.81774</td>\n",
       "      <td>0.76599</td>\n",
       "      <td>0.694840</td>\n",
       "      <td>4.9909</td>\n",
       "      <td>3.9510</td>\n",
       "      <td>134.270</td>\n",
       "      <td>2.7185</td>\n",
       "      <td>5.2078</td>\n",
       "      <td>0</td>\n",
       "    </tr>\n",
       "    <tr>\n",
       "      <th>3</th>\n",
       "      <td>0.081483</td>\n",
       "      <td>0.30734</td>\n",
       "      <td>0.45879</td>\n",
       "      <td>2.4928</td>\n",
       "      <td>51.9520</td>\n",
       "      <td>0.14988</td>\n",
       "      <td>0.092704</td>\n",
       "      <td>1.86610</td>\n",
       "      <td>1.0571</td>\n",
       "      <td>0.57353</td>\n",
       "      <td>...</td>\n",
       "      <td>0.054015</td>\n",
       "      <td>0.14207</td>\n",
       "      <td>0.94598</td>\n",
       "      <td>0.000000</td>\n",
       "      <td>4.5746</td>\n",
       "      <td>3.6147</td>\n",
       "      <td>86.435</td>\n",
       "      <td>4.2228</td>\n",
       "      <td>5.5497</td>\n",
       "      <td>0</td>\n",
       "    </tr>\n",
       "    <tr>\n",
       "      <th>4</th>\n",
       "      <td>0.187320</td>\n",
       "      <td>0.61323</td>\n",
       "      <td>0.22960</td>\n",
       "      <td>1.4063</td>\n",
       "      <td>-7.3128</td>\n",
       "      <td>0.18732</td>\n",
       "      <td>0.187320</td>\n",
       "      <td>0.63070</td>\n",
       "      <td>1.1559</td>\n",
       "      <td>0.38677</td>\n",
       "      <td>...</td>\n",
       "      <td>0.134850</td>\n",
       "      <td>0.48431</td>\n",
       "      <td>0.86515</td>\n",
       "      <td>0.124440</td>\n",
       "      <td>6.3985</td>\n",
       "      <td>4.3158</td>\n",
       "      <td>127.210</td>\n",
       "      <td>2.8692</td>\n",
       "      <td>7.8980</td>\n",
       "      <td>0</td>\n",
       "    </tr>\n",
       "  </tbody>\n",
       "</table>\n",
       "<p>5 rows × 65 columns</p>\n",
       "</div>"
      ],
      "text/plain": [
       "         X1       X2       X3      X4       X5       X6        X7       X8  \\\n",
       "0  0.200550  0.37951  0.39641  2.0472  32.3510  0.38825  0.249760  1.33050   \n",
       "1  0.209120  0.49988  0.47225  1.9447  14.7860  0.00000  0.258340  0.99601   \n",
       "2  0.248660  0.69592  0.26713  1.5548  -1.1523  0.00000  0.309060  0.43695   \n",
       "3  0.081483  0.30734  0.45879  2.4928  51.9520  0.14988  0.092704  1.86610   \n",
       "4  0.187320  0.61323  0.22960  1.4063  -7.3128  0.18732  0.187320  0.63070   \n",
       "\n",
       "       X9      X10  ...       X56      X57      X58       X59     X60     X61  \\\n",
       "0  1.1389  0.50494  ...  0.121960  0.39718  0.87804  0.001924  8.4160  5.1372   \n",
       "1  1.6996  0.49788  ...  0.121300  0.42002  0.85300  0.000000  4.1486  3.2732   \n",
       "2  1.3090  0.30408  ...  0.241140  0.81774  0.76599  0.694840  4.9909  3.9510   \n",
       "3  1.0571  0.57353  ...  0.054015  0.14207  0.94598  0.000000  4.5746  3.6147   \n",
       "4  1.1559  0.38677  ...  0.134850  0.48431  0.86515  0.124440  6.3985  4.3158   \n",
       "\n",
       "       X62     X63      X64  class  \n",
       "0   82.658  4.4158   7.4277      0  \n",
       "1  107.350  3.4000  60.9870      0  \n",
       "2  134.270  2.7185   5.2078      0  \n",
       "3   86.435  4.2228   5.5497      0  \n",
       "4  127.210  2.8692   7.8980      0  \n",
       "\n",
       "[5 rows x 65 columns]"
      ]
     },
     "execution_count": 2,
     "metadata": {},
     "output_type": "execute_result"
    }
   ],
   "source": [
    "########################\n",
    "# DATA FILE NAME IN CSV\n",
    "datafile='../data/polish_companies_bankruptcy_1o_year.csv'\n",
    "########################\n",
    "\n",
    "df = pd.read_csv(datafile)\n",
    "\n",
    "print(df.shape)\n",
    "\n",
    "print(df.shape)\n",
    "\n",
    "features = list(df.columns)\n",
    "features.remove('class')\n",
    "\n",
    "df.head()"
   ]
  },
  {
   "cell_type": "code",
   "execution_count": 3,
   "metadata": {},
   "outputs": [],
   "source": [
    "# feature description\n",
    "\n",
    "fdescr  = open('../data/polish_data_description.txt','r')\n",
    "\n",
    "feature_description = {}\n",
    "for line in fdescr.readlines():\n",
    "    d = line.split(' ')\n",
    "    feature_description[d[0]] = ' '.join(d[1:]).replace('\\n','')"
   ]
  },
  {
   "cell_type": "code",
   "execution_count": 4,
   "metadata": {},
   "outputs": [
    {
     "name": "stdout",
     "output_type": "stream",
     "text": [
      "X1 :  net profit / total assets\n",
      "X2 :  total liabilities / total assets\n",
      "X3 :  working capital / total assets\n",
      "X4 :  current assets / short-term liabilities\n",
      "X5 :  [(cash + short-term securities + receivables - short-term liabilities) / (operating expenses - depreciation)] * 365\n",
      "X6 :  retained earnings / total assets\n",
      "X7 :  EBIT / total assets\n",
      "X8 :  book value of equity / total liabilities\n",
      "X9 :  sales / total assets\n",
      "X10 :  equity / total assets\n",
      "X11 :  (gross profit + extraordinary items + financial expenses) / total assets\n",
      "X12 :  gross profit / short-term liabilities\n",
      "X13 :  (gross profit + depreciation) / sales\n",
      "X14 :  (gross profit + interest) / total assets\n",
      "X15 :  (total liabilities * 365) / (gross profit + depreciation)\n",
      "X16 :  (gross profit + depreciation) / total liabilities\n",
      "X17 :  total assets / total liabilities\n",
      "X18 :  gross profit / total assets\n",
      "X19 :  gross profit / sales\n",
      "X20 :  (inventory * 365) / sales\n",
      "X21 :  sales (n) / sales (n-1)\n",
      "X22 :  profit on operating activities / total assets\n",
      "X23 :  net profit / sales\n",
      "X24 :  gross profit (in 3 years) / total assets\n",
      "X25 :  (equity - share capital) / total assets\n",
      "X26 :  (net profit + depreciation) / total liabilities\n",
      "X27 :  profit on operating activities / financial expenses\n",
      "X28 :  working capital / fixed assets\n",
      "X29 :  logarithm of total assets\n",
      "X30 :  (total liabilities - cash) / sales\n",
      "X31 :  (gross profit + interest) / sales\n",
      "X32 :  (current liabilities * 365) / cost of products sold\n",
      "X33 :  operating expenses / short-term liabilities\n",
      "X34 :  operating expenses / total liabilities\n",
      "X35 :  profit on sales / total assets\n",
      "X36 :  total sales / total assets\n",
      "X37 :  (current assets - inventories) / long-term liabilities\n",
      "X38 :  constant capital / total assets\n",
      "X39 :  profit on sales / sales\n",
      "X40 :  (current assets - inventory - receivables) / short-term liabilities\n",
      "X41 :  total liabilities / ((profit on operating activities + depreciation) * (12/365))\n",
      "X42 :  profit on operating activities / sales\n",
      "X43 :  rotation receivables + inventory turnover in days\n",
      "X44 :  (receivables * 365) / sales\n",
      "X45 :  net profit / inventory\n",
      "X46 :  (current assets - inventory) / short-term liabilities\n",
      "X47 :  (inventory * 365) / cost of products sold\n",
      "X48 :  EBITDA (profit on operating activities - depreciation) / total assets\n",
      "X49 :  EBITDA (profit on operating activities - depreciation) / sales\n",
      "X50 :  current assets / total liabilities\n",
      "X51 :  short-term liabilities / total assets\n",
      "X52 :  (short-term liabilities * 365) / cost of products sold)\n",
      "X53 :  equity / fixed assets\n",
      "X54 :  constant capital / fixed assets\n",
      "X55 :  working capital\n",
      "X56 :  (sales - cost of products sold) / sales\n",
      "X57 :  (current assets - inventory - short-term liabilities) / (sales - gross profit - depreciation)\n",
      "X58 :  total costs /total sales\n",
      "X59 :  long-term liabilities / equity\n",
      "X60 :  sales / inventory\n",
      "X61 :  sales / receivables\n",
      "X62 :  (short-term liabilities *365) / sales\n",
      "X63 :  sales / short-term liabilities\n",
      "X64 :  sales / fixed assets\n",
      "\n",
      " :  \n"
     ]
    }
   ],
   "source": [
    "for k,v in feature_description.items():\n",
    "    print(k,': ',v)"
   ]
  },
  {
   "cell_type": "code",
   "execution_count": 5,
   "metadata": {},
   "outputs": [],
   "source": [
    "from sklearn.model_selection import train_test_split"
   ]
  },
  {
   "cell_type": "code",
   "execution_count": 6,
   "metadata": {},
   "outputs": [],
   "source": [
    "X = df[features]\n",
    "y = df['class']\n",
    "\n",
    "X_train, X_test, y_train, y_test = train_test_split(X, y, test_size=0.3, random_state=123)"
   ]
  },
  {
   "cell_type": "code",
   "execution_count": 7,
   "metadata": {},
   "outputs": [
    {
     "name": "stdout",
     "output_type": "stream",
     "text": [
      "train p(b) = 0.041 \n",
      "test p(b) = 0.034 \n"
     ]
    }
   ],
   "source": [
    "print('train p(b) = %.3f ' %y_train.mean() )\n",
    "print('test p(b) = %.3f ' %y_test.mean() )"
   ]
  },
  {
   "cell_type": "markdown",
   "metadata": {},
   "source": [
    "Definetily a imbalanced case."
   ]
  },
  {
   "cell_type": "markdown",
   "metadata": {},
   "source": [
    "# Experiment\n",
    "\n"
   ]
  },
  {
   "cell_type": "code",
   "execution_count": 8,
   "metadata": {},
   "outputs": [],
   "source": [
    "import optuna"
   ]
  },
  {
   "cell_type": "markdown",
   "metadata": {},
   "source": [
    "# xgboost"
   ]
  },
  {
   "cell_type": "code",
   "execution_count": 9,
   "metadata": {},
   "outputs": [],
   "source": [
    "import xgboost as xgb\n",
    "from sklearn.model_selection import cross_val_score\n",
    "from sklearn.model_selection import RepeatedStratifiedKFold, StratifiedKFold"
   ]
  },
  {
   "cell_type": "code",
   "execution_count": 49,
   "metadata": {},
   "outputs": [],
   "source": [
    "def objective_xgb(trial, X, y):\n",
    "    \"\"\"Define objective function for hyperparameter optimization\n",
    "    Parameters\n",
    "    ----------\n",
    "    trial:\n",
    "    data:\n",
    "    model:\n",
    "    \n",
    "    Returns\n",
    "    -------\n",
    "    metric: float\n",
    "    \"\"\"\n",
    "\n",
    "    # Suggest values of the hyperparameters using a trial object.\n",
    "    params = {'eval_metric': 'logloss',\n",
    "                'learning_rate': trial.suggest_loguniform('learning_rate', 0.001, 1.0),\n",
    "                  'max_depth': trial.suggest_int('max_depth', 1, 20),\n",
    "                  'n_estimators': trial.suggest_int('n_estimators', 1, 1000),\n",
    "#                  'criterion' : trial.suggest_categorical('criterion' ,['gini', 'entropy'])\n",
    "                  'reg_alpha': 0.5,\n",
    "                  'reg_lambda': 0.5,\n",
    "                  'colsample_bytree': trial.suggest_uniform('colsample_bytree', 1e-4, 1),\n",
    "#                   'early_stopping_rounds': 20,\n",
    "                  'min_child_weight': trial.suggest_int('min_child_weight', 2,10),\n",
    "                  'gamma': trial.suggest_int('gamma', 3, 8)}\n",
    "    \n",
    "    base_model = xgb.XGBClassifier(n_jobs=10, \n",
    "                                   tree_method='hist', \n",
    "                                   predictor='cpu_predictor',\n",
    "                                   use_label_encoder=False)\n",
    "\n",
    "    model = base_model.set_params(**params)\n",
    "    \n",
    "    skf = StratifiedKFold(n_splits=10, shuffle = True)\n",
    "    \n",
    "    m1_scores = cross_val_score(model, X, y, scoring= 'roc_auc', cv=skf.split(X, y,), n_jobs=10)\n",
    "    m2_scores = cross_val_score(model, X, y, scoring= 'average_precision', cv=skf.split(X, y), n_jobs=10)  \n",
    "    \n",
    "    # see https://scikit-learn.org/stable/modules/model_evaluation.html#scoring-parameter\n",
    "    \n",
    "    return np.median(m1_scores), np.median(m2_scores)"
   ]
  },
  {
   "cell_type": "code",
   "execution_count": 50,
   "metadata": {},
   "outputs": [
    {
     "name": "stderr",
     "output_type": "stream",
     "text": [
      "\u001b[32m[I 2022-02-25 10:38:12,655]\u001b[0m A new study created in memory with name: auc_prec\u001b[0m\n"
     ]
    }
   ],
   "source": [
    "\n",
    "study_2o = optuna.create_study(study_name= \"auc_prec\", \n",
    "                                    directions= ['maximize','maximize'],\n",
    "                                    pruner = optuna.pruners.MedianPruner(\n",
    "                                    n_startup_trials=10, n_warmup_steps=30, interval_steps=10),\n",
    "                                    sampler = optuna.samplers.NSGAIISampler(),)\n"
   ]
  },
  {
   "cell_type": "code",
   "execution_count": 61,
   "metadata": {},
   "outputs": [
    {
     "name": "stderr",
     "output_type": "stream",
     "text": [
      "\u001b[32m[I 2022-02-25 13:53:21,536]\u001b[0m Trial 60 finished with values: [0.901906779661017, 0.6358081521266328] and parameters: {'learning_rate': 0.0027657170796970454, 'max_depth': 2, 'n_estimators': 476, 'colsample_bytree': 0.6860694372449941, 'min_child_weight': 3, 'gamma': 5}. \u001b[0m\n",
      "\u001b[32m[I 2022-02-25 13:53:22,829]\u001b[0m Trial 61 finished with values: [0.8496284501061572, 0.34785486930497556] and parameters: {'learning_rate': 0.002192949949809065, 'max_depth': 15, 'n_estimators': 14, 'colsample_bytree': 0.32129390677560454, 'min_child_weight': 9, 'gamma': 6}. \u001b[0m\n",
      "\u001b[32m[I 2022-02-25 13:53:47,335]\u001b[0m Trial 62 finished with values: [0.9388262891791717, 0.7325281966452564] and parameters: {'learning_rate': 0.19641360933473742, 'max_depth': 12, 'n_estimators': 492, 'colsample_bytree': 0.7369213813129891, 'min_child_weight': 5, 'gamma': 4}. \u001b[0m\n",
      "\u001b[32m[I 2022-02-25 13:54:11,484]\u001b[0m Trial 63 finished with values: [0.9305371504912014, 0.6939929277685875] and parameters: {'learning_rate': 0.0357091631443731, 'max_depth': 12, 'n_estimators': 492, 'colsample_bytree': 0.9887179507173858, 'min_child_weight': 9, 'gamma': 8}. \u001b[0m\n",
      "\u001b[32m[I 2022-02-25 13:54:45,337]\u001b[0m Trial 64 finished with values: [0.9379237288135593, 0.7154306348778556] and parameters: {'learning_rate': 0.04455135239930069, 'max_depth': 12, 'n_estimators': 840, 'colsample_bytree': 0.9645070309272369, 'min_child_weight': 10, 'gamma': 6}. \u001b[0m\n",
      "\u001b[32m[I 2022-02-25 13:55:15,733]\u001b[0m Trial 65 finished with values: [0.9499735169491526, 0.7554571955079763] and parameters: {'learning_rate': 0.10321049938122806, 'max_depth': 15, 'n_estimators': 655, 'colsample_bytree': 0.2772816203285453, 'min_child_weight': 4, 'gamma': 8}. \u001b[0m\n",
      "\u001b[32m[I 2022-02-25 13:55:39,497]\u001b[0m Trial 66 finished with values: [0.9359639830508475, 0.7294120855135852] and parameters: {'learning_rate': 0.0357091631443731, 'max_depth': 6, 'n_estimators': 686, 'colsample_bytree': 0.4750502677437784, 'min_child_weight': 9, 'gamma': 3}. \u001b[0m\n",
      "\u001b[32m[I 2022-02-25 13:55:47,901]\u001b[0m Trial 67 finished with values: [0.8894371423944726, 0.6173910637501256] and parameters: {'learning_rate': 0.0011526915056757833, 'max_depth': 2, 'n_estimators': 365, 'colsample_bytree': 0.5703961039353368, 'min_child_weight': 5, 'gamma': 3}. \u001b[0m\n",
      "\u001b[32m[I 2022-02-25 13:56:38,361]\u001b[0m Trial 68 finished with values: [0.9439088983050847, 0.7212208741723164] and parameters: {'learning_rate': 0.07406721086955308, 'max_depth': 12, 'n_estimators': 919, 'colsample_bytree': 0.39332295531606054, 'min_child_weight': 3, 'gamma': 8}. \u001b[0m\n",
      "\u001b[32m[I 2022-02-25 13:57:01,253]\u001b[0m Trial 69 finished with values: [0.9429555084745763, 0.7358562813433582] and parameters: {'learning_rate': 0.07406721086955308, 'max_depth': 12, 'n_estimators': 492, 'colsample_bytree': 0.5706238401270368, 'min_child_weight': 5, 'gamma': 5}. \u001b[0m\n",
      "\u001b[32m[I 2022-02-25 13:57:17,023]\u001b[0m Trial 70 finished with values: [0.9403601694915253, 0.710866482645813] and parameters: {'learning_rate': 0.03179949896254331, 'max_depth': 11, 'n_estimators': 425, 'colsample_bytree': 0.6311823997197489, 'min_child_weight': 10, 'gamma': 4}. \u001b[0m\n",
      "\u001b[32m[I 2022-02-25 13:57:29,538]\u001b[0m Trial 71 finished with values: [0.9364765509734068, 0.7270648256516783] and parameters: {'learning_rate': 0.05020438778336873, 'max_depth': 11, 'n_estimators': 250, 'colsample_bytree': 0.4750502677437784, 'min_child_weight': 6, 'gamma': 3}. \u001b[0m\n",
      "\u001b[32m[I 2022-02-25 13:57:33,296]\u001b[0m Trial 72 finished with values: [0.8956832627118644, 0.48255847057312096] and parameters: {'learning_rate': 0.002192949949809065, 'max_depth': 15, 'n_estimators': 103, 'colsample_bytree': 0.14994925959045136, 'min_child_weight': 4, 'gamma': 6}. \u001b[0m\n",
      "\u001b[32m[I 2022-02-25 13:58:01,836]\u001b[0m Trial 73 finished with values: [0.9089870879664615, 0.6521868924076266] and parameters: {'learning_rate': 0.002442715067341329, 'max_depth': 17, 'n_estimators': 686, 'colsample_bytree': 0.394575644751891, 'min_child_weight': 9, 'gamma': 8}. \u001b[0m\n",
      "\u001b[32m[I 2022-02-25 13:58:23,700]\u001b[0m Trial 74 finished with values: [0.9243379237288136, 0.7445096962687292] and parameters: {'learning_rate': 0.5626908961105965, 'max_depth': 2, 'n_estimators': 915, 'colsample_bytree': 0.6860694372449941, 'min_child_weight': 5, 'gamma': 7}. \u001b[0m\n",
      "\u001b[32m[I 2022-02-25 13:58:37,561]\u001b[0m Trial 75 finished with values: [0.9397775423728814, 0.7298850575779148] and parameters: {'learning_rate': 0.19329507404404586, 'max_depth': 18, 'n_estimators': 393, 'colsample_bytree': 0.7381039078113488, 'min_child_weight': 8, 'gamma': 3}. \u001b[0m\n",
      "\u001b[32m[I 2022-02-25 13:59:05,181]\u001b[0m Trial 76 finished with values: [0.8782681546655151, 0.4785332373035224] and parameters: {'learning_rate': 0.05020438778336873, 'max_depth': 7, 'n_estimators': 795, 'colsample_bytree': 0.0225590132606152, 'min_child_weight': 4, 'gamma': 3}. \u001b[0m\n",
      "\u001b[32m[I 2022-02-25 13:59:55,726]\u001b[0m Trial 77 finished with values: [0.9357521186440678, 0.7202580889553705] and parameters: {'learning_rate': 0.005195351653805938, 'max_depth': 16, 'n_estimators': 900, 'colsample_bytree': 0.8716315783826984, 'min_child_weight': 7, 'gamma': 5}. \u001b[0m\n",
      "\u001b[32m[I 2022-02-25 14:00:16,648]\u001b[0m Trial 78 finished with values: [0.934957627118644, 0.7208739902685668] and parameters: {'learning_rate': 0.044819135595367175, 'max_depth': 6, 'n_estimators': 562, 'colsample_bytree': 0.5881741741803418, 'min_child_weight': 9, 'gamma': 6}. \u001b[0m\n",
      "\u001b[32m[I 2022-02-25 14:00:34,228]\u001b[0m Trial 79 finished with values: [0.939300847457627, 0.733782806655245] and parameters: {'learning_rate': 0.07651604119716485, 'max_depth': 11, 'n_estimators': 457, 'colsample_bytree': 0.7224956369745874, 'min_child_weight': 10, 'gamma': 7}. \u001b[0m\n"
     ]
    }
   ],
   "source": [
    "study_2o.optimize(lambda trial: objective_xgb(trial, \n",
    "                                       X = X_train,\n",
    "                                       y = y_train),\n",
    "                                       n_trials=20)"
   ]
  },
  {
   "cell_type": "code",
   "execution_count": 59,
   "metadata": {},
   "outputs": [
    {
     "data": {
      "text/html": [
       "<div>\n",
       "<style scoped>\n",
       "    .dataframe tbody tr th:only-of-type {\n",
       "        vertical-align: middle;\n",
       "    }\n",
       "\n",
       "    .dataframe tbody tr th {\n",
       "        vertical-align: top;\n",
       "    }\n",
       "\n",
       "    .dataframe thead th {\n",
       "        text-align: right;\n",
       "    }\n",
       "</style>\n",
       "<table border=\"1\" class=\"dataframe\">\n",
       "  <thead>\n",
       "    <tr style=\"text-align: right;\">\n",
       "      <th></th>\n",
       "      <th>number</th>\n",
       "      <th>values_0</th>\n",
       "      <th>values_1</th>\n",
       "      <th>datetime_start</th>\n",
       "      <th>datetime_complete</th>\n",
       "      <th>duration</th>\n",
       "      <th>params_colsample_bytree</th>\n",
       "      <th>params_gamma</th>\n",
       "      <th>params_learning_rate</th>\n",
       "      <th>params_max_depth</th>\n",
       "      <th>params_min_child_weight</th>\n",
       "      <th>params_n_estimators</th>\n",
       "      <th>system_attrs_nsga2:generation</th>\n",
       "      <th>system_attrs_nsga2:parents</th>\n",
       "      <th>state</th>\n",
       "    </tr>\n",
       "  </thead>\n",
       "  <tbody>\n",
       "    <tr>\n",
       "      <th>18</th>\n",
       "      <td>18</td>\n",
       "      <td>0.931462</td>\n",
       "      <td>0.718120</td>\n",
       "      <td>2022-02-25 10:46:28.283668</td>\n",
       "      <td>2022-02-25 10:47:05.415086</td>\n",
       "      <td>0 days 00:00:37.131418</td>\n",
       "      <td>0.964507</td>\n",
       "      <td>6</td>\n",
       "      <td>0.044551</td>\n",
       "      <td>12</td>\n",
       "      <td>10</td>\n",
       "      <td>840</td>\n",
       "      <td>0</td>\n",
       "      <td>NaN</td>\n",
       "      <td>COMPLETE</td>\n",
       "    </tr>\n",
       "    <tr>\n",
       "      <th>48</th>\n",
       "      <td>48</td>\n",
       "      <td>0.869677</td>\n",
       "      <td>0.561742</td>\n",
       "      <td>2022-02-25 12:52:08.050396</td>\n",
       "      <td>2022-02-25 12:52:19.669441</td>\n",
       "      <td>0 days 00:00:11.619045</td>\n",
       "      <td>0.180574</td>\n",
       "      <td>8</td>\n",
       "      <td>0.002449</td>\n",
       "      <td>5</td>\n",
       "      <td>10</td>\n",
       "      <td>421</td>\n",
       "      <td>0</td>\n",
       "      <td>NaN</td>\n",
       "      <td>COMPLETE</td>\n",
       "    </tr>\n",
       "    <tr>\n",
       "      <th>7</th>\n",
       "      <td>7</td>\n",
       "      <td>0.945286</td>\n",
       "      <td>0.750968</td>\n",
       "      <td>2022-02-25 10:40:58.601770</td>\n",
       "      <td>2022-02-25 10:41:36.787925</td>\n",
       "      <td>0 days 00:00:38.186155</td>\n",
       "      <td>0.405962</td>\n",
       "      <td>3</td>\n",
       "      <td>0.050204</td>\n",
       "      <td>7</td>\n",
       "      <td>4</td>\n",
       "      <td>795</td>\n",
       "      <td>0</td>\n",
       "      <td>NaN</td>\n",
       "      <td>COMPLETE</td>\n",
       "    </tr>\n",
       "  </tbody>\n",
       "</table>\n",
       "</div>"
      ],
      "text/plain": [
       "    number  values_0  values_1             datetime_start  \\\n",
       "18      18  0.931462  0.718120 2022-02-25 10:46:28.283668   \n",
       "48      48  0.869677  0.561742 2022-02-25 12:52:08.050396   \n",
       "7        7  0.945286  0.750968 2022-02-25 10:40:58.601770   \n",
       "\n",
       "            datetime_complete               duration  params_colsample_bytree  \\\n",
       "18 2022-02-25 10:47:05.415086 0 days 00:00:37.131418                 0.964507   \n",
       "48 2022-02-25 12:52:19.669441 0 days 00:00:11.619045                 0.180574   \n",
       "7  2022-02-25 10:41:36.787925 0 days 00:00:38.186155                 0.405962   \n",
       "\n",
       "    params_gamma  params_learning_rate  params_max_depth  \\\n",
       "18             6              0.044551                12   \n",
       "48             8              0.002449                 5   \n",
       "7              3              0.050204                 7   \n",
       "\n",
       "    params_min_child_weight  params_n_estimators  \\\n",
       "18                       10                  840   \n",
       "48                       10                  421   \n",
       "7                         4                  795   \n",
       "\n",
       "    system_attrs_nsga2:generation system_attrs_nsga2:parents     state  \n",
       "18                              0                        NaN  COMPLETE  \n",
       "48                              0                        NaN  COMPLETE  \n",
       "7                               0                        NaN  COMPLETE  "
      ]
     },
     "execution_count": 59,
     "metadata": {},
     "output_type": "execute_result"
    }
   ],
   "source": [
    "# study = pickle.load( open( \"model_study.pickle\", \"rb\" ) )\n",
    "\n",
    "df_study = study_2o.trials_dataframe()\n",
    "\n",
    "df_study.sample(3)"
   ]
  },
  {
   "cell_type": "code",
   "execution_count": 60,
   "metadata": {},
   "outputs": [
    {
     "data": {
      "application/vnd.plotly.v1+json": {
       "config": {
        "plotlyServerURL": "https://plot.ly"
       },
       "data": [
        {
         "hovertemplate": "<b>%{hovertext}</b><br><br>roc_auc=%{x}<br>avg_prec=%{y}<br>max_depth=%{marker.size}<extra></extra>",
         "hovertext": [
          0,
          1,
          2,
          3,
          4,
          5,
          6,
          7,
          8,
          9,
          10,
          11,
          12,
          13,
          14,
          15,
          16,
          17,
          18,
          19,
          20,
          21,
          22,
          23,
          24,
          25,
          26,
          27,
          28,
          29,
          30,
          31,
          32,
          33,
          34,
          35,
          36,
          37,
          38,
          39,
          40,
          41,
          42,
          43,
          44,
          45,
          46,
          47,
          48,
          49,
          50,
          51,
          52,
          53,
          54,
          55,
          56,
          57,
          58,
          59
         ],
         "legendgroup": "",
         "marker": {
          "color": "#636efa",
          "size": [
           17,
           5,
           12,
           2,
           13,
           10,
           11,
           7,
           8,
           15,
           4,
           6,
           7,
           8,
           10,
           18,
           5,
           20,
           12,
           17,
           15,
           6,
           14,
           5,
           8,
           19,
           19,
           9,
           12,
           20,
           18,
           11,
           10,
           13,
           20,
           13,
           15,
           13,
           18,
           1,
           15,
           11,
           3,
           13,
           12,
           6,
           2,
           2,
           5,
           20,
           15,
           18,
           16,
           3,
           5,
           12,
           13,
           13,
           12,
           4
          ],
          "sizemode": "area",
          "sizeref": 0.05,
          "symbol": "circle"
         },
         "mode": "markers",
         "name": "",
         "orientation": "v",
         "showlegend": false,
         "type": "scatter",
         "x": [
          0.9208921470725827,
          0.9467110412393394,
          0.953400738601605,
          0.8760858050847458,
          0.8523569915254237,
          0.8042902542372881,
          0.9424291086401095,
          0.9452860169491525,
          0.9206567796610169,
          0.934886218467739,
          0.8871720262513944,
          0.9222192796610169,
          0.912208686440678,
          0.9288135593220339,
          0.9168059978768577,
          0.9109639830508475,
          0.9261289314117096,
          0.8950741525423729,
          0.9314618644067797,
          0.942524807477779,
          0.9115270430745979,
          0.9460805084745763,
          0.9256620762711865,
          0.8597722457627118,
          0.9124999999999999,
          0.9266691631580841,
          0.9148040254237289,
          0.895948093220339,
          0.9317604312857606,
          0.9479343220338983,
          0.9345338983050846,
          0.9040822132858326,
          0.9049523305084746,
          0.9180084745762712,
          0.9347457627118645,
          0.9335805084745763,
          0.9070275671128865,
          0.9218430629025873,
          0.9054290254237287,
          0.8956038135593221,
          0.9139510012954766,
          0.9127648305084746,
          0.9093749999999999,
          0.9392352864442766,
          0.9312315574507899,
          0.8953654661016949,
          0.9305614406779661,
          0.8776747881355933,
          0.869676906779661,
          0.8236758474576271,
          0.9534957627118643,
          0.8958421610169491,
          0.9029148786390297,
          0.9344809322033898,
          0.8858580508474576,
          0.9029131355932203,
          0.9207343733131814,
          0.9357733725574868,
          0.9438559322033897,
          0.9347987288135593
         ],
         "xaxis": "x",
         "y": [
          0.6751183876140687,
          0.7562089728534548,
          0.7430822369742812,
          0.6508827937545074,
          0.2741797898128078,
          0.5677403951179549,
          0.7433854847302939,
          0.7509679793999564,
          0.666539242683853,
          0.7323238008913768,
          0.6458817319291901,
          0.7038411298545821,
          0.661890870872837,
          0.7393697801863885,
          0.7307809622408017,
          0.6546421033083578,
          0.6874564392754642,
          0.5968703421128381,
          0.7181199049992429,
          0.7705762647364803,
          0.6529584339118942,
          0.7385966462984472,
          0.6529043321148459,
          0.4797452078670033,
          0.6846734862261896,
          0.7411513153556406,
          0.7105675186691544,
          0.5243453316245689,
          0.7407090145224713,
          0.7593559729375741,
          0.7387066904914199,
          0.6416060538024325,
          0.6705478613389819,
          0.7035599908534136,
          0.7041986950134876,
          0.7579795477051747,
          0.653115918903705,
          0.6753808966272097,
          0.658741860064294,
          0.5730640201818533,
          0.6708303608052464,
          0.6808456792251758,
          0.6884928377368383,
          0.7128749284684108,
          0.7787457140329022,
          0.5944230565085251,
          0.7053445054976997,
          0.6319016454791919,
          0.5617416166783201,
          0.5426107538682758,
          0.7103834451390982,
          0.6619755060461513,
          0.6494626325158461,
          0.6990576638500438,
          0.5310097223208847,
          0.6889223775282882,
          0.7232759050484454,
          0.7284737380012635,
          0.7512755840802805,
          0.6925472393823344
         ],
         "yaxis": "y"
        }
       ],
       "layout": {
        "font": {
         "size": 18
        },
        "legend": {
         "itemsizing": "constant",
         "tracegroupgap": 0
        },
        "margin": {
         "t": 60
        },
        "template": {
         "data": {
          "bar": [
           {
            "error_x": {
             "color": "#2a3f5f"
            },
            "error_y": {
             "color": "#2a3f5f"
            },
            "marker": {
             "line": {
              "color": "#E5ECF6",
              "width": 0.5
             },
             "pattern": {
              "fillmode": "overlay",
              "size": 10,
              "solidity": 0.2
             }
            },
            "type": "bar"
           }
          ],
          "barpolar": [
           {
            "marker": {
             "line": {
              "color": "#E5ECF6",
              "width": 0.5
             },
             "pattern": {
              "fillmode": "overlay",
              "size": 10,
              "solidity": 0.2
             }
            },
            "type": "barpolar"
           }
          ],
          "carpet": [
           {
            "aaxis": {
             "endlinecolor": "#2a3f5f",
             "gridcolor": "white",
             "linecolor": "white",
             "minorgridcolor": "white",
             "startlinecolor": "#2a3f5f"
            },
            "baxis": {
             "endlinecolor": "#2a3f5f",
             "gridcolor": "white",
             "linecolor": "white",
             "minorgridcolor": "white",
             "startlinecolor": "#2a3f5f"
            },
            "type": "carpet"
           }
          ],
          "choropleth": [
           {
            "colorbar": {
             "outlinewidth": 0,
             "ticks": ""
            },
            "type": "choropleth"
           }
          ],
          "contour": [
           {
            "colorbar": {
             "outlinewidth": 0,
             "ticks": ""
            },
            "colorscale": [
             [
              0,
              "#0d0887"
             ],
             [
              0.1111111111111111,
              "#46039f"
             ],
             [
              0.2222222222222222,
              "#7201a8"
             ],
             [
              0.3333333333333333,
              "#9c179e"
             ],
             [
              0.4444444444444444,
              "#bd3786"
             ],
             [
              0.5555555555555556,
              "#d8576b"
             ],
             [
              0.6666666666666666,
              "#ed7953"
             ],
             [
              0.7777777777777778,
              "#fb9f3a"
             ],
             [
              0.8888888888888888,
              "#fdca26"
             ],
             [
              1,
              "#f0f921"
             ]
            ],
            "type": "contour"
           }
          ],
          "contourcarpet": [
           {
            "colorbar": {
             "outlinewidth": 0,
             "ticks": ""
            },
            "type": "contourcarpet"
           }
          ],
          "heatmap": [
           {
            "colorbar": {
             "outlinewidth": 0,
             "ticks": ""
            },
            "colorscale": [
             [
              0,
              "#0d0887"
             ],
             [
              0.1111111111111111,
              "#46039f"
             ],
             [
              0.2222222222222222,
              "#7201a8"
             ],
             [
              0.3333333333333333,
              "#9c179e"
             ],
             [
              0.4444444444444444,
              "#bd3786"
             ],
             [
              0.5555555555555556,
              "#d8576b"
             ],
             [
              0.6666666666666666,
              "#ed7953"
             ],
             [
              0.7777777777777778,
              "#fb9f3a"
             ],
             [
              0.8888888888888888,
              "#fdca26"
             ],
             [
              1,
              "#f0f921"
             ]
            ],
            "type": "heatmap"
           }
          ],
          "heatmapgl": [
           {
            "colorbar": {
             "outlinewidth": 0,
             "ticks": ""
            },
            "colorscale": [
             [
              0,
              "#0d0887"
             ],
             [
              0.1111111111111111,
              "#46039f"
             ],
             [
              0.2222222222222222,
              "#7201a8"
             ],
             [
              0.3333333333333333,
              "#9c179e"
             ],
             [
              0.4444444444444444,
              "#bd3786"
             ],
             [
              0.5555555555555556,
              "#d8576b"
             ],
             [
              0.6666666666666666,
              "#ed7953"
             ],
             [
              0.7777777777777778,
              "#fb9f3a"
             ],
             [
              0.8888888888888888,
              "#fdca26"
             ],
             [
              1,
              "#f0f921"
             ]
            ],
            "type": "heatmapgl"
           }
          ],
          "histogram": [
           {
            "marker": {
             "pattern": {
              "fillmode": "overlay",
              "size": 10,
              "solidity": 0.2
             }
            },
            "type": "histogram"
           }
          ],
          "histogram2d": [
           {
            "colorbar": {
             "outlinewidth": 0,
             "ticks": ""
            },
            "colorscale": [
             [
              0,
              "#0d0887"
             ],
             [
              0.1111111111111111,
              "#46039f"
             ],
             [
              0.2222222222222222,
              "#7201a8"
             ],
             [
              0.3333333333333333,
              "#9c179e"
             ],
             [
              0.4444444444444444,
              "#bd3786"
             ],
             [
              0.5555555555555556,
              "#d8576b"
             ],
             [
              0.6666666666666666,
              "#ed7953"
             ],
             [
              0.7777777777777778,
              "#fb9f3a"
             ],
             [
              0.8888888888888888,
              "#fdca26"
             ],
             [
              1,
              "#f0f921"
             ]
            ],
            "type": "histogram2d"
           }
          ],
          "histogram2dcontour": [
           {
            "colorbar": {
             "outlinewidth": 0,
             "ticks": ""
            },
            "colorscale": [
             [
              0,
              "#0d0887"
             ],
             [
              0.1111111111111111,
              "#46039f"
             ],
             [
              0.2222222222222222,
              "#7201a8"
             ],
             [
              0.3333333333333333,
              "#9c179e"
             ],
             [
              0.4444444444444444,
              "#bd3786"
             ],
             [
              0.5555555555555556,
              "#d8576b"
             ],
             [
              0.6666666666666666,
              "#ed7953"
             ],
             [
              0.7777777777777778,
              "#fb9f3a"
             ],
             [
              0.8888888888888888,
              "#fdca26"
             ],
             [
              1,
              "#f0f921"
             ]
            ],
            "type": "histogram2dcontour"
           }
          ],
          "mesh3d": [
           {
            "colorbar": {
             "outlinewidth": 0,
             "ticks": ""
            },
            "type": "mesh3d"
           }
          ],
          "parcoords": [
           {
            "line": {
             "colorbar": {
              "outlinewidth": 0,
              "ticks": ""
             }
            },
            "type": "parcoords"
           }
          ],
          "pie": [
           {
            "automargin": true,
            "type": "pie"
           }
          ],
          "scatter": [
           {
            "marker": {
             "colorbar": {
              "outlinewidth": 0,
              "ticks": ""
             }
            },
            "type": "scatter"
           }
          ],
          "scatter3d": [
           {
            "line": {
             "colorbar": {
              "outlinewidth": 0,
              "ticks": ""
             }
            },
            "marker": {
             "colorbar": {
              "outlinewidth": 0,
              "ticks": ""
             }
            },
            "type": "scatter3d"
           }
          ],
          "scattercarpet": [
           {
            "marker": {
             "colorbar": {
              "outlinewidth": 0,
              "ticks": ""
             }
            },
            "type": "scattercarpet"
           }
          ],
          "scattergeo": [
           {
            "marker": {
             "colorbar": {
              "outlinewidth": 0,
              "ticks": ""
             }
            },
            "type": "scattergeo"
           }
          ],
          "scattergl": [
           {
            "marker": {
             "colorbar": {
              "outlinewidth": 0,
              "ticks": ""
             }
            },
            "type": "scattergl"
           }
          ],
          "scattermapbox": [
           {
            "marker": {
             "colorbar": {
              "outlinewidth": 0,
              "ticks": ""
             }
            },
            "type": "scattermapbox"
           }
          ],
          "scatterpolar": [
           {
            "marker": {
             "colorbar": {
              "outlinewidth": 0,
              "ticks": ""
             }
            },
            "type": "scatterpolar"
           }
          ],
          "scatterpolargl": [
           {
            "marker": {
             "colorbar": {
              "outlinewidth": 0,
              "ticks": ""
             }
            },
            "type": "scatterpolargl"
           }
          ],
          "scatterternary": [
           {
            "marker": {
             "colorbar": {
              "outlinewidth": 0,
              "ticks": ""
             }
            },
            "type": "scatterternary"
           }
          ],
          "surface": [
           {
            "colorbar": {
             "outlinewidth": 0,
             "ticks": ""
            },
            "colorscale": [
             [
              0,
              "#0d0887"
             ],
             [
              0.1111111111111111,
              "#46039f"
             ],
             [
              0.2222222222222222,
              "#7201a8"
             ],
             [
              0.3333333333333333,
              "#9c179e"
             ],
             [
              0.4444444444444444,
              "#bd3786"
             ],
             [
              0.5555555555555556,
              "#d8576b"
             ],
             [
              0.6666666666666666,
              "#ed7953"
             ],
             [
              0.7777777777777778,
              "#fb9f3a"
             ],
             [
              0.8888888888888888,
              "#fdca26"
             ],
             [
              1,
              "#f0f921"
             ]
            ],
            "type": "surface"
           }
          ],
          "table": [
           {
            "cells": {
             "fill": {
              "color": "#EBF0F8"
             },
             "line": {
              "color": "white"
             }
            },
            "header": {
             "fill": {
              "color": "#C8D4E3"
             },
             "line": {
              "color": "white"
             }
            },
            "type": "table"
           }
          ]
         },
         "layout": {
          "annotationdefaults": {
           "arrowcolor": "#2a3f5f",
           "arrowhead": 0,
           "arrowwidth": 1
          },
          "autotypenumbers": "strict",
          "coloraxis": {
           "colorbar": {
            "outlinewidth": 0,
            "ticks": ""
           }
          },
          "colorscale": {
           "diverging": [
            [
             0,
             "#8e0152"
            ],
            [
             0.1,
             "#c51b7d"
            ],
            [
             0.2,
             "#de77ae"
            ],
            [
             0.3,
             "#f1b6da"
            ],
            [
             0.4,
             "#fde0ef"
            ],
            [
             0.5,
             "#f7f7f7"
            ],
            [
             0.6,
             "#e6f5d0"
            ],
            [
             0.7,
             "#b8e186"
            ],
            [
             0.8,
             "#7fbc41"
            ],
            [
             0.9,
             "#4d9221"
            ],
            [
             1,
             "#276419"
            ]
           ],
           "sequential": [
            [
             0,
             "#0d0887"
            ],
            [
             0.1111111111111111,
             "#46039f"
            ],
            [
             0.2222222222222222,
             "#7201a8"
            ],
            [
             0.3333333333333333,
             "#9c179e"
            ],
            [
             0.4444444444444444,
             "#bd3786"
            ],
            [
             0.5555555555555556,
             "#d8576b"
            ],
            [
             0.6666666666666666,
             "#ed7953"
            ],
            [
             0.7777777777777778,
             "#fb9f3a"
            ],
            [
             0.8888888888888888,
             "#fdca26"
            ],
            [
             1,
             "#f0f921"
            ]
           ],
           "sequentialminus": [
            [
             0,
             "#0d0887"
            ],
            [
             0.1111111111111111,
             "#46039f"
            ],
            [
             0.2222222222222222,
             "#7201a8"
            ],
            [
             0.3333333333333333,
             "#9c179e"
            ],
            [
             0.4444444444444444,
             "#bd3786"
            ],
            [
             0.5555555555555556,
             "#d8576b"
            ],
            [
             0.6666666666666666,
             "#ed7953"
            ],
            [
             0.7777777777777778,
             "#fb9f3a"
            ],
            [
             0.8888888888888888,
             "#fdca26"
            ],
            [
             1,
             "#f0f921"
            ]
           ]
          },
          "colorway": [
           "#636efa",
           "#EF553B",
           "#00cc96",
           "#ab63fa",
           "#FFA15A",
           "#19d3f3",
           "#FF6692",
           "#B6E880",
           "#FF97FF",
           "#FECB52"
          ],
          "font": {
           "color": "#2a3f5f"
          },
          "geo": {
           "bgcolor": "white",
           "lakecolor": "white",
           "landcolor": "#E5ECF6",
           "showlakes": true,
           "showland": true,
           "subunitcolor": "white"
          },
          "hoverlabel": {
           "align": "left"
          },
          "hovermode": "closest",
          "mapbox": {
           "style": "light"
          },
          "paper_bgcolor": "white",
          "plot_bgcolor": "#E5ECF6",
          "polar": {
           "angularaxis": {
            "gridcolor": "white",
            "linecolor": "white",
            "ticks": ""
           },
           "bgcolor": "#E5ECF6",
           "radialaxis": {
            "gridcolor": "white",
            "linecolor": "white",
            "ticks": ""
           }
          },
          "scene": {
           "xaxis": {
            "backgroundcolor": "#E5ECF6",
            "gridcolor": "white",
            "gridwidth": 2,
            "linecolor": "white",
            "showbackground": true,
            "ticks": "",
            "zerolinecolor": "white"
           },
           "yaxis": {
            "backgroundcolor": "#E5ECF6",
            "gridcolor": "white",
            "gridwidth": 2,
            "linecolor": "white",
            "showbackground": true,
            "ticks": "",
            "zerolinecolor": "white"
           },
           "zaxis": {
            "backgroundcolor": "#E5ECF6",
            "gridcolor": "white",
            "gridwidth": 2,
            "linecolor": "white",
            "showbackground": true,
            "ticks": "",
            "zerolinecolor": "white"
           }
          },
          "shapedefaults": {
           "line": {
            "color": "#2a3f5f"
           }
          },
          "ternary": {
           "aaxis": {
            "gridcolor": "white",
            "linecolor": "white",
            "ticks": ""
           },
           "baxis": {
            "gridcolor": "white",
            "linecolor": "white",
            "ticks": ""
           },
           "bgcolor": "#E5ECF6",
           "caxis": {
            "gridcolor": "white",
            "linecolor": "white",
            "ticks": ""
           }
          },
          "title": {
           "x": 0.05
          },
          "xaxis": {
           "automargin": true,
           "gridcolor": "white",
           "linecolor": "white",
           "ticks": "",
           "title": {
            "standoff": 15
           },
           "zerolinecolor": "white",
           "zerolinewidth": 2
          },
          "yaxis": {
           "automargin": true,
           "gridcolor": "white",
           "linecolor": "white",
           "ticks": "",
           "title": {
            "standoff": 15
           },
           "zerolinecolor": "white",
           "zerolinewidth": 2
          }
         }
        },
        "title": {
         "text": "Multi-Objective Optimization"
        },
        "xaxis": {
         "anchor": "y",
         "domain": [
          0,
          1
         ],
         "title": {
          "text": "roc_auc"
         }
        },
        "yaxis": {
         "anchor": "x",
         "domain": [
          0,
          1
         ],
         "title": {
          "text": "avg_prec"
         }
        }
       }
      },
      "text/html": [
       "<div>                            <div id=\"c5eb8b5d-28c4-4227-b7ca-850d26ac9e9f\" class=\"plotly-graph-div\" style=\"height:525px; width:100%;\"></div>            <script type=\"text/javascript\">                require([\"plotly\"], function(Plotly) {                    window.PLOTLYENV=window.PLOTLYENV || {};                                    if (document.getElementById(\"c5eb8b5d-28c4-4227-b7ca-850d26ac9e9f\")) {                    Plotly.newPlot(                        \"c5eb8b5d-28c4-4227-b7ca-850d26ac9e9f\",                        [{\"hovertemplate\":\"<b>%{hovertext}</b><br><br>roc_auc=%{x}<br>avg_prec=%{y}<br>max_depth=%{marker.size}<extra></extra>\",\"hovertext\":[0.0,1.0,2.0,3.0,4.0,5.0,6.0,7.0,8.0,9.0,10.0,11.0,12.0,13.0,14.0,15.0,16.0,17.0,18.0,19.0,20.0,21.0,22.0,23.0,24.0,25.0,26.0,27.0,28.0,29.0,30.0,31.0,32.0,33.0,34.0,35.0,36.0,37.0,38.0,39.0,40.0,41.0,42.0,43.0,44.0,45.0,46.0,47.0,48.0,49.0,50.0,51.0,52.0,53.0,54.0,55.0,56.0,57.0,58.0,59.0],\"legendgroup\":\"\",\"marker\":{\"color\":\"#636efa\",\"size\":[17,5,12,2,13,10,11,7,8,15,4,6,7,8,10,18,5,20,12,17,15,6,14,5,8,19,19,9,12,20,18,11,10,13,20,13,15,13,18,1,15,11,3,13,12,6,2,2,5,20,15,18,16,3,5,12,13,13,12,4],\"sizemode\":\"area\",\"sizeref\":0.05,\"symbol\":\"circle\"},\"mode\":\"markers\",\"name\":\"\",\"orientation\":\"v\",\"showlegend\":false,\"x\":[0.9208921470725827,0.9467110412393394,0.953400738601605,0.8760858050847458,0.8523569915254237,0.8042902542372881,0.9424291086401095,0.9452860169491525,0.9206567796610169,0.934886218467739,0.8871720262513944,0.9222192796610169,0.912208686440678,0.9288135593220339,0.9168059978768577,0.9109639830508475,0.9261289314117096,0.8950741525423729,0.9314618644067797,0.942524807477779,0.9115270430745979,0.9460805084745763,0.9256620762711865,0.8597722457627118,0.9124999999999999,0.9266691631580841,0.9148040254237289,0.895948093220339,0.9317604312857606,0.9479343220338983,0.9345338983050846,0.9040822132858326,0.9049523305084746,0.9180084745762712,0.9347457627118645,0.9335805084745763,0.9070275671128865,0.9218430629025873,0.9054290254237287,0.8956038135593221,0.9139510012954766,0.9127648305084746,0.9093749999999999,0.9392352864442766,0.9312315574507899,0.8953654661016949,0.9305614406779661,0.8776747881355933,0.869676906779661,0.8236758474576271,0.9534957627118643,0.8958421610169491,0.9029148786390297,0.9344809322033898,0.8858580508474576,0.9029131355932203,0.9207343733131814,0.9357733725574868,0.9438559322033897,0.9347987288135593],\"xaxis\":\"x\",\"y\":[0.6751183876140687,0.7562089728534548,0.7430822369742812,0.6508827937545074,0.2741797898128078,0.5677403951179549,0.7433854847302939,0.7509679793999564,0.666539242683853,0.7323238008913768,0.6458817319291901,0.7038411298545821,0.661890870872837,0.7393697801863885,0.7307809622408017,0.6546421033083578,0.6874564392754642,0.5968703421128381,0.7181199049992429,0.7705762647364803,0.6529584339118942,0.7385966462984472,0.6529043321148459,0.4797452078670033,0.6846734862261896,0.7411513153556406,0.7105675186691544,0.5243453316245689,0.7407090145224713,0.7593559729375741,0.7387066904914199,0.6416060538024325,0.6705478613389819,0.7035599908534136,0.7041986950134876,0.7579795477051747,0.653115918903705,0.6753808966272097,0.658741860064294,0.5730640201818533,0.6708303608052464,0.6808456792251758,0.6884928377368383,0.7128749284684108,0.7787457140329022,0.5944230565085251,0.7053445054976997,0.6319016454791919,0.5617416166783201,0.5426107538682758,0.7103834451390982,0.6619755060461513,0.6494626325158461,0.6990576638500438,0.5310097223208847,0.6889223775282882,0.7232759050484454,0.7284737380012635,0.7512755840802805,0.6925472393823344],\"yaxis\":\"y\",\"type\":\"scatter\"}],                        {\"template\":{\"data\":{\"bar\":[{\"error_x\":{\"color\":\"#2a3f5f\"},\"error_y\":{\"color\":\"#2a3f5f\"},\"marker\":{\"line\":{\"color\":\"#E5ECF6\",\"width\":0.5},\"pattern\":{\"fillmode\":\"overlay\",\"size\":10,\"solidity\":0.2}},\"type\":\"bar\"}],\"barpolar\":[{\"marker\":{\"line\":{\"color\":\"#E5ECF6\",\"width\":0.5},\"pattern\":{\"fillmode\":\"overlay\",\"size\":10,\"solidity\":0.2}},\"type\":\"barpolar\"}],\"carpet\":[{\"aaxis\":{\"endlinecolor\":\"#2a3f5f\",\"gridcolor\":\"white\",\"linecolor\":\"white\",\"minorgridcolor\":\"white\",\"startlinecolor\":\"#2a3f5f\"},\"baxis\":{\"endlinecolor\":\"#2a3f5f\",\"gridcolor\":\"white\",\"linecolor\":\"white\",\"minorgridcolor\":\"white\",\"startlinecolor\":\"#2a3f5f\"},\"type\":\"carpet\"}],\"choropleth\":[{\"colorbar\":{\"outlinewidth\":0,\"ticks\":\"\"},\"type\":\"choropleth\"}],\"contour\":[{\"colorbar\":{\"outlinewidth\":0,\"ticks\":\"\"},\"colorscale\":[[0.0,\"#0d0887\"],[0.1111111111111111,\"#46039f\"],[0.2222222222222222,\"#7201a8\"],[0.3333333333333333,\"#9c179e\"],[0.4444444444444444,\"#bd3786\"],[0.5555555555555556,\"#d8576b\"],[0.6666666666666666,\"#ed7953\"],[0.7777777777777778,\"#fb9f3a\"],[0.8888888888888888,\"#fdca26\"],[1.0,\"#f0f921\"]],\"type\":\"contour\"}],\"contourcarpet\":[{\"colorbar\":{\"outlinewidth\":0,\"ticks\":\"\"},\"type\":\"contourcarpet\"}],\"heatmap\":[{\"colorbar\":{\"outlinewidth\":0,\"ticks\":\"\"},\"colorscale\":[[0.0,\"#0d0887\"],[0.1111111111111111,\"#46039f\"],[0.2222222222222222,\"#7201a8\"],[0.3333333333333333,\"#9c179e\"],[0.4444444444444444,\"#bd3786\"],[0.5555555555555556,\"#d8576b\"],[0.6666666666666666,\"#ed7953\"],[0.7777777777777778,\"#fb9f3a\"],[0.8888888888888888,\"#fdca26\"],[1.0,\"#f0f921\"]],\"type\":\"heatmap\"}],\"heatmapgl\":[{\"colorbar\":{\"outlinewidth\":0,\"ticks\":\"\"},\"colorscale\":[[0.0,\"#0d0887\"],[0.1111111111111111,\"#46039f\"],[0.2222222222222222,\"#7201a8\"],[0.3333333333333333,\"#9c179e\"],[0.4444444444444444,\"#bd3786\"],[0.5555555555555556,\"#d8576b\"],[0.6666666666666666,\"#ed7953\"],[0.7777777777777778,\"#fb9f3a\"],[0.8888888888888888,\"#fdca26\"],[1.0,\"#f0f921\"]],\"type\":\"heatmapgl\"}],\"histogram\":[{\"marker\":{\"pattern\":{\"fillmode\":\"overlay\",\"size\":10,\"solidity\":0.2}},\"type\":\"histogram\"}],\"histogram2d\":[{\"colorbar\":{\"outlinewidth\":0,\"ticks\":\"\"},\"colorscale\":[[0.0,\"#0d0887\"],[0.1111111111111111,\"#46039f\"],[0.2222222222222222,\"#7201a8\"],[0.3333333333333333,\"#9c179e\"],[0.4444444444444444,\"#bd3786\"],[0.5555555555555556,\"#d8576b\"],[0.6666666666666666,\"#ed7953\"],[0.7777777777777778,\"#fb9f3a\"],[0.8888888888888888,\"#fdca26\"],[1.0,\"#f0f921\"]],\"type\":\"histogram2d\"}],\"histogram2dcontour\":[{\"colorbar\":{\"outlinewidth\":0,\"ticks\":\"\"},\"colorscale\":[[0.0,\"#0d0887\"],[0.1111111111111111,\"#46039f\"],[0.2222222222222222,\"#7201a8\"],[0.3333333333333333,\"#9c179e\"],[0.4444444444444444,\"#bd3786\"],[0.5555555555555556,\"#d8576b\"],[0.6666666666666666,\"#ed7953\"],[0.7777777777777778,\"#fb9f3a\"],[0.8888888888888888,\"#fdca26\"],[1.0,\"#f0f921\"]],\"type\":\"histogram2dcontour\"}],\"mesh3d\":[{\"colorbar\":{\"outlinewidth\":0,\"ticks\":\"\"},\"type\":\"mesh3d\"}],\"parcoords\":[{\"line\":{\"colorbar\":{\"outlinewidth\":0,\"ticks\":\"\"}},\"type\":\"parcoords\"}],\"pie\":[{\"automargin\":true,\"type\":\"pie\"}],\"scatter\":[{\"marker\":{\"colorbar\":{\"outlinewidth\":0,\"ticks\":\"\"}},\"type\":\"scatter\"}],\"scatter3d\":[{\"line\":{\"colorbar\":{\"outlinewidth\":0,\"ticks\":\"\"}},\"marker\":{\"colorbar\":{\"outlinewidth\":0,\"ticks\":\"\"}},\"type\":\"scatter3d\"}],\"scattercarpet\":[{\"marker\":{\"colorbar\":{\"outlinewidth\":0,\"ticks\":\"\"}},\"type\":\"scattercarpet\"}],\"scattergeo\":[{\"marker\":{\"colorbar\":{\"outlinewidth\":0,\"ticks\":\"\"}},\"type\":\"scattergeo\"}],\"scattergl\":[{\"marker\":{\"colorbar\":{\"outlinewidth\":0,\"ticks\":\"\"}},\"type\":\"scattergl\"}],\"scattermapbox\":[{\"marker\":{\"colorbar\":{\"outlinewidth\":0,\"ticks\":\"\"}},\"type\":\"scattermapbox\"}],\"scatterpolar\":[{\"marker\":{\"colorbar\":{\"outlinewidth\":0,\"ticks\":\"\"}},\"type\":\"scatterpolar\"}],\"scatterpolargl\":[{\"marker\":{\"colorbar\":{\"outlinewidth\":0,\"ticks\":\"\"}},\"type\":\"scatterpolargl\"}],\"scatterternary\":[{\"marker\":{\"colorbar\":{\"outlinewidth\":0,\"ticks\":\"\"}},\"type\":\"scatterternary\"}],\"surface\":[{\"colorbar\":{\"outlinewidth\":0,\"ticks\":\"\"},\"colorscale\":[[0.0,\"#0d0887\"],[0.1111111111111111,\"#46039f\"],[0.2222222222222222,\"#7201a8\"],[0.3333333333333333,\"#9c179e\"],[0.4444444444444444,\"#bd3786\"],[0.5555555555555556,\"#d8576b\"],[0.6666666666666666,\"#ed7953\"],[0.7777777777777778,\"#fb9f3a\"],[0.8888888888888888,\"#fdca26\"],[1.0,\"#f0f921\"]],\"type\":\"surface\"}],\"table\":[{\"cells\":{\"fill\":{\"color\":\"#EBF0F8\"},\"line\":{\"color\":\"white\"}},\"header\":{\"fill\":{\"color\":\"#C8D4E3\"},\"line\":{\"color\":\"white\"}},\"type\":\"table\"}]},\"layout\":{\"annotationdefaults\":{\"arrowcolor\":\"#2a3f5f\",\"arrowhead\":0,\"arrowwidth\":1},\"autotypenumbers\":\"strict\",\"coloraxis\":{\"colorbar\":{\"outlinewidth\":0,\"ticks\":\"\"}},\"colorscale\":{\"diverging\":[[0,\"#8e0152\"],[0.1,\"#c51b7d\"],[0.2,\"#de77ae\"],[0.3,\"#f1b6da\"],[0.4,\"#fde0ef\"],[0.5,\"#f7f7f7\"],[0.6,\"#e6f5d0\"],[0.7,\"#b8e186\"],[0.8,\"#7fbc41\"],[0.9,\"#4d9221\"],[1,\"#276419\"]],\"sequential\":[[0.0,\"#0d0887\"],[0.1111111111111111,\"#46039f\"],[0.2222222222222222,\"#7201a8\"],[0.3333333333333333,\"#9c179e\"],[0.4444444444444444,\"#bd3786\"],[0.5555555555555556,\"#d8576b\"],[0.6666666666666666,\"#ed7953\"],[0.7777777777777778,\"#fb9f3a\"],[0.8888888888888888,\"#fdca26\"],[1.0,\"#f0f921\"]],\"sequentialminus\":[[0.0,\"#0d0887\"],[0.1111111111111111,\"#46039f\"],[0.2222222222222222,\"#7201a8\"],[0.3333333333333333,\"#9c179e\"],[0.4444444444444444,\"#bd3786\"],[0.5555555555555556,\"#d8576b\"],[0.6666666666666666,\"#ed7953\"],[0.7777777777777778,\"#fb9f3a\"],[0.8888888888888888,\"#fdca26\"],[1.0,\"#f0f921\"]]},\"colorway\":[\"#636efa\",\"#EF553B\",\"#00cc96\",\"#ab63fa\",\"#FFA15A\",\"#19d3f3\",\"#FF6692\",\"#B6E880\",\"#FF97FF\",\"#FECB52\"],\"font\":{\"color\":\"#2a3f5f\"},\"geo\":{\"bgcolor\":\"white\",\"lakecolor\":\"white\",\"landcolor\":\"#E5ECF6\",\"showlakes\":true,\"showland\":true,\"subunitcolor\":\"white\"},\"hoverlabel\":{\"align\":\"left\"},\"hovermode\":\"closest\",\"mapbox\":{\"style\":\"light\"},\"paper_bgcolor\":\"white\",\"plot_bgcolor\":\"#E5ECF6\",\"polar\":{\"angularaxis\":{\"gridcolor\":\"white\",\"linecolor\":\"white\",\"ticks\":\"\"},\"bgcolor\":\"#E5ECF6\",\"radialaxis\":{\"gridcolor\":\"white\",\"linecolor\":\"white\",\"ticks\":\"\"}},\"scene\":{\"xaxis\":{\"backgroundcolor\":\"#E5ECF6\",\"gridcolor\":\"white\",\"gridwidth\":2,\"linecolor\":\"white\",\"showbackground\":true,\"ticks\":\"\",\"zerolinecolor\":\"white\"},\"yaxis\":{\"backgroundcolor\":\"#E5ECF6\",\"gridcolor\":\"white\",\"gridwidth\":2,\"linecolor\":\"white\",\"showbackground\":true,\"ticks\":\"\",\"zerolinecolor\":\"white\"},\"zaxis\":{\"backgroundcolor\":\"#E5ECF6\",\"gridcolor\":\"white\",\"gridwidth\":2,\"linecolor\":\"white\",\"showbackground\":true,\"ticks\":\"\",\"zerolinecolor\":\"white\"}},\"shapedefaults\":{\"line\":{\"color\":\"#2a3f5f\"}},\"ternary\":{\"aaxis\":{\"gridcolor\":\"white\",\"linecolor\":\"white\",\"ticks\":\"\"},\"baxis\":{\"gridcolor\":\"white\",\"linecolor\":\"white\",\"ticks\":\"\"},\"bgcolor\":\"#E5ECF6\",\"caxis\":{\"gridcolor\":\"white\",\"linecolor\":\"white\",\"ticks\":\"\"}},\"title\":{\"x\":0.05},\"xaxis\":{\"automargin\":true,\"gridcolor\":\"white\",\"linecolor\":\"white\",\"ticks\":\"\",\"title\":{\"standoff\":15},\"zerolinecolor\":\"white\",\"zerolinewidth\":2},\"yaxis\":{\"automargin\":true,\"gridcolor\":\"white\",\"linecolor\":\"white\",\"ticks\":\"\",\"title\":{\"standoff\":15},\"zerolinecolor\":\"white\",\"zerolinewidth\":2}}},\"xaxis\":{\"anchor\":\"y\",\"domain\":[0.0,1.0],\"title\":{\"text\":\"roc_auc\"}},\"yaxis\":{\"anchor\":\"x\",\"domain\":[0.0,1.0],\"title\":{\"text\":\"avg_prec\"}},\"legend\":{\"tracegroupgap\":0,\"itemsizing\":\"constant\"},\"margin\":{\"t\":60},\"font\":{\"size\":18},\"title\":{\"text\":\"Multi-Objective Optimization\"}},                        {\"responsive\": true}                    ).then(function(){\n",
       "                            \n",
       "var gd = document.getElementById('c5eb8b5d-28c4-4227-b7ca-850d26ac9e9f');\n",
       "var x = new MutationObserver(function (mutations, observer) {{\n",
       "        var display = window.getComputedStyle(gd).display;\n",
       "        if (!display || display === 'none') {{\n",
       "            console.log([gd, 'removed!']);\n",
       "            Plotly.purge(gd);\n",
       "            observer.disconnect();\n",
       "        }}\n",
       "}});\n",
       "\n",
       "// Listen for the removal of the full notebook cells\n",
       "var notebookContainer = gd.closest('#notebook-container');\n",
       "if (notebookContainer) {{\n",
       "    x.observe(notebookContainer, {childList: true});\n",
       "}}\n",
       "\n",
       "// Listen for the clearing of the current output cell\n",
       "var outputEl = gd.closest('.output');\n",
       "if (outputEl) {{\n",
       "    x.observe(outputEl, {childList: true});\n",
       "}}\n",
       "\n",
       "                        })                };                });            </script>        </div>"
      ]
     },
     "metadata": {},
     "output_type": "display_data"
    }
   ],
   "source": [
    "\n",
    "fig = px.scatter(df_study,\n",
    "                 x='values_0',y='values_1',\n",
    "#                  error_x='values_1',\n",
    "#                  color='params_classifier_method',\n",
    "                 size='params_max_depth',\n",
    "#                  symbol=\"sampler\",\n",
    "                 \n",
    "                 labels={'params_n_estimators':'n_estimators',\n",
    "                         'params_max_depth':'max_depth',\n",
    "                         'params_classifier_method':'classifier',\n",
    "                         'params_imputer_method':'imputer',\n",
    "                          'values_0':'roc_auc',\n",
    "                          'values_1':'avg_prec'},\n",
    "                 hover_name='number',\n",
    "                 color_continuous_scale='bluered')\n",
    "\n",
    "# fig.add_vline(x=basemodel_logloss,\n",
    "#              annotation_text=\"model baseline\", \n",
    "#              annotation_position=\"top right\")\n",
    "\n",
    "fig.update_layout(\n",
    "    title=\"Multi-Objective Optimization\",\n",
    "#     xaxis_title=\"FPR\",\n",
    "#     yaxis_title=\"TPR\",\n",
    "    font_size=18)\n",
    "    \n",
    "fig.show()"
   ]
  },
  {
   "cell_type": "code",
   "execution_count": null,
   "metadata": {},
   "outputs": [],
   "source": []
  },
  {
   "cell_type": "markdown",
   "metadata": {},
   "source": [
    "# Conclusions\n",
    "\n",
    "Summaize here the main results"
   ]
  },
  {
   "cell_type": "code",
   "execution_count": null,
   "metadata": {},
   "outputs": [],
   "source": []
  }
 ],
 "metadata": {
  "interpreter": {
   "hash": "40d3a090f54c6569ab1632332b64b2c03c39dcf918b08424e98f38b5ae0af88f"
  },
  "kernelspec": {
   "display_name": "Python 3 (ipykernel)",
   "language": "python",
   "name": "python3"
  },
  "language_info": {
   "codemirror_mode": {
    "name": "ipython",
    "version": 3
   },
   "file_extension": ".py",
   "mimetype": "text/x-python",
   "name": "python",
   "nbconvert_exporter": "python",
   "pygments_lexer": "ipython3",
   "version": "3.8.5"
  },
  "toc": {
   "base_numbering": 1,
   "nav_menu": {},
   "number_sections": true,
   "sideBar": true,
   "skip_h1_title": true,
   "title_cell": "Table of Contents",
   "title_sidebar": "Contents",
   "toc_cell": true,
   "toc_position": {},
   "toc_section_display": true,
   "toc_window_display": true
  }
 },
 "nbformat": 4,
 "nbformat_minor": 2
}
