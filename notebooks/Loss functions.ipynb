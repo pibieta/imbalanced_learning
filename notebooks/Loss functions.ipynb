{
 "cells": [
  {
   "cell_type": "code",
   "execution_count": 106,
   "id": "f1c563e5",
   "metadata": {},
   "outputs": [],
   "source": [
    "import numpy as np\n",
    "import matplotlib.pyplot as plt\n",
    "import matplotlib.cm as cm"
   ]
  },
  {
   "cell_type": "markdown",
   "id": "4b1282bd",
   "metadata": {},
   "source": [
    "# Loss functions"
   ]
  },
  {
   "cell_type": "markdown",
   "id": "b249eaaa",
   "metadata": {},
   "source": [
    "Every supervised learning algorithm is constructed as a ways to minimize some kind of **loss function**. Intuitively, the lower the loss, the better the algorithm has learned.\n",
    "\n",
    "Data scientists are usually aware of the issue of overfitting: if you give your algorithm enough degrees of freedom, it will \"memorize\" the training data and achieve zero loss, but without being able to generalize to new data. Techniques such as regularization and dropoout are means to avoid overfitting; we won't discuss them in this session, and assume they are being taken care of.\n",
    "\n",
    "Instead, we will focus on a more fundamental question: what is a good choice for a  loss function?"
   ]
  },
  {
   "cell_type": "markdown",
   "id": "ba277d64",
   "metadata": {},
   "source": [
    "## Loss functions: executive summary\n",
    "We start with the conclusions for the lazy reader:\n",
    "* Simply using **log-loss with weights** is usually more than enough. This can be achieved via `class_weight` parameters in many standard algorithms, and worst-case scenario via `sample_weights` in the `.fit` method of all scikit-learn models.\n",
    "* With tabular data, our experiments using focal loss did not outperform adding weights by a lot; if you have a ready-to-use implementation, it is however good to try \n",
    "* Log-loss seems to be good even in the case where we want high ROC AUC. It outperformed or was on par with AUC-specific optimizing methods"
   ]
  },
  {
   "cell_type": "markdown",
   "id": "660e186a",
   "metadata": {},
   "source": [
    "---"
   ]
  },
  {
   "cell_type": "markdown",
   "id": "7ab523bd",
   "metadata": {},
   "source": [
    "## Back to basics: the log-loss"
   ]
  },
  {
   "cell_type": "markdown",
   "id": "6beea8c3",
   "metadata": {},
   "source": [
    "In binary classification, the standard loss function is the **log-loss** (aka binary cross-entropy)\n",
    "\n",
    "$$\\boxed{\\ell(y, q) = - y \\log q - (1-y) \\log(1-q)}$$\n",
    "\n",
    "where $y$ is the real label taking values 0 or 1, and $q \\in [0,1]$ is a predicted score, $q = q(x) = \\widehat{\\mathbb P}(Y=1|X=x)$. The logarithm is usually taken to be the natural log (base $e$), although any other base would be equally valid. We take $0 \\log 0 \\equiv 0$, as would be the natural extension from the limit."
   ]
  },
  {
   "cell_type": "markdown",
   "id": "621a03c7",
   "metadata": {},
   "source": [
    "> For example: if we predict a score of $q=0.8$ for a point with $y=1$, this yields a log-loss of $-\\log 0.8 = 0.22$."
   ]
  },
  {
   "cell_type": "markdown",
   "id": "6de45a41",
   "metadata": {},
   "source": [
    "This function has a few key properties:\n",
    "* It is zero when we yield a perfectly sure predictor: if $y=1$ and we predict $q=1$, the error is zero. Analogously for $y=0$ and $q=0$.\n",
    "* It is non-negative: thus, a prediction can be more or less penalized, but there is always some level of penalty.\n",
    "* **It diverges**: for $y=1$, it diverges at $q \\to 0$ and analogously for $y=0$ it diverges at $q \\to 1$. This is will be an important point of discussion in the following sections."
   ]
  },
  {
   "cell_type": "markdown",
   "id": "0fed7a74",
   "metadata": {},
   "source": [
    "### Where does the log-loss come from? The Bernoulli formalism"
   ]
  },
  {
   "cell_type": "markdown",
   "id": "3fc7f50b",
   "metadata": {},
   "source": [
    "Recall our probabilistic setup: we consider a pair of jointly distributed variables $(X,Y)$ where $Y$ takes values in $\\{0,1\\}$. This means that $\\mathbb P(Y=1|X=x) \\equiv q(x)$ is some function of $x$, and similarly $\\mathbb P(Y=0|X=x) = 1 - \\mathbb P(Y=1|X=x) = 1-q(x)$. \n",
    "\n",
    "We then say that the variable $Y|X=x$ is a **Bernoulli variable** with parameter $q(x)$, and write\n",
    "\n",
    "$$\\boxed{Y|X=x \\; \\sim \\; \\mathrm{Bernoulli}(q(x))}$$"
   ]
  },
  {
   "cell_type": "markdown",
   "id": "72ae1475",
   "metadata": {},
   "source": [
    "The log-loss comes from the following result:\n",
    "\n",
    "**Proposition**. Let there be $N$ iid random variables $Y_i \\sim \\mathrm{Bernoulli}(q)$, whose values we observe as $y_1,\\ldots, y_N$. The maximum likelihood estimator $\\hat q$ of $q$ is the one that maximizes the empirical likelihood function\n",
    "\n",
    "$$L(q) =  \\sum_{i=1}^N [y_i \\log q + (1-y_i) \\log (1-q)],$$\n",
    "\n",
    "namely \n",
    "\n",
    "$$\\hat q = \\frac{1}{N} \\sum_{i=1}^N y_i$$"
   ]
  },
  {
   "cell_type": "markdown",
   "id": "1c21bb96",
   "metadata": {},
   "source": [
    "*Proof*: notice that we can write the two expressions $\\mathbb P(Y=1) =q $ and $\\mathbb P(Y=0) = 1 - q$ concisely as \n",
    "\n",
    "$$\\mathbb P(Y=y) = q^y (1-q)^{1-y}.$$\n",
    "\n",
    "The joint probability of obtaining the observed values $y_1,\\ldots, y_n$ is then \n",
    "\n",
    "$$\\mathbb P(Y_1 = y_1,\\ldots, Y_N = y_N) = \\prod_{i=1}^N q^{y_i} (1-q)^{1-y_i}.$$\n",
    "\n",
    "Taking the log of both sides yields the log-likelihood function,\n",
    "\n",
    "$$L(q) = \\log \\prod_{i=1}^N q^{y_i} (1-q)^{1-y_i} = \\sum_{i=1}^N [y_i \\log q + (1-y_i) \\log (1-q)]$$"
   ]
  },
  {
   "cell_type": "markdown",
   "id": "1f7059c7",
   "metadata": {},
   "source": [
    "Maximum likelihood estimation states that we want to find the $q$ value that maximizes this quantity. This is equivalent to minimizing its negative, which is exactly the log-loss, as we wanted to show. $\\blacksquare$"
   ]
  },
  {
   "cell_type": "markdown",
   "id": "87d9f405",
   "metadata": {},
   "source": [
    "## Why do we use the log-loss?"
   ]
  },
  {
   "cell_type": "markdown",
   "id": "6adc42a4",
   "metadata": {},
   "source": [
    "In most cases in binary classification, we use the log-loss as our loss function. Why?\n",
    "\n",
    "It is a very natural choice. *Any* binary classification problem can be written as a ($x$-dependent) Bernoulli variable, ie. a Bernoulli problem where the parameter $q$ is a function $q(x)$."
   ]
  },
  {
   "cell_type": "markdown",
   "id": "28f24591",
   "metadata": {},
   "source": [
    "Logistic regression, in particular, *explicitly* writes $q(x) \\equiv q_\\beta(x)$ as a sigmoid,\n",
    "\n",
    "$$q_\\beta(x) = \\frac{1}{\\displaystyle 1 + e^{-\\beta \\cdot x}}$$"
   ]
  },
  {
   "cell_type": "markdown",
   "id": "da6570f7",
   "metadata": {},
   "source": [
    "and so allows us to run gradient descent on $\\beta$ via explicit minimization of the log-loss."
   ]
  },
  {
   "cell_type": "markdown",
   "id": "3034d749",
   "metadata": {},
   "source": [
    "## Are there other losses?"
   ]
  },
  {
   "cell_type": "markdown",
   "id": "79f4a09f",
   "metadata": {},
   "source": [
    "Absolutely. Any function which gives a positive number when the predicted score is \"far\" from the label and a small one otherwise is a valid loss. If this function is furthermore a differentiable function of the parameters, everything gets even better.\n",
    "\n",
    "* **SVM example**: in linear support vector machines we minimize the **hinge loss**\n",
    "\n",
    "    $$L_\\mathrm{hinge} = \\sum_{i=1}^N \\max\\{0, 1 - y_i (w\\cdot x_i+b)\\}$$\n",
    "\n",
    "    where $w\\in\\mathbb R^n$, $b\\in\\mathbb R$ (and, here, $y_i \\in \\{-1, 1\\}$). Notice that this is a completely different setup: instead of predicting a score $q$, we predict $ F(x_i) \\equiv w \\cdot x_i + b$ directly; if this quantity has the same sign as $y_i$, then their product is positive and the loss goes down, whereas if the signs are opposite this increases the loss."
   ]
  },
  {
   "cell_type": "markdown",
   "id": "88c59d95",
   "metadata": {},
   "source": [
    "* **AdaBoost**: in the AdaBoost algorithm, one often talks about the **exponential loss** \n",
    "\n",
    "  $$L_\\mathrm{exp} = \\frac{1}{N}\\sum_{i=1}^N [y_i e^{-F(x_i)} + (1-y_i) e^{+F(x_i)}]$$\n",
    "  \n",
    "  where $F(x)$ is a transformed quantity, related to the predicted probability score (usually, we only take $\\mathrm{sign}\\;F(x)$ in the end as the predicted variable).\n",
    "  \n",
    "  Under the choice [1] of link function\n",
    "  \n",
    "  $$q(x) = \\frac{1}{\\displaystyle 1+e^{-2F(x)}} \\quad \\Leftrightarrow \\quad F(x) = \\frac 12 \\log \\frac{q}{1-q}$$\n",
    "  \n",
    "  we can rewrite the loss function as a function of $y$ and the score $q$, in an expression similar to the log-loss:\n",
    "  \n",
    "  $$\\boxed{L_\\mathrm{exp} = y \\sqrt{\\frac{1-q}{q}} + (1-y) \\sqrt{\\frac{q}{1-q}}.}$$\n",
    "\n",
    "* **Brier score**: as we will see in the Calibration section, we can define the so-called Brier loss (or Brier score)\n",
    "  \n",
    "  $$\\boxed{L_\\mathrm{Brier} = (y-q)^2 = y(1-q)^2 + (1-y)q^2}$$\n",
    "  \n",
    "  \n",
    "* **Focal loss**: for completeness, we write out here the focal loss, which we will discuss in the section about imbalanced learning:\n",
    "\n",
    "  $$\\boxed{L_\\mathrm{focal} = -y (1-q)^\\gamma \\log q - (1-\\eta) q^\\gamma \\log(1-q)}$$"
   ]
  },
  {
   "cell_type": "markdown",
   "id": "47660204",
   "metadata": {},
   "source": [
    "---"
   ]
  },
  {
   "cell_type": "markdown",
   "id": "85e787e7",
   "metadata": {},
   "source": [
    "# Advanced topic: proper scoring rules\n",
    "(this section can be skipped on a first reading)"
   ]
  },
  {
   "cell_type": "markdown",
   "id": "44ab6fb8",
   "metadata": {},
   "source": [
    "### Expected losses"
   ]
  },
  {
   "cell_type": "markdown",
   "id": "274f38ff",
   "metadata": {},
   "source": [
    "All loss functions discussed above can be written in the form\n",
    "\n",
    "$$\\boxed{L(y|q) = y L_1(1-q) + (1-y)L_0(q)}.$$"
   ]
  },
  {
   "cell_type": "markdown",
   "id": "3ef35b34",
   "metadata": {},
   "source": [
    "Here, we have explicitly written that $L$ depends on $y$ *conditioned on* the predicted score $q$. Notice that this is the only dependence that $y$ has on $x$, namely via $q = q(x)$. "
   ]
  },
  {
   "cell_type": "markdown",
   "id": "805e57fe",
   "metadata": {},
   "source": [
    "> Example: for the log-loss, \n",
    "$$\\begin{align*}\n",
    "L_0(q) &= - \\log(1-q)\\\\\n",
    "L_1(1-q) &= -\\log q \\quad \\Rightarrow L_1(u) = - \\log(1-u) = L_0(u)\n",
    "\\end{align*}$$\n",
    "Notice that both functions are equal, but functions of different variables."
   ]
  },
  {
   "cell_type": "markdown",
   "id": "1c18ec2b",
   "metadata": {},
   "source": [
    "> Example: for the Brier loss,\n",
    "$$L_0(q) = q^2, \\quad L_1(1-q) = (1-q)^2$$"
   ]
  },
  {
   "cell_type": "markdown",
   "id": "47797161",
   "metadata": {},
   "source": [
    "In what follows, **we fix a point $X=x$**. Write $Y|X=x$ as simply $Y$ as an abuse of notation. Then, \n",
    "\n",
    "$$Y \\sim \\mathrm{Bernoulli}(\\eta)$$\n",
    "\n",
    "where $\\eta = \\mathbb P(Y=1)$ (really $\\mathbb P(Y=1|X=x)$). \n",
    "\n",
    "We define the **expected loss**\n",
    "\n",
    "$$\\boxed{R(\\eta|q) = \\mathbb E_Y L(Y|q).}$$"
   ]
  },
  {
   "cell_type": "markdown",
   "id": "51a7b5f2",
   "metadata": {},
   "source": [
    "It is a function of two variables: the real Bernoulli parameter $\\eta$, and the predicted score $q$. "
   ]
  },
  {
   "cell_type": "markdown",
   "id": "aa4a78bd",
   "metadata": {},
   "source": [
    "Intuitively, what do we want? If we predict the parameter perfectly (ie. $q = \\eta$) we would expect $R$ to be minimized. This is a logical desideratum, but it is not obvious, and it motivates the following:\n",
    "\n",
    "\n",
    "### Proper scoring rules \n",
    "A loss function $L(y|q)$ is a **proper scoring rule** if the expected loss $q \\mapsto R(\\eta|q)$ is minimized by $q=\\eta$. It is further described as **strict** if $\\eta$ is the global minimizer."
   ]
  },
  {
   "cell_type": "markdown",
   "id": "3add9384",
   "metadata": {},
   "source": [
    "> Notice that we can write, since $\\mathbb E[Y] =\\eta$ if $Y \\sim \\mathrm{Bernoulli}(\\eta)$:\n",
    "$$\\boxed{R(\\eta|q) = \\eta L_1 (1-q) + (1-\\eta) L_0(q)}$$"
   ]
  },
  {
   "cell_type": "markdown",
   "id": "9cea054d",
   "metadata": {},
   "source": [
    "Not everything is a proper scoring rule. The losses we mentioned above definitely are, but ROC AUC or Average Precision, for instance, are not. In fact, proper scoring rules have very interesting properties, which we now lay out:"
   ]
  },
  {
   "cell_type": "markdown",
   "id": "ab8e8e9c",
   "metadata": {},
   "source": [
    "**Theorem** [Shuford-Albert-Massengil] \n",
    "\n",
    "$L(y|p)$ is a proper scoring rule if and only if there exists a **weight function** $\\omega: [0,1] \\to \\mathbb R_+$ such that\n",
    "\n",
    "$$\\frac{d L_1(1-q)}{d(1-q)} = \\omega(q) (1-q),\\qquad \\frac{d L_0}{dq} = \\omega(q) q;$$\n",
    "\n",
    "if these are bounded below, then the equations can be integrated to give\n",
    "\n",
    "$$L_1(1-q) = \\int_q^1 (1-c) \\omega(c) dc,\\qquad L_0(q) = \\int_0^q c \\omega(c) dc,$$\n",
    "\n",
    "[and in fact, this is the general form regardless of smoothness, due to a theorem by Schervish 1989].  \n",
    "\n",
    "In the case of twice-differentiable $R$, \n",
    "\n",
    "$$\\boxed{\\omega(\\eta) = \\left.\\frac{\\partial^2 R(\\eta|q)}{\\partial q^2} \\right|_{q = \\eta}}$$"
   ]
  },
  {
   "cell_type": "markdown",
   "id": "402ac03f",
   "metadata": {},
   "source": [
    "> Example: consider again the log-loss, where $L(y|q) = - y \\log q - (1-y) \\log (1-q)$. The expected loss is\n",
    "$$R(\\eta|q) = -\\mathbb E[y] \\log q - (1-\\mathbb E[y]) \\log(1-q) = - \\eta \\log q - (1-\\eta)\\log(1-q).$$\n",
    "Differentiating, we get\n",
    "$$\\frac{\\partial R}{\\partial q} = - \\frac{\\eta}{q} + \\frac{1-\\eta}{1-q};\\quad \\frac{\\partial^2 R}{\\partial q^2} =  \\frac{\\eta}{q^2} + \\frac{1-\\eta}{(1-q)^2}$$\n",
    "$$\\Rightarrow \\omega(\\eta) = \\left.\\frac{\\partial^2 R}{\\partial q^2}\\right|_{q=\\eta} = \\frac{1}{\\eta (1-\\eta)}$$"
   ]
  },
  {
   "cell_type": "markdown",
   "id": "a3d523de",
   "metadata": {},
   "source": [
    "### The weight function: the unifier of proper scoring rules"
   ]
  },
  {
   "cell_type": "markdown",
   "id": "efb5db5b",
   "metadata": {},
   "source": [
    "The calculation in the example above is actually interesting because it shows that this weight function (which we haven't interpreted yet) diverges at both $\\eta = 0$ and $\\eta = 1$, similarly to how the log-loss itself does.\n",
    "\n",
    "To motivate the reasoning of $\\omega$ as a weight, we notice a theorem by Shuford, Albert, Massengil, Savage and Scherviss (see [1]) which states the following:\n",
    "\n",
    "Fix $0 < c < 1$, and let\n",
    "\n",
    "$$\\boxed{L_c(y|q) = y(1-c) 1_{q \\leq c} + (1-y) c 1_{q>c}}$$\n",
    "\n",
    "be a **cost-weighted misclassification error**: it penalizes false positives with cost $c$ and false negatives with cost $1-c$.\n",
    "\n",
    "Then, any proper scoring rule can be written as \n",
    "\n",
    "$$\\boxed{L(y|p) = \\int_0^1 L_c(y|p) \\,\\omega(c) dc}$$\n",
    "\n"
   ]
  },
  {
   "cell_type": "markdown",
   "id": "7639c823",
   "metadata": {},
   "source": [
    "**This result is extremely interesting**. It is a **unified vision** of all the different loss functions we saw so far: if we consider the simplest loss function, which penalizes both false positive and negatives, and integrate it against a weight function $\\omega(c)$ for all possible costs $c$, we arrive at a loss function which is a proper scoring rule! \n",
    "\n",
    "In fact, it shows that the degree of freedom in choosing a proper scoring rule **lies in the choice of the weight function**, period. "
   ]
  },
  {
   "cell_type": "markdown",
   "id": "bc0e6953",
   "metadata": {},
   "source": [
    "> Exercise: starting from $\\omega(c) = [c(1-c)]^{-1}$, obtain the log-loss."
   ]
  },
  {
   "cell_type": "markdown",
   "id": "6c9815a2",
   "metadata": {},
   "source": [
    "### The Beta family of proper scoring rules"
   ]
  },
  {
   "cell_type": "markdown",
   "id": "48f500ab",
   "metadata": {},
   "source": [
    "In the discussion above, we saw a unified approach to creating loss functions which are proper scoring rules. We can go one step beyond, and show that they all (except the focal loss) *belong in the the same family of functions!*"
   ]
  },
  {
   "cell_type": "markdown",
   "id": "f5f5a0bf",
   "metadata": {},
   "source": [
    "Recall that\n",
    "\n",
    "$$\\omega_\\mathrm{log-loss}(q) = \\frac{1}{q(1-q)}$$\n",
    "\n",
    "For the exponential loss, \n",
    "\n",
    "$$L(y|q) = y \\sqrt{\\frac{1-q}{q}} + (1-y) \\sqrt{\\frac{q}{1-q}}$$\n",
    "\n",
    "we have an actually similar weight function\n",
    "\n",
    "$$\\omega_\\mathrm{exp}(q) = \\left(\\frac{1}{q(1-q)}\\right)^{3/2}$$\n",
    "\n",
    "We can actually introduce a parametric family of functions which include all these as well as the Brier score and misclassification loss: the **Beta family**\n",
    "\n",
    "$$\\boxed{\\omega_{\\alpha,\\beta}(q) := q^{\\alpha-1} (1-q)^{\\beta-1}}$$\n",
    "\n",
    "where the name is obviously motivated by the Beta function (https://en.wikipedia.org/wiki/Beta_function).\n",
    "\n",
    "Then:\n",
    "* $\\alpha=\\beta=-1/2$: exponential loss\n",
    "* $\\alpha=\\beta=0$: log-loss\n",
    "* $\\alpha=\\beta=1$: Brier (squared error) loss\n",
    "* $\\alpha=\\beta\\to\\infty$: misclassification loss (weak convergence to delta mass)\n",
    "\n",
    "Also, any values of $\\alpha$ and $\\beta$ which are multiples of $1/2$ yield closed-form formulas for $\\omega$. For example, if $\\alpha=\\beta=1/2$, we get an intermediate between log-loss and squared error loss:\n",
    "$$L(y|q) = y (\\arcsin\\sqrt{1-q} - \\sqrt{q(1-q)}) + (1-y) (\\arcsin\\sqrt{q} - \\sqrt{q(1-q)})$$"
   ]
  },
  {
   "cell_type": "markdown",
   "id": "14722f16",
   "metadata": {},
   "source": [
    "In general, if we define the (non-regularized) **incomplete Beta function**\n",
    "\n",
    "$$B(x; a, b) := \\int_0^x t^{a-1} (1-t)^{b-1} dt$$"
   ]
  },
  {
   "cell_type": "markdown",
   "id": "93ac5f40",
   "metadata": {},
   "source": [
    "then we can explicitly write the loss functions for the Beta family as \n",
    "\n",
    "$$\\boxed{L(y|q) = y B(1-q; \\beta+1, \\alpha) + (1-y) B(q; \\alpha+1,\\beta)}$$"
   ]
  },
  {
   "cell_type": "markdown",
   "id": "a69d5ea9",
   "metadata": {},
   "source": [
    "---"
   ]
  },
  {
   "cell_type": "markdown",
   "id": "c280bb43",
   "metadata": {},
   "source": [
    "# Issues with our loss functions"
   ]
  },
  {
   "cell_type": "markdown",
   "id": "0e87f55f",
   "metadata": {},
   "source": [
    "As we have mentioned before, the log-loss has divergent behavior for $q = 0$ and $q=1$. Let us study that further.\n",
    "\n",
    "To make things simpler, we will assume $y=1$; the discussion is completely analogous for $y=0$. Then, our log-loss is simply\n",
    "\n",
    "$$L(y|q) = - \\log q.$$\n",
    "\n",
    "This function diverges *exponentially* for $q \\to 0$ and *linearly* goes to 0 at $q=1$. See the figure below, where we also plot other loss functions that we have seen above:"
   ]
  },
  {
   "cell_type": "code",
   "execution_count": 22,
   "id": "1c2b7f9a",
   "metadata": {},
   "outputs": [
    {
     "data": {
      "image/png": "[encoded data removed]",
      "text/plain": [
       "<Figure size 432x288 with 1 Axes>"
      ]
     },
     "metadata": {
      "needs_background": "light"
     },
     "output_type": "display_data"
    }
   ],
   "source": [
    "q = np.linspace(0.01,1,100)\n",
    "plt.plot(q, -np.log(q), label='Log-loss: $-\\log (q)$')\n",
    "plt.plot(q, np.sqrt((1-q)/q), label='Exp. loss: $\\sqrt{(1-q)/q)}$')\n",
    "plt.plot(q, (1-q)**2, label='Brier loss: $(1-q)^2$')\n",
    "\n",
    "plt.xlabel('q'); plt.ylabel('Loss')\n",
    "plt.legend()\n",
    "plt.show()"
   ]
  },
  {
   "cell_type": "markdown",
   "id": "38d0e831",
   "metadata": {},
   "source": [
    "The behavior we see for the log-loss is that it heavily penalizes misclassified points, due to the exponential behavior - which is good - but only decreases linearly as we classify correctly - which isn't great. \n",
    "\n",
    "Ideally, in many applications, you would like points which are \"easier to classify\" (meaning that the score is close to the actual label 0 or 1) to be \"taken care of\" first, and then deal with points which are harder to classify. For a classification problem, these are the points close to 0.5 (assuming good model calibration). \n",
    "\n",
    "Notice thatm for the exponential loss, these characteristics (diverging at 0, slowly going to 0 at 1) are even more pronounced. The Brier loss has the issue that it doesn't penalize enough points with low $q$ here.\n",
    "\n",
    "In other words, for all cases here, both misclassified and well-classified points count significantly towards the loss, with a higher contribution from misclassifications (and a particularly higher contribution in the case of log-loss and exponential loss)."
   ]
  },
  {
   "cell_type": "markdown",
   "id": "9bcf20e5",
   "metadata": {},
   "source": [
    "### For those who have read the section on proper scoring rules:"
   ]
  },
  {
   "cell_type": "markdown",
   "id": "c7193046",
   "metadata": {},
   "source": [
    "The issue is that all losses in the Beta family have weights of the form $\\omega(q) = q^{\\alpha-1} (1-q)^{\\beta-1}$; as we can see in the plot below, for all values of $\\alpha <1$, we have the same behavior: convex curves which diverge at $q=0$ and $q=1$. Therefore, qualitatively, they all have similar behaviors as log-loss. For $\\alpha=1$ (which corresponds to the Brier score), all values are equally weighted and the loss function doesn't have enough discriminative power."
   ]
  },
  {
   "cell_type": "code",
   "execution_count": 44,
   "id": "00ed8e9d",
   "metadata": {},
   "outputs": [
    {
     "data": {
      "image/png": "[encoded data removed]",
      "text/plain": [
       "<Figure size 432x288 with 1 Axes>"
      ]
     },
     "metadata": {
      "needs_background": "light"
     },
     "output_type": "display_data"
    }
   ],
   "source": [
    "q = np.linspace(0.01, 0.99, 100)\n",
    "for alpha, name in zip([-0.5, 0, 0.5, 1], ['Exp. loss', 'Log-loss', 'Arcsin', 'Brier']):\n",
    "    plt.plot(q, (q*(1-q))**(alpha-1), label=f'alpha={alpha} ({name})')\n",
    "\n",
    "plt.legend()\n",
    "plt.ylim(0,50)\n",
    "plt.xlabel(\"q\"); plt.ylabel(\"$\\omega(q)$\"); plt.title(\"Weight factors for losses in the Beta family\")\n",
    "plt.show()"
   ]
  },
  {
   "cell_type": "markdown",
   "id": "f1fbc6d9",
   "metadata": {},
   "source": [
    "In fact, we can explicitly use the expression\n",
    "\n",
    "$$L(y|q) = y B(1-q; \\beta+1, \\alpha) + (1-y) B(q; \\alpha+1,\\beta)$$\n",
    "\n",
    "for the losses, and compute them explicitly. As before, take $y=1$ and study that case particularly:\n"
   ]
  },
  {
   "cell_type": "code",
   "execution_count": null,
   "id": "ad1fae15",
   "metadata": {},
   "outputs": [],
   "source": [
    "def incomplete_beta(x, a, b):\n",
    "    from scipy.special import beta, betainc\n",
    "    \n",
    "    eps = 1e-6 # for numerical stability\n",
    "    return beta(a+eps, b+eps) * betainc(a+eps, b+eps, x)"
   ]
  },
  {
   "cell_type": "code",
   "execution_count": 127,
   "id": "5fef0ab5",
   "metadata": {},
   "outputs": [
    {
     "data": {
      "image/png": "[encoded data removed]",
      "text/plain": [
       "<Figure size 432x288 with 1 Axes>"
      ]
     },
     "metadata": {
      "needs_background": "light"
     },
     "output_type": "display_data"
    }
   ],
   "source": [
    "for a in np.arange(-0.5, 2, 0.1):\n",
    "    plt.plot(q, incomplete_beta(1-q, a+1, a), c=cm.plasma((a+0.5)/2.5), linewidth=2)\n",
    "plt.title(\"Loss functions (for y=1) at different parameters alpha\")\n",
    "plt.xlabel(\"q\")\n",
    "plt.show()"
   ]
  },
  {
   "cell_type": "markdown",
   "id": "7da89387",
   "metadata": {},
   "source": [
    "We can the study all these losses' behavior close to $q=1$. Taylor series are easy to calculate there, since our function $q \\mapsto B(1-q;\\beta+1,\\alpha)$ is described as an integral of polynomial-like quantities. Hence, we should not expect eg. exponential weighings close to 1, only polynomial behavior.\n",
    "\n",
    "In conclusion, the Beta family provides us with a class of functions which diverge at the origin $q=0$, and are polynomially behaved at $q=1$ (of course, the opposite is true if we study the loss function for $y=0$). This will affect how they perform in imbalanced cases, as we will see below."
   ]
  },
  {
   "cell_type": "markdown",
   "id": "ac22e2ed",
   "metadata": {},
   "source": [
    "# Losses for imbalanced classification"
   ]
  },
  {
   "cell_type": "markdown",
   "id": "ccf1fc2d",
   "metadata": {},
   "source": [
    "In the imbalanced classification case, "
   ]
  },
  {
   "cell_type": "markdown",
   "id": "ce37a5c2",
   "metadata": {},
   "source": [
    "## Weighting"
   ]
  },
  {
   "cell_type": "markdown",
   "id": "021ea096",
   "metadata": {},
   "source": [
    "## Focal loss"
   ]
  },
  {
   "cell_type": "markdown",
   "id": "a3ff5449",
   "metadata": {},
   "source": [
    "# Appendix: direct AUC maximization?"
   ]
  },
  {
   "cell_type": "markdown",
   "id": "de96484b",
   "metadata": {},
   "source": [
    "[1] Andreas Buja, Werner Stuetzle, Yi Shen (2005). *Loss Functions for Binary Class Probability Estimation and Classification: Structure and Applications*\n",
    "\n",
    "[2] Tsung-Yi Lin, Priya Goyal, Ross Girshick, Kaiming He, Piotr Dollár. *Focal Loss for Dense Object Detection*. Available on https://arxiv.org/abs/1708.02002"
   ]
  },
  {
   "cell_type": "code",
   "execution_count": null,
   "id": "b11ef6c5",
   "metadata": {},
   "outputs": [],
   "source": []
  },
  {
   "cell_type": "code",
   "execution_count": null,
   "id": "debe8efb",
   "metadata": {},
   "outputs": [],
   "source": []
  },
  {
   "cell_type": "code",
   "execution_count": null,
   "id": "7fff02d8",
   "metadata": {},
   "outputs": [],
   "source": []
  },
  {
   "cell_type": "code",
   "execution_count": null,
   "id": "9fa6e061",
   "metadata": {},
   "outputs": [],
   "source": []
  },
  {
   "cell_type": "code",
   "execution_count": null,
   "id": "51f5a8ab",
   "metadata": {},
   "outputs": [],
   "source": []
  },
  {
   "cell_type": "code",
   "execution_count": null,
   "id": "01a91f9f",
   "metadata": {},
   "outputs": [],
   "source": []
  },
  {
   "cell_type": "code",
   "execution_count": null,
   "id": "ebb49ef9",
   "metadata": {},
   "outputs": [],
   "source": []
  },
  {
   "cell_type": "code",
   "execution_count": null,
   "id": "bbda2c6a",
   "metadata": {},
   "outputs": [],
   "source": []
  },
  {
   "cell_type": "code",
   "execution_count": 68,
   "id": "30b7d715",
   "metadata": {},
   "outputs": [],
   "source": [
    "# np.random.seed(2)\n",
    "# pres_normal = 120+ 15*np.random.randn(200)\n",
    "# pres_higher = 150+ 30*np.random.randn(200)"
   ]
  },
  {
   "cell_type": "code",
   "execution_count": null,
   "id": "3ba2e81d",
   "metadata": {},
   "outputs": [],
   "source": []
  },
  {
   "cell_type": "code",
   "execution_count": null,
   "id": "073c9cde",
   "metadata": {},
   "outputs": [],
   "source": []
  },
  {
   "cell_type": "code",
   "execution_count": null,
   "id": "85fe33fc",
   "metadata": {},
   "outputs": [],
   "source": []
  },
  {
   "cell_type": "code",
   "execution_count": null,
   "id": "371ced3c",
   "metadata": {},
   "outputs": [],
   "source": []
  },
  {
   "cell_type": "code",
   "execution_count": null,
   "id": "9c48b548",
   "metadata": {},
   "outputs": [],
   "source": []
  },
  {
   "cell_type": "code",
   "execution_count": 69,
   "id": "7fd902a3",
   "metadata": {},
   "outputs": [],
   "source": [
    "group_A # tomou remedio \n",
    "group_B # nao tomou"
   ]
  },
  {
   "cell_type": "code",
   "execution_count": 79,
   "id": "97f481a3",
   "metadata": {},
   "outputs": [],
   "source": [
    "diferenca = group_A - 120"
   ]
  },
  {
   "cell_type": "code",
   "execution_count": 80,
   "id": "f5ec3525",
   "metadata": {},
   "outputs": [
    {
     "data": {
      "text/plain": [
       "0.215"
      ]
     },
     "execution_count": 80,
     "metadata": {},
     "output_type": "execute_result"
    }
   ],
   "source": [
    "(np.abs(diferenca) < 5).mean()"
   ]
  },
  {
   "cell_type": "code",
   "execution_count": 81,
   "id": "f402f2eb",
   "metadata": {},
   "outputs": [
    {
     "data": {
      "text/plain": [
       "16.20063150374675"
      ]
     },
     "execution_count": 81,
     "metadata": {},
     "output_type": "execute_result"
    }
   ],
   "source": [
    "diferenca.std()"
   ]
  },
  {
   "cell_type": "code",
   "execution_count": 82,
   "id": "a28a4ec8",
   "metadata": {},
   "outputs": [
    {
     "data": {
      "text/plain": [
       "0.18375013045311334"
      ]
     },
     "execution_count": 82,
     "metadata": {},
     "output_type": "execute_result"
    }
   ],
   "source": [
    "diferenca.mean()"
   ]
  },
  {
   "cell_type": "code",
   "execution_count": null,
   "id": "bfe9247d",
   "metadata": {},
   "outputs": [],
   "source": []
  }
 ],
 "metadata": {
  "kernelspec": {
   "display_name": "Python 3",
   "language": "python",
   "name": "python3"
  },
  "language_info": {
   "codemirror_mode": {
    "name": "ipython",
    "version": 3
   },
   "file_extension": ".py",
   "mimetype": "text/x-python",
   "name": "python",
   "nbconvert_exporter": "python",
   "pygments_lexer": "ipython3",
   "version": "3.8.8"
  }
 },
 "nbformat": 4,
 "nbformat_minor": 5
}
