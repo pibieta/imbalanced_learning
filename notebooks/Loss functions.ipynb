{
 "cells": [
  {
   "cell_type": "code",
   "execution_count": 253,
   "id": "fc15ab47",
   "metadata": {},
   "outputs": [],
   "source": [
    "import numpy as np\n",
    "import matplotlib.pyplot as plt\n",
    "import matplotlib.cm as cm"
   ]
  },
  {
   "cell_type": "markdown",
   "id": "a27fddc3",
   "metadata": {},
   "source": [
    "# Loss functions"
   ]
  },
  {
   "cell_type": "markdown",
   "id": "9ff22043",
   "metadata": {},
   "source": [
    "Every supervised learning algorithm is constructed as a ways to minimize some kind of **loss function**. Intuitively, the lower the loss, the better the algorithm has learned.\n",
    "\n",
    "Data scientists are usually aware of the issue of overfitting: if you give your algorithm enough degrees of freedom, it will \"memorize\" the training data and achieve zero loss, but without being able to generalize to new data. Techniques such as regularization and dropoout are means to avoid overfitting; we won't discuss them in this session, and assume they are being taken care of.\n",
    "\n",
    "Instead, we will focus on a more fundamental question: what is a good choice for a  loss function?"
   ]
  },
  {
   "cell_type": "markdown",
   "id": "07876c72",
   "metadata": {},
   "source": [
    "## Loss functions: executive summary\n",
    "We start with the conclusions for the lazy reader:\n",
    "* Simply using **log-loss with weights** is usually more than enough. This can be achieved via `class_weight` parameters in many standard algorithms, and worst-case scenario via `sample_weight` in the `.fit` method of all scikit-learn models.\n",
    "* Given the off-the-shelf LightGBM and XGBoost implementations, we recommend trying to use **focal loss** as an alternative loss function in the imbalanced case"
   ]
  },
  {
   "cell_type": "markdown",
   "id": "1d0e6ce1",
   "metadata": {},
   "source": [
    "---"
   ]
  },
  {
   "cell_type": "markdown",
   "id": "aee5b7ba",
   "metadata": {},
   "source": [
    "## Back to basics: the log-loss"
   ]
  },
  {
   "cell_type": "markdown",
   "id": "4042b21d",
   "metadata": {},
   "source": [
    "In binary classification, the standard loss function is the **log-loss** (aka binary cross-entropy)\n",
    "\n",
    "$$\\boxed{\\ell(y, q) = - y \\log q - (1-y) \\log(1-q)}$$\n",
    "\n",
    "where $y$ is the real label taking values 0 or 1, and $q \\in [0,1]$ is a predicted score, $q = q(x) = \\widehat{\\mathbb P}(Y=1|X=x)$. The logarithm is usually taken to be the natural log (base $e$), although any other base would be equally valid. We take $0 \\log 0 \\equiv 0$, as would be the natural extension from the limit."
   ]
  },
  {
   "cell_type": "markdown",
   "id": "5a2be1f1",
   "metadata": {},
   "source": [
    "> For example: if we predict a score of $q=0.8$ for a point with $y=1$, this yields a log-loss of $-\\log 0.8 = 0.22$."
   ]
  },
  {
   "cell_type": "markdown",
   "id": "ee56996c",
   "metadata": {},
   "source": [
    "This function has a few key properties:\n",
    "* It is zero when we yield a perfectly sure predictor: if $y=1$ and we predict $q=1$, the error is zero. Analogously for $y=0$ and $q=0$.\n",
    "* It is non-negative: thus, a prediction can be more or less penalized, but there is always some level of penalty.\n",
    "* **It diverges**: for $y=1$, it diverges at $q \\to 0$ and analogously for $y=0$ it diverges at $q \\to 1$. This is will be an important point of discussion in the following sections."
   ]
  },
  {
   "cell_type": "markdown",
   "id": "5ae7aa89",
   "metadata": {},
   "source": [
    "### Where does the log-loss come from? The Bernoulli formalism"
   ]
  },
  {
   "cell_type": "markdown",
   "id": "20b52a0e",
   "metadata": {},
   "source": [
    "Recall our probabilistic setup: we consider a pair of jointly distributed variables $(X,Y)$ where $Y$ takes values in $\\{0,1\\}$. This means that $\\mathbb P(Y=1|X=x) \\equiv q(x)$ is some function of $x$, and similarly $\\mathbb P(Y=0|X=x) = 1 - \\mathbb P(Y=1|X=x) = 1-q(x)$. \n",
    "\n",
    "We then say that the variable $Y|X=x$ is a **Bernoulli variable** with parameter $q(x)$, and write\n",
    "\n",
    "$$\\boxed{Y|X=x \\; \\sim \\; \\mathrm{Bernoulli}(q(x))}$$"
   ]
  },
  {
   "cell_type": "markdown",
   "id": "af0b8b7c",
   "metadata": {},
   "source": [
    "The log-loss comes from the following result:\n",
    "\n",
    "**Proposition**. Let there be $N$ iid random variables $Y_i \\sim \\mathrm{Bernoulli}(q)$, whose values we observe as $y_1,\\ldots, y_N$. The maximum likelihood estimator $\\hat q$ of $q$ is the one that maximizes the empirical likelihood function\n",
    "\n",
    "$$L(q) =  \\sum_{i=1}^N [y_i \\log q + (1-y_i) \\log (1-q)],$$\n",
    "\n",
    "namely \n",
    "\n",
    "$$\\hat q = \\frac{1}{N} \\sum_{i=1}^N y_i$$"
   ]
  },
  {
   "cell_type": "markdown",
   "id": "c6e9962c",
   "metadata": {},
   "source": [
    "*Proof*: notice that we can write the two expressions $\\mathbb P(Y=1) =q $ and $\\mathbb P(Y=0) = 1 - q$ concisely as \n",
    "\n",
    "$$\\mathbb P(Y=y) = q^y (1-q)^{1-y}.$$\n",
    "\n",
    "The joint probability of obtaining the observed values $y_1,\\ldots, y_n$ is then \n",
    "\n",
    "$$\\mathbb P(Y_1 = y_1,\\ldots, Y_N = y_N) = \\prod_{i=1}^N q^{y_i} (1-q)^{1-y_i}.$$\n",
    "\n",
    "Taking the log of both sides yields the log-likelihood function,\n",
    "\n",
    "$$L(q) = \\log \\prod_{i=1}^N q^{y_i} (1-q)^{1-y_i} = \\sum_{i=1}^N [y_i \\log q + (1-y_i) \\log (1-q)]$$"
   ]
  },
  {
   "cell_type": "markdown",
   "id": "7ea3479b",
   "metadata": {},
   "source": [
    "Maximum likelihood estimation states that we want to find the $q$ value that maximizes this quantity. This is equivalent to minimizing its negative, which is exactly the log-loss, as we wanted to show. $\\blacksquare$"
   ]
  },
  {
   "cell_type": "markdown",
   "id": "4c4b4284",
   "metadata": {},
   "source": [
    "## Why do we use the log-loss?"
   ]
  },
  {
   "cell_type": "markdown",
   "id": "62921b11",
   "metadata": {},
   "source": [
    "In most cases in binary classification, we use the log-loss as our loss function. Why?\n",
    "\n",
    "It is a very natural choice. *Any* binary classification problem can be written as a ($x$-dependent) Bernoulli variable, ie. a Bernoulli problem where the parameter $q$ is a function $q(x)$."
   ]
  },
  {
   "cell_type": "markdown",
   "id": "0232f1a7",
   "metadata": {},
   "source": [
    "Logistic regression, in particular, *explicitly* writes $q(x) \\equiv q_\\beta(x)$ as a sigmoid,\n",
    "\n",
    "$$q_\\beta(x) = \\frac{1}{\\displaystyle 1 + e^{-\\beta \\cdot x}}$$"
   ]
  },
  {
   "cell_type": "markdown",
   "id": "8de6b211",
   "metadata": {},
   "source": [
    "and so allows us to run gradient descent on $\\beta$ via explicit minimization of the log-loss."
   ]
  },
  {
   "cell_type": "markdown",
   "id": "8042843d",
   "metadata": {},
   "source": [
    "## Are there other losses?"
   ]
  },
  {
   "cell_type": "markdown",
   "id": "ecafaa04",
   "metadata": {},
   "source": [
    "Absolutely. Any function which gives a positive number when the predicted score is \"far\" from the label and a small one otherwise is a valid loss. If this function is furthermore a differentiable function of the parameters, everything gets even better.\n",
    "\n",
    "* **SVM example**: in linear support vector machines we minimize the **hinge loss**\n",
    "\n",
    "    $$L_\\mathrm{hinge} = \\sum_{i=1}^N \\max\\{0, 1 - y_i (w\\cdot x_i+b)\\}$$\n",
    "\n",
    "    where $w\\in\\mathbb R^n$, $b\\in\\mathbb R$ (and, here, $y_i \\in \\{-1, 1\\}$). Notice that this is a completely different setup: instead of predicting a score $q$, we predict $ F(x_i) \\equiv w \\cdot x_i + b$ directly; if this quantity has the same sign as $y_i$, then their product is positive and the loss goes down, whereas if the signs are opposite this increases the loss."
   ]
  },
  {
   "cell_type": "markdown",
   "id": "f25e6037",
   "metadata": {},
   "source": [
    "* **AdaBoost**: in the AdaBoost algorithm, one often talks about the **exponential loss** \n",
    "\n",
    "  $$L_\\mathrm{exp} = \\frac{1}{N}\\sum_{i=1}^N [y_i e^{-F(x_i)} + (1-y_i) e^{+F(x_i)}]$$\n",
    "  \n",
    "  where $F(x)$ is a transformed quantity, related to the predicted probability score (usually, we only take $\\mathrm{sign}\\;F(x)$ in the end as the predicted variable).\n",
    "  \n",
    "  Under the choice [1] of link function\n",
    "  \n",
    "  $$q(x) = \\frac{1}{\\displaystyle 1+e^{-2F(x)}} \\quad \\Leftrightarrow \\quad F(x) = \\frac 12 \\log \\frac{q}{1-q}$$\n",
    "  \n",
    "  we can rewrite the loss function as a function of $y$ and the score $q$, in an expression similar to the log-loss:\n",
    "  \n",
    "  $$\\boxed{L_\\mathrm{exp} = y \\sqrt{\\frac{1-q}{q}} + (1-y) \\sqrt{\\frac{q}{1-q}}.}$$\n",
    "\n",
    "* **Brier score**: as we will see in the Calibration section, we can define the so-called Brier loss (or Brier score)\n",
    "  \n",
    "  $$\\boxed{L_\\mathrm{Brier} = (y-q)^2 = y(1-q)^2 + (1-y)q^2}$$\n",
    "  \n",
    "  \n",
    "* **Focal loss**: for completeness, we write out here the focal loss, which we will discuss in the section about imbalanced learning:\n",
    "\n",
    "  $$\\boxed{L_\\mathrm{focal} = -y (1-q)^\\gamma \\log q - (1-\\eta) q^\\gamma \\log(1-q)}$$"
   ]
  },
  {
   "cell_type": "markdown",
   "id": "fb53a3b6",
   "metadata": {},
   "source": [
    "---"
   ]
  },
  {
   "cell_type": "markdown",
   "id": "a29631f9",
   "metadata": {},
   "source": [
    "# Advanced topic: proper scoring rules\n",
    "(this section can be skipped on a first reading)"
   ]
  },
  {
   "cell_type": "markdown",
   "id": "786055f4",
   "metadata": {},
   "source": [
    "### Expected losses"
   ]
  },
  {
   "cell_type": "markdown",
   "id": "4ffc6f16",
   "metadata": {},
   "source": [
    "All loss functions discussed above can be written in the form\n",
    "\n",
    "$$\\boxed{L(y|q) = y L_1(1-q) + (1-y)L_0(q)}.$$"
   ]
  },
  {
   "cell_type": "markdown",
   "id": "80f94c0e",
   "metadata": {},
   "source": [
    "Here, we have explicitly written that $L$ depends on $y$ *conditioned on* the predicted score $q$. Notice that this is the only dependence that $y$ has on $x$, namely via $q = q(x)$. "
   ]
  },
  {
   "cell_type": "markdown",
   "id": "d75299c2",
   "metadata": {},
   "source": [
    "> Example: for the log-loss, \n",
    "$$\\begin{align*}\n",
    "L_0(q) &= - \\log(1-q)\\\\\n",
    "L_1(1-q) &= -\\log q \\quad \\Rightarrow L_1(u) = - \\log(1-u) = L_0(u)\n",
    "\\end{align*}$$\n",
    "Notice that both functions are equal, but functions of different variables."
   ]
  },
  {
   "cell_type": "markdown",
   "id": "e37c625b",
   "metadata": {},
   "source": [
    "> Example: for the Brier loss,\n",
    "$$L_0(q) = q^2, \\quad L_1(1-q) = (1-q)^2$$"
   ]
  },
  {
   "cell_type": "markdown",
   "id": "7e65ea69",
   "metadata": {},
   "source": [
    "In what follows, **we fix a point $X=x$**. Write $Y|X=x$ as simply $Y$ as an abuse of notation. Then, \n",
    "\n",
    "$$Y \\sim \\mathrm{Bernoulli}(\\eta)$$\n",
    "\n",
    "where $\\eta = \\mathbb P(Y=1)$ (really $\\mathbb P(Y=1|X=x)$). \n",
    "\n",
    "We define the **expected loss**\n",
    "\n",
    "$$\\boxed{R(\\eta|q) = \\mathbb E_Y L(Y|q).}$$"
   ]
  },
  {
   "cell_type": "markdown",
   "id": "7b0ecbb3",
   "metadata": {},
   "source": [
    "It is a function of two variables: the real Bernoulli parameter $\\eta$, and the predicted score $q$. "
   ]
  },
  {
   "cell_type": "markdown",
   "id": "19365f9c",
   "metadata": {},
   "source": [
    "Intuitively, what do we want? If we predict the parameter perfectly (ie. $q = \\eta$) we would expect $R$ to be minimized. This is a logical desideratum, but it is not obvious, and it motivates the following:\n",
    "\n",
    "\n",
    "### Proper scoring rules \n",
    "A loss function $L(y|q)$ is a **proper scoring rule** if the expected loss $q \\mapsto R(\\eta|q)$ is minimized by $q=\\eta$. It is further described as **strict** if $\\eta$ is the global minimizer."
   ]
  },
  {
   "cell_type": "markdown",
   "id": "0436c8d5",
   "metadata": {},
   "source": [
    "> Notice that we can write, since $\\mathbb E[Y] =\\eta$ if $Y \\sim \\mathrm{Bernoulli}(\\eta)$:\n",
    "$$\\boxed{R(\\eta|q) = \\eta L_1 (1-q) + (1-\\eta) L_0(q)}$$"
   ]
  },
  {
   "cell_type": "markdown",
   "id": "693ce2a8",
   "metadata": {},
   "source": [
    "Not everything is a proper scoring rule. The losses we mentioned above definitely are, but ROC AUC or Average Precision, for instance, are not. In fact, proper scoring rules have very interesting properties, which we now lay out:"
   ]
  },
  {
   "cell_type": "markdown",
   "id": "f35abc10",
   "metadata": {},
   "source": [
    "**Theorem** [Shuford-Albert-Massengil] \n",
    "\n",
    "$L(y|p)$ is a proper scoring rule if and only if there exists a **weight function** $\\omega: [0,1] \\to \\mathbb R_+$ such that\n",
    "\n",
    "$$\\frac{d L_1(1-q)}{d(1-q)} = \\omega(q) (1-q),\\qquad \\frac{d L_0}{dq} = \\omega(q) q;$$\n",
    "\n",
    "if these are bounded below, then the equations can be integrated to give\n",
    "\n",
    "$$L_1(1-q) = \\int_q^1 (1-c) \\omega(c) dc,\\qquad L_0(q) = \\int_0^q c \\omega(c) dc,$$\n",
    "\n",
    "[and in fact, this is the general form regardless of smoothness, due to a theorem by Schervish 1989].  \n",
    "\n",
    "In the case of twice-differentiable $R$, \n",
    "\n",
    "$$\\boxed{\\omega(\\eta) = \\left.\\frac{\\partial^2 R(\\eta|q)}{\\partial q^2} \\right|_{q = \\eta}}$$"
   ]
  },
  {
   "cell_type": "markdown",
   "id": "edefd1ea",
   "metadata": {},
   "source": [
    "> Example: consider again the log-loss, where $L(y|q) = - y \\log q - (1-y) \\log (1-q)$. The expected loss is\n",
    "$$R(\\eta|q) = -\\mathbb E[y] \\log q - (1-\\mathbb E[y]) \\log(1-q) = - \\eta \\log q - (1-\\eta)\\log(1-q).$$\n",
    "Differentiating, we get\n",
    "$$\\frac{\\partial R}{\\partial q} = - \\frac{\\eta}{q} + \\frac{1-\\eta}{1-q};\\quad \\frac{\\partial^2 R}{\\partial q^2} =  \\frac{\\eta}{q^2} + \\frac{1-\\eta}{(1-q)^2}$$\n",
    "$$\\Rightarrow \\omega(\\eta) = \\left.\\frac{\\partial^2 R}{\\partial q^2}\\right|_{q=\\eta} = \\frac{1}{\\eta (1-\\eta)}$$"
   ]
  },
  {
   "cell_type": "markdown",
   "id": "68b7a442",
   "metadata": {},
   "source": [
    "### The weight function: the unifier of proper scoring rules"
   ]
  },
  {
   "cell_type": "markdown",
   "id": "13b586f7",
   "metadata": {},
   "source": [
    "The calculation in the example above is actually interesting because it shows that this weight function (which we haven't interpreted yet) diverges at both $\\eta = 0$ and $\\eta = 1$, similarly to how the log-loss itself does.\n",
    "\n",
    "To motivate the reasoning of $\\omega$ as a weight, we notice a theorem by Shuford, Albert, Massengil, Savage and Scherviss (see [1]) which states the following:\n",
    "\n",
    "Fix $0 < c < 1$, and let\n",
    "\n",
    "$$\\boxed{L_c(y|q) = y(1-c) 1_{q \\leq c} + (1-y) c 1_{q>c}}$$\n",
    "\n",
    "be a **cost-weighted misclassification error**: it penalizes false positives with cost $c$ and false negatives with cost $1-c$.\n",
    "\n",
    "Then, any proper scoring rule can be written as \n",
    "\n",
    "$$\\boxed{L(y|p) = \\int_0^1 L_c(y|p) \\,\\omega(c) dc}$$\n",
    "\n"
   ]
  },
  {
   "cell_type": "markdown",
   "id": "785ffa14",
   "metadata": {},
   "source": [
    "**This result is extremely interesting**. It is a **unified vision** of all the different loss functions we saw so far: if we consider the simplest loss function, which penalizes both false positive and negatives, and integrate it against a weight function $\\omega(c)$ for all possible costs $c$, we arrive at a loss function which is a proper scoring rule! \n",
    "\n",
    "In fact, it shows that the degree of freedom in choosing a proper scoring rule **lies in the choice of the weight function**, period. "
   ]
  },
  {
   "cell_type": "markdown",
   "id": "a44c47e4",
   "metadata": {},
   "source": [
    "> Exercise: starting from $\\omega(c) = [c(1-c)]^{-1}$, obtain the log-loss."
   ]
  },
  {
   "cell_type": "markdown",
   "id": "01275cc6",
   "metadata": {},
   "source": [
    "### The Beta family of proper scoring rules"
   ]
  },
  {
   "cell_type": "markdown",
   "id": "d6e96f36",
   "metadata": {},
   "source": [
    "In the discussion above, we saw a unified approach to creating loss functions which are proper scoring rules. We can go one step beyond, and show that they all (except the focal loss) *belong in the the same family of functions!*"
   ]
  },
  {
   "cell_type": "markdown",
   "id": "3704a230",
   "metadata": {},
   "source": [
    "Recall that\n",
    "\n",
    "$$\\omega_\\mathrm{log-loss}(q) = \\frac{1}{q(1-q)}$$\n",
    "\n",
    "For the exponential loss, \n",
    "\n",
    "$$L(y|q) = y \\sqrt{\\frac{1-q}{q}} + (1-y) \\sqrt{\\frac{q}{1-q}}$$\n",
    "\n",
    "we have an actually similar weight function\n",
    "\n",
    "$$\\omega_\\mathrm{exp}(q) = \\left(\\frac{1}{q(1-q)}\\right)^{3/2}$$\n",
    "\n",
    "We can actually introduce a parametric family of functions which include all these as well as the Brier score and misclassification loss: the **Beta family**\n",
    "\n",
    "$$\\boxed{\\omega_{\\alpha,\\beta}(q) := q^{\\alpha-1} (1-q)^{\\beta-1}}$$\n",
    "\n",
    "where the name is obviously motivated by the Beta function (https://en.wikipedia.org/wiki/Beta_function).\n",
    "\n",
    "Then:\n",
    "* $\\alpha=\\beta=-1/2$: exponential loss\n",
    "* $\\alpha=\\beta=0$: log-loss\n",
    "* $\\alpha=\\beta=1$: Brier (squared error) loss\n",
    "* $\\alpha=\\beta\\to\\infty$: misclassification loss (weak convergence to delta mass)\n",
    "\n",
    "Also, any values of $\\alpha$ and $\\beta$ which are multiples of $1/2$ yield closed-form formulas for $\\omega$. For example, if $\\alpha=\\beta=1/2$, we get an intermediate between log-loss and squared error loss:\n",
    "$$L(y|q) = y (\\arcsin\\sqrt{1-q} - \\sqrt{q(1-q)}) + (1-y) (\\arcsin\\sqrt{q} - \\sqrt{q(1-q)})$$"
   ]
  },
  {
   "cell_type": "markdown",
   "id": "dfa2d6c8",
   "metadata": {},
   "source": [
    "In general, if we define the (non-regularized) **incomplete Beta function**\n",
    "\n",
    "$$B(x; a, b) := \\int_0^x t^{a-1} (1-t)^{b-1} dt$$"
   ]
  },
  {
   "cell_type": "markdown",
   "id": "f3f64311",
   "metadata": {},
   "source": [
    "then we can explicitly write the loss functions for the Beta family as \n",
    "\n",
    "$$\\boxed{L(y|q) = y B(1-q; \\beta+1, \\alpha) + (1-y) B(q; \\alpha+1,\\beta)}$$"
   ]
  },
  {
   "cell_type": "markdown",
   "id": "cecd3ee6",
   "metadata": {},
   "source": [
    "---"
   ]
  },
  {
   "cell_type": "markdown",
   "id": "42f6b9cb",
   "metadata": {},
   "source": [
    "# Possible issues with our loss functions"
   ]
  },
  {
   "cell_type": "markdown",
   "id": "b9d4c0b8",
   "metadata": {},
   "source": [
    "As we have mentioned before, the log-loss has divergent behavior for $q = 0$ and $q=1$. Let us study that further.\n",
    "\n",
    "To make things simpler, we will assume $y=1$; the discussion is completely analogous for $y=0$. Then, our log-loss is simply\n",
    "\n",
    "$$L(y|q) = - \\log q.$$\n",
    "\n",
    "This function diverges *exponentially* for $q \\to 0$ and *linearly* goes to 0 at $q=1$. See the figure below, where we also plot other loss functions that we have seen above:"
   ]
  },
  {
   "cell_type": "code",
   "execution_count": 22,
   "id": "42246936",
   "metadata": {},
   "outputs": [
    {
     "data": {
      "image/png": "[encoded data removed]",
      "text/plain": [
       "<Figure size 432x288 with 1 Axes>"
      ]
     },
     "metadata": {
      "needs_background": "light"
     },
     "output_type": "display_data"
    }
   ],
   "source": [
    "q = np.linspace(0.01,1,100)\n",
    "plt.plot(q, -np.log(q), label='Log-loss: $-\\log (q)$')\n",
    "plt.plot(q, np.sqrt((1-q)/q), label='Exp. loss: $\\sqrt{(1-q)/q)}$')\n",
    "plt.plot(q, (1-q)**2, label='Brier loss: $(1-q)^2$')\n",
    "\n",
    "plt.xlabel('q'); plt.ylabel('Loss')\n",
    "plt.legend()\n",
    "plt.show()"
   ]
  },
  {
   "cell_type": "markdown",
   "id": "7f79aacf",
   "metadata": {},
   "source": [
    "The behavior we see for the log-loss is that it heavily penalizes misclassified points, due to the exponential behavior - which is good - but only decreases linearly as we classify correctly - which isn't great. \n",
    "\n",
    "Ideally, in many applications, you would like points which are \"easier to classify\" (meaning that the score is close to the actual label 0 or 1) to be \"taken care of\" first, and then deal with points which are harder to classify. For a classification problem, these are the points close to 0.5 (assuming good model calibration). \n",
    "\n",
    "Notice that for the exponential loss, these characteristics (diverging at 0, slowly going to 0 at 1) are even more pronounced. The Brier loss has the issue that it doesn't penalize enough points with low $q$ here.\n",
    "\n",
    "In other words, for all cases here, both misclassified and well-classified points count significantly towards the loss, with a higher contribution from misclassifications (and a particularly higher contribution in the case of log-loss and exponential loss)."
   ]
  },
  {
   "cell_type": "markdown",
   "id": "7f0fff5c",
   "metadata": {},
   "source": [
    "### For those who have read the section on proper scoring rules:"
   ]
  },
  {
   "cell_type": "markdown",
   "id": "136a7df4",
   "metadata": {},
   "source": [
    "The issue is that all losses in the Beta family have weights of the form $\\omega(q) = q^{\\alpha-1} (1-q)^{\\beta-1}$; as we can see in the plot below, for all values of $\\alpha <1$, we have the same behavior: convex curves which diverge at $q=0$ and $q=1$. Therefore, qualitatively, they all have similar behaviors as log-loss. For $\\alpha=1$ (which corresponds to the Brier score), all values are equally weighted and the loss function doesn't have enough discriminative power."
   ]
  },
  {
   "cell_type": "code",
   "execution_count": 44,
   "id": "eed16833",
   "metadata": {},
   "outputs": [
    {
     "data": {
      "image/png": "[encoded data removed]",
      "text/plain": [
       "<Figure size 432x288 with 1 Axes>"
      ]
     },
     "metadata": {
      "needs_background": "light"
     },
     "output_type": "display_data"
    }
   ],
   "source": [
    "q = np.linspace(0.01, 0.99, 100)\n",
    "for alpha, name in zip([-0.5, 0, 0.5, 1], ['Exp. loss', 'Log-loss', 'Arcsin', 'Brier']):\n",
    "    plt.plot(q, (q*(1-q))**(alpha-1), label=f'alpha={alpha} ({name})')\n",
    "\n",
    "plt.legend()\n",
    "plt.ylim(0,50)\n",
    "plt.xlabel(\"q\"); plt.ylabel(\"$\\omega(q)$\"); plt.title(\"Weight factors for losses in the Beta family\")\n",
    "plt.show()"
   ]
  },
  {
   "cell_type": "markdown",
   "id": "392cc55b",
   "metadata": {},
   "source": [
    "In fact, we can explicitly use the expression\n",
    "\n",
    "$$L(y|q) = y B(1-q; \\beta+1, \\alpha) + (1-y) B(q; \\alpha+1,\\beta)$$\n",
    "\n",
    "for the losses, and compute them explicitly. As before, take $y=1$ and study that case particularly:\n"
   ]
  },
  {
   "cell_type": "code",
   "execution_count": null,
   "id": "7de4281c",
   "metadata": {},
   "outputs": [],
   "source": [
    "def incomplete_beta(x, a, b):\n",
    "    from scipy.special import beta, betainc\n",
    "    \n",
    "    eps = 1e-6 # for numerical stability\n",
    "    return beta(a+eps, b+eps) * betainc(a+eps, b+eps, x)"
   ]
  },
  {
   "cell_type": "code",
   "execution_count": 127,
   "id": "fd8e1d21",
   "metadata": {},
   "outputs": [
    {
     "data": {
      "image/png": "[encoded data removed]",
      "text/plain": [
       "<Figure size 432x288 with 1 Axes>"
      ]
     },
     "metadata": {
      "needs_background": "light"
     },
     "output_type": "display_data"
    }
   ],
   "source": [
    "for a in np.arange(-0.5, 2, 0.1):\n",
    "    plt.plot(q, incomplete_beta(1-q, a+1, a), c=cm.plasma((a+0.5)/2.5), linewidth=2)\n",
    "plt.title(\"Loss functions (for y=1) at different parameters alpha\")\n",
    "plt.xlabel(\"q\")\n",
    "plt.show()"
   ]
  },
  {
   "cell_type": "markdown",
   "id": "8b0ea092",
   "metadata": {},
   "source": [
    "We can the study all these losses' behavior close to $q=1$. Taylor series are easy to calculate there, since our function $q \\mapsto B(1-q;\\beta+1,\\alpha)$ is described as an integral of polynomial-like quantities. Hence, we should not expect eg. exponential weighings close to 1, only polynomial behavior.\n",
    "\n",
    "In conclusion, the Beta family provides us with a class of functions which diverge at the origin $q=0$, and are polynomially behaved at $q=1$ (of course, the opposite is true if we study the loss function for $y=0$). This will affect how they perform in imbalanced cases, as we will see below."
   ]
  },
  {
   "cell_type": "markdown",
   "id": "25f9c656",
   "metadata": {},
   "source": [
    "# Losses for imbalanced classification"
   ]
  },
  {
   "cell_type": "markdown",
   "id": "9a56e534",
   "metadata": {},
   "source": [
    "In the imbalanced classification case, as usual, one needs to be careful. Below, we show some common strategies applied to an artificial dataset with 99:1 imbalance between classes. "
   ]
  },
  {
   "cell_type": "code",
   "execution_count": 7,
   "id": "db4eff6a",
   "metadata": {},
   "outputs": [],
   "source": [
    "from sklearn.datasets import make_classification\n",
    "from sklearn.model_selection import cross_val_score\n",
    "from sklearn.ensemble import RandomForestClassifier, HistGradientBoostingClassifier\n",
    "from sklearn.linear_model import LogisticRegression\n",
    "from sklearn.model_selection import cross_validate, train_test_split\n",
    "from sklearn.metrics import roc_auc_score, average_precision_score, make_scorer"
   ]
  },
  {
   "cell_type": "code",
   "execution_count": 8,
   "id": "6a086108",
   "metadata": {},
   "outputs": [],
   "source": [
    "X, y = make_classification(n_samples=20000, n_features=10, n_informative=8, n_redundant=1, n_repeated=1, \n",
    "                           random_state=10,\n",
    "                           weights=(0.99,)) ## 99 to 1 proportion between classes\n",
    "\n",
    "X_train, X_test, y_train, y_test = train_test_split(X, y, \n",
    "                                                    stratify=y, # don't forget to stratify\n",
    "                                                    random_state=1, test_size=0.3)"
   ]
  },
  {
   "cell_type": "markdown",
   "id": "4dc53aa6",
   "metadata": {},
   "source": [
    "## Doing nothing"
   ]
  },
  {
   "cell_type": "markdown",
   "id": "b41c4eda",
   "metadata": {},
   "source": [
    "What if we simply try to instantiate a model and fit it?\n",
    "\n",
    "(Instead of cross-validation, we will be using simple train/test splits here to focus on the different methods)"
   ]
  },
  {
   "cell_type": "code",
   "execution_count": 209,
   "id": "6f5952f2",
   "metadata": {},
   "outputs": [
    {
     "name": "stdout",
     "output_type": "stream",
     "text": [
      "AUC: 0.819\n",
      "AP:  0.424\n"
     ]
    }
   ],
   "source": [
    "# first model: gradient boosting\n",
    "model = HistGradientBoostingClassifier(random_state=2)\n",
    "model.fit(X_train, y_train)\n",
    "\n",
    "y_probs = model.predict_proba(X_test)[:,1]\n",
    "print(\"AUC: {0:.3f}\".format(roc_auc_score(y_test, y_probs)))\n",
    "print(\"AP:  {0:.3f}\".format(average_precision_score(y_test, y_probs)))"
   ]
  },
  {
   "cell_type": "code",
   "execution_count": 213,
   "id": "3f406a4e",
   "metadata": {},
   "outputs": [
    {
     "name": "stdout",
     "output_type": "stream",
     "text": [
      "AUC: 0.820\n",
      "AP:  0.451\n"
     ]
    }
   ],
   "source": [
    "# second model: random forest\n",
    "model = RandomForestClassifier(random_state=2)\n",
    "model.fit(X_train, y_train)\n",
    "\n",
    "y_probs = model.predict_proba(X_test)[:,1]\n",
    "print(\"AUC: {0:.3f}\".format(roc_auc_score(y_test, y_probs)))\n",
    "print(\"AP:  {0:.3f}\".format(average_precision_score(y_test, y_probs)))"
   ]
  },
  {
   "cell_type": "code",
   "execution_count": 219,
   "id": "50708346",
   "metadata": {},
   "outputs": [
    {
     "name": "stdout",
     "output_type": "stream",
     "text": [
      "AUC: 0.768\n",
      "AP:  0.213\n"
     ]
    }
   ],
   "source": [
    "# third model: logistic regression\n",
    "model = LogisticRegression()\n",
    "model.fit(X_train, y_train)\n",
    "\n",
    "y_probs = model.predict_proba(X_test)[:,1]\n",
    "print(\"AUC: {0:.3f}\".format(roc_auc_score(y_test, y_probs)))\n",
    "print(\"AP:  {0:.3f}\".format(average_precision_score(y_test, y_probs)))"
   ]
  },
  {
   "cell_type": "markdown",
   "id": "00db8b23",
   "metadata": {},
   "source": [
    "These will serve as our baseline models."
   ]
  },
  {
   "cell_type": "markdown",
   "id": "7e247bef",
   "metadata": {},
   "source": [
    "## Weighting"
   ]
  },
  {
   "cell_type": "markdown",
   "id": "f3df8e77",
   "metadata": {},
   "source": [
    "We can easily add weights to different training instances. Effectively, this means considering a weight vector $w_i$ (one entry for each training sample) and the weighted loss\n",
    "\n",
    "$$L_\\mathrm{weighted} = \\frac{\\sum_{i=1}^N w_i L(y_i|q_i)}{\\sum_{i=1}^N w_i}$$"
   ]
  },
  {
   "cell_type": "markdown",
   "id": "301175c0",
   "metadata": {},
   "source": [
    "In scikit-learn, there are two ways of doing this. We illustrate them both below:"
   ]
  },
  {
   "cell_type": "markdown",
   "id": "9e0f4b00",
   "metadata": {},
   "source": [
    "#### 1)  Direcly pass weights to `.fit`"
   ]
  },
  {
   "cell_type": "markdown",
   "id": "590f27b3",
   "metadata": {},
   "source": [
    "Let us build a weight vector which will **give more weight to the minority class**. Any choice would work, but we will specifically pick this one: let $f_1, f_0$ denote the relative frequency of classes 1 and 2 (here, $f_1 \\approx 0.01$ and $f_0 \\approx 0.99$; the approximation comes from the fact that `y_train` does not exactly keep the proportions perfect when stratified from `y`) \n",
    "\n",
    "$$w_i = \\begin{cases}\n",
    "\\frac{1}{2 f_1} & \\mbox{if } y_i = 1\\\\\n",
    "\\frac{1}{2 f_0} & \\mbox{if } y_i = 0\n",
    "\\end{cases}$$"
   ]
  },
  {
   "cell_type": "code",
   "execution_count": 230,
   "id": "d491a240",
   "metadata": {},
   "outputs": [],
   "source": [
    "n0, n1 = np.bincount(y_train)\n",
    "weights = np.where(y_train==1, len(y_train)/(2*n1), len(y_train)/(2*n0))"
   ]
  },
  {
   "cell_type": "markdown",
   "id": "d2b04f03",
   "metadata": {},
   "source": [
    "We can now retrain our gradient boosting classifier as follows:"
   ]
  },
  {
   "cell_type": "code",
   "execution_count": 231,
   "id": "ab2d1298",
   "metadata": {},
   "outputs": [
    {
     "name": "stdout",
     "output_type": "stream",
     "text": [
      "AUC: 0.819\n",
      "AP:  0.374\n"
     ]
    }
   ],
   "source": [
    "# first model: gradient boosting\n",
    "model = HistGradientBoostingClassifier(random_state=2)\n",
    "model.fit(X_train, y_train, sample_weight=weights)\n",
    "\n",
    "y_probs = model.predict_proba(X_test)[:,1]\n",
    "print(\"AUC: {0:.3f}\".format(roc_auc_score(y_test, y_probs)))\n",
    "print(\"AP:  {0:.3f}\".format(average_precision_score(y_test, y_probs)))"
   ]
  },
  {
   "cell_type": "code",
   "execution_count": 232,
   "id": "3d0ca021",
   "metadata": {},
   "outputs": [
    {
     "name": "stdout",
     "output_type": "stream",
     "text": [
      "AUC: 0.821\n",
      "AP:  0.486\n"
     ]
    }
   ],
   "source": [
    "# second model: random forest\n",
    "model = RandomForestClassifier(random_state=2)\n",
    "model.fit(X_train, y_train, sample_weight=weights)\n",
    "\n",
    "y_probs = model.predict_proba(X_test)[:,1]\n",
    "print(\"AUC: {0:.3f}\".format(roc_auc_score(y_test, y_probs)))\n",
    "print(\"AP:  {0:.3f}\".format(average_precision_score(y_test, y_probs)))"
   ]
  },
  {
   "cell_type": "code",
   "execution_count": 233,
   "id": "b3c8d1e3",
   "metadata": {},
   "outputs": [
    {
     "name": "stdout",
     "output_type": "stream",
     "text": [
      "AUC: 0.780\n",
      "AP:  0.118\n"
     ]
    }
   ],
   "source": [
    "# third model: logistic regression\n",
    "model = LogisticRegression()\n",
    "model.fit(X_train, y_train, sample_weight=weights)\n",
    "\n",
    "y_probs = model.predict_proba(X_test)[:,1]\n",
    "print(\"AUC: {0:.3f}\".format(roc_auc_score(y_test, y_probs)))\n",
    "print(\"AP:  {0:.3f}\".format(average_precision_score(y_test, y_probs)))"
   ]
  },
  {
   "cell_type": "markdown",
   "id": "e7a82e32",
   "metadata": {},
   "source": [
    "We see that adding weights improved the performance of the random forest and logistic regression classifiers in terms of AUC; it didn't do much for gradient boosting (and in fact we had some loss average-precision wise)."
   ]
  },
  {
   "cell_type": "markdown",
   "id": "4f7bc6ec",
   "metadata": {},
   "source": [
    "#### 2) Class weights on model instantiation"
   ]
  },
  {
   "cell_type": "markdown",
   "id": "d21f8144",
   "metadata": {},
   "source": [
    "Some scikit-learn classifiers have a `class_weight` attribute. What it does is that it receives a dictionary `{0: w_0, 1: w_1}$ for weights to give to elements of each class.\n",
    "\n",
    "Instead of passing this dictionary by hand, we can also use `class_weight='balanced'` to automatically give more weights to the minority class.\n",
    "\n",
    "In most classifiers, this is equivalent to the weight rule we used above: you will see we get exactly the same results for both `RandomForestClassifier` and `LogisticRegression`:"
   ]
  },
  {
   "cell_type": "code",
   "execution_count": 236,
   "id": "e0edfb5f",
   "metadata": {},
   "outputs": [
    {
     "name": "stdout",
     "output_type": "stream",
     "text": [
      "AUC: 0.821\n",
      "AP:  0.486\n"
     ]
    }
   ],
   "source": [
    "# second model: random forest\n",
    "model = RandomForestClassifier(random_state=2, class_weight='balanced')\n",
    "model.fit(X_train, y_train)\n",
    "\n",
    "y_probs = model.predict_proba(X_test)[:,1]\n",
    "print(\"AUC: {0:.3f}\".format(roc_auc_score(y_test, y_probs)))\n",
    "print(\"AP:  {0:.3f}\".format(average_precision_score(y_test, y_probs)))"
   ]
  },
  {
   "cell_type": "code",
   "execution_count": 237,
   "id": "52d2ed22",
   "metadata": {},
   "outputs": [
    {
     "name": "stdout",
     "output_type": "stream",
     "text": [
      "AUC: 0.780\n",
      "AP:  0.118\n"
     ]
    }
   ],
   "source": [
    "# third model: logistic regression\n",
    "model = LogisticRegression(class_weight='balanced')\n",
    "model.fit(X_train, y_train)\n",
    "\n",
    "y_probs = model.predict_proba(X_test)[:,1]\n",
    "print(\"AUC: {0:.3f}\".format(roc_auc_score(y_test, y_probs)))\n",
    "print(\"AP:  {0:.3f}\".format(average_precision_score(y_test, y_probs)))"
   ]
  },
  {
   "cell_type": "markdown",
   "id": "a877b926",
   "metadata": {},
   "source": [
    "`HistGradientBoostingClassifier` however does not have a `class_weight` attribute; for it, we need to specity `sample_weight`."
   ]
  },
  {
   "cell_type": "markdown",
   "id": "28b0df6c",
   "metadata": {},
   "source": [
    "#### Weights can be cross-validated"
   ]
  },
  {
   "cell_type": "markdown",
   "id": "e23a274b",
   "metadata": {},
   "source": [
    "As we just saw here, the choice of weights can be thought of as yet another hyperparameter to cross-validate. "
   ]
  },
  {
   "cell_type": "markdown",
   "id": "0737872a",
   "metadata": {},
   "source": [
    "### Weights change the threshold distribution"
   ]
  },
  {
   "cell_type": "markdown",
   "id": "2d399c75",
   "metadata": {},
   "source": [
    "Let us plot two ROC curves for the logistic regression model: one raw, and one with class weights. In each, we will also plot the different thresholds corresponding to each point."
   ]
  },
  {
   "cell_type": "code",
   "execution_count": 238,
   "id": "b58fb4af",
   "metadata": {},
   "outputs": [],
   "source": [
    "def complete_plot_roc(y_true, y_probs, ax, threshold_step=0.1):\n",
    "   \n",
    "    \"\"\"\n",
    "    Run full ROC diagnostic\n",
    "    \"\"\"\n",
    "   \n",
    "    from sklearn.metrics import roc_curve, roc_auc_score\n",
    "    from matplotlib.cm import viridis as mycolormap\n",
    "   \n",
    "    fpr, tpr, thresh = roc_curve(y_true, y_probs)\n",
    "   \n",
    "    # x axis, y axis\n",
    "    x = fpr\n",
    "    y = tpr\n",
    " \n",
    "    auc = roc_auc_score(y_true, y_probs)\n",
    " \n",
    "    # color\n",
    "    c = thresh\n",
    "    c[0] = c[0]-1\n",
    "    c = (c - c.min())/(c.max() - c.min())\n",
    " \n",
    "    base = 1.0 - threshold_step\n",
    "    for i in range(len(x)):\n",
    "        ax.plot(x[i:i+2], y[i:i+2], c=mycolormap(c[i]))\n",
    " \n",
    "        if thresh[i] <= base:\n",
    "            ax.scatter(x[i], y[i], color=mycolormap(c[i]))\n",
    "            ax.annotate(\"  {0:.1f}\".format(thresh[i]), (x[i]*1.03, y[i]*0.96), fontsize=8)\n",
    "            base -= threshold_step\n",
    "   \n",
    "    ax.annotate(\"AUC = {0:.2f}\".format(auc), (0.77, 0.01), fontsize=8,\n",
    "               bbox=dict(facecolor='none', edgecolor='black', pad=5.0))\n",
    "    ax.set_xlabel(\"FPR\")\n",
    "    ax.set_ylabel(\"TPR\")\n",
    "   \n",
    "    return"
   ]
  },
  {
   "cell_type": "code",
   "execution_count": 246,
   "id": "b6ba1acf",
   "metadata": {},
   "outputs": [
    {
     "data": {
      "image/png": "[encoded data removed]",
      "text/plain": [
       "<Figure size 720x360 with 2 Axes>"
      ]
     },
     "metadata": {
      "needs_background": "light"
     },
     "output_type": "display_data"
    }
   ],
   "source": [
    "fig, ax = plt.subplots(ncols=2, figsize=(10,5))\n",
    "\n",
    "# without weights\n",
    "model = LogisticRegression(random_state=2)\n",
    "model.fit(X_train, y_train)\n",
    "y_probs_raw = model.predict_proba(X_test)[:,1]\n",
    "complete_plot_roc(y_test, y_probs_raw, ax[0])\n",
    "ax[0].set_title(\"Without weights\")\n",
    "\n",
    "# with weights\n",
    "model = LogisticRegression(random_state=2, class_weight='balanced')\n",
    "model.fit(X_train, y_train)\n",
    "y_probs_weights = model.predict_proba(X_test)[:,1]\n",
    "complete_plot_roc(y_test, y_probs_weights, ax[1])\n",
    "ax[1].set_title(\"With weights\")\n",
    "\n",
    "plt.show()"
   ]
  },
  {
   "cell_type": "markdown",
   "id": "7d83de39",
   "metadata": {},
   "source": [
    "Notice that the raw model heavily skews the threshold range: almost 80% of the curve lies within thresholds 0 and 0.1. The model with weights is much better at spacing the thresholds at uniform intervals."
   ]
  },
  {
   "cell_type": "markdown",
   "id": "8b03bffd",
   "metadata": {},
   "source": [
    "## Focal loss"
   ]
  },
  {
   "cell_type": "markdown",
   "id": "74d06f43",
   "metadata": {},
   "source": [
    "The **focal loss** was introduced by the team at Facebook research in [2], in the context of object detection. It is a loss function specialized in imbalanced classification, which we present below.\n",
    "\n",
    "Recall that the standard log-loss for a single point is\n",
    "\n",
    "$$L(y|q) = - y \\log q - (1-y) \\log(1-q)$$"
   ]
  },
  {
   "cell_type": "markdown",
   "id": "5acdc2b1",
   "metadata": {},
   "source": [
    "The authors in [2] propose a modification to this expression which adds an **exponential decay term** close to $q=1$:"
   ]
  },
  {
   "cell_type": "markdown",
   "id": "3cfaa256",
   "metadata": {},
   "source": [
    "  $$\\boxed{L_\\mathrm{focal}(y|q) = -y (1-q)^\\gamma \\log q - (1-\\eta) q^\\gamma \\log(1-q)}$$"
   ]
  },
  {
   "cell_type": "code",
   "execution_count": 252,
   "id": "85377ef1",
   "metadata": {},
   "outputs": [
    {
     "data": {
      "image/png": "[encoded data removed]",
      "text/plain": [
       "<Figure size 432x288 with 1 Axes>"
      ]
     },
     "metadata": {
      "needs_background": "light"
     },
     "output_type": "display_data"
    }
   ],
   "source": [
    "gamma = 2\n",
    "q = np.linspace(0.01,1,100)\n",
    "plt.plot(q, -np.log(q), label='Log-loss: $-\\log (q)$')\n",
    "plt.plot(q, -(1-q)**gamma * np.log(q), label='Focal loss: $-(1-q)^\\gamma \\log (q)$')\n",
    "\n",
    "plt.xlabel('q'); plt.ylabel('Loss')\n",
    "plt.legend()\n",
    "plt.show()"
   ]
  },
  {
   "cell_type": "markdown",
   "id": "0e5710a3",
   "metadata": {},
   "source": [
    "* For $q \\approx 0$, the focal loss behaves very similarly to the log-loss; this is expected, since for small $q$, $L_\\mathrm{focal}/L_\\mathrm{log-loss} \\approx 1 - \\gamma q \\to 1$. \n",
    "* However, for $q$ closer to 1, the exponential decay quickly makes the loss go to 0. This means that the focal loss cares much less about \"easily classifiable\" points, and instead focuses on **learning points which are harder to classify**."
   ]
  },
  {
   "cell_type": "markdown",
   "id": "a4a1a230",
   "metadata": {},
   "source": [
    "### LightGBM implementation of focal loss"
   ]
  },
  {
   "cell_type": "markdown",
   "id": "b496dcd3",
   "metadata": {},
   "source": [
    "We have implemented in the `focal_lgbm.py` file a version of the standard LightGBM classifier which uses focal loss.\n",
    "The rationale behind doing this in LightGBM is that it is a library which allows implementation of user-defined losses, as long as we also have the Jacobian/Hessian of that loss. "
   ]
  },
  {
   "cell_type": "code",
   "execution_count": 3,
   "id": "ae952530",
   "metadata": {},
   "outputs": [],
   "source": [
    "import lightgbm as lgb\n",
    "from focal_lgbm import FocalLossLGBM"
   ]
  },
  {
   "cell_type": "markdown",
   "id": "17a658e1",
   "metadata": {},
   "source": [
    "First, we set a benchmark with the standard LightGBM classifier:"
   ]
  },
  {
   "cell_type": "code",
   "execution_count": 11,
   "id": "f5651e9f",
   "metadata": {},
   "outputs": [
    {
     "name": "stdout",
     "output_type": "stream",
     "text": [
      "AUC: 0.834\n",
      "AP:  0.424\n"
     ]
    }
   ],
   "source": [
    "model = lgb.LGBMClassifier(random_state=0)\n",
    "model.fit(X_train, y_train)\n",
    "y_probs = model.predict_proba(X_test)[:,1]\n",
    "print(\"AUC: {0:.3f}\".format(roc_auc_score(y_test, y_probs)))\n",
    "print(\"AP:  {0:.3f}\".format(average_precision_score(y_test, y_probs)))"
   ]
  },
  {
   "cell_type": "markdown",
   "id": "11ffda13",
   "metadata": {},
   "source": [
    "Then, we try the model with focal loss. Below, `alpha` is actually a weight similar to `w_i` in the discussions above. All other parameters aside from `gamma` are the same ones in standard LightGBM."
   ]
  },
  {
   "cell_type": "code",
   "execution_count": 18,
   "id": "53c62958",
   "metadata": {},
   "outputs": [
    {
     "name": "stdout",
     "output_type": "stream",
     "text": [
      "AUC: 0.845\n",
      "AP:  0.485\n"
     ]
    }
   ],
   "source": [
    "model =  FocalLossLGBM(alpha=0.5, gamma=0.5, \n",
    "                      verbose=-1, random_state=0)\n",
    "\n",
    "model.fit(X_train, y_train)\n",
    "y_probs = model.predict_proba(X_test)[:,1]\n",
    "print(\"AUC: {0:.3f}\".format(roc_auc_score(y_test, y_probs)))\n",
    "print(\"AP:  {0:.3f}\".format(average_precision_score(y_test, y_probs)))"
   ]
  },
  {
   "cell_type": "markdown",
   "id": "bcaff36c",
   "metadata": {},
   "source": [
    "The focal loss model performed better! In fact, with a little cheating, we can get it even better:"
   ]
  },
  {
   "cell_type": "code",
   "execution_count": 19,
   "id": "eec701cf",
   "metadata": {},
   "outputs": [
    {
     "name": "stdout",
     "output_type": "stream",
     "text": [
      "AUC: 0.863\n",
      "AP:  0.530\n"
     ]
    }
   ],
   "source": [
    "model =  FocalLossLGBM(alpha=0.5, gamma=0.5, \n",
    "                      learning_rate= 0.1,\n",
    "                      n_estimators=500,\n",
    "                      num_leaves=63,\n",
    "                      verbose=-1, random_state=0)\n",
    "\n",
    "model.fit(X_train, y_train)\n",
    "y_probs = model.predict_proba(X_test)[:,1]\n",
    "print(\"AUC: {0:.3f}\".format(roc_auc_score(y_test, y_probs)))\n",
    "print(\"AP:  {0:.3f}\".format(average_precision_score(y_test, y_probs)))"
   ]
  },
  {
   "cell_type": "markdown",
   "id": "aa69c6e5",
   "metadata": {},
   "source": [
    "In this particular case, the model with focal loss performed better than the baseline LightGBM and the other models."
   ]
  },
  {
   "cell_type": "markdown",
   "id": "00b77eed",
   "metadata": {},
   "source": [
    "**The whole point here is to optimize for hyperparameters.** The choice of loss is also a hyperparameter!"
   ]
  },
  {
   "cell_type": "markdown",
   "id": "4e9e8b10",
   "metadata": {},
   "source": [
    "### XGBoost implementation of focal loss"
   ]
  },
  {
   "cell_type": "markdown",
   "id": "de658386",
   "metadata": {},
   "source": [
    "The team in [3] has made available an implementation of focal loss in XGBoost (https://github.com/jhwjhw0123/Imbalance-XGBoost). Let us test it here as well:"
   ]
  },
  {
   "cell_type": "code",
   "execution_count": null,
   "id": "c97d3e8b",
   "metadata": {},
   "outputs": [],
   "source": [
    "#!pip install imbalance-xgboost"
   ]
  },
  {
   "cell_type": "code",
   "execution_count": 21,
   "id": "7ab94445",
   "metadata": {},
   "outputs": [
    {
     "name": "stderr",
     "output_type": "stream",
     "text": [
      "/home/c91852a/.conda/envs/2022/lib/python3.8/site-packages/xgboost/compat.py:36: FutureWarning: pandas.Int64Index is deprecated and will be removed from pandas in a future version. Use pandas.Index with the appropriate dtype instead.\n",
      "  from pandas import MultiIndex, Int64Index\n"
     ]
    }
   ],
   "source": [
    "from imxgboost.imbalance_xgb import imbalance_xgboost as imb_xgb"
   ]
  },
  {
   "cell_type": "code",
   "execution_count": 33,
   "id": "8ade363f",
   "metadata": {},
   "outputs": [],
   "source": [
    "xgboster = imb_xgb(special_objective='focal', focal_gamma=1.0, eta=0.1, num_round=100, imbalance_alpha=0.5)"
   ]
  },
  {
   "cell_type": "code",
   "execution_count": 34,
   "id": "4a967825",
   "metadata": {},
   "outputs": [
    {
     "name": "stdout",
     "output_type": "stream",
     "text": [
      "AUC: 0.869\n",
      "AP:  0.490\n"
     ]
    }
   ],
   "source": [
    "xgboster.fit(X_train, y_train)\n",
    "y_probs = xgboster.predict_sigmoid(X_test)\n",
    "print(\"AUC: {0:.3f}\".format(roc_auc_score(y_test, y_probs)))\n",
    "print(\"AP:  {0:.3f}\".format(average_precision_score(y_test, y_probs)))"
   ]
  },
  {
   "cell_type": "markdown",
   "id": "ef9eb464",
   "metadata": {},
   "source": [
    "This model (with a little tuning) performed even better than our LightGBM implementation!"
   ]
  },
  {
   "cell_type": "markdown",
   "id": "7901bc29",
   "metadata": {},
   "source": [
    "# Conclusions"
   ]
  },
  {
   "cell_type": "markdown",
   "id": "103b6176",
   "metadata": {},
   "source": [
    "* We obtained good results simply using **log-loss with weights** (via `class_weight` or `sample_weight`)\n",
    "* We were able to get even better results from **focal loss** via the LightGBM and XGBoost implementations in the imbalanced case, and we recommend trying it out"
   ]
  },
  {
   "cell_type": "markdown",
   "id": "dcaf11f5",
   "metadata": {},
   "source": [
    "# References"
   ]
  },
  {
   "cell_type": "markdown",
   "id": "3f8a1a9c",
   "metadata": {},
   "source": [
    "[1] Andreas Buja, Werner Stuetzle, Yi Shen. *Loss Functions for Binary Class Probability Estimation and Classification: Structure and Applications* (2015)\n",
    "\n",
    "[2] Tsung-Yi Lin, Priya Goyal, Ross Girshick, Kaiming He, Piotr Dollár. *Focal Loss for Dense Object Detection*. Available on https://arxiv.org/abs/1708.02002\n",
    "\n",
    "[3] Chen Wang and Chengyuan Deng and Suzhen Wang, *Imbalance-XGBoost: Leveraging Weighted and Focal Losses for Binary Label-Imbalanced Classification with XGBoost*. Available in https://arxiv.org/abs/1908.01672 (2019)"
   ]
  },
  {
   "cell_type": "code",
   "execution_count": null,
   "id": "f942554a",
   "metadata": {},
   "outputs": [],
   "source": []
  }
 ],
 "metadata": {
  "kernelspec": {
   "display_name": "Python 3",
   "language": "python",
   "name": "python3"
  },
  "language_info": {
   "codemirror_mode": {
    "name": "ipython",
    "version": 3
   },
   "file_extension": ".py",
   "mimetype": "text/x-python",
   "name": "python",
   "nbconvert_exporter": "python",
   "pygments_lexer": "ipython3",
   "version": "3.8.8"
  }
 },
 "nbformat": 4,
 "nbformat_minor": 5
}
