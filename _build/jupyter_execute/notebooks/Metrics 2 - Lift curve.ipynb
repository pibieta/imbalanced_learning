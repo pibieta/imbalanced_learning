{
 "cells": [
  {
   "cell_type": "markdown",
   "id": "01c49a95",
   "metadata": {},
   "source": [
    "# A complement to the ROC: the lift curve (aka CAP curve)"
   ]
  },
  {
   "cell_type": "markdown",
   "id": "d83077cf",
   "metadata": {},
   "source": [
    "Despite the ROC AUC having a clear interpretation, it is often hard to interpret the ROC curve itself.\n",
    "In this section we introduce the **lift curve**, which is much easier to interpret and has a clear deterministic relation to the ROC."
   ]
  },
  {
   "cell_type": "markdown",
   "id": "7683be1d",
   "metadata": {},
   "source": [
    "## Problem setup: credit scoring"
   ]
  },
  {
   "cell_type": "markdown",
   "id": "dc1e419c",
   "metadata": {},
   "source": [
    "Suppose you are a bank which has 1 million dollars to lend, in batches of $1000, to 1000 borrowers. These people must pay you that money back after one year. \n",
    "\n",
    "You have, however, 5000 people asking you for money, and you must decide which 1000 to give the money to.\n",
    "\n",
    "The main risk here is that you lend money to someone who, for any reasons, does not pay it back (that is, *defaults on the payment*) after one year. There can be several reasons for a person to default: during that year, they lost their job and could not get the necessary money to pay you back; they work with agriculture, and their crops this year were lower than average due to bad weather, so they could not raise the capital to pay you back; they fled the country; etc. \n",
    "\n",
    "Your job as a bank is to somehow **score the possible borrowers** and only lend money to those individuals who are less likely to default. This is the standard problem in **credit scoring**. You ask the data scientists in your Credit team to build a classification model to help you make the best decision."
   ]
  },
  {
   "cell_type": "markdown",
   "id": "14f28da5",
   "metadata": {},
   "source": [
    "Your data scientists get back to you with a model after one month. Their report says:\n",
    "> \"We have developed a LightGBM model for binary classification. To train this model, we have used our internal database of past loans, over the past 5 years. The target of the model is whether a person has defaulted ($y=1$) on a payment to us during that period or not ($y=0$). There were 38 features employed, which can be split into 3 groups: (1) income & job related (2) previous year financial behavior (on-time payment of credit card bills and other loans) and (3) general personal information. The AUC of the model is 0.77 on the train test and 0.76 on the test set. Our recommendation is to **use the model's output score, sort it from lowest to highest (ie. lowest probability of default to highest probability) and give credit to the 1000 people with lowest score**.\""
   ]
  },
  {
   "cell_type": "markdown",
   "id": "e85480ec",
   "metadata": {},
   "source": [
    "What they recommend is for you to build the following ordered table, and give credit to the top 1000 entries. Call it `df`, a Pandas DataFrame:\n",
    "\n",
    "|index|person_id | name | prob_default | \n",
    "|---|---|---|---|\n",
    "|0|0123|brad pitt|0.010|\n",
    "|1|2056|john williams| 0.020|\n",
    "|2|0091|jackie chan|0.025|\n",
    "|...|...|...|...|\n",
    "|4998|9001|bob junior|0.975|\n",
    "|4999|0918|alice mann|0.982|"
   ]
  },
  {
   "cell_type": "markdown",
   "id": "52b5a274",
   "metadata": {},
   "source": [
    "The model looks promising. However, it does not answer all your questions. You write an email back to the Credit team with one question:"
   ]
  },
  {
   "cell_type": "markdown",
   "id": "759c854b",
   "metadata": {},
   "source": [
    "> Thanks for the good work. If I sort the way you said and only give credit to the first 100 people, how many will I get wrong (defaulted on)? What about the first 500? 1000? Tks"
   ]
  },
  {
   "cell_type": "markdown",
   "id": "7a904c20",
   "metadata": {},
   "source": [
    "In other words: we want to know how many false negatives (people who will default [$y=1$] which we are wrongly saying are likely to not default [$\\hat y =0$]) on the first $n$ people, or equivalently, the percentage of mistakes we will make. \n",
    "\n",
    "The simplest way to answer this is with a curve."
   ]
  },
  {
   "cell_type": "markdown",
   "id": "ee12dced",
   "metadata": {},
   "source": [
    "### The key question to answer before proceeding"
   ]
  },
  {
   "cell_type": "markdown",
   "id": "3921d2c6",
   "metadata": {},
   "source": [
    "In any problem you work on, you must answer the following question to yourself:\n",
    "> Which of my entries [people, clients, products...] are \"good\", and which are \"bad\"?"
   ]
  },
  {
   "cell_type": "markdown",
   "id": "61d46002",
   "metadata": {},
   "source": [
    "In our case, $y=0$ is *good*: no defaults is better than having a default. **This is why we are sorting from low scores (=higher probability of being a 0) to high scores (=higher probability of being a 1)**."
   ]
  },
  {
   "cell_type": "markdown",
   "id": "e2e3481e",
   "metadata": {},
   "source": [
    "In your use case, it could be the opposite:\n",
    "> You might try to be solve the problem of identifying which of your employees is likely to leave the company over the next 3 months, in order to talk to them and provide an alternative (this is called an attrition problem). If $y=1$ represents an employee that is likely to leave, then you want to score from high scores to low scores."
   ]
  },
  {
   "cell_type": "markdown",
   "id": "280af8fe",
   "metadata": {},
   "source": [
    "### Lift curve I: when low scores are better (sorting from low to high scores)"
   ]
  },
  {
   "cell_type": "markdown",
   "id": "48b6317d",
   "metadata": {},
   "source": [
    "Use a slight variation of the table above (we will also add more rows to make the example clearer):\n",
    "\n",
    "|index|person_id | name | prob_default | y_actual|\n",
    "|---|---|---|---|---|\n",
    "|0|0123|brad pitt|0.010|0|\n",
    "|1|2056|john williams| 0.020|0|\n",
    "|2|0091|jackie chan|0.025|1|\n",
    "|3|2221|eddie fung|0.029|0|\n",
    "|4|9301|mark hamill|0.050|1|\n",
    "|5|8913|lucy liu|0.060|0|\n",
    "|...|...|...|...|...|\n",
    "|4998|9001|bob junior|0.975|1|\n",
    "|4999|0918|alice mann|0.982|1|"
   ]
  },
  {
   "cell_type": "markdown",
   "id": "31356efa",
   "metadata": {},
   "source": [
    "Alift, recall that this table is ordered by `prob_default` (in ascending order). Notice that we've made two mistakes: for `jackie chan` and `mark hamill`, we are classifying them as \"good payers\" (=low probability of default), but their actual target was a 1, ie. a default. They are false negatives, which is exactly what we wanted to avoid.\n",
    "\n",
    "To account for that mistake, we can build a new columns, called `cumulative_default`, which will simply count the number of defaults acumulated until that row:\n",
    "\n",
    "`df['cumulative_default'] = df['y_actual'].cumsum()`\n",
    "\n",
    "|index|person_id | name | prob_default | y_actual|cumulative_default|\n",
    "|---|---|---|---|---|---|\n",
    "|0|0123|brad pitt|0.010|0|0|\n",
    "|1|2056|john williams| 0.020|0|0|\n",
    "|2|0091|jackie chan|0.025|1|1|\n",
    "|3|2221|eddie fung|0.029|0|1|\n",
    "|4|9301|mark hamill|0.050|1|2|\n",
    "|5|8913|lucy liu|0.060|0|2|\n",
    "|...|...|...|...|...|...|\n",
    "|4998|9001|bob junior|0.975|1|150|\n",
    "|4999|0918|alice mann|0.982|1|151|"
   ]
  },
  {
   "cell_type": "markdown",
   "id": "f08b6351",
   "metadata": {},
   "source": [
    "Notice that the `cumulative_default` column is non-decreasing. "
   ]
  },
  {
   "cell_type": "markdown",
   "id": "101086e0",
   "metadata": {},
   "source": [
    "Notice that there are 151 defaults. We can obtain this number from `df['cumulative_default'].iloc[-1]` directly, or (in a more inefficient, but more robust way) from `df['y_actual'].sum()`. In either case, we can divide the `cumulative_default` by this number to obtain a `lift` column:\n",
    "`df['lift'] = df['cumulative_default']/df['y_actual'].sum()`\n",
    "\n",
    "|index|person_id | name | prob_default | y_actual|cumulative_default|lift|\n",
    "|---|---|---|---|---|---|---|\n",
    "|0|0123|brad pitt|0.010|0|0|0|\n",
    "|1|2056|john williams| 0.020|0|0|0|\n",
    "|2|0091|jackie chan|0.025|1|1|0.0066|\n",
    "|3|2221|eddie fung|0.029|0|1|0.0066|\n",
    "|4|9301|mark hamill|0.050|1|2|0.0132|\n",
    "|5|8913|lucy liu|0.060|0|2|0.0132|\n",
    "|...|...|...|...|...|...|...|\n",
    "|4998|9001|bob junior|0.975|1|150|0.9934|\n",
    "|4999|0918|alice mann|0.982|1|151|1.0000|"
   ]
  },
  {
   "cell_type": "markdown",
   "id": "b798495a",
   "metadata": {},
   "source": [
    "We can also normalize the `index` column (simply dividing each index by the total, 5000) and plot the normalized index vs. the `lift` column on the unit square."
   ]
  },
  {
   "cell_type": "markdown",
   "id": "9767ca95",
   "metadata": {},
   "source": [
    "**Visualizing**: we can use `y_test` and `y_test_pred` from before in order to visualize this curve. Let's pretend this is a credit scoring problem."
   ]
  },
  {
   "cell_type": "code",
   "execution_count": 1,
   "id": "23810cab",
   "metadata": {},
   "outputs": [],
   "source": [
    "def build_lift_curve(y_actual, y_pred, \n",
    "                     ascending=True,\n",
    "                     return_ideal_curve=False):\n",
    "    \n",
    "    \"\"\"\n",
    "    Returns the lift curve from actual (0 or 1) data and\n",
    "    predicted scores.\n",
    "    \n",
    "    Also returns what the ideal lift curve for this problem \n",
    "    would be, if return_ideal_curve = True\n",
    "    \"\"\"\n",
    "    \n",
    "    df = pd.DataFrame({'y_actual': y_actual,\n",
    "                   'prob_default': y_pred})\n",
    "\n",
    "    # sort from low to high scores\n",
    "    df = df.sort_values('prob_default', ascending=ascending)\n",
    "    \n",
    "    # build cumulative_default\n",
    "    df['cumulative_default'] = df['y_actual'].cumsum()\n",
    "    df['lift'] = df['cumulative_default']/df['y_actual'].sum()\n",
    "\n",
    "    # create index starting from 0 and normalize\n",
    "    df = df.reset_index(drop=True).reset_index()\n",
    "    df['index'] = df['index']/(df['index'].iloc[-1])\n",
    "    df = df.set_index('index')\n",
    "    \n",
    "    if return_ideal_curve:\n",
    "        df_perfect = df.sort_values('y_actual', ascending=ascending)\n",
    "        df_perfect['cumulative_default'] = df_perfect['y_actual'].cumsum()\n",
    "        df_perfect['lift'] = df_perfect['cumulative_default']/df_perfect['cumulative_default'].iloc[-1]\n",
    "        df_perfect = df_perfect.reset_index(drop=True).reset_index()\n",
    "        df_perfect['index'] = df_perfect['index']/(df_perfect['index'].iloc[-1])\n",
    "        df_perfect = df_perfect.set_index('index')\n",
    "        \n",
    "        return df['lift'], df_perfect['lift']\n",
    "    \n",
    "    return df['lift']"
   ]
  },
  {
   "cell_type": "code",
   "execution_count": 7,
   "id": "7f40a034",
   "metadata": {},
   "outputs": [],
   "source": [
    "## SAME CODE AS PREVIOUS SECTION\n",
    "import numpy as np\n",
    "import pandas as pd\n",
    "import matplotlib.pyplot as plt\n",
    "from sklearn.datasets import make_classification\n",
    "from sklearn.model_selection import train_test_split\n",
    "from sklearn.linear_model import LogisticRegression\n",
    "\n",
    "# create dummy classification problem\n",
    "X, y = make_classification(n_samples=5000, n_features=10, n_informative=8, n_redundant=1, n_repeated=1, \n",
    "                           random_state=10) # for reproducibility\n",
    "\n",
    "# split train test\n",
    "X_train, X_test, y_train, y_test = train_test_split(X, y, test_size=0.3, random_state=10)\n",
    "\n",
    "model = LogisticRegression()\n",
    "model.fit(X_train, y_train)\n",
    "\n",
    "y_train_pred = model.predict_proba(X_train)[:,1]\n",
    "y_test_pred = model.predict_proba(X_test)[:,1]"
   ]
  },
  {
   "cell_type": "code",
   "execution_count": 8,
   "id": "aa67df7a",
   "metadata": {},
   "outputs": [],
   "source": [
    "lift, ideal_lift = build_lift_curve(y_test, y_test_pred, ascending=True, return_ideal_curve=True)"
   ]
  },
  {
   "cell_type": "markdown",
   "id": "c2bf4a19",
   "metadata": {},
   "source": [
    "This is the final table:"
   ]
  },
  {
   "cell_type": "code",
   "execution_count": 10,
   "id": "5f82a3f2",
   "metadata": {},
   "outputs": [
    {
     "data": {
      "text/html": [
       "<div>\n",
       "<style scoped>\n",
       "    .dataframe tbody tr th:only-of-type {\n",
       "        vertical-align: middle;\n",
       "    }\n",
       "\n",
       "    .dataframe tbody tr th {\n",
       "        vertical-align: top;\n",
       "    }\n",
       "\n",
       "    .dataframe thead th {\n",
       "        text-align: right;\n",
       "    }\n",
       "</style>\n",
       "<table border=\"1\" class=\"dataframe\">\n",
       "  <thead>\n",
       "    <tr style=\"text-align: right;\">\n",
       "      <th></th>\n",
       "      <th>lift</th>\n",
       "    </tr>\n",
       "    <tr>\n",
       "      <th>index</th>\n",
       "      <th></th>\n",
       "    </tr>\n",
       "  </thead>\n",
       "  <tbody>\n",
       "    <tr>\n",
       "      <th>0.000000</th>\n",
       "      <td>0.000000</td>\n",
       "    </tr>\n",
       "    <tr>\n",
       "      <th>0.000667</th>\n",
       "      <td>0.000000</td>\n",
       "    </tr>\n",
       "    <tr>\n",
       "      <th>0.001334</th>\n",
       "      <td>0.000000</td>\n",
       "    </tr>\n",
       "    <tr>\n",
       "      <th>0.002001</th>\n",
       "      <td>0.000000</td>\n",
       "    </tr>\n",
       "    <tr>\n",
       "      <th>0.002668</th>\n",
       "      <td>0.000000</td>\n",
       "    </tr>\n",
       "    <tr>\n",
       "      <th>...</th>\n",
       "      <td>...</td>\n",
       "    </tr>\n",
       "    <tr>\n",
       "      <th>0.997332</th>\n",
       "      <td>0.994616</td>\n",
       "    </tr>\n",
       "    <tr>\n",
       "      <th>0.997999</th>\n",
       "      <td>0.995962</td>\n",
       "    </tr>\n",
       "    <tr>\n",
       "      <th>0.998666</th>\n",
       "      <td>0.997308</td>\n",
       "    </tr>\n",
       "    <tr>\n",
       "      <th>0.999333</th>\n",
       "      <td>0.998654</td>\n",
       "    </tr>\n",
       "    <tr>\n",
       "      <th>1.000000</th>\n",
       "      <td>1.000000</td>\n",
       "    </tr>\n",
       "  </tbody>\n",
       "</table>\n",
       "<p>1500 rows × 1 columns</p>\n",
       "</div>"
      ],
      "text/plain": [
       "              lift\n",
       "index             \n",
       "0.000000  0.000000\n",
       "0.000667  0.000000\n",
       "0.001334  0.000000\n",
       "0.002001  0.000000\n",
       "0.002668  0.000000\n",
       "...            ...\n",
       "0.997332  0.994616\n",
       "0.997999  0.995962\n",
       "0.998666  0.997308\n",
       "0.999333  0.998654\n",
       "1.000000  1.000000\n",
       "\n",
       "[1500 rows x 1 columns]"
      ]
     },
     "execution_count": 10,
     "metadata": {},
     "output_type": "execute_result"
    }
   ],
   "source": [
    "pd.DataFrame(lift)"
   ]
  },
  {
   "cell_type": "markdown",
   "id": "1b260de1",
   "metadata": {},
   "source": [
    "#### How would a perfect lift curve be here?"
   ]
  },
  {
   "cell_type": "markdown",
   "id": "8d097a3b",
   "metadata": {},
   "source": [
    "Just before we plot: let us understand how a perfect lift curve would compare to ours. In a perfect lift curve, we would make no mistakes: the accumulated default column would be 0 until we reach the first person with $y=1$, and then grow linearly from there. "
   ]
  },
  {
   "cell_type": "markdown",
   "id": "2a8a3021",
   "metadata": {},
   "source": [
    "#### What about a random classifier?\n",
    "A random classifier, on the other hand, would linearly go from (0,0) to (1,1) (can you see why?)"
   ]
  },
  {
   "cell_type": "code",
   "execution_count": 12,
   "id": "c7019916",
   "metadata": {},
   "outputs": [
    {
     "data": {
      "image/png": "[encoded data removed]",
      "text/plain": [
       "<Figure size 360x360 with 1 Axes>"
      ]
     },
     "metadata": {
      "filenames": {
       "image/png": "/Users/c85538a/datalab/imbalanced_learning/_build/jupyter_execute/notebooks/Metrics 2 - Lift curve_28_0.png"
      },
      "needs_background": "light"
     },
     "output_type": "display_data"
    }
   ],
   "source": [
    "plt.subplots(figsize=(5,5))\n",
    "\n",
    "# lift curve from the model\n",
    "lift.plot(label='Logistic regression')\n",
    "\n",
    "# perfect lift\n",
    "ideal_lift.plot(xlabel='Index (sorted from lower to higher score)', ylabel='Accumulated defaults', \n",
    "                       label='Perfect lift curve', linestyle='--', color='lightblue')\n",
    "\n",
    "# random lift\n",
    "x = np.linspace(0,1)\n",
    "plt.plot(x,x, linestyle='--', label='Random classifier', color='gray')\n",
    "\n",
    "plt.legend()\n",
    "plt.show()"
   ]
  },
  {
   "cell_type": "markdown",
   "id": "c825d982",
   "metadata": {},
   "source": [
    "**Interpretation**:\n",
    "\n",
    "Notice that the best possible curve is the lowest, whereas the worst one is the 45 degree diagonal. Our model is intermediate, not too low nor too high. The lift curve is monotonic by construction.\n",
    "* Our model is good for *low scores*: the curve starts out flat but quickly starts to grow, meaning our model is making mistakes. \n",
    "* It is worst for *medium scores*, where the curve grows almost parallel to the random classifier one\n",
    "* For high scores, where the ideal curve is slanted, the model performs well - it tends to grow very fast in that area.\n",
    "\n",
    "**The lift curve is useful because it allows us to see how the model behaves across the whole data**. It gives us an interpretable curve which tells us how well we perform for entries with low/medium/high scores."
   ]
  },
  {
   "cell_type": "markdown",
   "id": "19b00b65",
   "metadata": {},
   "source": [
    "### Lift curve II: when high scores are better (sorting from high to low scores)"
   ]
  },
  {
   "cell_type": "markdown",
   "id": "a1aaebad",
   "metadata": {},
   "source": [
    "This case is exactly the opposite from the previous one. \n",
    "\n",
    "> A possible use case is in **product recommendation**. Suppose we have a model for whether a customer will be interested ($y=1$) or not ($y=0$) in a product, which will be recommended to them in our company's homepage. Then, we want to recommend the product to the clients with highest propensity to like the product, ie. those with higher score."
   ]
  },
  {
   "cell_type": "code",
   "execution_count": 13,
   "id": "b28df641",
   "metadata": {},
   "outputs": [],
   "source": [
    "lift, ideal_lift = build_lift_curve(y_test, y_test_pred,\n",
    "                                    ascending=False, # the only change is here\n",
    "                                    return_ideal_curve=True)"
   ]
  },
  {
   "cell_type": "code",
   "execution_count": 14,
   "id": "61d36fb7",
   "metadata": {},
   "outputs": [
    {
     "data": {
      "image/png": "[encoded data removed]",
      "text/plain": [
       "<Figure size 360x360 with 1 Axes>"
      ]
     },
     "metadata": {
      "filenames": {
       "image/png": "/Users/c85538a/datalab/imbalanced_learning/_build/jupyter_execute/notebooks/Metrics 2 - Lift curve_33_0.png"
      },
      "needs_background": "light"
     },
     "output_type": "display_data"
    }
   ],
   "source": [
    "plt.subplots(figsize=(5,5))\n",
    "\n",
    "# lift curve from the model\n",
    "lift.plot(label='Logistic regression')\n",
    "\n",
    "# perfect lift\n",
    "ideal_lift.plot(xlabel='Index (sorted from higher to lower score)', ylabel='Accumulated defaults', \n",
    "                       label='Perfect lift curve', linestyle='--', color='lightblue')\n",
    "\n",
    "# random lift\n",
    "x = np.linspace(0,1)\n",
    "plt.plot(x,x, linestyle='--', label='Random classifier', color='gray')\n",
    "\n",
    "plt.legend()\n",
    "plt.show()"
   ]
  },
  {
   "cell_type": "markdown",
   "id": "6c832991",
   "metadata": {},
   "source": [
    "**Interpretation**: of course, since we are using the exact same data as before, the conclusions must be the same. This curve is exactly the previous one, upside down."
   ]
  },
  {
   "cell_type": "markdown",
   "id": "a6892479",
   "metadata": {},
   "source": [
    "### Area under the lift curve & its relation to ROC AUC"
   ]
  },
  {
   "cell_type": "markdown",
   "id": "34f01cb4",
   "metadata": {},
   "source": [
    "**The lift curves must be analyzed together with the ROC AUC**. It turns out they are both complementary and interpretable, providing a full picture of what is happening.\n",
    "\n",
    "We now state (and prove in the Appendix below) a very interesting result relating it to the ROC AUC: **one of them uniquely defines the other**, so the area under the lift curve doesn't really matter. We can use the ROC AUC instead."
   ]
  },
  {
   "cell_type": "markdown",
   "id": "c7639107",
   "metadata": {},
   "source": [
    "$$\\boxed{\\binom{\\mbox{area under}}{\\mbox{lift curve}} = \\mathrm{constant}_1+ \\mathrm{constant}_2 \\times \\mathrm{AUC}}\\qquad \\mbox{(high to low scores)}$$"
   ]
  },
  {
   "cell_type": "markdown",
   "id": "9ff8589d",
   "metadata": {},
   "source": [
    "The constants are calculated as follows. Let $\\pi$ denote the proportion of the minority class to the total amount of points. Then\n",
    "\n",
    "$$\\mathrm{constant}_1 = \\frac \\pi 2$$\n",
    "$$\\mathrm{constant}_2 = 1 - \\pi$$"
   ]
  },
  {
   "cell_type": "markdown",
   "id": "defa34c5",
   "metadata": {},
   "source": [
    "#### Numerically checking this"
   ]
  },
  {
   "cell_type": "markdown",
   "id": "a4cdc629",
   "metadata": {},
   "source": [
    "Let us us the DataFrame defined above (which has the lift with scores from high to low):"
   ]
  },
  {
   "cell_type": "code",
   "execution_count": 37,
   "id": "96120384",
   "metadata": {},
   "outputs": [
    {
     "data": {
      "text/html": [
       "<div>\n",
       "<style scoped>\n",
       "    .dataframe tbody tr th:only-of-type {\n",
       "        vertical-align: middle;\n",
       "    }\n",
       "\n",
       "    .dataframe tbody tr th {\n",
       "        vertical-align: top;\n",
       "    }\n",
       "\n",
       "    .dataframe thead th {\n",
       "        text-align: right;\n",
       "    }\n",
       "</style>\n",
       "<table border=\"1\" class=\"dataframe\">\n",
       "  <thead>\n",
       "    <tr style=\"text-align: right;\">\n",
       "      <th></th>\n",
       "      <th>V1</th>\n",
       "      <th>V2</th>\n",
       "      <th>V3</th>\n",
       "      <th>V4</th>\n",
       "      <th>V5</th>\n",
       "      <th>V6</th>\n",
       "      <th>V7</th>\n",
       "      <th>V8</th>\n",
       "      <th>V9</th>\n",
       "      <th>V10</th>\n",
       "      <th>...</th>\n",
       "      <th>V20</th>\n",
       "      <th>V21</th>\n",
       "      <th>V22</th>\n",
       "      <th>V23</th>\n",
       "      <th>V24</th>\n",
       "      <th>V25</th>\n",
       "      <th>V26</th>\n",
       "      <th>V27</th>\n",
       "      <th>V28</th>\n",
       "      <th>Class</th>\n",
       "    </tr>\n",
       "  </thead>\n",
       "  <tbody>\n",
       "    <tr>\n",
       "      <th>185723</th>\n",
       "      <td>-2.132915</td>\n",
       "      <td>-1.435724</td>\n",
       "      <td>-0.167875</td>\n",
       "      <td>-0.613622</td>\n",
       "      <td>-1.523509</td>\n",
       "      <td>0.702004</td>\n",
       "      <td>3.318497</td>\n",
       "      <td>-0.407880</td>\n",
       "      <td>-0.036720</td>\n",
       "      <td>-1.293947</td>\n",
       "      <td>...</td>\n",
       "      <td>-0.068133</td>\n",
       "      <td>-0.402366</td>\n",
       "      <td>-1.273932</td>\n",
       "      <td>0.686603</td>\n",
       "      <td>-0.426971</td>\n",
       "      <td>-0.304671</td>\n",
       "      <td>-0.970158</td>\n",
       "      <td>0.268611</td>\n",
       "      <td>0.097632</td>\n",
       "      <td>0</td>\n",
       "    </tr>\n",
       "    <tr>\n",
       "      <th>39757</th>\n",
       "      <td>0.254733</td>\n",
       "      <td>1.270708</td>\n",
       "      <td>-0.909430</td>\n",
       "      <td>1.916788</td>\n",
       "      <td>2.456681</td>\n",
       "      <td>4.305723</td>\n",
       "      <td>-1.164007</td>\n",
       "      <td>-1.813797</td>\n",
       "      <td>-1.951456</td>\n",
       "      <td>0.401035</td>\n",
       "      <td>...</td>\n",
       "      <td>0.843244</td>\n",
       "      <td>-1.634035</td>\n",
       "      <td>-0.876942</td>\n",
       "      <td>0.130014</td>\n",
       "      <td>0.950920</td>\n",
       "      <td>0.542166</td>\n",
       "      <td>-0.022867</td>\n",
       "      <td>0.100057</td>\n",
       "      <td>0.256621</td>\n",
       "      <td>0</td>\n",
       "    </tr>\n",
       "    <tr>\n",
       "      <th>189045</th>\n",
       "      <td>2.124338</td>\n",
       "      <td>-0.679729</td>\n",
       "      <td>-1.153490</td>\n",
       "      <td>-0.739702</td>\n",
       "      <td>-0.639216</td>\n",
       "      <td>-0.527015</td>\n",
       "      <td>-0.997817</td>\n",
       "      <td>0.006910</td>\n",
       "      <td>-0.206940</td>\n",
       "      <td>0.241344</td>\n",
       "      <td>...</td>\n",
       "      <td>0.044019</td>\n",
       "      <td>0.273254</td>\n",
       "      <td>0.884667</td>\n",
       "      <td>0.061971</td>\n",
       "      <td>-0.487875</td>\n",
       "      <td>-0.141140</td>\n",
       "      <td>-0.081836</td>\n",
       "      <td>0.030883</td>\n",
       "      <td>-0.026193</td>\n",
       "      <td>0</td>\n",
       "    </tr>\n",
       "    <tr>\n",
       "      <th>82443</th>\n",
       "      <td>-0.593932</td>\n",
       "      <td>1.237201</td>\n",
       "      <td>1.228652</td>\n",
       "      <td>1.720319</td>\n",
       "      <td>1.370083</td>\n",
       "      <td>1.082608</td>\n",
       "      <td>0.892225</td>\n",
       "      <td>0.375500</td>\n",
       "      <td>-1.667653</td>\n",
       "      <td>0.113343</td>\n",
       "      <td>...</td>\n",
       "      <td>-0.260720</td>\n",
       "      <td>0.240098</td>\n",
       "      <td>0.777437</td>\n",
       "      <td>-0.058924</td>\n",
       "      <td>-0.644662</td>\n",
       "      <td>-0.378534</td>\n",
       "      <td>0.091938</td>\n",
       "      <td>0.156481</td>\n",
       "      <td>0.122518</td>\n",
       "      <td>0</td>\n",
       "    </tr>\n",
       "    <tr>\n",
       "      <th>274069</th>\n",
       "      <td>-2.357838</td>\n",
       "      <td>1.374659</td>\n",
       "      <td>0.194077</td>\n",
       "      <td>-0.620863</td>\n",
       "      <td>-0.799228</td>\n",
       "      <td>0.004177</td>\n",
       "      <td>-0.873491</td>\n",
       "      <td>1.684539</td>\n",
       "      <td>-0.046760</td>\n",
       "      <td>-0.508703</td>\n",
       "      <td>...</td>\n",
       "      <td>-0.064811</td>\n",
       "      <td>-0.096609</td>\n",
       "      <td>-0.522473</td>\n",
       "      <td>0.121794</td>\n",
       "      <td>0.655800</td>\n",
       "      <td>-0.250214</td>\n",
       "      <td>-0.015225</td>\n",
       "      <td>0.218985</td>\n",
       "      <td>0.025066</td>\n",
       "      <td>0</td>\n",
       "    </tr>\n",
       "  </tbody>\n",
       "</table>\n",
       "<p>5 rows × 29 columns</p>\n",
       "</div>"
      ],
      "text/plain": [
       "              V1        V2        V3        V4        V5        V6        V7  \\\n",
       "185723 -2.132915 -1.435724 -0.167875 -0.613622 -1.523509  0.702004  3.318497   \n",
       "39757   0.254733  1.270708 -0.909430  1.916788  2.456681  4.305723 -1.164007   \n",
       "189045  2.124338 -0.679729 -1.153490 -0.739702 -0.639216 -0.527015 -0.997817   \n",
       "82443  -0.593932  1.237201  1.228652  1.720319  1.370083  1.082608  0.892225   \n",
       "274069 -2.357838  1.374659  0.194077 -0.620863 -0.799228  0.004177 -0.873491   \n",
       "\n",
       "              V8        V9       V10  ...       V20       V21       V22  \\\n",
       "185723 -0.407880 -0.036720 -1.293947  ... -0.068133 -0.402366 -1.273932   \n",
       "39757  -1.813797 -1.951456  0.401035  ...  0.843244 -1.634035 -0.876942   \n",
       "189045  0.006910 -0.206940  0.241344  ...  0.044019  0.273254  0.884667   \n",
       "82443   0.375500 -1.667653  0.113343  ... -0.260720  0.240098  0.777437   \n",
       "274069  1.684539 -0.046760 -0.508703  ... -0.064811 -0.096609 -0.522473   \n",
       "\n",
       "             V23       V24       V25       V26       V27       V28  Class  \n",
       "185723  0.686603 -0.426971 -0.304671 -0.970158  0.268611  0.097632      0  \n",
       "39757   0.130014  0.950920  0.542166 -0.022867  0.100057  0.256621      0  \n",
       "189045  0.061971 -0.487875 -0.141140 -0.081836  0.030883 -0.026193      0  \n",
       "82443  -0.058924 -0.644662 -0.378534  0.091938  0.156481  0.122518      0  \n",
       "274069  0.121794  0.655800 -0.250214 -0.015225  0.218985  0.025066      0  \n",
       "\n",
       "[5 rows x 29 columns]"
      ]
     },
     "execution_count": 37,
     "metadata": {},
     "output_type": "execute_result"
    }
   ],
   "source": [
    "df.head()"
   ]
  },
  {
   "cell_type": "markdown",
   "id": "6e396410",
   "metadata": {},
   "source": [
    "We want to compare the area under the lift curve (which has no unique name; let us call it $\\mathrm{AUL}$ for now) with the expression $\\pi_1/2 +(1-\\pi_1) \\mathrm{AUC}$."
   ]
  },
  {
   "cell_type": "code",
   "execution_count": 19,
   "id": "4f0805b8",
   "metadata": {},
   "outputs": [
    {
     "name": "stdout",
     "output_type": "stream",
     "text": [
      "Proportion of positive class (pi1): 0.495\n",
      "\n",
      "Raw metrics:\n",
      " > AUL = 0.624\n",
      " > AUC = 0.746\n",
      "\n",
      "Calculated AUL: 0.624\n",
      " > Difference between AUL and calculated version: 0.0004\n"
     ]
    }
   ],
   "source": [
    "from sklearn.metrics import auc  # this is not roc_auc_score; it is just a function for numerical integration\n",
    "from sklearn.metrics import roc_auc_score\n",
    "\n",
    "pi1 = y_test.sum()/len(y_test) # proportion of 1's in the test dataset\n",
    "print(\"Proportion of positive class (pi1): {0:.3f}\".format(pi1))\n",
    "AUL = auc(x=lift.index, y=lift)\n",
    "auc_ = roc_auc_score(y_test, y_test_pred)\n",
    "print(\"\\nRaw metrics:\\n > AUL = {0:.3f}\\n > AUC = {1:.3f}\".format(AUL, auc_))\n",
    "\n",
    "AUL_calc = pi1/2 + (1-pi1) * auc_\n",
    "print(\"\\nCalculated AUL: {0:.3f}\".format(AUL_calc))\n",
    "print(\" > Difference between AUL and calculated version: {0:.4f}\".format(np.abs(AUL-AUL_calc)))"
   ]
  },
  {
   "cell_type": "markdown",
   "id": "9016f510",
   "metadata": {},
   "source": [
    "We can see that indeed both are very close (difference in the fourth decimal place), as expected!"
   ]
  },
  {
   "cell_type": "markdown",
   "id": "8647709e",
   "metadata": {},
   "source": [
    "## The Gini coefficient"
   ]
  },
  {
   "cell_type": "markdown",
   "id": "97732b6d",
   "metadata": {},
   "source": [
    "A quantity related to both the ROC AUC and the area under the lift curve is the **Gini coefficient**."
   ]
  },
  {
   "attachments": {
    "image-2.png": {
     "image/png": "[encoded data removed]"
    }
   },
   "cell_type": "markdown",
   "id": "b5fac591",
   "metadata": {},
   "source": [
    "![image-2.png](attachment:image-2.png)"
   ]
  },
  {
   "cell_type": "markdown",
   "id": "719c64b5",
   "metadata": {},
   "source": [
    "(image modified from [this post](https://www.listendata.com/2019/09/gini-cumulative-accuracy-profile-auc.html))"
   ]
  },
  {
   "cell_type": "markdown",
   "id": "314a515c",
   "metadata": {},
   "source": [
    "One can easily show (using a similar logic to that of the calculations we do in the Appendix) that \n",
    "\n",
    "$$\\boxed{\\mathrm{Gini} = 2\\mathrm{AUC}-1}$$\n",
    "\n",
    "Hence, this is yet another metric which coincides with the ROC AUC."
   ]
  },
  {
   "cell_type": "markdown",
   "id": "01a0d676",
   "metadata": {},
   "source": [
    "## References\n",
    "[1] Chris J. Lloyd, *A Note on the Area under the Lifts Chart*. International Journal of Statistics in Medical Research, 2018, 7, 66-69 \n",
    "\n",
    "[2] Max Kuhn, Kjell Johnson, *Applied Predictive Modeling*. Springer, 2016, pp. 265-266"
   ]
  },
  {
   "cell_type": "markdown",
   "id": "e11ae543",
   "metadata": {},
   "source": [
    "# Appendix"
   ]
  },
  {
   "cell_type": "markdown",
   "id": "8972453f",
   "metadata": {},
   "source": [
    "**Proposition [equivalence of AUL and ROC AUC]**. Consider the lift curve II above (which is sorted from high to low scores). Let $\\mathrm{AUL}$ denote the area under the lift curve, and let $\\mathrm{AUC}$ denote the ROC AUC. Let $\\pi_1 = \\mathbb{P} (y=1)$ denote the fraction of the positive class. Then\n",
    "\n",
    "$$\\boxed{\\mathrm{AUL} = \\frac{\\pi_1}{2} + (1-\\pi_1) \\mathrm{AUC}}\\qquad \\mbox{(high to low scores)}$$\n",
    "\n",
    "**Proof**: let us translate our construction of the lift curve into the language of probability. The Y axis contains the proportion of points correctly classified as 1, i.e. $\\mathbb P(\\hat y = 1|y=1)$ which is just the true positive rate. We have seen in the Appendix for the ROC curve that, for a fixed threshold $\\lambda$, \n",
    "\n",
    "$$\\mathrm{TPR}(\\lambda) = 1 - F_1(\\lambda)$$\n",
    "\n",
    "where $F_1(\\lambda) = \\mathbb P (f(X) \\leq \\lambda | Y=1)$ is the CDF for the score $f(X)|Y=1$. Hence, we let $y(\\lambda) = 1 - F_1(\\lambda)$ be our Y axis. For the X axis, it represents the proportion ($\\mathbb P$) of points with decreasing ($\\geq \\lambda$) score ($f(X)$). Hence, $x = \\mathbb P (f(X) \\geq \\lambda) = 1 - F(\\lambda)$ where the CDF $F(\\lambda)$ is that of the unconditional score: \n",
    "\n",
    "$$F(\\lambda) = \\mathbb P (f(X) < \\lambda),$$ \n",
    "\n",
    "which can also be written in terms of the conditionals $F_i$ via \n",
    "\n",
    "\\begin{align}F(\\lambda) &=  \\mathbb P (f(X) < \\lambda) = \\mathbb P (f(X) < \\lambda|Y=1) \\mathbb{P} (Y=1) + \\mathbb P (f(X) < \\lambda|Y=0) \\mathbb{P}(Y=0)\\\\\n",
    "&= \\pi_1 F_1(\\lambda) + \\pi_0 F_0 (\\lambda)\\end{align}.\n",
    "\n",
    "Here $\\pi_1 + \\pi_0 = 1$ are the proportions of $Y=1$ and $Y=0$. We have thus written the lift curve as\n",
    "\n",
    "$$\\begin{cases}x(\\lambda) &=& 1 - F(\\lambda) = 1 - \\pi_1 F_1(\\lambda) - \\pi_0 F_0(\\lambda)\\\\\n",
    "y(\\lambda) &=& 1 - F_1(\\lambda)\\end{cases}$$\n",
    "\n",
    "To calculate $\\mathrm{AUL}$, ideally we would like to write $y$ as a function of $x$ and integrate. This is possible if we invert $\\lambda = \\lambda(x)$ and plug it into the expression for $y$. This is hard since $\\lambda$ appears both as the argument of $F_0$ and $F_1$. Instead, what we can do is to *write $x$ as a function of $y$ instead* and calculate the integral $\\int x dy$ instead of $\\int y dx$. These integrals are not the same, but they will be related as we show below. \n",
    "\n",
    "We have $\\lambda = F_1^{-1}(1-y)$. Plugging this into the equation for $x$ yields (calling $G(x)$ the lift curve and $G^{-1}(y)$ its inverse:\n",
    "\n",
    "\\begin{align}\n",
    "x \\equiv G^{-1}(y) &= 1 - \\pi_1 F_1 (F_1^{-1}(1-y)) - \\pi_0 F_0 (F_1^{-1}(1-y)) \\\\\n",
    "&= 1 - \\pi_1(1-y) - \\pi_0 F_0(F_1^{-1}(1-y)).\n",
    "\\end{align}\n",
    "\n",
    "In the Appendix for the ROC curve we saw that we could write it as $y = R(x) = 1 - F_1(F_0^{-1}(1-x))$. This is almost what we have, but the roles of $F_1$ and $F_0$ are shifted. We can actually invert this expression to get \n",
    "\n",
    "$$x \\equiv R^{-1}(y) = 1 - F_0(F_1^{-1}(1-y)),$$ \n",
    "\n",
    "which matches nicely with the RHS above. Hence \n",
    "\n",
    "\\begin{align}\n",
    "G^{-1}(y) &= 1 - \\pi_1 (1-y) - \\pi_0 (1 - R^{-1}(y))\\\\\n",
    "&=\\pi_1 y + \\pi_0 R^{-1}(y)\\\\\n",
    "\\Rightarrow \\int_0^1 G^{-1}(y)dy  &= \\frac{\\pi_1}{2} + \\pi_0 \\int_0^1R^{-1}(y)dy\n",
    "\\end{align}\n",
    "\n",
    "Now, both the ROC and lift curve live inside the unit square $[0,1]\\times[0,1]$, which has area equal to 1, and have endpoints in $(0,0)$ and $(1,1)$. For any such function,\n",
    "\n",
    "$$\\int_0^1 f(x) dx + \\int_0^1 f^{-1}(y) dy = 1.$$\n",
    "\n",
    "We can then rewrite the equality above using $\\mathrm{AUC}$ and $\\mathrm{AUL}$:\n",
    "\n",
    "$$(1-\\mathrm{AUL}) = \\frac{\\pi_1}{2} + \\pi_0 (1-\\mathrm{AUC});$$\n",
    "\n",
    "using that $\\pi_0 = 1 - \\pi_1$ and simplifying yields\n",
    "\n",
    "$$\\mathrm{AUL} = \\frac{\\pi_1}{2} + (1-\\pi_1) \\mathrm{AUC}$$\n",
    "as claimed.\n",
    "\n",
    "**Problem**: using the exact same logic as above (or just good old geometry) prove that for the lift curve I it holds that\n",
    "\n",
    "$$\\boxed{\\mathrm{AUL} = 1 - \\left[\\frac{\\pi_1}{2} + (1-\\pi_1) \\mathrm{AUC}\\right]}\\qquad \\mbox{(low to high scores)}$$"
   ]
  }
 ],
 "metadata": {
  "kernelspec": {
   "display_name": "Python 3",
   "language": "python",
   "name": "python3"
  },
  "language_info": {
   "codemirror_mode": {
    "name": "ipython",
    "version": 3
   },
   "file_extension": ".py",
   "mimetype": "text/x-python",
   "name": "python",
   "nbconvert_exporter": "python",
   "pygments_lexer": "ipython3",
   "version": "3.7.9"
  },
  "toc": {
   "base_numbering": 1,
   "nav_menu": {},
   "number_sections": true,
   "sideBar": true,
   "skip_h1_title": false,
   "title_cell": "Table of Contents",
   "title_sidebar": "Contents",
   "toc_cell": false,
   "toc_position": {},
   "toc_section_display": true,
   "toc_window_display": false
  }
 },
 "nbformat": 4,
 "nbformat_minor": 5
}