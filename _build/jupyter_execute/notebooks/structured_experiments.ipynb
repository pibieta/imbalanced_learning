{
 "cells": [
  {
   "cell_type": "markdown",
   "id": "01ff058d",
   "metadata": {},
   "source": [
    "# Goal\n",
    "\n",
    "This notebook documents experiments on using different methods for feature selection.\n",
    "\n",
    "We want to see how different algorithms perform feature selection vs. maintaining performance as the number of features increase.\n",
    "\n",
    "We will have two types of **feature sets**:\n",
    "* Set 1: 2 types of features: informative + noise\n",
    "* Set 1: 4 two types of features: informative + noise + repeated (with some noise) + redundant (with some noise)\n",
    "and two types of **growth settings**:\n",
    "* Setting A: keep number of informative features fixed, grow noise\n",
    "* Setting B: grow informative features (and repeated/redundant) together with noise, keeping their proportions\n",
    "\n"
   ]
  },
  {
   "cell_type": "code",
   "execution_count": 2,
   "id": "ec7df282",
   "metadata": {},
   "outputs": [],
   "source": [
    "from boruta.boruta_py import BorutaPy\n",
    "from sklearn.datasets import make_classification\n",
    "\n",
    "#make_classification()"
   ]
  },
  {
   "cell_type": "code",
   "execution_count": 3,
   "id": "87d6423f",
   "metadata": {},
   "outputs": [],
   "source": [
    "def select_feature_boruta(X, y, \n",
    "                         perc=100,\n",
    "                         alpha=0.05,\n",
    "                         max_iter=100,\n",
    "                         max_depth=7,\n",
    "                         n_estimators='auto',\n",
    "                         n_jobs=1):\n",
    "\n",
    "    from sklearn.ensemble import RandomForestClassifier\n",
    "    from boruta.boruta_py import BorutaPy\n",
    "    \n",
    "    X_is_df = isinstance(X, pd.DataFrame)\n",
    "    y_is_df = isinstance(y, pd.Series)\n",
    "    \n",
    "    selector = BorutaPy(\n",
    "        estimator=RandomForestClassifier(n_estimators=100, max_depth=max_depth, n_jobs=n_jobs),\n",
    "        n_estimators=n_estimators,\n",
    "        perc=perc,      \n",
    "        alpha=alpha,    \n",
    "        max_iter=max_iter,\n",
    "        random_state=1,\n",
    "        verbose=0,\n",
    "    )\n",
    "\n",
    "    # boruta needs a numpy array, not a dataframe\n",
    "    X_train = X.values if X_is_df else X\n",
    "    y_train = y.values if y_is_df else y\n",
    "\n",
    "    selector.fit(X_train, y_train) \n",
    "    \n",
    "    if X_is_df:\n",
    "        columns = X.columns\n",
    "        return sorted(np.array(columns)[selector.support_.tolist()])\n",
    "    else:\n",
    "        return sorted(selector.support_.tolist())"
   ]
  },
  {
   "cell_type": "code",
   "execution_count": null,
   "id": "97dd423c",
   "metadata": {},
   "outputs": [],
   "source": []
  }
 ],
 "metadata": {
  "kernelspec": {
   "display_name": "Python 3",
   "language": "python",
   "name": "python3"
  },
  "language_info": {
   "codemirror_mode": {
    "name": "ipython",
    "version": 3
   },
   "file_extension": ".py",
   "mimetype": "text/x-python",
   "name": "python",
   "nbconvert_exporter": "python",
   "pygments_lexer": "ipython3",
   "version": "3.8.8"
  }
 },
 "nbformat": 4,
 "nbformat_minor": 5
}