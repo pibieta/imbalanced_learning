{
 "cells": [
  {
   "cell_type": "markdown",
   "id": "d100072f",
   "metadata": {},
   "source": [
    "# Classification metrics"
   ]
  },
  {
   "cell_type": "markdown",
   "id": "601027a4",
   "metadata": {},
   "source": [
    "We focus our discussion on **threshold-independent metrics**.\n",
    "\n",
    "Recall that the threshold is the number $\\lambda$ such that we set the model's prediction to 1 if the score is greater than $\\lambda$, and 0 otherwise. Mathematically, given a machine learning model $f$ and a feature vector $x$, a binarized prediction can be built by comparing the model output (the **score**) to the threshold:\n",
    "\n",
    "\n",
    "$$\\hat{y}(x) = \\begin{cases}\n",
    "1 & \\mbox{if } \\hat{f}(x) \\geq \\lambda \\\\\n",
    "0 & \\mbox{if } \\hat{f}(x) < \\lambda\n",
    "\\end{cases}\n",
    "$$\n",
    "\n",
    "With a fixed threshold, we can build confusion matrices and all metrics which derive from them: accuracy, precision, recall, F1, MCC, among others.\n",
    "\n",
    "There are two reasons to focus on metrics which do not depend on a threshold:\n",
    "\n",
    "1. In the modelling pipeline, finding a continuous score model comes first - only after that comes defining a threshold. Usually, one picks the best model in a threshold-independent way. If the application requires them to define a binary output (which is not always the case), then one tries to find a good threshold *after* the model has been chosen.\n",
    "\n",
    "2. There is no \"best\" threshold - it will be found as the result of a calculation including trade-offs (between false positives vs false negatives, for example). This is, usually, very dependent on specific business needs."
   ]
  },
  {
   "cell_type": "markdown",
   "id": "182161bc",
   "metadata": {},
   "source": [
    "## Our sample data"
   ]
  },
  {
   "cell_type": "markdown",
   "id": "e50de8d4",
   "metadata": {},
   "source": [
    "Throughout this section, we will use the following simulated data with 10 features and 5000 data points, out of which only 8 are meaningful:"
   ]
  },
  {
   "cell_type": "code",
   "execution_count": 14,
   "id": "a39ca529",
   "metadata": {},
   "outputs": [],
   "source": [
    "import numpy as np\n",
    "from sklearn.datasets import make_classification\n",
    "from sklearn.model_selection import train_test_split\n",
    "\n",
    "# create dummy classification problem\n",
    "X, y = make_classification(n_samples=5000, n_features=10, n_informative=8, n_redundant=1, n_repeated=1, \n",
    "                           random_state=10) # for reproducibility\n",
    "\n",
    "# split train test\n",
    "X_train, X_test, y_train, y_test = train_test_split(X, y, test_size=0.3, random_state=10)"
   ]
  },
  {
   "cell_type": "markdown",
   "id": "6ecfd53d",
   "metadata": {},
   "source": [
    "## The base ingredient: confusion matrices"
   ]
  },
  {
   "cell_type": "markdown",
   "id": "960d8993",
   "metadata": {},
   "source": [
    "All metrics will be build from a single fundamental element: the confusion matrix.\n",
    "\n",
    "Basically, assume for a second you have an estimator $\\hat y(x)$. This supposes you have created a score function and chosen a threshold, so that $\\hat y(x)$ will give 1's and 0's. \n",
    "\n",
    "Now, given an observation $(x, y)$ (with $y$ equal to 0 or 1) there are **four possible outcomes** when we compare the real $y$ to the prediction $\\hat y(x)$:\n",
    "\n",
    "1. $y=0$ and $\\hat y = 0$: right prediction. This is called a **true negative (TN)** (since we also call the class 0 the \"negative class\")\n",
    "2. $y=0$ and $\\hat y = 1$: wrong prediction. This is called a **false positive (FP)** (since we falsely predicted the class 1, also known as the positive class)\n",
    "3. $y=1$ and $\\hat y = 0$: wrong prediction. This is called a **false negative (FN)**.\n",
    "4. $y=1$ and $\\hat y = 1$: right prediction. This is called a **true positive (TP)**."
   ]
  },
  {
   "cell_type": "markdown",
   "id": "57549203",
   "metadata": {},
   "source": [
    "These 4 possibilities can be stored in a 2x2 matrix called the **confusion matrix**. We illustrate below how to build one in `scikit-learn`."
   ]
  },
  {
   "cell_type": "code",
   "execution_count": 3,
   "id": "d8422622",
   "metadata": {},
   "outputs": [
    {
     "data": {
      "image/png": "[encoded data removed]",
      "text/plain": [
       "<Figure size 432x288 with 2 Axes>"
      ]
     },
     "metadata": {
      "needs_background": "light"
     },
     "output_type": "display_data"
    }
   ],
   "source": [
    "from sklearn.metrics import confusion_matrix, ConfusionMatrixDisplay\n",
    "import matplotlib.pylab as plt\n",
    "\n",
    "# assume we have a series of observed and predicted labels\n",
    "y_real = [1,1,1,1,0,0,1,0,1,0,1,0,1,1,1,1,0,0]\n",
    "y_pred = [1,1,0,1,0,1,1,0,1,0,1,1,1,0,0,1,0,0]\n",
    "\n",
    "# first we build a confusion matrix object...\n",
    "matrix = confusion_matrix(y_real, y_pred)\n",
    "\n",
    "#... which we then plot\n",
    "ConfusionMatrixDisplay(matrix).plot()\n",
    "plt.show()"
   ]
  },
  {
   "cell_type": "markdown",
   "id": "5cea86cb",
   "metadata": {},
   "source": [
    "### A quick disclaimer: `predict` vs. `predict_proba`"
   ]
  },
  {
   "cell_type": "markdown",
   "id": "0e3f685b",
   "metadata": {},
   "source": [
    "In `scikit-learn` (and `scikit-learn`-friendly libraries such as XGBoost and LightGBM) all classifiers contain at last two methods: `predict` and `predict_proba`. \n",
    "\n",
    "Their difference is straightforward: `predict` returns the predicted classes (0 or 1 in the binary case) whereas `predict_proba` returns a float between 0 and 1, with the score.\n",
    "> For most models, the output of `predict_proba` is **not** a probability, but simply a score. We will discuss this better in the calibration section."
   ]
  },
  {
   "cell_type": "markdown",
   "id": "c68a9985",
   "metadata": {},
   "source": [
    "To exemplify this, let's use a simple logistic regression model and see how it works."
   ]
  },
  {
   "cell_type": "code",
   "execution_count": 4,
   "id": "555e98ba",
   "metadata": {},
   "outputs": [
    {
     "data": {
      "text/plain": [
       "LogisticRegression()"
      ]
     },
     "execution_count": 4,
     "metadata": {},
     "output_type": "execute_result"
    }
   ],
   "source": [
    "from sklearn.linear_model import LogisticRegression\n",
    "\n",
    "model = LogisticRegression()\n",
    "model.fit(X_train, y_train)"
   ]
  },
  {
   "cell_type": "code",
   "execution_count": 5,
   "id": "a3120a5d",
   "metadata": {},
   "outputs": [
    {
     "data": {
      "text/plain": [
       "array([1])"
      ]
     },
     "execution_count": 5,
     "metadata": {},
     "output_type": "execute_result"
    }
   ],
   "source": [
    "x = X_train[25,:].reshape(1,-1) # take one training sample for us to predict\n",
    "model.predict(x)"
   ]
  },
  {
   "cell_type": "code",
   "execution_count": 6,
   "id": "6ca517fb",
   "metadata": {},
   "outputs": [
    {
     "data": {
      "text/plain": [
       "array([[0.12682433, 0.87317567]])"
      ]
     },
     "execution_count": 6,
     "metadata": {},
     "output_type": "execute_result"
    }
   ],
   "source": [
    "model.predict_proba(x)"
   ]
  },
  {
   "cell_type": "markdown",
   "id": "e36f9741",
   "metadata": {},
   "source": [
    "What `predict_proba` does is output two values: the probability that the $y=0$ given $x$ (12.7% here), and the probability of $y=1$ given $x$ (87.3%). In other words, it outputs $(1-\\mbox{score}, \\mbox{score})$. \n",
    "> Since we are in a binary case, we can just extract the last component via `model.predict_proba(x)[:,1]`, since the 0th component will be fully determined by it. In the multiclass case (with more than two classes) then it is important to have all components given."
   ]
  },
  {
   "cell_type": "markdown",
   "id": "eb96a4b5",
   "metadata": {},
   "source": [
    "What `predict` does is to take the result of `predict_proba` and binarize it - essentially by just **applying a threshold of 0.5**! In order to keep things within our control, we recommend to simply use the predicted score via `predict_proba` and then feed it to different metrics."
   ]
  },
  {
   "cell_type": "code",
   "execution_count": 7,
   "id": "43045d38",
   "metadata": {},
   "outputs": [],
   "source": [
    "y_train_pred = model.predict_proba(X_train)[:,1]\n",
    "y_test_pred = model.predict_proba(X_test)[:,1]"
   ]
  },
  {
   "cell_type": "markdown",
   "id": "d09f4266",
   "metadata": {},
   "source": [
    "### How well did our model do?\n",
    "\n",
    "Looking into the documentation, you might be tempted to use the model's `.score` function:"
   ]
  },
  {
   "cell_type": "code",
   "execution_count": 8,
   "id": "e07115d0",
   "metadata": {},
   "outputs": [
    {
     "name": "stdout",
     "output_type": "stream",
     "text": [
      ">> Don't use this function\n",
      "Train score: 0.6762857142857143\n",
      "Test score: 0.668\n"
     ]
    }
   ],
   "source": [
    "print(\">> Don't use this function\")\n",
    "print(\"Train score: {}\".format(model.score(X_train, y_train)))\n",
    "print(\"Test score: {}\".format(model.score(X_test, y_test)))"
   ]
  },
  {
   "cell_type": "markdown",
   "id": "bd7c60e8",
   "metadata": {},
   "source": [
    "But we recommend you to never use the `score` function - since under the hood it calculates accuracies with the `predict` function, which we don't recommend."
   ]
  },
  {
   "cell_type": "markdown",
   "id": "0c8b9eef",
   "metadata": {},
   "source": [
    "Instead, we will present you with three useful threshold-independent metrics in what follows: the ROC AUC, average precision, and lift/delinquency curves.\n",
    "> We recommend you always use them all for your model assessments."
   ]
  },
  {
   "cell_type": "markdown",
   "id": "30f8b04f",
   "metadata": {},
   "source": [
    "### Ratios of the confusion matrix\n",
    "\n",
    "For now, fix a confusion matrix (this amounts to fixing an estimator $\\hat y(x)$, or equivalently, to training a score function $p(x)$ and fixing a threshold). One could ask questions such as: out of all the real positives, how many did we get right? Or, out of all the positives that we predicted, how many were actually positive? \n",
    "\n",
    "In most references, you will see these *rates* defined in terms of elements of the confusion matrix. Here, in order to keep up with the probabilistic language we have been using, we will define them a bit differently."
   ]
  },
  {
   "cell_type": "markdown",
   "id": "ed7dca84",
   "metadata": {},
   "source": [
    "[**True positive rate / sensitivity / TPR**] The TPR of an estimator is $\\mathbb{P}(\\hat y(x) = 1 | Y = 1),$ that is, the probability that we predict a positive if that was indeed an element of the positive class.\n",
    "\n",
    "[**False positive rate, FPR**] The FPR of an estimator is $\\mathbb{P}(\\hat y(x) = 1 | Y = 0),$ that is, the probability that we predict a positive for a member of the negative class."
   ]
  },
  {
   "cell_type": "markdown",
   "id": "e3f4a407",
   "metadata": {},
   "source": [
    "Similar definitions can be made for the true negative rate and false negative rate, although these tend to be less commonly used."
   ]
  },
  {
   "cell_type": "markdown",
   "id": "4062df5f",
   "metadata": {},
   "source": [
    "[**Calculating TPR from the confusion matrix**] TPR can be approximated from the confusion matrix via\n",
    "\n",
    "$$\\widehat{\\mathrm{TPR}} = \\frac{\\mathrm{\\widehat{TP}}}{\\mathrm{\\widehat{TP}+\\widehat{FN}}}$$"
   ]
  },
  {
   "cell_type": "markdown",
   "id": "472357be",
   "metadata": {},
   "source": [
    "*Proof*: from the definition of conditional probability,\n",
    "\n",
    "$$\\mathrm{TPR} = \\mathbb{P}(\\hat y(x) = 1 | y = 1) = \\frac{\\mathbb{P}(\\hat y(x) = 1 \\cap y = 1)}{\\mathbb{P}(y=1)}.$$\n",
    "\n",
    "We can break the denominator into \n",
    "\n",
    "$$\\mathbb{P}(y=1) = \\mathbb{P}(\\hat y(x) = 1 \\cap y =1) + \\mathbb{P}(\\hat y(x)=0 \\cap y=1).$$\n",
    "\n",
    "(see note below on why) Then\n",
    "\n",
    "$$\\mathrm{TPR} = \\mathbb{P}(\\hat y(x) = 1 | y = 1) = \\frac{\\mathbb{P}(\\hat y(x) = 1 \\cap y = 1)}{\\mathbb{P}(\\hat y(x) = 1 \\cap y =1) + \\mathbb{P}(\\hat y(x)=0 \\cap y=1)} = \\mathrm{\\frac{TP}{TP+FN}}.$$\n",
    "\n",
    "But we have seen before that $\\mathrm{\\widehat{TP}}/N$ is an unbiased estimator for $\\mathbb{P}(\\hat y(x) = 1 \\cap y = 1)$, and similarly for false negatives, so \"plugging hats\" on all estimators on the right-hand side yields the final result. \n",
    "\n",
    "\n",
    "\n",
    "> Note: this comes from the general identity $\\mathbb{P}(A) = \\sum_i \\mathbb{P}(A \\cap B_i)$ where each $B_i$ is independent of the others, and together \"reconstruct\" $A$ in the sense that $A = \\cup_i (A \\cap B_i)$. Convince yourself of that drawing a few Venn diagrams"
   ]
  },
  {
   "cell_type": "markdown",
   "id": "99c2ef22",
   "metadata": {},
   "source": [
    "[**Calculating FPR from the confusion matrix**] Similar to TPR, one can calculate\n",
    "\n",
    "$$\\mathrm{\\widehat{FPR} = \\frac{\\widehat{FP}}{\\widehat{FP} + \\widehat{TN}}}$$"
   ]
  },
  {
   "cell_type": "markdown",
   "id": "06a2c68b",
   "metadata": {},
   "source": [
    "## The ROC curve and the ROC AUC"
   ]
  },
  {
   "cell_type": "markdown",
   "id": "2fbbfd60",
   "metadata": {},
   "source": [
    "The area under the ROC curve (ROC AUC) is, perhaps surprisingly, both the most used and the least understood metric in machine learning. In what follows we give a mathematically sound treatment of it. The main results will be highlighted, in case you want to skip the heavy math."
   ]
  },
  {
   "cell_type": "markdown",
   "id": "a9a3313a",
   "metadata": {},
   "source": [
    "`scikit-learn` makes everything seem like it is easy. It is literally just one line in order to calculate the ROC AUC of our model:"
   ]
  },
  {
   "cell_type": "code",
   "execution_count": 9,
   "id": "1c05ad9c",
   "metadata": {},
   "outputs": [
    {
     "name": "stdout",
     "output_type": "stream",
     "text": [
      "Train ROC AUC: 0.7614\n",
      "Test ROC AUC: 0.7458\n"
     ]
    }
   ],
   "source": [
    "from sklearn.metrics import roc_auc_score\n",
    "\n",
    "print(\"Train ROC AUC: {0:.4f}\".format(roc_auc_score(y_train, y_train_pred)))\n",
    "print(\"Test ROC AUC: {0:.4f}\".format(roc_auc_score(y_test, y_test_pred)))"
   ]
  },
  {
   "cell_type": "markdown",
   "id": "27f22e8a",
   "metadata": {},
   "source": [
    "But it is another thing to understand what is going on under the hood. We explain this below."
   ]
  },
  {
   "cell_type": "markdown",
   "id": "4c71c052",
   "metadata": {},
   "source": [
    "### Constructing the ROC curve"
   ]
  },
  {
   "cell_type": "markdown",
   "id": "416354f2",
   "metadata": {},
   "source": [
    "From now on, we drop the hats on $\\widehat{\\mathrm{FPR}}, \\widehat{\\mathrm{TPR}}$ etc. "
   ]
  },
  {
   "cell_type": "markdown",
   "id": "a4300894",
   "metadata": {},
   "source": [
    "Notice that the whole discussion so far has considered a fixed estimator $\\hat y$, which in turn means we have a fixed threshold $\\lambda$ such that $\\hat y(x)=1$ if $f(x) \\geq \\lambda$ and 0 otherwise.\n",
    "\n",
    "Now, we **let $\\lambda$ vary from low to high**, and consider what happens to the $(x=\\mathrm{FPR}, y=\\mathrm{TPR})$ plane as $\\lambda$ changes."
   ]
  },
  {
   "cell_type": "markdown",
   "id": "f23ed7c6",
   "metadata": {},
   "source": [
    "**Definition.** Let $\\mathrm{FPR}(\\lambda)$, $\\mathrm{TPR}(\\lambda)$ denote the false & true positive rates at threshold $\\lambda$. Then, the curve $\\lambda \\mapsto (\\mathrm{FPR}(\\lambda), \\mathrm{TPR}(\\lambda))$ obtained when $\\lambda$ varies between $]-\\infty, \\infty[$ is called the **receiver operating characteristic (ROC) curve**."
   ]
  },
  {
   "cell_type": "markdown",
   "id": "f8c2ac11",
   "metadata": {},
   "source": [
    "Before we use `scikit-learn` to plot it, let us intuitively understand what behaviors to expect from this curve. Consider the expression\n",
    "\n",
    "$$\\hat{y}(x) = \\begin{cases}\n",
    "1 & \\mbox{if } f(x) \\geq \\lambda \\\\\n",
    "0 & \\mbox{if } f(x) < \\lambda\n",
    "\\end{cases}\n",
    "$$\n",
    "\n",
    "When $\\lambda = - \\infty$ (or just super small), there is no way that $f(x) < \\lambda$, and so we never predict 0's. In other words, our estimator is just $\\hat y(x) \\equiv 1$ for all $x$. This estimator:\n",
    "* Gets all members of the positive class $(y=1)$ correctly, so the true positive rate is maximal\n",
    "* But it gets all members of the negative class $(y=0)$ wrongly. There are no true negatives nor false negatives.\n",
    "\n",
    "Hence it is easy to check that $\\mathrm{FPR} = \\mathrm{TPR} = 1$. This marks the point $(1,1)$ in the $\\mathrm{FPR-TPR}$ plane.\n",
    "\n",
    "Now go to the other extremum when $\\lambda = +\\infty$. Now the situation is reversed: $\\hat y(x) \\equiv 0$ for all $x$. Now there are no true nor false positives, so the numerators of both $\\mathrm{TPR, FPR}$ are 0, and we get the point $(0,0)$. For intermediate values of $\\lambda$, the curve will live inside the unit square:"
   ]
  },
  {
   "cell_type": "code",
   "execution_count": 10,
   "id": "c2500299",
   "metadata": {},
   "outputs": [
    {
     "data": {
      "image/png": "[encoded data removed]",
      "text/plain": [
       "<Figure size 360x360 with 1 Axes>"
      ]
     },
     "metadata": {
      "needs_background": "light"
     },
     "output_type": "display_data"
    }
   ],
   "source": [
    "from sklearn.metrics import RocCurveDisplay\n",
    "\n",
    "fig, ax = plt.subplots(figsize=(5,5))\n",
    "\n",
    "RocCurveDisplay.from_predictions(y_test, y_test_pred, ax=ax, label='Test ROC')\n",
    "RocCurveDisplay.from_predictions(y_train, y_train_pred, ax=ax, label='Train ROC')\n",
    "\n",
    "plt.legend()\n",
    "plt.show()"
   ]
  },
  {
   "cell_type": "markdown",
   "id": "b23154fe",
   "metadata": {},
   "source": [
    "This is the ROC curve. It is a non-decreasing function in the (FPR, TPR) plane, ranging from (0,0) to (1,1). Notice how test and train ROC curves are similar, but different."
   ]
  },
  {
   "cell_type": "markdown",
   "id": "521eabcc",
   "metadata": {},
   "source": [
    "There are **four unique properties satisfied by the ROC curve** which we will discuss going forward:"
   ]
  },
  {
   "cell_type": "markdown",
   "id": "775b7911",
   "metadata": {},
   "source": [
    "1. Interpretable area under the curve (ROC AUC)\n",
    "2. Invariance under class imbalance\n",
    "3. Existence of a universal baseline\n",
    "4. Convexity "
   ]
  },
  {
   "cell_type": "markdown",
   "id": "3f985330",
   "metadata": {},
   "source": [
    "#### 1. Interpretable area under the curve (ROC AUC)"
   ]
  },
  {
   "cell_type": "markdown",
   "id": "b710b357",
   "metadata": {},
   "source": [
    "The area under the ROC curve (usually called ROC AUC or just AUC) is the most used metric in machine learning, yet many data scientists don't know its interpretation. We explain it (and prove why it is so) in what follows.\n",
    "\n",
    "* Randomly take a point of the positive ($y=1$) class, and calculate its score $f(X_1)$\n",
    "* Randomly take a point of the negative ($y=0$) class, and calculate its score $f(X_0)$\n",
    "\n",
    "Claim:\n",
    "\n",
    "$$\\boxed{\\mathrm{ROC\\;AUC} = \\mathbb{P}(f(X_1) \\geq f(X_0))},$$\n",
    "\n",
    "that is: **the ROC AUC measures how likely it is that a point of the positive class scores higher than a point of the negative class**."
   ]
  },
  {
   "cell_type": "markdown",
   "id": "488161e8",
   "metadata": {},
   "source": [
    "> This result is proven in the Appendix of this chapter."
   ]
  },
  {
   "cell_type": "markdown",
   "id": "33711fae",
   "metadata": {},
   "source": [
    "Hence, in our example (where both train & test AUCs are close to 80.3%): there is a probability of 80.3% of a point in the positive class scoring higher than a point in the negative class. This is very good - 4 out of 5 times we will correctly sort them under the score."
   ]
  },
  {
   "cell_type": "markdown",
   "id": "c742bd46",
   "metadata": {},
   "source": [
    "**Numerically testing this claim**: let us run a series of samplings to check if we obtain a similar fraction to the ROC AUC we calculated above."
   ]
  },
  {
   "cell_type": "code",
   "execution_count": 11,
   "id": "bed44418",
   "metadata": {},
   "outputs": [
    {
     "name": "stdout",
     "output_type": "stream",
     "text": [
      "   score  label\n",
      "0  0.059      0\n",
      "1  0.214      0\n",
      "2  0.750      1\n",
      "3  0.636      1\n",
      "4  0.253      0\n",
      "-> Percentage of times score for class 1 was higher than class 0: 74.5%\n"
     ]
    }
   ],
   "source": [
    "import pandas as pd\n",
    "\n",
    "df = pd.DataFrame({'score': y_test_pred, 'label': y_test})\n",
    "print(df.head().round(3).to_string())\n",
    "\n",
    "n_samples = 10000\n",
    "\n",
    "# randomly sample scores from class 1 and 0\n",
    "class_1_score_samples = df[df['label']==1]['score'].sample(n_samples, replace=True, random_state=0)\n",
    "class_0_score_samples = df[df['label']==0]['score'].sample(n_samples, replace=True, random_state=1)\n",
    "\n",
    "# check how many times class 1 score higher\n",
    "total = (class_1_score_samples.values >= class_0_score_samples.values).sum()\n",
    "\n",
    "print(\"-> Percentage of times score for class 1 was higher than class 0: {0:.1f}%\".format(100* total/n_samples))"
   ]
  },
  {
   "cell_type": "markdown",
   "id": "a65c0f73",
   "metadata": {},
   "source": [
    "As we can see, this works - the percentage of times was very close to the 75.6% ROC AUC we got!"
   ]
  },
  {
   "cell_type": "markdown",
   "id": "712e9c5c",
   "metadata": {},
   "source": [
    "**Properties**:\n",
    "* This characterization of the ROC AUC allows one to extract interesting insights on how the AUC will behave under some transformations. For example: given the ROC AUC of a classifier $f(x)$, how will it change if we change the classifier to $10 f(x)$? Or $f(x)^2$?\n",
    "\n",
    "*Answer*: it will stay the same. Since $\\mathrm{ROC\\,AUC} = \\mathbb{P}(Z_1 \\geq Z_0)$, any function $\\phi$ applied to both sides of the inequality which does not change it will keep ROC AUC constant: \n",
    "\n",
    "$$(Z_1 \\geq Z_0)\\,=\\,(\\phi(Z_1) \\geq \\phi(Z_0)).$$\n",
    "\n",
    "In particular this is true for functions like $\\phi(Z) = 10Z$ or $\\phi(Z) = Z^2$, which are monotonic functions. We can also see this numerically:"
   ]
  },
  {
   "cell_type": "code",
   "execution_count": 12,
   "id": "140131e1",
   "metadata": {},
   "outputs": [
    {
     "name": "stdout",
     "output_type": "stream",
     "text": [
      "Original test ROC AUC: 0.7458\n",
      "Applying 10x: 0.7458\n",
      "Applying square: 0.7458\n"
     ]
    }
   ],
   "source": [
    "print(\"Original test ROC AUC: {0:.4f}\".format(roc_auc_score(y_test, y_test_pred)))\n",
    "print(\"Applying 10x: {0:.4f}\".format(roc_auc_score(10*y_test, 10*y_test_pred)))\n",
    "print(\"Applying square: {0:.4f}\".format(roc_auc_score(y_test**2, y_test_pred**2)))"
   ]
  },
  {
   "cell_type": "markdown",
   "id": "da98b1ff",
   "metadata": {},
   "source": [
    "* This also explains why **ROC AUC is the best metric when one is interested in sorting values based on the score**. This is particularly the case in credit scoring, where one usually takes a list of potential individuals, scores them using a classification model, and sorts them (from good scores to bad scores) in order to shortlist those which are creditworthy. Notice that a person's absolute score does not matter - what matters is how high it scores on the list *compared to others*. In this sense, **a good model will have high AUC**, because it **ranks** points well."
   ]
  },
  {
   "cell_type": "markdown",
   "id": "1dc1d052",
   "metadata": {},
   "source": [
    "* **ROC AUC is blind to intra-class score performance**. Suppose we have the following model (based on a real-life buggy model I once built):\n",
    "  * For members of the positive class, it mostly predicts a random score between 70%-100%\n",
    "  * For members of the negative class, it mostly predicts a score of 0%\n",
    "  \n",
    "  This model will have very high AUC, because there is a high chance that a point in the positive class scores higher than one in the negative class. However, this model does a **terrible** job regarding **scoring** within each class, since it is essentially random (for the positive class) and all identical to zero (for the negative class)"
   ]
  },
  {
   "cell_type": "markdown",
   "id": "6dfe7f76",
   "metadata": {},
   "source": [
    "#### 2. Invariance under class imbalance"
   ]
  },
  {
   "cell_type": "markdown",
   "id": "6acc56aa",
   "metadata": {},
   "source": [
    "As we discussed in Chapter 1, class imbalance is one of the biggest sources of complexity in classification problems. We claim that the ROC AUC is \"invariant under\" class imbalance. What does it mean?\n",
    "\n",
    "First, let us clarify one thing. Physicists reading this probably feel like invariance under something is a positive thing, but this is not necessarily true in machine learning.\n",
    "\n",
    "Invariance under class imbalance means that the ROC AUC (and the ROC curve more generally) do not change if we change the relative proportion of the positive and negative classes. To see this, notice how\n",
    "\n",
    "$$\\mathrm{TPR} = \\mathbb{P}(\\hat y(x)=1|y=1) \\approx \\frac{\\mbox{true positives}}{\\mbox{all positives}}$$\n",
    "\n",
    "$$\\mathrm{FPR} = \\mathbb{P}(\\hat y(x)=1|y=0) \\approx \\frac{\\mbox{false positives}}{\\mbox{all negatives}};$$\n",
    "\n",
    "the ratio $\\mbox{all positives/all negatives}$ never appears. FPR and TPR only care about **intra-class ratios, but not inter-class**.\n",
    "\n",
    "* The good thing about this is that AUC analysis works the same for balanced or imbalanced problems...\n",
    "* The bad part is that if you blindly run AUC analysis *alone*, you are shortsighting yourself to class imbalance issues. You might think that a model is very good, when it actually is not!\n",
    "> As a spoiler: metrics such as precision do depend on class imbalance, as we will see further down."
   ]
  },
  {
   "cell_type": "markdown",
   "id": "3eb957a9",
   "metadata": {},
   "source": [
    "#### 3. Existence of a universal baseline"
   ]
  },
  {
   "cell_type": "markdown",
   "id": "6150fa72",
   "metadata": {},
   "source": [
    "It is common knowledge that the **diagonal** line in the ROC plane is the baseline corresponding to a random classifier. More formally, consider that $\\hat y$ is a biased coin toss (Bernoulli trial) with parameter $p$, which does not depend on $x$. Then the probability of $\\hat y$ independs on whether $y=1$ or $0$, and we have\n",
    "\n",
    "$$\\mathrm{TPR} = \\mathbb{P}(\\hat y(x)=1 | y=1) = \\mathbb{P}(\\hat y = 1) = p$$\n",
    "$$\\mathrm{FPR} = \\mathbb{P}(\\hat y(x)=1 | y=0) = \\mathbb{P}(\\hat y = 1) = p$$\n",
    "\n",
    "Thus this random classifier corresponds to the point $(p,p)$ in the plane. If we consider all possible $p$'s between 0 and 1, we get the 45 degree diagonal line."
   ]
  },
  {
   "cell_type": "markdown",
   "id": "1cecf98e",
   "metadata": {},
   "source": [
    "> In practice, this will happen in the case of infinitely large sample size. Below we show the test ROC for the Logistic Regression model; a random classifier; and the theoretical random classifier. Notice how the \"real\" random classifier is noisy."
   ]
  },
  {
   "cell_type": "code",
   "execution_count": 15,
   "id": "ed24d86d",
   "metadata": {},
   "outputs": [
    {
     "data": {
      "image/png": "[encoded data removed]",
      "text/plain": [
       "<Figure size 360x360 with 1 Axes>"
      ]
     },
     "metadata": {
      "needs_background": "light"
     },
     "output_type": "display_data"
    }
   ],
   "source": [
    "fig, ax = plt.subplots(figsize=(5,5))\n",
    "\n",
    "# completely random classifier, generating random scores between [0,1]\n",
    "np.random.seed(123)\n",
    "y_pred_random = np.random.rand(*y_test_pred.shape)\n",
    "\n",
    "# theoretical random classifier\n",
    "p = np.linspace(0,1)\n",
    "\n",
    "RocCurveDisplay.from_predictions(y_test, y_test_pred, ax=ax, label='Logistic regression')\n",
    "RocCurveDisplay.from_predictions(y_test, y_pred_random, ax=ax, label='Random classifier')\n",
    "plt.plot(p,p,linestyle='--', label='Theoretical random clf.')\n",
    "plt.legend()\n",
    "plt.show()"
   ]
  },
  {
   "cell_type": "markdown",
   "id": "44de385b",
   "metadata": {},
   "source": [
    "Because of this baseline, ROC AUC is theoretically bounded between 0.5 (area of the triangle below the 45 degree line) and 1. "
   ]
  },
  {
   "cell_type": "markdown",
   "id": "9f312e56",
   "metadata": {},
   "source": [
    "#### 4. Convexity"
   ]
  },
  {
   "cell_type": "markdown",
   "id": "c004df6f",
   "metadata": {},
   "source": [
    "Convexity is a geometrical property of sets which will allow us to construct new (and better) classifiers based on old ones.\n",
    "\n",
    "Suppose we have two estimators A and B, represented in the FPR/TPR plane as below (A in red, B in blue). Recall that an estimator is a function that outputs either 0 or 1.\n",
    "\n",
    "**Convexity** allows us to build a whole family of estimators in the line segment between A and B (represented in a dotted line)."
   ]
  },
  {
   "cell_type": "markdown",
   "id": "051edfdf",
   "metadata": {},
   "source": [
    "![hull1](../images/metrics/hull1.png)"
   ]
  },
  {
   "cell_type": "markdown",
   "id": "03ccef09",
   "metadata": {},
   "source": [
    "The procedure on how to do it (which is not as important as knowing we can do it!) follows below:"
   ]
  },
  {
   "cell_type": "markdown",
   "id": "a5aa64fb",
   "metadata": {},
   "source": [
    "[**Theorem**] Let $c_A, c_B$ be the two binary classifiers (i.e. taking values in $\\{0,1\\}$). Let $(\\mathrm{FPR_A, TPR_A})$ and $(\\mathrm{FPR_B, TPR_B})$ denote the coordinates of the two classifiers. Consider a point $(\\mathrm{FPR_*, TPR_*})$ in the segment between A and B. Let \n",
    "\n",
    "$$p = \\mathrm{\\frac{FPR_*-FPR_A}{FPR_B-FPR_A}}.$$\n",
    "\n",
    "Then the classifier $c_*$ defined as\n",
    "\n",
    "$$c_*(x) = \\begin{cases}\n",
    "c_A(x) & \\mbox{with probability $1-p$}\\\\\n",
    "c_B(x) & \\mbox{with probability $p$}\n",
    "\\end{cases}$$\n",
    "\n",
    "attains a FPR of $\\mathrm{FPR_*}$ and TPR of $\\mathrm{TPR_*}$."
   ]
  },
  {
   "cell_type": "markdown",
   "id": "5b83fec1",
   "metadata": {},
   "source": [
    "*Proof*: we do the calculation for FPR; that of TPR follows analogously. By definition, the FPR of $c_*$ is \n",
    "\n",
    "\\begin{align}\n",
    "\\mathbb P (c_*(x) = 1 | y = 0) &= p\\, \\mathbb P (c_B(x)=1|y=0) + (1-p) \\,\\mathbb P(c_A(x)=1|y=0) \\\\\n",
    "&= p \\,\\mathrm{FPR_B} + (1-p) \\,\\mathrm{FPR_A} = \\mathrm{FPR}_*\n",
    "\\end{align}\n",
    "\n",
    "as claimed.$\\Box$"
   ]
  },
  {
   "cell_type": "markdown",
   "id": "f39cec0b",
   "metadata": {},
   "source": [
    "The importance of this result is that it gives an **optimal boundary** for a set of classifiers. Consider the situation below, where a new classifier $C$ (orange) lies in the region below the segment AB. $C$ is, *in any sense*, worse then the projection $C'$ (black) of C onto segment AB, since it has a higher TPR for the \"cost\" of the same FPR. "
   ]
  },
  {
   "cell_type": "markdown",
   "id": "4b724a20",
   "metadata": {},
   "source": [
    "![hull2](../images/metrics/hull2.png)"
   ]
  },
  {
   "cell_type": "markdown",
   "id": "5654fad6",
   "metadata": {},
   "source": [
    "Because of this, when given a classifier $f(x)$, one is allowed to take the **convex hull** of the ROC curve (think of it as \"laying a rubber band\" on top of the your points:"
   ]
  },
  {
   "cell_type": "markdown",
   "id": "e1dbf070",
   "metadata": {},
   "source": [
    "![convex_hull](https://i.stack.imgur.com/QWkFh.png)"
   ]
  },
  {
   "cell_type": "markdown",
   "id": "7aa9f48b",
   "metadata": {},
   "source": [
    "We can build a function which creates the convex hull and also computs its AUC as below:"
   ]
  },
  {
   "cell_type": "code",
   "execution_count": 21,
   "id": "49af32bd",
   "metadata": {},
   "outputs": [],
   "source": [
    "def hull_roc_auc(y_true, y_score):\n",
    "    \"\"\"\n",
    "    Computes coordinates (TPR, FPR) and ROC AUC for the convex hull \n",
    "    of a ROC curve built from a ground truth y_true (0s and 1s) and \n",
    "    a vector of scores y_score\n",
    "    \"\"\"\n",
    "\n",
    "    from sklearn.metrics import roc_curve, auc\n",
    "    from scipy.spatial import ConvexHull\n",
    "\n",
    "    fpr, tpr, thresholds = roc_curve(y_true, y_score)\n",
    "\n",
    "    # add artificial vertex at (1,0)\n",
    "    fpr, tpr = np.append(fpr, [1]), np.append(tpr, [0])\n",
    "\n",
    "    points = np.array([fpr, tpr]).T\n",
    "    hull = ConvexHull(points)\n",
    "\n",
    "    # get vertices and remove artificial vertex\n",
    "    vertices = np.array([points[v] for v in hull.vertices if not np.array_equal(points[v],np.array([1., 0.]))])\n",
    "    fpr_hull, tpr_hull = vertices[:,0], vertices[:,1]\n",
    "\n",
    "    # hull AUC\n",
    "    hull_auc = auc(fpr_hull, tpr_hull)\n",
    "    \n",
    "    return hull_auc, fpr_hull, tpr_hull"
   ]
  },
  {
   "cell_type": "code",
   "execution_count": 22,
   "id": "8641cf67",
   "metadata": {},
   "outputs": [
    {
     "data": {
      "image/png": "[encoded data removed]",
      "text/plain": [
       "<Figure size 720x360 with 2 Axes>"
      ]
     },
     "metadata": {
      "needs_background": "light"
     },
     "output_type": "display_data"
    }
   ],
   "source": [
    "# Calculate variables for hull - train/test\n",
    "hull_auc_train, fpr_hull_train, tpr_hull_train = hull_roc_auc(y_train, y_train_pred)\n",
    "hull_auc_test, fpr_hull_test, tpr_hull_test = hull_roc_auc(y_test, y_test_pred)\n",
    "\n",
    "## Plot\n",
    "fig, ax = plt.subplots(figsize=(10,5), ncols=2)\n",
    "\n",
    "# original ROC\n",
    "original_auc_train = roc_auc_score(y_train, y_train_pred)\n",
    "RocCurveDisplay.from_predictions(y_train, y_train_pred, ax=ax[0], \n",
    "                                 label=f'Log. Reg (AUC = {round(original_auc_train, 3)})')\n",
    "\n",
    "original_auc_test = roc_auc_score(y_test, y_test_pred)\n",
    "RocCurveDisplay.from_predictions(y_test, y_test_pred, ax=ax[1], \n",
    "                                 label=f'Log. Reg (AUC = {round(original_auc_test, 3)})')\n",
    "\n",
    "# convex hull\n",
    "ax[0].plot(fpr_hull_train, tpr_hull_train, label=f\"Hull ROC (AUC = {round(hull_auc_train,3)})\", marker='.', color='black')\n",
    "ax[1].plot(fpr_hull_test, tpr_hull_test, label=f\"Hull ROC (AUC = {round(hull_auc_test,3)})\", marker='.', color='black')\n",
    "\n",
    "# legends/labels\n",
    "ax[0].legend(); ax[1].legend()\n",
    "ax[0].set_title(\"Train\"); ax[1].set_title(\"Test\")\n",
    "plt.show()"
   ]
  },
  {
   "cell_type": "markdown",
   "id": "239c5889",
   "metadata": {},
   "source": [
    "### Is this cheating?"
   ]
  },
  {
   "cell_type": "markdown",
   "id": "9bde0437",
   "metadata": {},
   "source": [
    "No. It is a remarkable property of the \"ROC space\" (FPR vs TPR) that linear interpolation between classifiers yields a new classifier. Since we do not have access to the \"true\" distribution of $f(X)|Y$, the best we can do is use its empirical distribution and build the best possible ROC curve out of it."
   ]
  },
  {
   "cell_type": "markdown",
   "id": "d206a5e1",
   "metadata": {},
   "source": [
    "### Takeaways"
   ]
  },
  {
   "cell_type": "markdown",
   "id": "a329079c",
   "metadata": {},
   "source": [
    "* The ROC curve represents a machine learning classifier in the TPR / FPR plane\n",
    "* If it is not convex, it can be made convex by connecting points via line segments. This is equivalent to building new classifiers as probabilistic samplings of the endpoint classifiers\n",
    "* The area under the ROC curve (ROC AUC) represents the likelihood that a point of the positive class scores higher than one in the negative class. It is bound between 0.5 and 1.0\n",
    "* The ROC curve (and thus the ROC AUC) are invariant under rebalancing of the positive / negative classes. This is both good and bad"
   ]
  },
  {
   "cell_type": "markdown",
   "id": "40ff1f56",
   "metadata": {},
   "source": [
    "---"
   ]
  },
  {
   "cell_type": "markdown",
   "id": "5c871c96",
   "metadata": {},
   "source": [
    "# Appendix\n",
    "## Proof of probabilistic interpretation of the ROC AUC\n",
    "\n",
    "Here, we prove the claim that, if $f$ is a trained binary classification model,\n",
    "\n",
    "$$\\mathrm{ROC\\;AUC} = \\mathbb{P}(f(X_1) \\geq f(X_0) | Y_1 = 1, Y_0 = 0),$$\n",
    "\n",
    "\n",
    "**Proof**: by definition, \n",
    "\n",
    "$$\\mathrm{ROC\\;AUC} = \\int_{\\mathrm{FPR}=0}^{\\mathrm{FPR}=1} \\mathrm{TPR}\\, d\\mathrm{FPR}.$$\n",
    "\n",
    "It is natural to parameterize FPR and TPR via the threshold $\\lambda$ since $\\mathrm{TPR} = \\mathbb{P}(f(X)\\geq \\lambda | Y=1)$ and $\\mathrm{FPR} = \\mathbb{P}(f(X) \\geq \\lambda | Y=0)$. This motivates us to define the *independent* random variables \n",
    "\n",
    "$$Z_1 = (f(X)|Y=1),\\qquad Z_0 = (f(X)|Y=0),$$\n",
    "\n",
    "for which $\\mathrm{TPR}(\\lambda) = \\mathbb{P}(Z_1 \\geq \\lambda)$ for instance. This can be written as\n",
    "\n",
    "$$\\mathrm{TPR}(\\lambda) = \\int_\\lambda^\\infty g_1(z) dz,\\qquad \\mathrm{FPR}(\\lambda) = \\int_\\lambda^\\infty g_0(z) dz$$ \n",
    "\n",
    "where $g_0, g_1$ are the PDFs of $Z_0$ and $Z_1$ respectively. \n",
    "\n",
    "Plugging these back into the definition of ROC AUC gives \n",
    "\n",
    "$$\n",
    "\\begin{align*}\n",
    "\\mathrm{ROC\\,AUC} &= \\int_{\\mathrm{FPR}=0}^{\\mathrm{FPR}=1} \\mathrm{TPR}\\, d\\mathrm{FPR} \\\\\n",
    "&= \\int_{\\lambda=\\infty}^{\\lambda=-\\infty} \\mathrm{TPR}(\\lambda) \\frac{ d \\mathrm{FPR}(\\lambda)}{d\\lambda} d\\lambda \\\\\n",
    "&= \\int_\\infty^{-\\infty} d\\lambda \\int_\\lambda^\\infty dz\\, g_1(z) (-g_0(\\lambda)),\n",
    "\\end{align*}\n",
    "$$\n",
    "\n",
    "where we have used the fundamental theorem of calculus in the last equality. Now one can equivalently write these iterated integrals as\n",
    "\n",
    "$$\\int_{-\\infty}^\\infty \\int_{-\\infty}^\\infty \\mathbf{1}_{z \\geq \\lambda} g_0(\\lambda) g_1(z)\\, dz d\\lambda = \\mathbb{E}[\\mathbf{1}_{Z_1 \\geq Z_0}] = \\mathbb{P}(Z_1 \\geq Z_0),$$\n",
    "\n",
    "where we identify $g_0(\\lambda)g_1(z)$ as the PDF for $(Z_0, Z_1)$ since these are independent variables.\n",
    "\n",
    "## Further properties of the ROC curve"
   ]
  },
  {
   "cell_type": "markdown",
   "id": "a5c58a8f",
   "metadata": {},
   "source": [
    "There is an interesting characterization of the ROC curve based on the cumulative distribution functions (CDFs) of the variables\n",
    "\n",
    "$$Z_0 = (f(X)|Y=0),\\qquad Z_1 = (f(X)|Y=1)$$"
   ]
  },
  {
   "cell_type": "markdown",
   "id": "f3a643ae",
   "metadata": {},
   "source": [
    "Let $F_i(t) := \\mathbb{P}(Z_i < t)$, for $i \\in \\{0, 1\\}$, denote the CDFs. We want to write the false & true positive rates with respect to these CDFs. Notice that, as functions of the threshold $\\lambda$,\n",
    "\n",
    "$$\\begin{align}\n",
    "\\mathrm{TPR}(\\lambda) &= \\mathbb P(\\hat y_\\lambda(X) = 1 | Y = 1)\\\\\n",
    "&= \\mathbb P (f(X) \\geq \\lambda | Y = 1)\\\\\n",
    "&= 1- \\mathbb P (f(X) < \\lambda | Y=1) = 1 - \\mathbb P (Z_1 < \\lambda)\\\\\n",
    "&= 1 - F_1(\\lambda)\n",
    "\\end{align}$$"
   ]
  },
  {
   "cell_type": "markdown",
   "id": "a865e53b",
   "metadata": {},
   "source": [
    "Similarly,\n",
    "\n",
    "$$\\mathrm{FPR}(\\lambda) = 1 - F_0(\\lambda)$$"
   ]
  },
  {
   "cell_type": "markdown",
   "id": "e61fcb65",
   "metadata": {},
   "source": [
    "We can explicitly write $\\mathrm{TPR}$ as a function of $\\mathrm{FPR}$ if we invert the last expression for $\\lambda$, obtaining $\\lambda = F_0^{-1}(1-\\mathrm{FPR})$; then\n",
    "\n",
    "$$\\boxed{\\mathrm{TPR} = 1 - F_1(F_0^{-1}(1-\\mathrm{FPR}))}.$$"
   ]
  },
  {
   "cell_type": "markdown",
   "id": "3e9243bb",
   "metadata": {},
   "source": [
    "To simplify notation, call $x \\equiv \\mathrm{FPR}$ and $y \\equiv \\mathrm{TPR}$ (don't confuse with variables $X$ and $Y$; this is just a notation which reminds who goes in the vertical and horizontal axes). We can equivalently write\n",
    "\n",
    "$$\\begin{cases}\n",
    "x &= 1 - F_0(\\lambda)\\\\\n",
    "y &= 1 - F_1(\\lambda)\n",
    "\\end{cases} \\qquad \\mbox{or}\\qquad y = 1 - F_1(F_0^{-1}(1-x))$$"
   ]
  },
  {
   "cell_type": "markdown",
   "id": "11c0c134",
   "metadata": {},
   "source": [
    "From either expression, one can take the derivative and see that (calling $f_i(t) \\equiv F_i'(t)$ the PDFs)\n",
    "\n",
    "$$\\frac{dy}{dx} = \\frac{f_1(F_0^{-1}(1-x))}{f_0(F_0^{-1}(1-x))} \\geq 0$$"
   ]
  },
  {
   "cell_type": "markdown",
   "id": "d4fc7cb4",
   "metadata": {},
   "source": [
    "since the PDFs are always non-negative, and so is their ratio. So we see that the ROC curve is necessarily non-decreasing.\n",
    "\n",
    "It has, however, no obligation of being **concave** (= curved face-down), even if that is how we usually draw it. Taking a second derivative of the expression above yields\n",
    "\n",
    "$$\\frac{d^2y}{dx^2} = - \\frac{f_1'}{f_0^2} + \\frac{f_1 f_0'}{f_0^3}$$\n",
    "\n",
    "where all quantities are calculated at $F_0^{-1}(1-x)$. Since derivatives of both $f_1$ and $f_0$ appear, and they can take any sign, there is no obvious sign for the expression above."
   ]
  },
  {
   "cell_type": "markdown",
   "id": "cdd5f14a",
   "metadata": {},
   "source": [
    "## References:\n",
    "\n",
    "* Peter Flach, Meelis Kull, *Precision-Recall-Gain Curves: PR Analysis Done Right*, NIPS 2015\n",
    "* https://arxiv.org/pdf/1809.04808.pdf on the concavity of ROC curves "
   ]
  }
 ],
 "metadata": {
  "kernelspec": {
   "display_name": "Python 3",
   "language": "python",
   "name": "python3"
  },
  "language_info": {
   "codemirror_mode": {
    "name": "ipython",
    "version": 3
   },
   "file_extension": ".py",
   "mimetype": "text/x-python",
   "name": "python",
   "nbconvert_exporter": "python",
   "pygments_lexer": "ipython3",
   "version": "3.7.9"
  },
  "toc": {
   "base_numbering": 1,
   "nav_menu": {},
   "number_sections": true,
   "sideBar": true,
   "skip_h1_title": false,
   "title_cell": "Table of Contents",
   "title_sidebar": "Contents",
   "toc_cell": false,
   "toc_position": {},
   "toc_section_display": true,
   "toc_window_display": false
  }
 },
 "nbformat": 4,
 "nbformat_minor": 5
}
